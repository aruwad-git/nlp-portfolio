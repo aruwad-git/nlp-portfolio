{
 "cells": [
  {
   "cell_type": "markdown",
   "id": "523b8bba-8447-47f2-aac4-ae903458c98c",
   "metadata": {},
   "source": [
    "# Introduction.\n",
    "- This simple code shows how pretrained LLM can be better for QA for wine recommendation, with RAG.\n",
    "- One of posts is used for vector DB and hence retrieved document.\n",
    "  - Website: https://www.marketviewliquor.com/blog/\n",
    "  - Post: https://www.marketviewliquor.com/blog/how-to-choose-a-good-wine/#How_to_Pick_out_Wine_for_Dinner\n",
    "- Base model is `google/flan-t5-large`, which is balanced for both performance and resources for real-time QA, in various running environments."
   ]
  },
  {
   "cell_type": "markdown",
   "id": "c448f6a5-fe00-4510-983b-d2b9e4816337",
   "metadata": {
    "tags": []
   },
   "source": [
    "# 0. Setup."
   ]
  },
  {
   "cell_type": "code",
   "execution_count": 1,
   "id": "fbdfe815-cef8-4aa9-a054-1d4c6f025342",
   "metadata": {
    "tags": []
   },
   "outputs": [],
   "source": [
    "# Imports.\n",
    "import numpy as np\n",
    "import pandas as pd\n",
    "import matplotlib.pyplot as plt\n",
    "import torch\n",
    "import torch.nn as nn\n",
    "import os\n",
    "\n",
    "import nbimporter\n",
    "\n",
    "# Random seeds.\n",
    "from transformers import set_seed\n",
    "import tensorflow as tf\n",
    "\n",
    "set_seed(42)                  # For HF.\n",
    "tf.random.set_seed(42)    # For tf, np, and python.\n",
    "\n",
    "# Suppress warnings\n",
    "import os\n",
    "os.environ['HF_HUB_DISABLE_SYMLINKS_WARNING'] = '1'\n",
    "\n",
    "import warnings\n",
    "warnings.filterwarnings(\"ignore\")"
   ]
  },
  {
   "cell_type": "code",
   "execution_count": 2,
   "id": "661718e7-6043-447d-b5dd-37902a696f85",
   "metadata": {
    "tags": []
   },
   "outputs": [
    {
     "data": {
      "text/html": [
       "<style>\n",
       "    table {\n",
       "        float: left;\n",
       "        margin-right: 20px; /* Optional: Adds space between table and other content */\n",
       "    }\n",
       "</style>\n"
      ],
      "text/plain": [
       "<IPython.core.display.HTML object>"
      ]
     },
     "metadata": {},
     "output_type": "display_data"
    }
   ],
   "source": [
    "%%html\n",
    "<style>\n",
    "    table {\n",
    "        float: left;\n",
    "        margin-right: 20px; /* Optional: Adds space between table and other content */\n",
    "    }\n",
    "</style>"
   ]
  },
  {
   "cell_type": "markdown",
   "id": "dcd3b2eb-f778-4026-abb5-227368a3d16e",
   "metadata": {
    "tags": []
   },
   "source": [
    "# 1. Vector DB."
   ]
  },
  {
   "cell_type": "markdown",
   "id": "3c1816c5-1b3f-49aa-9856-8ff757996cee",
   "metadata": {},
   "source": [
    "## 1.1. Fetch data from url."
   ]
  },
  {
   "cell_type": "code",
   "execution_count": 49,
   "id": "707a783c-268d-4e36-9289-2bf55fe2df52",
   "metadata": {
    "tags": []
   },
   "outputs": [],
   "source": [
    "import aiohttp\n",
    "import asyncio\n",
    "from goose3 import Goose\n",
    "\n",
    "async def fetch_url_async(session, url, retries=20, timeout=30):\n",
    "    \"\"\"Fetch content from a URL asynchronously with retry logic.\"\"\"\n",
    "    for attempt in range(retries):\n",
    "        try:\n",
    "            async with session.get(url, timeout=timeout) as response:\n",
    "                scrapper = Goose()  # Goose3 scrapper\n",
    "                article = scrapper.extract(url)  # Extract article\n",
    "                txt = article.cleaned_text\n",
    "                \n",
    "                print(f\"Fetch url: {url} (Attempt {attempt + 1})\")\n",
    "                print(f\"Length of fetched: {len(txt)}\")\n",
    "                \n",
    "                return article\n",
    "        except asyncio.TimeoutError:\n",
    "            print(f\"Timeout occurred: {url} (Attempt {attempt + 1})\")\n",
    "        except Exception as e:\n",
    "            print(f\"Failed to load URL: {url} (Attempt {attempt + 1}). {str(e)}\")\n",
    "        await asyncio.sleep(2)  # Wait before retrying\n",
    "    \n",
    "    # If all attempts fail, log and return failure\n",
    "    print(f\"Failed to fetch URL after {retries} attempts: {url}\")\n",
    "    return f\"Failed after {retries} attempts\"\n",
    "\n",
    "async def fetch_all_urls_async(doc_urls):\n",
    "    \"\"\"Fetch all URLs concurrently using aiohttp with retry logic.\"\"\"\n",
    "    print(f\"Num of URLs: {len(doc_urls)}\")\n",
    "    async with aiohttp.ClientSession() as session:\n",
    "        tasks = [fetch_url_async(session, url) for url in doc_urls]\n",
    "        return await asyncio.gather(*tasks)"
   ]
  },
  {
   "cell_type": "code",
   "execution_count": 331,
   "id": "2e3df749-76a6-44e7-8022-170dae79518d",
   "metadata": {
    "tags": []
   },
   "outputs": [],
   "source": [
    "import os\n",
    "import aiohttp\n",
    "import asyncio\n",
    "from goose3 import Goose\n",
    "\n",
    "# Asynchronous function to fetch content from a URL\n",
    "async def fetch_url_async(session, url, progress):\n",
    "    \"\"\"Fetch content from a URL asynchronously.\"\"\"\n",
    "    try:\n",
    "        async with session.get(url, timeout=10) as response:\n",
    "            scrapper = Goose()  # Goose3 scrapper\n",
    "            article = scrapper.extract(url)  # Extract article\n",
    "            txt = article.cleaned_text\n",
    "            return txt\n",
    "    except asyncio.TimeoutError:\n",
    "        return \"Timeout occurred\"\n",
    "    except Exception as e:\n",
    "        print(f\"Failed to load URL: {url}. {str(e)}\")\n",
    "        return f\"Failed to load URL: {url}. {str(e)}\"\n",
    "    finally:\n",
    "        # Update progress after each URL is processed\n",
    "        progress['completed'] += 1\n",
    "        total = progress['total']\n",
    "        completed = progress['completed']\n",
    "        print(f\"Progress: {completed}/{total} URLs fetched ({(completed/total)*100:.2f}%)\", end='\\r')\n",
    "\n",
    "# Asynchronous function to fetch all URLs concurrently\n",
    "async def fetch_all_urls_async(doc_urls):\n",
    "    \"\"\"Fetch all URLs concurrently using aiohttp with a simple progress indicator.\"\"\"\n",
    "    total_urls = len(doc_urls)\n",
    "    print(f\"Num of URLs: {total_urls}\")\n",
    "    progress = {'total': total_urls, 'completed': 0}  # Initialize progress tracker\n",
    "\n",
    "    async with aiohttp.ClientSession() as session:\n",
    "        tasks = [fetch_url_async(session, url, progress) for url in doc_urls]\n",
    "        results = await asyncio.gather(*tasks)\n",
    "    print()  # Move to the next line after progress completion\n",
    "    return results\n",
    "\n"
   ]
  },
  {
   "cell_type": "code",
   "execution_count": 60,
   "id": "2622c022-e7c9-47fc-ad36-e5eb8456205b",
   "metadata": {
    "tags": []
   },
   "outputs": [
    {
     "name": "stdout",
     "output_type": "stream",
     "text": [
      "Num of URLs: 1\n",
      "Fetch url: https://www.marketviewliquor.com/blog/how-to-choose-a-good-wine/? (Attempt 1)\n",
      "Length of fetched: 19876\n"
     ]
    }
   ],
   "source": [
    "# Prepare URLs.\n",
    "doc_urls = [\n",
    "    'https://www.marketviewliquor.com/blog/how-to-choose-a-good-wine/?'\n",
    "]\n",
    "\n",
    "# Load Contents from URLs.\n",
    "doc_contents = await fetch_all_urls_async(doc_urls)"
   ]
  },
  {
   "cell_type": "code",
   "execution_count": 70,
   "id": "d0a504a3-5b84-4cd0-b844-fc2524aba857",
   "metadata": {
    "tags": []
   },
   "outputs": [
    {
     "data": {
      "text/plain": [
       "[<Element h4 at 0x1fb14fbb590>,\n",
       " <Element h4 at 0x1fb14fbb180>,\n",
       " <Element h4 at 0x1fb14fbba90>,\n",
       " <Element h4 at 0x1fb14fbbe00>,\n",
       " <Element h4 at 0x1fb14fbbe50>,\n",
       " <Element h4 at 0x1fb14fbb310>,\n",
       " <Element h4 at 0x1fb14fbbdb0>,\n",
       " <Element h4 at 0x1fb14fbb090>]"
      ]
     },
     "execution_count": 70,
     "metadata": {},
     "output_type": "execute_result"
    }
   ],
   "source": [
    "doc_contents[0].doc[0].xpath('//h4')"
   ]
  },
  {
   "cell_type": "markdown",
   "id": "7b3167c9-d5d4-48a5-90c4-a722f6087384",
   "metadata": {},
   "source": [
    "## 1.2. Construct FAISS."
   ]
  },
  {
   "cell_type": "code",
   "execution_count": 282,
   "id": "296a389f-7b1c-43a8-b906-eef190842cac",
   "metadata": {
    "tags": []
   },
   "outputs": [],
   "source": [
    "# Suppress chunk size warning during split.\n",
    "import logging\n",
    "logging.getLogger(\"langchain_text_splitters.base\").setLevel(logging.ERROR)\n",
    "\n",
    "# Text splitter.\n",
    "from langchain.text_splitter import RecursiveCharacterTextSplitter\n",
    "chunk_size = 200\n",
    "chunk_overlap = 20\n",
    "\n",
    "text_splitter = RecursiveCharacterTextSplitter(\n",
    "    chunk_size=chunk_size, \n",
    "    chunk_overlap=chunk_overlap, \n",
    "    separators=[\"\\n\"]\n",
    ")\n",
    "\n",
    "\n",
    "chunks = text_splitter.split_text(doc_contents[0])\n",
    "\n",
    "# Embedding model.\n",
    "from langchain_huggingface import HuggingFaceEmbeddings\n",
    "\n",
    "device       = torch.device('cuda' if torch.cuda.is_available() else 'cpu')\n",
    "model_kwargs = {'device': device}\n",
    "\n",
    "embedding_model = HuggingFaceEmbeddings(model_name=\"sentence-transformers/all-MiniLM-L6-v2\",\n",
    "                                        model_kwargs   = model_kwargs)\n",
    "\n",
    "# Save on FAISS.\n",
    "from langchain.vectorstores import FAISS\n",
    "\n",
    "vector_store = FAISS.from_texts(chunks, embedding_model)\n"
   ]
  },
  {
   "cell_type": "code",
   "execution_count": 284,
   "id": "4dd92322-14d5-46dc-8c31-db6d10ec6fc1",
   "metadata": {
    "collapsed": true,
    "jupyter": {
     "outputs_hidden": true
    },
    "tags": []
   },
   "outputs": [
    {
     "data": {
      "text/plain": [
       "['When dining in a restaurant, a sommelier, or certified wine specialist, can assist you in selecting a perfect wine, even if you do not know much about wine yourself. By asking about your taste preferences, they can recommend a wine that pairs well with your meal, while complementing your likes and dislikes. But what happens when you’re browsing the shelves or web pages of seemingly endless choices of bottles, wondering how to select a good wine? For those who are not familiar with wine, the label on the bottle or product description — complete with descriptions of flavor notes, characteristics of the wine and origin of the grapes — may only make selecting a bottle even more difficult.',\n",
       " '\\nThe good news is, understanding some basic information about wine can help you learn more about which wines are likely to be a good fit for you — and which ones you’ll probably want to avoid. By learning about your tastes and the general characteristics of wine, you can become a wine expert in no time and feel confident in selecting a delectable wine to pair with your meal! You can also take our wine pairing quiz and find the perfect wine pairing for your next meal or upcoming special occasion!',\n",
       " '\\nChoosing a good wine is completely subjective. How each person defines a good wine is unique to them and their taste buds. Whether you prefer delicate, bold, sweet, tart or even spicy flavors, it is possible to find a wine you adore. These essential characteristics that define each variety of wine can be helpful to keep in mind as you navigate picking a bottle.',\n",
       " '• Sweetness: Wine labels often use the terms “sweet,” “semi-sweet” or “dry.” A dry wine will not be sweet at all.',\n",
       " '• Acidity: Wines with high acidity will be more tart, whereas low-acidity wines will taste rounder or richer.',\n",
       " '\\n• Tannin: Tannins are phenolic compounds in the skins of grapes. When tannins are naturally present in the winemaking process or added through aging, the wine will have a more bitter taste. Because tannins also tend to dry out your mouth, people often confuse the tannin level with the “dryness” of a wine, which actually refers to how sweet or not sweet a wine is. The red winemaking process incorporates more tannins, giving some red wines a distinctively dry and bitter finish.',\n",
       " '\\n• Body: Wines get characterized as having a light body, full body or somewhere in between. The “body” of the wine refers to how heavy or light it feels in your mouth. Generally, red wines have a fuller body than whites, as do wines made from grapes grown in warmer regions, rather than cooler ones.',\n",
       " '\\n• Alcohol: The higher the percentage of alcohol in your glass of wine, the more it will warm your throat and the back of your mouth. Measured in percentage of alcohol by volume (ABV), most wines contain 11 to 13 percent alcohol, but can range from 5.5 percent all the way up to 20 percent.',\n",
       " 'Everyone will have different preferences for each of these characteristics of wine, but with the right care, you can find a bottle that fulfills your taste preferences.',\n",
       " '\\nSince “good wine” is so subjective, knowing how to choose the right wine means considering several factors — including occasion, flavor preferences, labels and price points. While the combination of these factors is different for each person, the tips below will help anyone in search of that perfect bottle of wine.']"
      ]
     },
     "execution_count": 284,
     "metadata": {},
     "output_type": "execute_result"
    }
   ],
   "source": [
    "chunks[:10]"
   ]
  },
  {
   "cell_type": "markdown",
   "id": "5b4e2cfe-eead-41dc-93e5-954eeaefb114",
   "metadata": {},
   "source": [
    "# 2. Query and Prompt."
   ]
  },
  {
   "cell_type": "markdown",
   "id": "d6feae53-5a29-4265-b774-6ece827bf6fa",
   "metadata": {},
   "source": [
    "## 2.1. Query."
   ]
  },
  {
   "cell_type": "code",
   "execution_count": 285,
   "id": "a4b0bede-ac3a-4fe3-b059-eab26624b1cb",
   "metadata": {
    "tags": []
   },
   "outputs": [],
   "source": [
    "query_list = [\n",
    "    \"What should I consider to choose a good wine?\",\n",
    "    \"Which food is good with sweet wine?\",\n",
    "    \"Is older wine better?\",\n",
    "    \"Is price important for wine?\",\n",
    "    \"How long can I consume a wine after purchase?\",\n",
    "    \"Are wines with screw caps bad?\",\n",
    "    \"How can I log wine consumption?\",\n",
    "    \"Which categories should I check on the label of wine?\"\n",
    "]"
   ]
  },
  {
   "cell_type": "markdown",
   "id": "3f60e491-bb1c-49d1-8460-794e3a00cad7",
   "metadata": {},
   "source": [
    "## 2.2. Prompt."
   ]
  },
  {
   "cell_type": "code",
   "execution_count": 14,
   "id": "f84b4ebd-b004-4355-be3c-6d35402c84c5",
   "metadata": {
    "tags": []
   },
   "outputs": [],
   "source": [
    "prompt_norag = \"\"\"\\\n",
    "Answer the following \"Question:\" in detail, based on your knowledge.\n",
    "Question: {query}\n",
    "\"\"\""
   ]
  },
  {
   "cell_type": "code",
   "execution_count": 124,
   "id": "e692815e-a63a-4312-a4c2-606d55346314",
   "metadata": {
    "tags": []
   },
   "outputs": [],
   "source": [
    "prompt = \"\"\"\\\n",
    "Based on your knowledge and your understanding of the retrieved information, provide a detailed answer and explanation to the following question.\n",
    "Retrieved Information:\n",
    "{retrieved_docs}\n",
    "Question:\n",
    "{query}\n",
    "\"\"\""
   ]
  },
  {
   "cell_type": "code",
   "execution_count": 131,
   "id": "9d5d8ba9-dfab-4575-ab4d-b09e50125979",
   "metadata": {
    "tags": []
   },
   "outputs": [],
   "source": [
    "prompt = \"\"\"\\\n",
    "Based on your knowledge and the retrieved information, provide a detailed answer and additional explanation to the following question.\n",
    "Retrieved Information:\n",
    "{retrieved_docs}\n",
    "Question:\n",
    "{query}\n",
    "\"\"\""
   ]
  },
  {
   "cell_type": "markdown",
   "id": "2abda01f-8188-42cc-8401-8c0234f57902",
   "metadata": {},
   "source": [
    "# 3. Answer."
   ]
  },
  {
   "cell_type": "markdown",
   "id": "e0a4d0f6-9bfd-43ab-927e-503882be295e",
   "metadata": {},
   "source": [
    "- Model: `google/flan-t5-large`\n",
    "- DB: One post (https://www.marketviewliquor.com/blog/how-to-choose-a-good-wine/?)"
   ]
  },
  {
   "cell_type": "code",
   "execution_count": 128,
   "id": "01637a56-048b-4bf6-a1f8-5b57960eacb3",
   "metadata": {
    "tags": []
   },
   "outputs": [
    {
     "name": "stdout",
     "output_type": "stream",
     "text": [
      "Model: google/flan-t5-large\n",
      "\n",
      "# Question: What should I consider to choose a good wine?\n",
      "-- No-RAG: The following are some basic factors to consider when choosing a good wine : The climate of the region where the wine is produced : The soil type : The climate of the region where the wine is produced : The grape variety : The variety of the grape\n",
      "-- RAG: Because: Since “good wine” is so subjective, knowing how to choose the right wine means considering several factors — including occasion, flavor preferences, labels and price points.\n",
      "\n",
      "# Question: Which food is good with a sweet wine?\n",
      "-- No-RAG: A sweet wine is a type of wine that has a high alcohol content. Sweet wines are often served with desserts.\n",
      "-- RAG: Because: A sweet dessert wine wonderfully caps off a great meal.\n",
      "\n",
      "# Question: Is older wine better?\n",
      "-- No-RAG: Older wine has a higher alcohol content. The alcohol content of an older wine is lower than that of a newer wine. Therefore, older wine is generally considered to be better. The final answer: yes.\n",
      "-- RAG: Because it’s a common perception that older is better when it comes to wine, this is not the case. Only some wines taste better with age, and different wines are best after different aging periods.\n",
      "\n",
      "# Question: Is price important for wine?\n",
      "-- No-RAG: The price of a wine is the most important factor in its value. The higher the price, the more money the wine will make.\n",
      "-- RAG: Because oak, time and terroir are the three main influences over a wine’s price, other traits could contribute to the final cost as well.\n",
      "\n",
      "# Question: How long can I consume a wine after purchase?\n",
      "-- No-RAG: The wine can be consumed within a year.\n",
      "-- RAG: Because: As a general rule, wines should be enjoyed within three to five days of opening.\n",
      "\n",
      "# Question: Are wines with screw caps bad?\n",
      "-- No-RAG: Screw caps are used to keep wine from leaking. Wines with screw caps are often made of plastic. Plastic is not good for the environment. The answer: no.\n",
      "-- RAG: Because Screw caps can get a bad reputation, they can still hold delicious wine.\n",
      "\n",
      "# Question: How can I log wine consumption?\n",
      "-- No-RAG: You can use a wine bottle opener to record your wine consumption.\n",
      "-- RAG: Because: The app Wine Ring allows new wine connoisseurs and veterans alike to learn a little something new about their taste profile.\n",
      "\n",
      "# Question: What should I check on the label of wine?\n",
      "-- No-RAG: The label should indicate the wine's vintage , the region of production , and the country of origin .\n",
      "-- RAG: Because: The amount of information the label has listed — does it seem like there’s quite a bit specific information about the region, valley and grapes? The general rule of thumb is the more details, the betterReading the wine bottle label is especially important for checking the alcohol content, as some white cooking wines have lower alcohol content than others.\n",
      "\n",
      "# Question: What is the most popular wine in Chile?\n",
      "-- No-RAG: Chilean wine is a type of red wine that is produced in the Andes region of South America. The most popular wine in Chile is Chardonnay .\n",
      "-- RAG: Because: Chilean wines have rightfully earned their place among the finest in the world\n",
      "\n",
      "Output written to reply_2025-01-11_12-29-38.txt\n"
     ]
    }
   ],
   "source": [
    "from transformers import AutoTokenizer, AutoModelForSeq2SeqLM\n",
    "import torch\n",
    "from datetime import datetime\n",
    "\n",
    "# Load model and tokenizer\n",
    "checkpoint = \"google/flan-t5-large\"\n",
    "tokenizer = AutoTokenizer.from_pretrained(checkpoint)\n",
    "\n",
    "device = torch.device(\"cuda\" if torch.cuda.is_available() else \"cpu\")\n",
    "model = AutoModelForSeq2SeqLM.from_pretrained(checkpoint).to(device)\n",
    "\n",
    "print(f\"Model: {checkpoint}\", end='\\n\\n')\n",
    "\n",
    "# Retrieval settings (for RAG)\n",
    "top_k_retrieval = 3\n",
    "\n",
    "import datetime\n",
    "\n",
    "# Initialize a list to store results\n",
    "results = []\n",
    "\n",
    "for query in query_list:\n",
    "    # --- No-RAG ---\n",
    "    input_text_no_rag = prompt_norag.format(query=query)\n",
    "    inputs_no_rag = tokenizer(input_text_no_rag, return_tensors=\"pt\").to(device)\n",
    "\n",
    "    outputs_no_rag = model.generate(\n",
    "        inputs_no_rag['input_ids'], \n",
    "        attention_mask=inputs_no_rag['attention_mask'],\n",
    "        temperature=0.9,\n",
    "        top_k=50,\n",
    "        top_p=0.85,\n",
    "        max_new_tokens=150,\n",
    "        repetition_penalty=2.0,\n",
    "        pad_token_id=tokenizer.eos_token_id\n",
    "    )\n",
    "\n",
    "    reply_no_rag = tokenizer.decode(outputs_no_rag[0], skip_special_tokens=True).strip()\n",
    "\n",
    "    # --- RAG ---\n",
    "    # Perform retrieval\n",
    "    doc = vector_store.similarity_search(query, k=top_k_retrieval)\n",
    "    retrieved_docs = [d.page_content for d in doc]\n",
    "    retrieved_docs = ''.join(retrieved_docs)\n",
    "\n",
    "    # Prepare input\n",
    "    input_text_rag = prompt.format(query=query, retrieved_docs=retrieved_docs)\n",
    "    inputs_rag = tokenizer(input_text_rag, return_tensors=\"pt\", truncation=True).to(device)\n",
    "\n",
    "    outputs_rag = model.generate(\n",
    "        inputs_rag['input_ids'],\n",
    "        attention_mask=inputs_rag['attention_mask'],\n",
    "        temperature=0.9,\n",
    "        top_k=50,\n",
    "        top_p=0.85,\n",
    "        max_new_tokens=150,\n",
    "        repetition_penalty=2.0,\n",
    "        pad_token_id=tokenizer.eos_token_id\n",
    "    )\n",
    "\n",
    "    reply_rag = tokenizer.decode(outputs_rag[0], skip_special_tokens=True).strip()\n",
    "\n",
    "    # Append the result to the list\n",
    "    result = f\"# Question: {query}\\n\"\n",
    "#    result += f\"-- Input with prompt: {input_text_rag}\\n\"\n",
    "    result += f\"-- No-RAG: {reply_no_rag}\\n\"\n",
    "    result += f\"-- RAG: {reply_rag}\\n\"\n",
    "    \n",
    "    retrieved_docs = retrieved_docs.split('\\n')\n",
    "#    result += \"-- Retrieved docs:\\n\"\n",
    "#    result += \"\\n\".join(retrieved_docs).replace(\"\\n\\n\", \"\\n\") + \"\\n\\n\"\n",
    "    \n",
    "    print(result)\n",
    "    \n",
    "    results.append(result)\n",
    "\n",
    "# Write all results to the file after the loop\n",
    "current_time = datetime.datetime.now().strftime(\"%Y-%m-%d_%H-%M-%S\")\n",
    "file_name = f\"reply_{current_time}.txt\"\n",
    "\n",
    "with open(file_name, 'w', encoding='utf-8') as file:\n",
    "    file.writelines(results)\n",
    "\n",
    "print(f\"Output written to {file_name}\")"
   ]
  },
  {
   "cell_type": "markdown",
   "id": "cfe268fd-076e-47c3-a79b-8aa678ef1064",
   "metadata": {},
   "source": [
    "# 4. Expand DB."
   ]
  },
  {
   "cell_type": "markdown",
   "id": "2453f15d-e914-4130-8a5e-21228fb92e6a",
   "metadata": {
    "jp-MarkdownHeadingCollapsed": true,
    "tags": []
   },
   "source": [
    "## 4.1. Fetch URLs from base. \n",
    "- \"https://www.marketviewliquor.com/blog/category/wine\""
   ]
  },
  {
   "cell_type": "code",
   "execution_count": 414,
   "id": "bf8fc17d-d4a8-40be-bc87-646e4051ecdc",
   "metadata": {
    "tags": []
   },
   "outputs": [
    {
     "name": "stdout",
     "output_type": "stream",
     "text": [
      "Fetching: https://www.marketviewliquor.com/blog/category/wine\n",
      "Fetching: https://www.marketviewliquor.com/blog/category/wine/page/2\n",
      "Fetching: https://www.marketviewliquor.com/blog/category/wine/page/3\n",
      "Fetching: https://www.marketviewliquor.com/blog/category/wine/page/4\n",
      "Fetching: https://www.marketviewliquor.com/blog/category/wine/page/5\n"
     ]
    },
    {
     "name": "stderr",
     "output_type": "stream",
     "text": [
      "\n",
      "KeyboardInterrupt\n",
      "\n"
     ]
    }
   ],
   "source": [
    "from goose3 import Goose\n",
    "\n",
    "def get_targeted_urls_with_goose(base_url, max_pages):\n",
    "    targeted_urls = []\n",
    "    scrapper = Goose()\n",
    "\n",
    "    for page in range(1, max_pages + 1):\n",
    "        # Construct the URL for each page\n",
    "        url = f\"{base_url}/page/{page}\" if page > 1 else base_url\n",
    "        print(f\"Fetching: {url}\")\n",
    "\n",
    "        # Use Goose3 to extract the raw HTML\n",
    "        article = scrapper.extract(url=url)\n",
    "\n",
    "        # Check if content is valid\n",
    "        if not article.raw_html:\n",
    "            print(f\"No content found for {url}\")\n",
    "            continue\n",
    "\n",
    "        # Extract targeted URLs from the raw HTML\n",
    "        html = article.raw_html\n",
    "        links = extract_targeted_links_from_html(html)\n",
    "\n",
    "        # Add unique links to the list\n",
    "        for link in links:\n",
    "            if link not in targeted_urls:\n",
    "                targeted_urls.append(link)\n",
    "\n",
    "    return targeted_urls\n",
    "\n",
    "def extract_targeted_links_from_html(html):\n",
    "    # Extract links that match the desired structure\n",
    "    links = []\n",
    "    start = 0\n",
    "    while True:\n",
    "        # Look for the specific structure: <a href=\"URL\" rel=\"bookmark\">\n",
    "        start = html.find('<a href=\"', start)\n",
    "        if start == -1:\n",
    "            break\n",
    "        start += 9  # Move past '<a href=\"'\n",
    "        end = html.find('\"', start)\n",
    "        link = html[start:end]\n",
    "\n",
    "        # Validate the link to match the desired structure\n",
    "        if \"rel=\\\"bookmark\\\"\" in html[end:end + 20]:  # Check if 'rel=\"bookmark\"' follows the link\n",
    "            links.append(link)\n",
    "\n",
    "    return links\n",
    "\n",
    "# Usage\n",
    "base_url = \"https://www.marketviewliquor.com/blog/category/wine\"\n",
    "max_pages = 21\n",
    "doc_urls = get_targeted_urls_with_goose(base_url, max_pages)\n",
    "\n",
    "# Save urls.txt.\n",
    "with open('./urls_tmp.txt', 'w') as f:\n",
    "    for url in doc_urls:\n",
    "        f.write(url + '\\n')\n",
    "\n",
    "print(f\"Found {len(targeted_blog_urls)} targeted blog URLs:\")"
   ]
  },
  {
   "cell_type": "code",
   "execution_count": 350,
   "id": "7e647241-3d20-4b64-b3c8-321d0ae3fdbc",
   "metadata": {
    "tags": []
   },
   "outputs": [],
   "source": [
    "# Save urls.txt.\n",
    "with open('./urls.txt', 'w') as f:\n",
    "    for url in doc_urls:\n",
    "        f.write(url + '\\n')"
   ]
  },
  {
   "cell_type": "markdown",
   "id": "f3901c6a-4b52-45df-92d1-31dc320cdd7e",
   "metadata": {
    "tags": []
   },
   "source": [
    "## 4.2. Fetch doc_contents from URLs."
   ]
  },
  {
   "cell_type": "code",
   "execution_count": 5,
   "id": "35a43ea1-c7f3-4cbc-9a79-7f0374451eb2",
   "metadata": {
    "collapsed": true,
    "jupyter": {
     "outputs_hidden": true
    },
    "tags": []
   },
   "outputs": [
    {
     "name": "stdout",
     "output_type": "stream",
     "text": [
      "Num of URLs: 102\n",
      "Fetch url: https://www.marketviewliquor.com/blog/guide-sweet-wine-types/ (Attempt 1)\n",
      "Length of fetched: 20514\n",
      "Fetch url: https://www.marketviewliquor.com/blog/wine-storing-and-serving-temperatures/ (Attempt 1)\n",
      "Length of fetched: 3362\n",
      "Fetch url: https://www.marketviewliquor.com/blog/what-really-happens-as-wine-ages/ (Attempt 1)\n",
      "Length of fetched: 6182\n",
      "Fetch url: https://www.marketviewliquor.com/blog/unique-wedding-favor-ideas/ (Attempt 1)\n",
      "Length of fetched: 18671\n",
      "Fetch url: https://www.marketviewliquor.com/blog/how-to-prevent-and-stop-a-hangover/ (Attempt 1)\n",
      "Length of fetched: 12358\n",
      "Fetch url: https://www.marketviewliquor.com/blog/how-to-choose-a-good-wine/ (Attempt 1)\n",
      "Length of fetched: 19876\n",
      "Fetch url: https://www.marketviewliquor.com/blog/back-to-school-wines/ (Attempt 1)\n",
      "Length of fetched: 2861\n",
      "Fetch url: https://www.marketviewliquor.com/blog/what-is-moscato/ (Attempt 1)\n",
      "Length of fetched: 15333\n",
      "Fetch url: https://www.marketviewliquor.com/blog/thank-you-wine-gifts/ (Attempt 1)\n",
      "Length of fetched: 3999\n",
      "Fetch url: https://www.marketviewliquor.com/blog/guide-to-different-types-of-wine-glasses/ (Attempt 1)\n",
      "Length of fetched: 29955\n",
      "Fetch url: https://www.marketviewliquor.com/blog/how-does-the-wine-rating-system-work/ (Attempt 1)\n",
      "Length of fetched: 18668\n",
      "Fetch url: https://www.marketviewliquor.com/blog/wine-and-charcuterie-pairings/ (Attempt 1)\n",
      "Length of fetched: 2507\n",
      "Fetch url: https://www.marketviewliquor.com/blog/best-wines-under-30/ (Attempt 1)\n",
      "Length of fetched: 2755\n",
      "Fetch url: https://www.marketviewliquor.com/blog/guide-to-chardonnay-wine/ (Attempt 1)\n",
      "Length of fetched: 18609\n",
      "Fetch url: https://www.marketviewliquor.com/blog/read-wine-label-properly/ (Attempt 1)\n",
      "Length of fetched: 3156\n",
      "Fetch url: https://www.marketviewliquor.com/blog/how-to-choose-red-wine/ (Attempt 1)\n",
      "Length of fetched: 6336\n",
      "Fetch url: https://www.marketviewliquor.com/blog/the-difference-between-merlot-and-cabernet-sauvignon/ (Attempt 1)\n",
      "Length of fetched: 17557\n",
      "Fetch url: https://www.marketviewliquor.com/blog/wine-and-champagne-to-ring-in-new-year/ (Attempt 1)\n",
      "Length of fetched: 18379\n",
      "Fetch url: https://www.marketviewliquor.com/blog/best-champagne-celebrate-new-year/ (Attempt 1)\n",
      "Length of fetched: 2608\n",
      "Fetch url: https://www.marketviewliquor.com/blog/guide-to-malbec-wine/ (Attempt 1)\n",
      "Length of fetched: 16312\n",
      "Fetch url: https://www.marketviewliquor.com/blog/guide-to-wine-alcohol-content/ (Attempt 1)\n",
      "Length of fetched: 3964\n",
      "Fetch url: https://www.marketviewliquor.com/blog/different-wine-bottle-sizes/ (Attempt 1)\n",
      "Length of fetched: 2757\n",
      "Fetch url: https://www.marketviewliquor.com/blog/celebrate-independence-day-fourth-july-wine/ (Attempt 1)\n",
      "Length of fetched: 2765\n",
      "Fetch url: https://www.marketviewliquor.com/blog/guide-to-california-wine-regions/ (Attempt 1)\n",
      "Length of fetched: 39949\n",
      "Fetch url: https://www.marketviewliquor.com/blog/sparkling-wines-to-ring-in-the-new-year/ (Attempt 1)\n",
      "Length of fetched: 2744\n",
      "Fetch url: https://www.marketviewliquor.com/blog/how-to-have-a-virtual-happy-hour/ (Attempt 1)\n",
      "Length of fetched: 2846\n",
      "Fetch url: https://www.marketviewliquor.com/blog/the-ultimate-wedding-wine-and-champagne-guide/ (Attempt 1)\n",
      "Length of fetched: 29549\n",
      "Fetch url: https://www.marketviewliquor.com/blog/ultimate-guide-basics-wine/ (Attempt 1)\n",
      "Length of fetched: 18028\n",
      "Fetch url: https://www.marketviewliquor.com/blog/best-kosher-wines-hanukkah/ (Attempt 1)\n",
      "Length of fetched: 1477\n",
      "Fetch url: https://www.marketviewliquor.com/blog/what-is-a-blended-wine/ (Attempt 1)\n",
      "Length of fetched: 17641\n",
      "Fetch url: https://www.marketviewliquor.com/blog/complete-guide-to-orange-wine/ (Attempt 1)\n",
      "Length of fetched: 6546\n",
      "Fetch url: https://www.marketviewliquor.com/blog/ultimate-guide-seasonal-wine-pairing-chapter-3/ (Attempt 1)\n",
      "Length of fetched: 17543\n",
      "Fetch url: https://www.marketviewliquor.com/blog/summer-wines-and-liquor-ideas-for-pool-parties/ (Attempt 1)\n",
      "Length of fetched: 5755\n",
      "Fetch url: https://www.marketviewliquor.com/blog/what-is-the-difference-between-merlot-and-pinot-noir/ (Attempt 1)\n",
      "Length of fetched: 15768\n",
      "Fetch url: https://www.marketviewliquor.com/blog/wine-names-explained/ (Attempt 1)\n",
      "Length of fetched: 16440\n",
      "Fetch url: https://www.marketviewliquor.com/blog/guide-to-zinfandel-wine/ (Attempt 1)\n",
      "Length of fetched: 17120\n",
      "Fetch url: https://www.marketviewliquor.com/blog/aerator-vs-decanter-which-is-better/ (Attempt 1)\n",
      "Length of fetched: 6760\n",
      "Fetch url: https://www.marketviewliquor.com/blog/green-saint-patricks-day-wines-specialty-drinks/ (Attempt 1)\n",
      "Length of fetched: 2699\n",
      "Fetch url: https://www.marketviewliquor.com/blog/guide-to-riesling-wine/ (Attempt 1)\n",
      "Length of fetched: 17936\n",
      "Fetch url: https://www.marketviewliquor.com/blog/learning-to-taste-wine/ (Attempt 1)\n",
      "Length of fetched: 3162\n",
      "Fetch url: https://www.marketviewliquor.com/blog/white-wine-spritzer-recipes/ (Attempt 1)\n",
      "Length of fetched: 15437\n",
      "Fetch url: https://www.marketviewliquor.com/blog/how-to-like-wine/ (Attempt 1)\n",
      "Length of fetched: 14165\n",
      "Fetch url: https://www.marketviewliquor.com/blog/wine-terms/ (Attempt 1)\n",
      "Length of fetched: 15434\n",
      "Fetch url: https://www.marketviewliquor.com/blog/france-champagne-map/ (Attempt 1)\n",
      "Length of fetched: 3194\n",
      "Fetch url: https://www.marketviewliquor.com/blog/red-wines-that-are-good-for-you/ (Attempt 1)\n",
      "Length of fetched: 26946\n",
      "Fetch url: https://www.marketviewliquor.com/blog/buying-afforable-value-wines/ (Attempt 1)\n",
      "Length of fetched: 9141\n",
      "Fetch url: https://www.marketviewliquor.com/blog/the-different-types-of-red-wines/ (Attempt 1)\n",
      "Length of fetched: 15257\n",
      "Fetch url: https://www.marketviewliquor.com/blog/birthday-wine-gifts/ (Attempt 1)\n",
      "Length of fetched: 3639\n",
      "Fetch url: https://www.marketviewliquor.com/blog/guide-to-food-and-wine-pairing-recipes/ (Attempt 1)\n",
      "Length of fetched: 27757\n",
      "Fetch url: https://www.marketviewliquor.com/blog/wedding-wine-buying-guide/ (Attempt 1)\n",
      "Length of fetched: 17346\n",
      "Fetch url: https://www.marketviewliquor.com/blog/best-christmas-dessert-wines/ (Attempt 1)\n",
      "Length of fetched: 2693\n",
      "Fetch url: https://www.marketviewliquor.com/blog/wine-cocktail-recipes/ (Attempt 1)\n",
      "Length of fetched: 12311\n",
      "Fetch url: https://www.marketviewliquor.com/blog/guide-to-sauvignon-blanc-wine/ (Attempt 1)\n",
      "Length of fetched: 18086\n",
      "Fetch url: https://www.marketviewliquor.com/blog/what-is-bourbon-barrel-wine/ (Attempt 1)\n",
      "Length of fetched: 8773\n",
      "Fetch url: https://www.marketviewliquor.com/blog/what-is-rose-wine/ (Attempt 1)\n",
      "Length of fetched: 17297\n",
      "Fetch url: https://www.marketviewliquor.com/blog/how-to-choose-a-cooking-wine/ (Attempt 1)\n",
      "Length of fetched: 16544\n",
      "Fetch url: https://www.marketviewliquor.com/blog/how-does-a-wine-tasting-work/ (Attempt 1)\n",
      "Length of fetched: 3622\n",
      "Fetch url: https://www.marketviewliquor.com/blog/wine-tasting-terms-definitions/ (Attempt 1)\n",
      "Length of fetched: 15120\n",
      "Fetch url: https://www.marketviewliquor.com/blog/ultimate-guide-seasonal-wine-pairing-chapter-7/ (Attempt 1)\n",
      "Length of fetched: 17048\n",
      "Fetch url: https://www.marketviewliquor.com/blog/what-is-vintage-wine/ (Attempt 1)\n",
      "Length of fetched: 19641\n",
      "Fetch url: https://www.marketviewliquor.com/blog/best-wines-under-20/ (Attempt 1)\n",
      "Length of fetched: 17046\n",
      "Fetch url: https://www.marketviewliquor.com/blog/upstate-new-york-food-and-drink-specialties/ (Attempt 1)\n",
      "Length of fetched: 6248\n",
      "Fetch url: https://www.marketviewliquor.com/blog/best-thanksgiving-day-wines/ (Attempt 1)\n",
      "Length of fetched: 17045\n",
      "Fetch url: https://www.marketviewliquor.com/blog/guide-to-vegan-wine/ (Attempt 1)\n",
      "Length of fetched: 15413\n",
      "Fetch url: https://www.marketviewliquor.com/blog/best-chilean-wines/ (Attempt 1)\n",
      "Length of fetched: 14807\n",
      "Fetch url: https://www.marketviewliquor.com/blog/how-to-save-money-when-buying-wine/ (Attempt 1)\n",
      "Length of fetched: 3045\n",
      "Fetch url: https://www.marketviewliquor.com/blog/corporate-wine-gifts/ (Attempt 1)\n",
      "Length of fetched: 9317\n",
      "Timeout occurred: https://www.marketviewliquor.com/blog/great-holiday-wine-gifts/ (Attempt 1)\n",
      "Timeout occurred: https://www.marketviewliquor.com/blog/guide-to-merlot-wine/ (Attempt 1)\n",
      "Timeout occurred: https://www.marketviewliquor.com/blog/guide-to-california-wines/ (Attempt 1)\n",
      "Timeout occurred: https://www.marketviewliquor.com/blog/best-wines-for-wedding-gifts/ (Attempt 1)\n",
      "Timeout occurred: https://www.marketviewliquor.com/blog/guide-to-champagne-and-sparkling-wine/ (Attempt 1)\n",
      "Timeout occurred: https://www.marketviewliquor.com/blog/the-different-types-of-white-wine/ (Attempt 1)\n",
      "Timeout occurred: https://www.marketviewliquor.com/blog/congratulations-wine-gifts/ (Attempt 1)\n",
      "Timeout occurred: https://www.marketviewliquor.com/blog/celebrate-mom-mothers-day-wine/ (Attempt 1)\n",
      "Timeout occurred: https://www.marketviewliquor.com/blog/white-wines-for-red-wine-drinkers/ (Attempt 1)\n",
      "Timeout occurred: https://www.marketviewliquor.com/blog/the-ultimate-guide-to-mulled-wines/ (Attempt 1)\n",
      "Timeout occurred: https://www.marketviewliquor.com/blog/summer-food-wine-festivals-rochester-new-york/ (Attempt 1)\n",
      "Timeout occurred: https://www.marketviewliquor.com/blog/ultimate-guide-seasonal-wine-pairing/ (Attempt 1)\n",
      "Timeout occurred: https://www.marketviewliquor.com/blog/difference-organic-wines-sustainable-wines-biodynamic-wines/ (Attempt 1)\n",
      "Timeout occurred: https://www.marketviewliquor.com/blog/how-to-choose-a-kosher-passover-wine/ (Attempt 1)\n",
      "Timeout occurred: https://www.marketviewliquor.com/blog/guide-easter-dinner-wine-pairing/ (Attempt 1)\n",
      "Timeout occurred: https://www.marketviewliquor.com/blog/oregon-wine-regions/ (Attempt 1)\n",
      "Timeout occurred: https://www.marketviewliquor.com/blog/how-the-pandemic-has-affected-sommeliers/ (Attempt 1)\n",
      "Timeout occurred: https://www.marketviewliquor.com/blog/is-white-wine-good-for-you/ (Attempt 1)\n",
      "Timeout occurred: https://www.marketviewliquor.com/blog/how-to-tell-good-wine-from-low-quality-wine/ (Attempt 1)\n",
      "Timeout occurred: https://www.marketviewliquor.com/blog/what-to-look-for-when-buying-wine-online/ (Attempt 1)\n",
      "Timeout occurred: https://www.marketviewliquor.com/blog/best-wines-for-cinco-de-mayo/ (Attempt 1)\n",
      "Timeout occurred: https://www.marketviewliquor.com/blog/guide-to-prosecco-wine/ (Attempt 1)\n",
      "Timeout occurred: https://www.marketviewliquor.com/blog/guide-to-canned-wine/ (Attempt 1)\n",
      "Timeout occurred: https://www.marketviewliquor.com/blog/all-treats-no-tricks-with-these-halloween-wines/ (Attempt 1)\n",
      "Timeout occurred: https://www.marketviewliquor.com/blog/red-wines-for-white-wine-drinkers/ (Attempt 1)\n",
      "Timeout occurred: https://www.marketviewliquor.com/blog/is-wine-gluten-free/ (Attempt 1)\n",
      "Timeout occurred: https://www.marketviewliquor.com/blog/how-to-make-your-own-wine-gift-basket/ (Attempt 1)\n",
      "Timeout occurred: https://www.marketviewliquor.com/blog/what-is-natural-wine/ (Attempt 1)\n",
      "Timeout occurred: https://www.marketviewliquor.com/blog/guide-pinot-noir-wine/ (Attempt 1)\n",
      "Timeout occurred: https://www.marketviewliquor.com/blog/video/wine-time-mike-holly-louis-jadot-beaujolais-villages-2015/ (Attempt 1)\n",
      "Timeout occurred: https://www.marketviewliquor.com/blog/12-best-food-wine-festivals/ (Attempt 1)\n",
      "Timeout occurred: https://www.marketviewliquor.com/blog/ultimate-guide-seasonal-wine-pairing-chapter-6/ (Attempt 1)\n",
      "Timeout occurred: https://www.marketviewliquor.com/blog/best-wines-christmas-dinner/ (Attempt 1)\n",
      "Timeout occurred: https://www.marketviewliquor.com/blog/the-top-10-most-exciting-new-wine-trends/ (Attempt 1)\n",
      "Timeout occurred: https://www.marketviewliquor.com/blog/guide-to-new-york-wines-and-wineries/ (Attempt 1)\n",
      "Fetch url: https://www.marketviewliquor.com/blog/is-wine-gluten-free/ (Attempt 2)\n",
      "Length of fetched: 2870\n",
      "Fetch url: https://www.marketviewliquor.com/blog/how-to-tell-good-wine-from-low-quality-wine/ (Attempt 2)\n",
      "Length of fetched: 3777\n",
      "Fetch url: https://www.marketviewliquor.com/blog/guide-to-canned-wine/ (Attempt 2)\n",
      "Length of fetched: 17907\n",
      "Fetch url: https://www.marketviewliquor.com/blog/what-to-look-for-when-buying-wine-online/ (Attempt 2)\n",
      "Length of fetched: 11490\n",
      "Fetch url: https://www.marketviewliquor.com/blog/what-is-natural-wine/ (Attempt 2)\n",
      "Length of fetched: 16784\n",
      "Fetch url: https://www.marketviewliquor.com/blog/12-best-food-wine-festivals/ (Attempt 2)\n",
      "Length of fetched: 16504\n",
      "Fetch url: https://www.marketviewliquor.com/blog/red-wines-for-white-wine-drinkers/ (Attempt 2)\n",
      "Length of fetched: 17931\n",
      "Fetch url: https://www.marketviewliquor.com/blog/guide-pinot-noir-wine/ (Attempt 2)\n",
      "Length of fetched: 15141\n",
      "Fetch url: https://www.marketviewliquor.com/blog/guide-to-prosecco-wine/ (Attempt 2)\n",
      "Length of fetched: 16676\n",
      "Fetch url: https://www.marketviewliquor.com/blog/oregon-wine-regions/ (Attempt 2)\n",
      "Length of fetched: 19012\n",
      "Fetch url: https://www.marketviewliquor.com/blog/best-wines-for-cinco-de-mayo/ (Attempt 2)\n",
      "Length of fetched: 2198\n",
      "Fetch url: https://www.marketviewliquor.com/blog/how-to-make-your-own-wine-gift-basket/ (Attempt 2)\n",
      "Length of fetched: 15894\n",
      "Fetch url: https://www.marketviewliquor.com/blog/all-treats-no-tricks-with-these-halloween-wines/ (Attempt 2)\n",
      "Length of fetched: 4117\n",
      "Fetch url: https://www.marketviewliquor.com/blog/difference-organic-wines-sustainable-wines-biodynamic-wines/ (Attempt 2)\n",
      "Length of fetched: 16958\n",
      "Fetch url: https://www.marketviewliquor.com/blog/how-the-pandemic-has-affected-sommeliers/ (Attempt 2)\n",
      "Length of fetched: 13122\n",
      "Fetch url: https://www.marketviewliquor.com/blog/ultimate-guide-seasonal-wine-pairing-chapter-6/ (Attempt 2)\n",
      "Length of fetched: 13512\n",
      "Fetch url: https://www.marketviewliquor.com/blog/ultimate-guide-seasonal-wine-pairing/ (Attempt 2)\n",
      "Length of fetched: 10632\n",
      "Fetch url: https://www.marketviewliquor.com/blog/is-white-wine-good-for-you/ (Attempt 2)\n",
      "Length of fetched: 16852\n",
      "Fetch url: https://www.marketviewliquor.com/blog/the-top-10-most-exciting-new-wine-trends/ (Attempt 2)\n",
      "Length of fetched: 15502\n",
      "Fetch url: https://www.marketviewliquor.com/blog/guide-easter-dinner-wine-pairing/ (Attempt 2)\n",
      "Length of fetched: 3305\n",
      "Fetch url: https://www.marketviewliquor.com/blog/best-wines-christmas-dinner/ (Attempt 2)\n",
      "Length of fetched: 16792\n",
      "Timeout occurred: https://www.marketviewliquor.com/blog/guide-to-new-york-wines-and-wineries/ (Attempt 2)\n",
      "Timeout occurred: https://www.marketviewliquor.com/blog/video/wine-time-mike-holly-louis-jadot-beaujolais-villages-2015/ (Attempt 2)\n",
      "Timeout occurred: https://www.marketviewliquor.com/blog/guide-to-california-wines/ (Attempt 2)\n",
      "Timeout occurred: https://www.marketviewliquor.com/blog/how-to-choose-a-kosher-passover-wine/ (Attempt 2)\n",
      "Timeout occurred: https://www.marketviewliquor.com/blog/guide-to-merlot-wine/ (Attempt 2)\n",
      "Timeout occurred: https://www.marketviewliquor.com/blog/summer-food-wine-festivals-rochester-new-york/ (Attempt 2)\n",
      "Timeout occurred: https://www.marketviewliquor.com/blog/celebrate-mom-mothers-day-wine/ (Attempt 2)\n",
      "Timeout occurred: https://www.marketviewliquor.com/blog/congratulations-wine-gifts/ (Attempt 2)\n",
      "Timeout occurred: https://www.marketviewliquor.com/blog/guide-to-champagne-and-sparkling-wine/ (Attempt 2)\n",
      "Timeout occurred: https://www.marketviewliquor.com/blog/white-wines-for-red-wine-drinkers/ (Attempt 2)\n",
      "Timeout occurred: https://www.marketviewliquor.com/blog/great-holiday-wine-gifts/ (Attempt 2)\n",
      "Timeout occurred: https://www.marketviewliquor.com/blog/the-different-types-of-white-wine/ (Attempt 2)\n",
      "Timeout occurred: https://www.marketviewliquor.com/blog/the-ultimate-guide-to-mulled-wines/ (Attempt 2)\n",
      "Timeout occurred: https://www.marketviewliquor.com/blog/best-wines-for-wedding-gifts/ (Attempt 2)\n",
      "Fetch url: https://www.marketviewliquor.com/blog/the-different-types-of-white-wine/ (Attempt 3)\n",
      "Length of fetched: 21652\n",
      "Fetch url: https://www.marketviewliquor.com/blog/best-wines-for-wedding-gifts/ (Attempt 3)\n",
      "Length of fetched: 4614\n",
      "Fetch url: https://www.marketviewliquor.com/blog/great-holiday-wine-gifts/ (Attempt 3)\n",
      "Length of fetched: 12565\n",
      "Fetch url: https://www.marketviewliquor.com/blog/the-ultimate-guide-to-mulled-wines/ (Attempt 3)\n",
      "Length of fetched: 14726\n",
      "Fetch url: https://www.marketviewliquor.com/blog/how-to-choose-a-kosher-passover-wine/ (Attempt 3)\n",
      "Length of fetched: 2525\n",
      "Fetch url: https://www.marketviewliquor.com/blog/guide-to-california-wines/ (Attempt 3)\n",
      "Length of fetched: 17732\n",
      "Fetch url: https://www.marketviewliquor.com/blog/guide-to-merlot-wine/ (Attempt 3)\n",
      "Length of fetched: 17036\n",
      "Fetch url: https://www.marketviewliquor.com/blog/white-wines-for-red-wine-drinkers/ (Attempt 3)\n",
      "Length of fetched: 16381\n",
      "Timeout occurred: https://www.marketviewliquor.com/blog/video/wine-time-mike-holly-louis-jadot-beaujolais-villages-2015/ (Attempt 3)\n",
      "Timeout occurred: https://www.marketviewliquor.com/blog/guide-to-champagne-and-sparkling-wine/ (Attempt 3)\n",
      "Timeout occurred: https://www.marketviewliquor.com/blog/congratulations-wine-gifts/ (Attempt 3)\n",
      "Timeout occurred: https://www.marketviewliquor.com/blog/summer-food-wine-festivals-rochester-new-york/ (Attempt 3)\n",
      "Timeout occurred: https://www.marketviewliquor.com/blog/guide-to-new-york-wines-and-wineries/ (Attempt 3)\n",
      "Timeout occurred: https://www.marketviewliquor.com/blog/celebrate-mom-mothers-day-wine/ (Attempt 3)\n",
      "Fetch url: https://www.marketviewliquor.com/blog/congratulations-wine-gifts/ (Attempt 4)\n",
      "Length of fetched: 4484\n",
      "Fetch url: https://www.marketviewliquor.com/blog/video/wine-time-mike-holly-louis-jadot-beaujolais-villages-2015/ (Attempt 4)\n",
      "Length of fetched: 261\n",
      "Fetch url: https://www.marketviewliquor.com/blog/guide-to-new-york-wines-and-wineries/ (Attempt 4)\n",
      "Length of fetched: 18921\n",
      "Fetch url: https://www.marketviewliquor.com/blog/guide-to-champagne-and-sparkling-wine/ (Attempt 4)\n",
      "Length of fetched: 16589\n",
      "Fetch url: https://www.marketviewliquor.com/blog/celebrate-mom-mothers-day-wine/ (Attempt 4)\n",
      "Length of fetched: 2628\n",
      "Fetch url: https://www.marketviewliquor.com/blog/summer-food-wine-festivals-rochester-new-york/ (Attempt 4)\n",
      "Length of fetched: 16975\n",
      "Fetch done!\n"
     ]
    }
   ],
   "source": [
    "# Prepare URLs.\n",
    "\n",
    "\"\"\"\n",
    "it works!!\n",
    "doc_urls = [\n",
    "    'https://www.marketviewliquor.com/blog/how-to-choose-a-good-wine/',\n",
    "    'https://www.marketviewliquor.com/blog/what-really-happens-as-wine-ages/',\n",
    "    'https://www.marketviewliquor.com/blog/how-to-choose-red-wine/',\n",
    "    'https://www.marketviewliquor.com/blog/how-to-prevent-and-stop-a-hangover/',\n",
    "    'https://www.marketviewliquor.com/blog/what-is-bourbon-barrel-wine/',\n",
    "    'https://www.marketviewliquor.com/blog/best-chilean-wines/'\n",
    "]\"\"\"\n",
    "\n",
    "# Load urls.txt.\n",
    "doc_urls = []\n",
    "with open('./urls.txt', 'r') as f:\n",
    "    for url in f:\n",
    "        doc_urls.append(url[:-1])\n",
    "\n",
    "doc_contents = await fetch_all_urls_async(doc_urls)\n",
    "\n",
    "# Save doc_contents.txt.\n",
    "with open('./doc_contents_tmp.txt', 'w', encoding='utf-8') as f:\n",
    "    for doc_content in doc_contents:\n",
    "        doc_content = doc_content.strip()\n",
    "        if doc_content:\n",
    "            f.write(doc_content)\n",
    "\n",
    "print(\"Fetch done!\")"
   ]
  },
  {
   "cell_type": "markdown",
   "id": "0b9a0769-3bf6-4f6e-8486-ced4a4904228",
   "metadata": {
    "tags": []
   },
   "source": [
    "## 4.3. Load doc_contents."
   ]
  },
  {
   "cell_type": "code",
   "execution_count": 82,
   "id": "db682ba5-5d77-4748-a31f-2216d076b581",
   "metadata": {
    "tags": []
   },
   "outputs": [],
   "source": [
    "# Load doc_contents.txt.\n",
    "doc_contents = []\n",
    "with open('./doc_contents.txt', 'r', encoding='utf-8') as f:\n",
    "    for doc_content in f:\n",
    "        doc_content = doc_content.strip()\n",
    "        if doc_content:\n",
    "            doc_contents.append(doc_content[:-1])"
   ]
  },
  {
   "cell_type": "markdown",
   "id": "e97e5e19-16c1-4ec2-a1e1-f7abc0dd0edb",
   "metadata": {},
   "source": [
    "## 4.4. Save to Vector DB."
   ]
  },
  {
   "cell_type": "code",
   "execution_count": 87,
   "id": "b10cbcf8-fa9e-4128-81d7-959dd1fe8c86",
   "metadata": {
    "tags": []
   },
   "outputs": [
    {
     "name": "stdout",
     "output_type": "stream",
     "text": [
      "Vector store constructed.\n",
      "- Num of docs: 3059\n",
      "- Num of chunks: 3059\n"
     ]
    }
   ],
   "source": [
    "# Suppress chunk size warning during split.\n",
    "import logging\n",
    "logging.getLogger(\"langchain_text_splitters.base\").setLevel(logging.ERROR)\n",
    "\n",
    "# Text splitter.\n",
    "from langchain.text_splitter import RecursiveCharacterTextSplitter\n",
    "chunk_size = 200\n",
    "chunk_overlap = 20\n",
    "\n",
    "# Delete docs shorter than 'chunk_size'.\n",
    "min_doc_len  = chunk_size   # minimum len of doc. \n",
    "doc_contents = [doc for doc in doc_contents if len(doc) >= min_doc_len]\n",
    "\n",
    "text_splitter = RecursiveCharacterTextSplitter(\n",
    "    chunk_size=chunk_size, \n",
    "    chunk_overlap=chunk_overlap, \n",
    "    separators=[\"\\n\"]\n",
    ")\n",
    "\n",
    "# Embedding model.\n",
    "from langchain_huggingface import HuggingFaceEmbeddings\n",
    "\n",
    "device       = torch.device('cuda' if torch.cuda.is_available() else 'cpu')\n",
    "model_kwargs = {'device': device}\n",
    "\n",
    "embedding_model = HuggingFaceEmbeddings(model_name=\"sentence-transformers/all-MiniLM-L6-v2\",\n",
    "                                        model_kwargs   = model_kwargs)\n",
    "\n",
    "# Save on FAISS.\n",
    "from langchain.vectorstores import FAISS\n",
    "\n",
    "initial_chunks = text_splitter.split_text(doc_contents[0])  # Assuming the first doc_content is used for initialization\n",
    "vector_store = FAISS.from_texts(initial_chunks, embedding_model)\n",
    "\n",
    "for doc_content in doc_contents[1:]:\n",
    "    chunks = text_splitter.split_text(doc_content)\n",
    "    vector_store.add_texts(chunks)\n",
    "\n",
    "print(f\"Vector store constructed.\")\n",
    "print(f\"- Num of docs: {len(doc_contents)}\")"
   ]
  },
  {
   "cell_type": "markdown",
   "id": "094739f2-a616-46ac-9ae7-5c13d0a4a48c",
   "metadata": {},
   "source": [
    "## 4.5. Query List."
   ]
  },
  {
   "cell_type": "code",
   "execution_count": 177,
   "id": "9045b8c4-73f4-45f2-8f67-20eaaa7bc787",
   "metadata": {
    "tags": []
   },
   "outputs": [],
   "source": [
    "query_list = [\n",
    "    \"What is the most popular wine in Chile?\",\n",
    "    \"What should I consider to choose a good wine?\",\n",
    "    \"Which food is good with a sweet wine?\",\n",
    "    \"Is older wine better?\",\n",
    "    \"Is price important for wine?\",\n",
    "    \"How long can I consume a wine after purchase?\",\n",
    "    \"Are wines with screw caps bad?\",\n",
    "    \"How can I log wine consumption?\",\n",
    "    \"Which information should I check on the wine label?\",\n",
    "]\n",
    "\n",
    "#query_list = [\n",
    "#    \"What is the most popular wine in Chile?\"\n",
    "#]"
   ]
  },
  {
   "cell_type": "markdown",
   "id": "54f0265f-67bd-4594-bb0b-97b7ce60688d",
   "metadata": {},
   "source": [
    "## 4.6. Prompt."
   ]
  },
  {
   "cell_type": "code",
   "execution_count": 156,
   "id": "041b8ac4-b8b5-4fe6-a342-40ff780824ae",
   "metadata": {
    "tags": []
   },
   "outputs": [],
   "source": [
    "prompt_rag = \"\"\"\\\n",
    "Based on your knowledge and the retrieved information, answer the following question, and provide additional explanation from the retrieved information.\n",
    "Retrieved Information:\n",
    "{retrieved_docs}\n",
    "Question:\n",
    "{query}\n",
    "\"\"\""
   ]
  },
  {
   "cell_type": "markdown",
   "id": "2df31ad0-e458-46be-99f6-7a073b7e11a1",
   "metadata": {},
   "source": [
    "## 4.7. Answer."
   ]
  },
  {
   "cell_type": "code",
   "execution_count": 183,
   "id": "8b6a1bd4-d4d4-4257-b1ea-98e5f90e3aad",
   "metadata": {
    "tags": []
   },
   "outputs": [],
   "source": [
    "async def process_query(query, top_k_retrieval, prompt_norag, prompt_rag, tokenizer, model, temperature_rag, vector_store,\n",
    "                        log_retrieved_docs):\n",
    "    global device\n",
    "    \n",
    "    # --- No-RAG ---\n",
    "    input_text_no_rag = prompt_norag.format(query=query)\n",
    "    inputs_no_rag = tokenizer(input_text_no_rag, return_tensors=\"pt\").to(device)\n",
    "\n",
    "    outputs_no_rag = model.generate(\n",
    "        inputs_no_rag['input_ids'], \n",
    "        attention_mask=inputs_no_rag['attention_mask'],\n",
    "        temperature=0.9,\n",
    "        top_k=50,\n",
    "        top_p=0.85,\n",
    "        max_new_tokens=150,\n",
    "        repetition_penalty=2.0,\n",
    "        pad_token_id=tokenizer.eos_token_id\n",
    "    )\n",
    "\n",
    "    reply_no_rag = tokenizer.decode(outputs_no_rag[0], skip_special_tokens=True).strip()\n",
    "\n",
    "    # --- RAG ---\n",
    "    # Perform retrieval\n",
    "\n",
    "    # similarity_search\n",
    "    doc = vector_store.similarity_search(query, k=top_k_retrieval)\n",
    "\n",
    "    # get embedding\n",
    "#    query_embedding = embedding_model.embed_query(query)\n",
    "\n",
    "    # similarity_search_by_vector\n",
    "#    doc = vector_store.similarity_search_by_vector(query_embedding, k=top_k_retrieval)\n",
    "\n",
    "    # max_marginal_relevance_search_by_vector\n",
    "#    doc = vector_store.max_marginal_relevance_search_by_vector(query_embedding, k=top_k_retrieval)\n",
    "\n",
    "    retrieved_docs_list = [d.page_content for d in doc]\n",
    "    retrieved_docs = '\\n'.join(retrieved_docs_list)\n",
    "\n",
    "    # Prepare input\n",
    "    input_text_rag = prompt_rag.format(query=query, retrieved_docs=retrieved_docs)\n",
    "    inputs_rag = tokenizer(input_text_rag, return_tensors=\"pt\", truncation=True).to(device)\n",
    "\n",
    "    outputs_rag = model.generate(\n",
    "        inputs_rag['input_ids'],\n",
    "        attention_mask=inputs_rag['attention_mask'],\n",
    "        temperature=temperature_rag,\n",
    "        top_k=50,\n",
    "        top_p=0.9,\n",
    "        max_new_tokens=300,\n",
    "        repetition_penalty=1.5,\n",
    "        pad_token_id=tokenizer.eos_token_id\n",
    "    )\n",
    "\n",
    "    reply_rag = tokenizer.decode(outputs_rag[0], skip_special_tokens=True).strip()\n",
    "\n",
    "    # Append the result to the list\n",
    "    result = f\"# Question: {query}\\n\"\n",
    "    result += f\"-- No-RAG: {reply_no_rag}\\n\\n\"\n",
    "    result += f\"-- RAG: {reply_rag}\\n\\n\"\n",
    "\n",
    "#    result += f\"-- Input with prompt:\\n {input_text_rag}\\n\"\n",
    "\n",
    "    if log_retrieved_docs:\n",
    "        result += \"\\n-- Retrieved docs:\\n\"\n",
    "        result += retrieved_docs + \"\\n\\n\\n\"\n",
    "\n",
    "    \"\"\"for doc in retrieved_docs_list:\n",
    "        result += \"---- ---- (doc start) ---- \\n\"\n",
    "        for sentence in doc.split('. '):\n",
    "            sentence = sentence.replace('\\n', '')\n",
    "            result += \"---- \" + sentence + '. \\n'\"\"\"\n",
    "\n",
    "#    print(result)\n",
    "\n",
    "    print(f\"# Question done: {query}\")\n",
    "    print(f\"-- No-RAG: {reply_no_rag}\\n\")\n",
    "    print(f\"-- RAG: {reply_rag}\\n\")\n",
    "        \n",
    "    return result\n",
    "\n",
    "async def process_query_list(query_list, top_k_retrieval, prompt_norag, prompt_rag, tokenizer, model, temperature_rag, vector_store,\n",
    "                             log_retrieved_docs=False):\n",
    "    tasks = []\n",
    "    for query in query_list:\n",
    "        tasks.append(process_query(query = query,\n",
    "                                 top_k_retrieval = top_k_retrieval,\n",
    "                                 prompt_norag = prompt_norag,\n",
    "                                 prompt_rag = prompt_rag,\n",
    "                                 tokenizer = tokenizer,\n",
    "                                 model = model,\n",
    "                                   temperature_rag = temperature_rag,\n",
    "                                   log_retrieved_docs = log_retrieved_docs,\n",
    "                                 vector_store = vector_store))\n",
    "    results = await asyncio.gather(*tasks)\n",
    "    \n",
    "    return results"
   ]
  },
  {
   "cell_type": "code",
   "execution_count": 184,
   "id": "251a4f0b-381d-4770-b389-3ea993314cc2",
   "metadata": {
    "tags": []
   },
   "outputs": [
    {
     "name": "stdout",
     "output_type": "stream",
     "text": [
      "Model: google/flan-t5-large\n",
      "\n",
      "# Question done: What is the most popular wine in Chile?\n",
      "-- No-RAG: Chilean wine is a type of red wine that is produced in the Andes region of South America. The most popular wine in Chile is Chardonnay .\n",
      "\n",
      "-- RAG: Chilean Cabernet Sauvignon\n",
      "\n",
      "# Question done: What should I consider to choose a good wine?\n",
      "-- No-RAG: The following are some basic factors to consider when choosing a good wine : The climate of the region where the wine is produced : The soil type : The climate of the region where the wine is produced : The grape variety : The variety of the grape\n",
      "\n",
      "-- RAG: Since “good wine” is so subjective, knowing how to choose the right wine means considering several factors — including occasion, flavor preferences, labels and price points.\n",
      "\n",
      "# Question done: Which food is good with a sweet wine?\n",
      "-- No-RAG: A sweet wine is a type of wine that has a high alcohol content. Sweet wines are often served with desserts.\n",
      "\n",
      "-- RAG: Sweet wines like Adesso Cagnina di Romagna – 750ml and even semi-sweet wines can often bring the perfect blend of sweet and savory together, balancing one another out as you appreciate the beauty of a well-paired meal\n",
      "\n",
      "# Question done: Is older wine better?\n",
      "-- No-RAG: Older wine has a higher alcohol content. The alcohol content of an older wine is lower than that of a newer wine. Therefore, older wine is generally considered to be better. The final answer: yes.\n",
      "\n",
      "-- RAG: In general, aging is more important for red wines than white wines, but any wine you purchase at the store will be ready to drink. In fact, most wines are not meant to be aged, and you should consume them within five years of purchasing them. However, if there’s ever a time to take a close look at the year on the bottle, it’s for red wines. If you’re looking for how to choose a good red wine and find yourself stuck between two different years of a variety, you may want to opt for the older Only a few types of wine benefit from aging — approximately 1% of wine is actually viable for long-term aging. Most wines on the market are aged enough and made to be enjoyed right away. A small handful of varieties will taste better after more aging\n",
      "\n",
      "# Question done: Is price important for wine?\n",
      "-- No-RAG: The price of a wine is the most important factor in its value. The higher the price, the more money the wine will make.\n",
      "\n",
      "-- RAG: Generally, high-end wines cost more money upfront than a poor-tasting wine, but you should always approach this principle with caution.\n",
      "\n",
      "# Question done: How long can I consume a wine after purchase?\n",
      "-- No-RAG: The wine can be consumed within a year.\n",
      "\n",
      "-- RAG: As a general rule, wines should be enjoyed within three to five days of opening.\n",
      "\n",
      "# Question done: Are wines with screw caps bad?\n",
      "-- No-RAG: Screw caps are used to keep wine from leaking. Wines with screw caps are often made of plastic. Plastic is not good for the environment. The answer: no.\n",
      "\n",
      "-- RAG: While wine bottles with screw caps can get a bad reputation, they can still hold delicious wine.\n",
      "\n",
      "# Question done: How can I log wine consumption?\n",
      "-- No-RAG: You can use a wine bottle opener to record your wine consumption.\n",
      "\n",
      "-- RAG: The app Wine Ring allows new wine connoisseurs and veterans alike to learn a little something new about their taste profile.\n",
      "\n",
      "# Question done: Which information should I check on the wine label?\n",
      "-- No-RAG: The following information should be checked on the wine label: Name of the producer Winery\n",
      "\n",
      "-- RAG: The more details this label has, the more reliable the brand likely is. Reading the label can help you make a more informed decision when selecting a bottle of wine. In addition to the name of the winery, you can also find a brief description of the wine that includes the specific grape variety, the year these grapes were harvested, the region they were grown in, the alcohol by volume (ABV) and tasting notes While the information on wine labels is fairly standard, it may not always be\n",
      "\n",
      "Output written to reply_2025-01-11_13-22-07.txt\n"
     ]
    }
   ],
   "source": [
    "from transformers import AutoTokenizer, AutoModelForSeq2SeqLM\n",
    "import torch\n",
    "from datetime import datetime\n",
    "import asyncio\n",
    "\n",
    "# Load model and tokenizer\n",
    "checkpoint = \"google/flan-t5-large\"\n",
    "tokenizer = AutoTokenizer.from_pretrained(checkpoint)\n",
    "\n",
    "device = torch.device(\"cuda\" if torch.cuda.is_available() else \"cpu\")\n",
    "model = AutoModelForSeq2SeqLM.from_pretrained(checkpoint).to(device)\n",
    "\n",
    "print(f\"Model: {checkpoint}\", end='\\n\\n')\n",
    "\n",
    "# Retrieval settings (for RAG)\n",
    "top_k_retrieval = 5\n",
    "temperature_rag = 0.9\n",
    "\n",
    "\n",
    "results = await process_query_list(query_list = query_list,\n",
    "                                   top_k_retrieval = top_k_retrieval,\n",
    "                                   prompt_norag = prompt_norag,\n",
    "                                   prompt_rag = prompt_rag,\n",
    "                                   tokenizer = tokenizer,\n",
    "                                   model = model,\n",
    "                                   temperature_rag = temperature_rag,\n",
    "                                   vector_store = vector_store)\n",
    "\n",
    "# Write results to file.\n",
    "import datetime\n",
    "current_time = datetime.datetime.now().strftime(\"%Y-%m-%d_%H-%M-%S\")\n",
    "file_name = f\"reply_{current_time}.txt\"\n",
    "\n",
    "with open(file_name, 'w', encoding='utf-8') as file:\n",
    "    file.writelines(results)\n",
    "\n",
    "print(f\"Output written to {file_name}\")"
   ]
  },
  {
   "cell_type": "code",
   "execution_count": null,
   "id": "ccde9404-123b-4657-9f0d-4168ed011e5e",
   "metadata": {},
   "outputs": [],
   "source": []
  }
 ],
 "metadata": {
  "kernelspec": {
   "display_name": "Python 3 (ipykernel)",
   "language": "python",
   "name": "python3"
  },
  "language_info": {
   "codemirror_mode": {
    "name": "ipython",
    "version": 3
   },
   "file_extension": ".py",
   "mimetype": "text/x-python",
   "name": "python",
   "nbconvert_exporter": "python",
   "pygments_lexer": "ipython3",
   "version": "3.9.18"
  }
 },
 "nbformat": 4,
 "nbformat_minor": 5
}
