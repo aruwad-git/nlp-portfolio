{
 "cells": [
  {
   "cell_type": "markdown",
   "id": "ff16b14b-6d3f-41ba-8667-0f28f1e03f32",
   "metadata": {
    "tags": [],
    "toc-hr-collapsed": true
   },
   "source": [
    "# 0. Setup."
   ]
  },
  {
   "cell_type": "markdown",
   "id": "59ad0bd5-9bb4-46e2-afd5-798e42ed8572",
   "metadata": {
    "jp-MarkdownHeadingCollapsed": true,
    "tags": []
   },
   "source": [
    "## Imports."
   ]
  },
  {
   "cell_type": "code",
   "execution_count": 1,
   "id": "1a32c9cb-75ad-42c2-ab38-91dee3e3386a",
   "metadata": {
    "tags": []
   },
   "outputs": [],
   "source": [
    "# Imports.\n",
    "import numpy as np\n",
    "import pandas as pd\n",
    "import matplotlib.pyplot as plt\n",
    "import torch\n",
    "import torch.nn as nn\n",
    "import os\n",
    "\n",
    "import nbimporter\n",
    "import bioasq_libs\n",
    "\n",
    "# Random seeds.\n",
    "from transformers import set_seed\n",
    "import tensorflow as tf\n",
    "\n",
    "set_seed(42)              # For Hugging Face.\n",
    "tf.random.set_seed(42)    # For tf, np, and python.\n",
    "\n",
    "# Suppress warnings.\n",
    "import os\n",
    "os.environ['HF_HUB_DISABLE_SYMLINKS_WARNING'] = '1'\n",
    "\n",
    "import warnings\n",
    "warnings.filterwarnings(\n",
    "    \"ignore\",\n",
    "    message=\"torch.utils.checkpoint: the use_reentrant parameter should be passed explicitly.*\",\n",
    "    category=UserWarning\n",
    ")\n",
    "\n",
    "# cuda device.\n",
    "device      = torch.device('cuda' if torch.cuda.is_available() else 'cpu')\n",
    "\n",
    "# Limit GPU memory usage.\n",
    "torch.cuda.set_per_process_memory_fraction(0.9, device=0)"
   ]
  },
  {
   "cell_type": "markdown",
   "id": "dc90dfd8-01e4-43d0-a305-7be2926529af",
   "metadata": {
    "jp-MarkdownHeadingCollapsed": true,
    "tags": []
   },
   "source": [
    "## Markdown table format."
   ]
  },
  {
   "cell_type": "code",
   "execution_count": 78,
   "id": "8407854c-814a-461f-bfe1-eaaa0daab2e7",
   "metadata": {
    "tags": []
   },
   "outputs": [
    {
     "data": {
      "text/html": [
       "<style>\n",
       "    table {\n",
       "        float: left;\n",
       "        margin-right: 20px; /* Optional: Adds space between table and other content */\n",
       "    }\n",
       "</style>\n"
      ],
      "text/plain": [
       "<IPython.core.display.HTML object>"
      ]
     },
     "metadata": {},
     "output_type": "display_data"
    }
   ],
   "source": [
    "%%html\n",
    "<style>\n",
    "    table {\n",
    "        float: left;\n",
    "        margin-right: 20px; /* Optional: Adds space between table and other content */\n",
    "    }\n",
    "</style>"
   ]
  },
  {
   "cell_type": "markdown",
   "id": "5433907f-c570-4f7d-ad62-c16caaff30f8",
   "metadata": {
    "jp-MarkdownHeadingCollapsed": true,
    "tags": []
   },
   "source": [
    "# 1. Data Preparation."
   ]
  },
  {
   "cell_type": "code",
   "execution_count": 3,
   "id": "e58a7396-4661-423c-a986-d255b92ba428",
   "metadata": {
    "tags": []
   },
   "outputs": [
    {
     "data": {
      "application/vnd.jupyter.widget-view+json": {
       "model_id": "5fdc97cd13b44989aa8c0885346a57ae",
       "version_major": 2,
       "version_minor": 0
      },
      "text/plain": [
       "Map:   0%|          | 0/1357 [00:00<?, ? examples/s]"
      ]
     },
     "metadata": {},
     "output_type": "display_data"
    },
    {
     "data": {
      "application/vnd.jupyter.widget-view+json": {
       "model_id": "07e8c9f379974a85a069344f6f372991",
       "version_major": 2,
       "version_minor": 0
      },
      "text/plain": [
       "Map:   0%|          | 0/25 [00:00<?, ? examples/s]"
      ]
     },
     "metadata": {},
     "output_type": "display_data"
    },
    {
     "data": {
      "application/vnd.jupyter.widget-view+json": {
       "model_id": "a409bb3e912649cea7e1dc1121ae24a5",
       "version_major": 2,
       "version_minor": 0
      },
      "text/plain": [
       "Map:   0%|          | 0/26 [00:00<?, ? examples/s]"
      ]
     },
     "metadata": {},
     "output_type": "display_data"
    },
    {
     "data": {
      "application/vnd.jupyter.widget-view+json": {
       "model_id": "e6646e1b1d654c63a844ca44eca0ea92",
       "version_major": 2,
       "version_minor": 0
      },
      "text/plain": [
       "Map:   0%|          | 0/24 [00:00<?, ? examples/s]"
      ]
     },
     "metadata": {},
     "output_type": "display_data"
    },
    {
     "data": {
      "application/vnd.jupyter.widget-view+json": {
       "model_id": "96582e66746341c9acd4a5ccbe163c7a",
       "version_major": 2,
       "version_minor": 0
      },
      "text/plain": [
       "Map:   0%|          | 0/27 [00:00<?, ? examples/s]"
      ]
     },
     "metadata": {},
     "output_type": "display_data"
    },
    {
     "data": {
      "text/plain": [
       "Dataset({\n",
       "    features: ['question', 'snippets', 'documents', 'labels', 'answer_ideal'],\n",
       "    num_rows: 1085\n",
       "})"
      ]
     },
     "execution_count": 3,
     "metadata": {},
     "output_type": "execute_result"
    }
   ],
   "source": [
    "from datasets import concatenate_datasets\n",
    "train_ds, valid_ds, test_ds_list = bioasq_libs.load_datasets_all()\n",
    "test_ds_merged = concatenate_datasets(test_ds_list)\n",
    "\n",
    "train_ds"
   ]
  },
  {
   "cell_type": "markdown",
   "id": "6a7f703a-3c5d-4549-bf14-2df140c74e41",
   "metadata": {
    "tags": [],
    "toc-hr-collapsed": true
   },
   "source": [
    "# 2. Overview."
   ]
  },
  {
   "cell_type": "markdown",
   "id": "07cc1efe-5b7b-4dc4-be3f-8b0cc90c9377",
   "metadata": {
    "jp-MarkdownHeadingCollapsed": true,
    "tags": []
   },
   "source": [
    "## 2.1. Features and Labels."
   ]
  },
  {
   "cell_type": "markdown",
   "id": "3f998865-db0f-47aa-8c4d-a00bec7cda34",
   "metadata": {},
   "source": [
    "\n",
    "| Column         | Data Type | Description                                                       |\n",
    "|----------------|-----------|-------------------------------------------------------------------|\n",
    "| `question`     | Text      | One sentence for the question.                                   |\n",
    "| `snippets`     | Text      | One to many sentences providing short information.               |\n",
    "| `documents`    | URL       | One to many URLs linking to research papers from PubMed.         |\n",
    "| `labels`       | Integer   | 0 for 'no', 1 for 'yes'.                                         |\n",
    "| `answer_ideal` | Text      | Label for the ideal answer task.  | Column         | Data Type | Description                                                      |"
   ]
  },
  {
   "cell_type": "code",
   "execution_count": 5,
   "id": "4dc2f87a-76f1-4c4a-b7ef-117f5d5cc5f2",
   "metadata": {
    "tags": []
   },
   "outputs": [
    {
     "data": {
      "text/html": [
       "<div>\n",
       "<style scoped>\n",
       "    .dataframe tbody tr th:only-of-type {\n",
       "        vertical-align: middle;\n",
       "    }\n",
       "\n",
       "    .dataframe tbody tr th {\n",
       "        vertical-align: top;\n",
       "    }\n",
       "\n",
       "    .dataframe thead th {\n",
       "        text-align: right;\n",
       "    }\n",
       "</style>\n",
       "<table border=\"1\" class=\"dataframe\">\n",
       "  <thead>\n",
       "    <tr style=\"text-align: right;\">\n",
       "      <th></th>\n",
       "      <th>question</th>\n",
       "      <th>snippets</th>\n",
       "      <th>documents</th>\n",
       "      <th>labels</th>\n",
       "      <th>answer_ideal</th>\n",
       "    </tr>\n",
       "  </thead>\n",
       "  <tbody>\n",
       "    <tr>\n",
       "      <th>0</th>\n",
       "      <td>Is JTV519 (K201) a potential drug for the prev...</td>\n",
       "      <td>We compared the suppressive effect of K201 (JT...</td>\n",
       "      <td>http://www.ncbi.nlm.nih.gov/pubmed/20581784\\nh...</td>\n",
       "      <td>1</td>\n",
       "      <td>Yes, JTV519 has antiarrhythmic properties.</td>\n",
       "    </tr>\n",
       "    <tr>\n",
       "      <th>1</th>\n",
       "      <td>Is the PTPN22 gene a biomarker for Rheumatoid ...</td>\n",
       "      <td>Combined longitudinal analysis of the 2 cohort...</td>\n",
       "      <td>http://www.ncbi.nlm.nih.gov/pubmed/21542789\\nh...</td>\n",
       "      <td>1</td>\n",
       "      <td>Most association studies have indeed confirmed...</td>\n",
       "    </tr>\n",
       "    <tr>\n",
       "      <th>2</th>\n",
       "      <td>Is MammaPrint cleared by the United States Foo...</td>\n",
       "      <td>Real-time RT-PCR confirmed the 5-gene prognost...</td>\n",
       "      <td>http://www.ncbi.nlm.nih.gov/pubmed/19506735\\nh...</td>\n",
       "      <td>1</td>\n",
       "      <td>Yes. MammaPrint is cleared by the FDA for brea...</td>\n",
       "    </tr>\n",
       "    <tr>\n",
       "      <th>3</th>\n",
       "      <td>Do normal cells express the protein TERT?</td>\n",
       "      <td>Since telomerase has been recognized as a rele...</td>\n",
       "      <td>http://www.ncbi.nlm.nih.gov/pubmed/21790308\\nh...</td>\n",
       "      <td>0</td>\n",
       "      <td>Νο, telomerase activity is found in 85%-90% of...</td>\n",
       "    </tr>\n",
       "    <tr>\n",
       "      <th>4</th>\n",
       "      <td>Have the promoter regions of the genes implica...</td>\n",
       "      <td>CAGE-defined promoter regions of the genes imp...</td>\n",
       "      <td>http://www.ncbi.nlm.nih.gov/pubmed/25539566</td>\n",
       "      <td>1</td>\n",
       "      <td>Yes. Promoter regions of the genes implicated ...</td>\n",
       "    </tr>\n",
       "  </tbody>\n",
       "</table>\n",
       "</div>"
      ],
      "text/plain": [
       "                                            question  \\\n",
       "0  Is JTV519 (K201) a potential drug for the prev...   \n",
       "1  Is the PTPN22 gene a biomarker for Rheumatoid ...   \n",
       "2  Is MammaPrint cleared by the United States Foo...   \n",
       "3          Do normal cells express the protein TERT?   \n",
       "4  Have the promoter regions of the genes implica...   \n",
       "\n",
       "                                            snippets  \\\n",
       "0  We compared the suppressive effect of K201 (JT...   \n",
       "1  Combined longitudinal analysis of the 2 cohort...   \n",
       "2  Real-time RT-PCR confirmed the 5-gene prognost...   \n",
       "3  Since telomerase has been recognized as a rele...   \n",
       "4  CAGE-defined promoter regions of the genes imp...   \n",
       "\n",
       "                                           documents  labels  \\\n",
       "0  http://www.ncbi.nlm.nih.gov/pubmed/20581784\\nh...       1   \n",
       "1  http://www.ncbi.nlm.nih.gov/pubmed/21542789\\nh...       1   \n",
       "2  http://www.ncbi.nlm.nih.gov/pubmed/19506735\\nh...       1   \n",
       "3  http://www.ncbi.nlm.nih.gov/pubmed/21790308\\nh...       0   \n",
       "4        http://www.ncbi.nlm.nih.gov/pubmed/25539566       1   \n",
       "\n",
       "                                        answer_ideal  \n",
       "0         Yes, JTV519 has antiarrhythmic properties.  \n",
       "1  Most association studies have indeed confirmed...  \n",
       "2  Yes. MammaPrint is cleared by the FDA for brea...  \n",
       "3  Νο, telomerase activity is found in 85%-90% of...  \n",
       "4  Yes. Promoter regions of the genes implicated ...  "
      ]
     },
     "execution_count": 5,
     "metadata": {},
     "output_type": "execute_result"
    }
   ],
   "source": [
    "train_df = train_ds.to_pandas()\n",
    "valid_df = valid_ds.to_pandas()\n",
    "\n",
    "train_df.head()"
   ]
  },
  {
   "cell_type": "markdown",
   "id": "9775e3ad-5a13-4f65-8b05-22c0cbaef65e",
   "metadata": {
    "jp-MarkdownHeadingCollapsed": true,
    "tags": []
   },
   "source": [
    "## 2.2. Dataset Size.\n",
    "- Very small train set.\n",
    "- RAG with mid~large LLM could be useful.\n",
    "- Full-training is not recommended. Instead consider task-specific training like QLoRA or zero-shot learning.\n",
    "- A lot of snippets and docs per question: Consider data augmentation."
   ]
  },
  {
   "cell_type": "code",
   "execution_count": 63,
   "id": "f2b69cbb-93a6-44b8-9c39-d3d72cf3af29",
   "metadata": {
    "tags": []
   },
   "outputs": [
    {
     "name": "stdout",
     "output_type": "stream",
     "text": [
      "n_samples: 1085\n",
      "n_snippets: 16567\n",
      "n_docs: 13025\n"
     ]
    },
    {
     "data": {
      "image/png": "[encoded data removed]",
      "text/plain": [
       "<Figure size 640x480 with 1 Axes>"
      ]
     },
     "metadata": {},
     "output_type": "display_data"
    }
   ],
   "source": [
    "# Aggregating the counts.\n",
    "n_samples   = len(train_df)\n",
    "n_snippets  = train_df['snippets'].apply(lambda x: len(x.split('\\n'))).sum()\n",
    "n_snippets += valid_df['snippets'].apply(lambda x: len(x.split('\\n'))).sum()\n",
    "n_docs      = train_df['documents'].apply(lambda x: len(x.split('\\n'))).sum()\n",
    "n_docs     += valid_df['snippets'].apply(lambda x: len(x.split('\\n'))).sum()\n",
    "\n",
    "print(f\"n_samples: {n_samples}\")\n",
    "print(f\"n_snippets: {n_snippets}\")\n",
    "print(f\"n_docs: {n_docs}\")\n",
    "\n",
    "# Creating a DataFrame.\n",
    "data = pd.DataFrame({'Counts': [n_samples, n_snippets, n_docs]}, \n",
    "                    index=['n_samples', 'n_snippets', 'n_docs'])\n",
    "\n",
    "# Plotting a bar chart.\n",
    "data.plot(kind='barh', legend=False)\n",
    "plt.show()"
   ]
  },
  {
   "cell_type": "markdown",
   "id": "b5c00b5a-3e1c-42cc-9275-d6befb9a20bc",
   "metadata": {
    "tags": []
   },
   "source": [
    "## 2.3. Length of features.\n",
    "- `snippets`: Very long, and there are exceptionally long case.\n",
    "- `documents`: Each url has len of 43, so there would be around 15 ~ 20 URLs generally.\n",
    "> #### Caution) Some len_documents are exceptionally large, which could cause significant delay during https requests!"
   ]
  },
  {
   "cell_type": "code",
   "execution_count": 9,
   "id": "fee0020c-d238-448b-b113-78725275f9f5",
   "metadata": {
    "tags": []
   },
   "outputs": [
    {
     "data": {
      "text/html": [
       "<div>\n",
       "<style scoped>\n",
       "    .dataframe tbody tr th:only-of-type {\n",
       "        vertical-align: middle;\n",
       "    }\n",
       "\n",
       "    .dataframe tbody tr th {\n",
       "        vertical-align: top;\n",
       "    }\n",
       "\n",
       "    .dataframe thead th {\n",
       "        text-align: right;\n",
       "    }\n",
       "</style>\n",
       "<table border=\"1\" class=\"dataframe\">\n",
       "  <thead>\n",
       "    <tr style=\"text-align: right;\">\n",
       "      <th></th>\n",
       "      <th>len_question</th>\n",
       "      <th>len_snippets</th>\n",
       "      <th>len_documents</th>\n",
       "    </tr>\n",
       "  </thead>\n",
       "  <tbody>\n",
       "    <tr>\n",
       "      <th>count</th>\n",
       "      <td>1085.000000</td>\n",
       "      <td>1085.000000</td>\n",
       "      <td>1085.000000</td>\n",
       "    </tr>\n",
       "    <tr>\n",
       "      <th>mean</th>\n",
       "      <td>59.919816</td>\n",
       "      <td>2394.958525</td>\n",
       "      <td>391.578802</td>\n",
       "    </tr>\n",
       "    <tr>\n",
       "      <th>std</th>\n",
       "      <td>21.961179</td>\n",
       "      <td>2386.031387</td>\n",
       "      <td>433.861785</td>\n",
       "    </tr>\n",
       "    <tr>\n",
       "      <th>min</th>\n",
       "      <td>20.000000</td>\n",
       "      <td>76.000000</td>\n",
       "      <td>43.000000</td>\n",
       "    </tr>\n",
       "    <tr>\n",
       "      <th>25%</th>\n",
       "      <td>45.000000</td>\n",
       "      <td>632.000000</td>\n",
       "      <td>87.000000</td>\n",
       "    </tr>\n",
       "    <tr>\n",
       "      <th>50%</th>\n",
       "      <td>57.000000</td>\n",
       "      <td>1587.000000</td>\n",
       "      <td>219.000000</td>\n",
       "    </tr>\n",
       "    <tr>\n",
       "      <th>75%</th>\n",
       "      <td>70.000000</td>\n",
       "      <td>3446.000000</td>\n",
       "      <td>569.000000</td>\n",
       "    </tr>\n",
       "    <tr>\n",
       "      <th>max</th>\n",
       "      <td>192.000000</td>\n",
       "      <td>19150.000000</td>\n",
       "      <td>4311.000000</td>\n",
       "    </tr>\n",
       "  </tbody>\n",
       "</table>\n",
       "</div>"
      ],
      "text/plain": [
       "       len_question  len_snippets  len_documents\n",
       "count   1085.000000   1085.000000    1085.000000\n",
       "mean      59.919816   2394.958525     391.578802\n",
       "std       21.961179   2386.031387     433.861785\n",
       "min       20.000000     76.000000      43.000000\n",
       "25%       45.000000    632.000000      87.000000\n",
       "50%       57.000000   1587.000000     219.000000\n",
       "75%       70.000000   3446.000000     569.000000\n",
       "max      192.000000  19150.000000    4311.000000"
      ]
     },
     "execution_count": 9,
     "metadata": {},
     "output_type": "execute_result"
    }
   ],
   "source": [
    "# Columns of features.\n",
    "cols     = ['question', 'snippets', 'documents']\n",
    "len_cols = ['len_question', 'len_snippets', 'len_documents']\n",
    "\n",
    "# Calculate each length.\n",
    "train_df[len_cols] = train_df[cols].map(len)\n",
    "\n",
    "# Display statistics of each length.\n",
    "train_df[len_cols].describe()"
   ]
  },
  {
   "cell_type": "code",
   "execution_count": 26,
   "id": "b78248ad-e68e-4c59-b088-c55b34c42138",
   "metadata": {
    "tags": []
   },
   "outputs": [
    {
     "data": {
      "text/plain": [
       "array([[<Axes: title={'center': 'len_question'}>,\n",
       "        <Axes: title={'center': 'len_snippets'}>],\n",
       "       [<Axes: title={'center': 'len_documents'}>, <Axes: >]],\n",
       "      dtype=object)"
      ]
     },
     "execution_count": 26,
     "metadata": {},
     "output_type": "execute_result"
    },
    {
     "data": {
      "image/png": "[encoded data removed]",
      "text/plain": [
       "<Figure size 640x480 with 4 Axes>"
      ]
     },
     "metadata": {},
     "output_type": "display_data"
    }
   ],
   "source": [
    "train_df[len_cols].hist()"
   ]
  },
  {
   "cell_type": "code",
   "execution_count": 39,
   "id": "260f6cbd-8119-4582-bfbf-47e17069072e",
   "metadata": {
    "tags": []
   },
   "outputs": [
    {
     "name": "stdout",
     "output_type": "stream",
     "text": [
      "Length of 1 url: 43.\n"
     ]
    }
   ],
   "source": [
    "# print len of url.\n",
    "url_sample = train_df['documents'][0].split('\\n')[0]\n",
    "print(f\"Length of 1 url: {len(url_sample)}.\")"
   ]
  },
  {
   "cell_type": "markdown",
   "id": "327bbccf-8a83-4aae-a1f1-2106373aa7ac",
   "metadata": {},
   "source": [
    "## 2.4. Question and Snippets.\n",
    "- Questions seem very domain-specific. We will need specialized LLMs like PubMedBERT.\n",
    "- From manual review, snippets seem to be extracted from documents, especially abstract.\n",
    "- It seems we can only access abstracts via each URL.\n",
    "- We need to check carefully if retrieval from URLs are necessary."
   ]
  },
  {
   "cell_type": "code",
   "execution_count": 10,
   "id": "63f3d2a8-4dcb-4fbb-95c6-c01121712d3b",
   "metadata": {
    "collapsed": true,
    "jupyter": {
     "outputs_hidden": true
    },
    "tags": []
   },
   "outputs": [
    {
     "name": "stdout",
     "output_type": "stream",
     "text": [
      "**question: Is JTV519 (K201) a potential drug for the prevention of arrhythmias?\n",
      "\n",
      "snippets: \n",
      "We compared the suppressive effect of K201 (JTV519), a multiple-channel blocker and cardiac ryanodine receptor-calcium release channel (RyR2) stabilizer, with that of diltiazem, a Ca(2+ )channel blocker, in 2 studies of isoproterenol-induced (n = 30) and ischemic-reperfusion-induced VAs (n = 38) in rats. \n",
      "After administration of isoproterenol under Ca(2+) loading, fatal VA frequently occurred in the vehicle (9 of 10 animals, 90%) and diltiazem (8 of 10, 80%) groups, and K201 significantly suppressed the incidences of arrhythmia and mortality (2 of 10, 20%). In the reperfusion study, the incidence and the time until occurrence of reperfusion-induced VA and mortality were significantly suppressed in the K201 (2 of 15 animals, 13%) and diltiazem (1 of 9 animals, 11%) groups compared to the vehicle group (8 of 14 animals, 57%). \n",
      "K201 markedly suppressed both the isoproterenol-induced and the reperfusion-induced VAs, whereas diltiazem did not suppress the isoproterenol-induced VA.\n",
      "JTV519 (K201) is a newly developed 1,4-benzothiazepine drug with antiarrhythmic and cardioprotective properties. It appears to be very effective in not only preventing but also in reversing the characteristic myocardial changes and preventing lethal arrhythmias.\n",
      "The novel antiarrhythmic drug K201 (4-[3-{1-(4-benzyl)piperidinyl}propionyl]-7-methoxy-2,3,4,5-tetrahydro-1,4-benzothiazepine monohydrochloride) is currently in development for treatment of atrial fibrillation. K201 not only controls intracellular calcium release by the ryanodine receptors, but also possesses a ventricular action that might predispose to torsade de pointes arrhythmias. \n",
      "The RyR is currently used as a therapeutic target in malignant hyperthermia where dantrolene is effective and to relieve ventricular arrhythmia, with the use of JTV519 and flecainide.\n",
      "Finally, KN-3 and JTV519, two compounds that stabilize RyR2 in the closed state, prevent the induction of triggered activity and suppress the inducibility of sustained AF. \n",
      "JTV-519 greatly reduced the frequency of ouabain-induced arrhythmogenic events.\n",
      "Stabilization of RyR2 by JTV-519 effectively reduces these triggered arrhythmias.\n",
      "These findings may reveal the anti-arrhythmic potential of K201.\n",
      "The preferential ryanodine receptor stabilizer (K201) possesses antiarrhythmic effects through calcium regulation. \n",
      "The drug K201 (JTV-519) increases inotropy and suppresses arrhythmias in failing hearts, but the effects of K201 on normal hearts is unknown. \n",
      "K201 fails to prevent DADs in RyR2(R4496C+/-) myocytes and ventricular arrhythmias in RyR2(R4496C+/-) mice\n",
      "In vivo administration of K201 failed to prevent induction of polymorphic ventricular tachycardia (VT) in RyR2(R4496C+/-) mice.\n",
      "The 1,4-benzothiazepine JTV519, which increases the binding affinity of calstabin-2 for RyR2, inhibited the diastolic SR Ca2+ leak, monophasic action potential alternans and triggered arrhythmias.\n",
      "In arrhythmias, the calstabin2 stabiliser JTV519 did not prevent arrhythmias in calstabin2-/- mice, but reduced the arrhythmias in calstabin2+/- mice, illustrating the antiarrhythmic potential of stabilising calstablin2. \n",
      "In three models of arrhythmias, the calstabin2 stabiliser JTV519 did not prevent arrhythmias in calstabin2(-/-) mice, but reduced the arrhythmias in calstabin2(+/-) mice, illustrating the antiarrhythmic potential of stabilising calstabin2. \n",
      "A derivative of 1,4-benzothiazepine (JTV519) increased the affinity of calstabin2 for RyR2, which stabilized the closed state of RyR2 and prevented the Ca2+ leak that triggers arrhythmias. \n",
      "JTV-519 had significant protective effects on atrial fibrillation in the canine sterile pericarditis model, mainly by increasing effective refractory period, suggesting that it may have potential as a novel antiarrhythmic agent for atrial fibrillation.\n",
      "JTV-519 significantly decreased the mean number of sustained atrial fibrillation episodes (from 4.2 +/- 2.9 to 0 +/- 0, P < 0.01). \n",
      "We conclude that JTV-519 can exert antiarrhythmic effects against AF by inhibiting repolarizing K(+) currents. The drug may be useful for the treatment of AF in patients with ischaemic heart disease.\n",
      "\n",
      "label: 1\n",
      "\n",
      "**question: Is the PTPN22 gene a biomarker for Rheumatoid Arthritis?\n",
      "\n",
      "snippets: \n",
      "Combined longitudinal analysis of the 2 cohorts suggests further association of several loci with Larsen score (KIF5A, PTPN22, AFF3, TAGAP) and therefore a significant accumulation of RA severity markers among RA susceptibility markers (p = 0.016)\n",
      "A non-intronic marker at TNFAIP3, GIN1/C5orf30, STAT4, ANKRD55/IL6ST, BLK and PTPN22 showed association with RA susceptibility, irrespective of the serological status, the latter three markers remaining significantly associated with anti-CCP negative RA, after correction for multiple testing\n",
      "A C-to-T single nucleotide polymorphism (SNP) located at position 1858 of human PTPN22 cDNA and converting an arginine (R620) to tryptophan (W620) confers the highest risk of rheumatoid arthritis among non-HLA genetic variations that are known to be associated with this disease\n",
      "TPN22 is a tyrosine phosphatase and functions as a damper of TCR signals. A C-to-T single nucleotide polymorphism (SNP) located at position 1858 of human PTPN22 cDNA and converting an arginine (R620) to tryptophan (W620) confers the highest risk of rheumatoid arthritis among non-HLA genetic variations that are known to be associated with this disease\n",
      "In addition, how the overall activity of PTPN22 is regulated and how the R-to-W conversion contributes to rheumatoid arthritis is still poorly understood\n",
      "Our data depict a model that can reconcile the conflicting observations on the functional impact of the C1858T SNP and also suggest that PTPN22.6 is a novel biomarker of rheumatoid arthritis.\n",
      "the level of PTPN22.6 in peripheral blood correlates with disease activity of rheumatoid arthritis\n",
      "Lack of association of common variants in PTPN22 with RA in Han Chinese was confirmed\n",
      "This study identifies MMEL1 and CTLA4 as RA susceptibility genes, provides suggestive evidence of association for a further six loci in the Han Chinese population and confirms lack of PTPN22 association in Asian populations\n",
      "PTPN22 R620W genotype-phenotype correlation analysis and gene-environment interaction study in early rheumatoid arthritis: results from the ESPOIR cohort\n",
      " PTPN22 620W risk allele was associated with ACPA production [odds ratio (OR) = 2.21, 95% CI 1.4, 3.4, P < 0.0001]\n",
      "Hormonal treatment exposition and smoking were found to act with a protective effect against ACPA production (OR = 0.44, 95% CI 0.3, 0.7, P = 0.001) and early bone erosion (OR = 0.56, 95% CI 0.4-0.8, P = 0.003), respectively, and independently of HLADR and PTPN22 status\n",
      " RA patients (n=333) and controls (n=490) from the Cree/Ojibway NAN population in Central Canada were HLA-DRB1 typed and tested for 21 single-nucleotide polymorphisms (SNPs) that have previously been associated with RA, including PTPN22, TRAF1-C5, CTLA4, PADI4, STAT4, FCRL3, CCL21, MMEL1-TNFRSF14, CDK6, PRKCQ, KIF5A-PIP4K2C, IL2RB, TNFAIP3, IL10-1082G/A and REL\n",
      "21 single-nucleotide polymorphisms (SNPs) that have previously been associated with RA, including PTPN22, TRAF1-C5, CTLA4, PADI4, STAT4, FCRL3, CCL21, MMEL1-TNFRSF14, CDK6, PRKCQ, KIF5A-PIP4K2C, IL2RB, TNFAIP3, IL10-1082G/A and REL\n",
      "Several other genes, including PTPN22 and PADI4, show modest association with RA\n",
      "he HLA locus, particularly HLA-DRB1, is its strongest genetic risk determinant across ethnicities. Several other genes, including PTPN22 and PADI4, show modest association with RA. \n",
      "Other variants in potentially pathogenic genes located in non-MHC regions have been implicated by recently performed genome wide analysis studies. These genes include PTPN22, TRAF1-C5, PADI4, STAT4\n",
      "Several alleles in the epitope-recognition part of the HLA molecule that show the highest association with RA susceptibility, also share a common string of amminoacid residues (the so-called shared-epitope hypothesis). Other variants in potentially pathogenic genes located in non-MHC regions have been implicated by recently performed genome wide analysis studies. These genes include PTPN22, TRAF1-C5, PADI4, STAT4. \n",
      "Among these genes, PTPN22 plays an outstanding role. CD40, STAT4, PRM1, and TNFAIP3 also seem to be of relevance.\n",
      "n particular, genome-wide association studies (GWAS) have provided supportive evidence that RA is a disease with a strong genetic background. Interestingly, a series of candidate genes have been identified outside of the classical major histocompatibility (MHC) locus, which had long been regarded as the major contributor to the pathogenesis of this disease. Among these genes, PTPN22 plays an outstanding role.\n",
      "HLA-DRB1 and the R620W single-nucleotide polymorphism of PTPN22 were genotyped\n",
      "In addition, evidence of a significant interaction between the shared epitope and the risk allele of PTPN22 was observed only in these patients\n",
      "Although SNPs in PADI4 had similar allele frequency among three groups [maximal difference 11%; (P >0.05)], the other three loci revealed statistically significant allele frequency differences (maximal difference 39% (P <0.00001), 13% (P <0.00001), and 8% (P <0.00001) in SLC22A4, PDCD1, and PTPN22, respectively)\n",
      "Several multiple, large-scale, genetic studies on autoimmune-disease-associated SNPs have been reported recently: peptidylarginine deiminase type 4 (PADI4) in rheumatoid arthritis (RA); solute carrier family 22 members 4 and 5 (SLC22A4 and 5) in RA and Crohn's disease (CD); programmed cell death 1 (PDCD1) in systemic lupus erythematosus (SLE), type 1 diabetes mellitus (T1D), and RA; and protein tyrosine phosphatase nonreceptor type 22 (PTPN22) in T1D, RA, and SLE\n",
      " Recently a number of convincing candidate genes have begun to emerge and an update has been provided for three of these: PTPN22, CTLA-4 and MIF.\n",
      "Recently a number of convincing candidate genes have begun to emerge and an update has been provided for three of these: PTPN22\n",
      "challenges in identifying genetic polymorphisms that influence the susceptibility to rheumatoid arthritis are the same as those faced in most complex diseases\n",
      "Association studies support a role for several genes, including TNFR2, PADI4, SLC22A4, RUNX1, and PTPN22\n",
      "Although HLA-DRB1 is the main RA gene, it accounts for only part of the familial risk for RA. HLA-DRB1 alleles are neither necessary nor sufficient to cause the development of RA in a given individual. Several genome scans conducted in populations from France, Japan, North America and UK have confirmed the role of the HLA region and suggested several other susceptibility loci. Association studies support a role for several genes, including TNFR2, PADI4, SLC22A4, RUNX1, and PTPN22.\n",
      "Analyses of families with multiple autoimmune disorders have revealed a functional polymorphism, 620W, in the intracellular tyrosine phosphatase gene PTPN22 as a predisposing factor for type 1 diabetes, seropositive rheumatoid arthritis, systemic lupus erythematosus, and Hashimoto thyroiditis, and the presence of the PTPN22 protein appears to herald the development of autoantibodies in these disorders\n",
      "Replication of putative candidate-gene associations with rheumatoid arthritis in >4,000 samples from North America and Sweden: association of susceptibility with PTPN22, CTLA4, and PADI4.\n",
      "We found strong evidence of an association of PTPN22 with the development of anti-citrulline antibody-positive RA (odds ratio [OR] 1.49; P=.00002), using previously untested EIRA samples.\n",
      " Exploration of our data set with clinically relevant subsets of RA reveals that PTPN22 is associated with an earlier age at disease onset (P=.004) and that PTPN22 has a stronger effect in males than in females (P=.03)\n",
      " Given the strong statistical power to replicate a true-positive association in this study, our results provide support for PTPN22, CTLA4, and PADI4 as RA susceptibility genes and demonstrate novel associations with clinically relevant subsets of RA\n",
      "In logistic regression analysis, ACPA predicted RA-development independent of PTPN22, while the PTPN22 polymorphism had no independent effect.\n",
      "In this Dutch cohort of UA-patients, the PTPN22 1858T allele does not markedly improve individual decision-making to predict RA-development\n",
      "Risk of progression from undifferentiated arthritis to rheumatoid arthritis: the effect of the PTPN22 1858T-allele in anti-citrullinated peptide antibody positive patients\n",
      "progression from undifferentiated arthritis to rheumatoid arthritis: the effect of the PTPN22 1858T-allele\n",
      "Anti-citrullinated peptide antibodies (ACPA) and the C1858T missense single-nucleotide polymorphism (SNP) in the PTPN22 gene are both associated with the development of rheumatoid arthritis (RA)\n",
      "Associations between human leukocyte antigen, PTPN22, CTLA4 genotypes and rheumatoid arthritis phenotypes of autoantibody status, age at diagnosis and erosions in a large cohort study\n",
      "HLA-DRB1 shared epitope (HLA-SE), PTPN22 and CTLA4 alleles are associated with cyclic citrullinated peptide (CCP) and rheumatoid arthritis (RA)\n",
      "Auto-antibodies, HLA and PTPN22: susceptibility markers for rheumatoid arthritis\n",
      "The combination of the PTPN22 1858T variant and anti-CCP antibodies gave a high specificity for the disease, and was significantly associated with RA (P = 8.86 x 10(-5), OR 10.05, 95% CI 1.88-53.73)\n",
      "The combination of the T variant of the 1858 polymorphism of the PTPN22 gene in combination with the presence of anti-CCP antibodies, preferentially in a SE-positive individual, is associated with the development of RA\n",
      "No association of the PTPN22 gene with mortality was detected\n",
      "Cox proportional hazards regression models were used to assess the association of the HLA-DRB1 (including the shared epitope [SE]) and PTPN22 genes with the risk of death from all causes and from cardiovascular disease (CVD) and to assess the interactions between SE, smoking, and anti-cyclic citrullinated peptide (anti-CCP) status, adjusted by age at symptom onset and sex\n",
      "The disease association of the common 1858C>T Arg620Trp (rs2476601) nonsynonymous single nucleotide polymorphism (SNP) of protein tyrosine phosphatase; nonreceptor type 22 (PTPN22) on chromosome 1p13 has been confirmed in type 1 diabetes and also in other autoimmune diseases, including rheumatoid arthritis and Graves' disease\n",
      "To evaluate the predictive values for disease progression of various antibodies against citrullinated peptide proteins (ACPA) and their relation to PTPN22 1858C/T polymorphism and HLA-DRB1 alleles in early rheumatoid arthritis (RA)\n",
      "PTPN22, PADI-4, and CTLA-4 have been associated with risk for rheumatoid arthritis (RA)\n",
      "A significant multiplicative interaction between PTPN22 and smoking for more than 10 pack-years was observed (P = 0.04)\n",
      "No gene-gene interaction was observed between PTPN22 and HLA-SE\n",
      "After adjusting for smoking and reproductive factors, PTPN22 was associated with RA risk among Caucasian women in these cohorts. We found both additive and multiplicative interactions between PTPN22 and heavy cigarette smoking.\n",
      "After adjusting for smoking and reproductive factors, PTPN22 was associated with RA risk among Caucasian women in these cohorts\n",
      "Weak evidence for an effect at the PTPN22 locus was also observed\n",
      "Association of the PTPN22 gene (-1123G > C) polymorphism with rheumatoid arthritis in Chinese patients\n",
      "These data suggest, the CC genotype and C allele of the -1123G > C in the PTPN22 gene are associated with an increased risk for RA in Chinese population\n",
      "Therefore, the CC genotype and C allele of the -1123G > C in the PTPN22 gene may be used as a genetic marker for the predisposition of RA in Chines\n",
      "A longer duration of breastfeeding increased the risk of developing RA, especially among individuals seropositive for ACPA or IgM-RF or carrying the PTPN22 1858T variant\n",
      "In a multiple logistic regression analysis, increasing time of breastfeeding (OR 9.5, 95% CI 2.14-42.43 for ≥ 17 months), seropositivity for ACPAs (OR 19.5, 95% CI 4.47-84.81), and carriage of the PTPN22 1858T variant (OR 3.2, 95% CI 1.36-7.54) remained significant predictors of RA\n",
      "After quality control, 3209 patients and 3692 controls were included in the study. Eight markers (ie, rs1160542 (AFF3), rs1678542 (KIF5A), rs2476601 (PTPN22), rs3087243 (CTLA4), rs4810485 (CD40), rs5029937 (6q23), rs10760130 (TRAF1/C5) and rs7574865 (STAT4)) were significantly associated with RA by meta-analysis\n",
      "Recent genome-wide association studies (GWAS) on RA identified known and novel susceptibility genes like HLA-DRB1, PTPN22, STAT4, TRAF1/C5, OLIG3/TNFAIP3, CD40, CCL21, MMEL1-TNFRSF14, CDK6, PRKCQ, IL2RB, and KIF5A-PIP4K2C\n",
      "In the total RA inception cohort, the HLA-DRB1 shared epitope (per-allele odds ratio (OR) = 2.1, trend P < 0.0001), PTPN22 (per-allele OR = 1.5, trend P < 0.0001), OLIG3/TNFAIP3 locus (per-allele OR = 1.2, trend P = 0.009) and TRAF1/C5 locus (per-allele OR = 1.1, trend P = 0.04) were associated with RA\n",
      "This study investigated five confirmed rheumatoid arthritis (RA) susceptibility genes/loci (HLA-DRB1, PTPN22, STAT4, OLIG3/TNFAIP3 and TRAF1/C5) for association with susceptibility and severity in an inception cohort\n",
      "Progress has been made in determining the relative contributions and the interaction of the shared epitope, PTPN22 and smoking in conferring the risk of anticitrullinated protein antibodies-positive and negative RA\n",
      "Homozygous and heterozygous carriers of the PTPN22 1858T allele had a decreased probability of remission\n",
      "Our analyses have confirmed previous findings for genes PTPN22 and C5\n",
      "Fifty-five percent of the FDRs had > or =1 copy of the shared epitope, 20% had > or =1 copy of the PTPN22 polymorphism, and approximately 16% were positive for rheumatoid factor (RF; including isotypes) and/or anti-cyclic citrullinated peptide antibody\n",
      "As an effect several new genes have been recognized as an HLA-independent genetic risk factors of RA. PTPN22 gene polymorphism, C5/TRAF1 genes region polymorphism and TNFAIP3-OLIG3 genes region polymorphism(s) are among newly identified and already confirmed genetic risk factors, whereas STAT 4, CTLA4, PADI4 and IRF5 genes polymorphisms are listed among probable RA development genetic risk factors\n",
      "After initial completion of the Human Genome Project on the 16th February 2001, significant progress has been made in identifying other than HLA genome regions linked to the increased RA susceptibility. As an effect several new genes have been recognized as an HLA-independent genetic risk factors of RA. PTPN22 gene polymorphism, C5/TRAF1 genes region polymorphism and TNFAIP3-OLIG3 genes region polymorphism(s) are among newly identified and already confirmed genetic risk factors\n",
      "Patients were analysed for anti-MCV and anti-cyclic citrullinated peptide (CCP), and were genotyped for human leukocyte antigen (HLA)-DRB1 \"shared epitope\" (SE) and protein tyrosine phosphatase, non-receptor type 22 (PTPN22) 1858T\n",
      "As well as the major susceptibility gene HLA-DRB1, recent genome-wide and candidate-gene studies reported additional evidence for association of single nucleotide polymorphism (SNP) markers in the PTPN22, STAT4, OLIG3/TNFAIP3 and TRAF1/C5 loci with RA.\n",
      "However, we were able to replicate the association signals between RA and HLA-DRB1 alleles, STAT4 (rs7574865), PTPN22 (rs2476601) and OLIG3/TNFAIP3 (rs10499194 and rs6920220)\n",
      "Additionally, SNPs rs7574865STAT4 (P = 9.2*10-6; OR = 1.71, 95% CI = 1.35 - 2.18) and rs2476601PTPN22 (P = 9.5*10-4; OR = 1.67, 95% CI = 1.23 - 2.26) were associated with susceptibility to RA, whereas after permutation testing OLIG3/TNFAIP3 SNPs rs10499194 and rs6920220 missed our criteria for significance (Pcorr = 0.114 and Pcorr = 0.180, respectively\n",
      "In our Slovak population, HLA-DRB1 alleles as well as SNPs in STAT4 and PTPN22 genes showed a strong association with RA\n",
      "Recent advances have led to novel identification of genetic polymorphisms that are associated with susceptibility to rheumatoid arthritis (RA). Currently, 5 loci (HLA, PTPN22, TRAF1/C5, TNFAIP3, and STAT4) have been consistently reported, whereas others have been observed less systematically\n",
      "Genetic markers such as shared epitope alleles and PTPN22 1858T variant increase the relative risk for disease development\n",
      "Particularly, ACPAs in combination with human leukocyte antigen-shared epitope alleles and PTPN22 1858T carriage increased the relative risks of developing RA compared with not having these factors\n",
      "However, inconsistent results of the contributions of non-HLA susceptibility genes have been described, with the exception of a few genes repeatedly associated with RA-susceptibility, such as PTPN22 gene in populations of European ancestry and PADI4 gene in populations of Asian ancestry, revealing the presence of genetic heterogeneity in RA.\n",
      "Functional polymorphisms of PTPN22 and FcgR genes in Tunisian patients with rheumatoid arthritis\n",
      "We found strong evidence of an association of PTPN22 620W allele and RA\n",
      "In conclusion, we have confirmed that PTPN22 620W allele is associated with Tunisian RA but does not constitute a factor influencing clinical manifestations.\n",
      "The C1858T allele of the PTPN22 gene has been reported to confer risk for RA\n",
      "Similarly, the presence or absence of the HLA-DRB1 shared epitope or the RA-associated PTPN22 allele had no influence on this association\n",
      "Although some genetic risk factors for RA are well-established, most notably HLA-DRB1 and PTPN22, these markers do not fully account for the observed heritability\n",
      "Lastly, in combination with the other two known genetic risk factors, HLA-DRB1 and PTPN22, the variants reported here generate more than a 45-fold RA-risk differential\n",
      "Contribution of PTPN22 1858T, TNFRII 196R and HLA-shared epitope alleles with rheumatoid factor and anti-citrullinated protein antibodies to very early rheumatoid arthritis diagnosis\n",
      "PTPN22 1858T, TNFRII 196R and HLA-SE alleles do not improve the predictive value of RF and ACPA for RA diagnosis in our cohort, and do not contribute to an earlier diagnosis in undifferentiated patients initially negative for RF and ACPA\n",
      "\n",
      "label: 1\n",
      "\n",
      "**question: Is MammaPrint cleared by the United States Food and Drug Administration? \n",
      "\n",
      "snippets: \n",
      "Real-time RT-PCR confirmed the 5-gene prognostic signature that was distinct from an FDA-cleared 70-gene signature of MammaPrint panel and from the Oncotype DX recurrence score assay panel.\n",
      "\n",
      "label: 1\n",
      "\n"
     ]
    }
   ],
   "source": [
    "for i in range(3):\n",
    "    sample = train_df.iloc[i]\n",
    "    print(f\"**question: {sample['question']}\", end='\\n\\n')\n",
    "    print(f\"snippets: \\n{sample['snippets']}\", end='\\n\\n')\n",
    "#    print(f\"num of documents: \\n{len(sample['documents'])}\", end='\\n\\n')\n",
    "    print(f\"label: {sample['labels']}\", end='\\n\\n')"
   ]
  },
  {
   "cell_type": "markdown",
   "id": "9aeb6007-c1b3-4da1-9883-1592432c83c4",
   "metadata": {
    "tags": []
   },
   "source": [
    "## 2.5. Class distribution.\n",
    "- Highly uneven: 'yes' (0.74) vs 'no' (0.26).\n",
    "- This would obviously make training hard.\n",
    "- Should consider **class-balanced sampling**, **data augmentation**, **loss with class weights**, etc."
   ]
  },
  {
   "cell_type": "code",
   "execution_count": 13,
   "id": "0f7f6e2b-13c3-4a7c-bcef-7d77d5c1b04a",
   "metadata": {
    "tags": []
   },
   "outputs": [
    {
     "data": {
      "text/plain": [
       "(array([0, 1]), [Text(0, 0, '1'), Text(1, 0, '0')])"
      ]
     },
     "execution_count": 13,
     "metadata": {},
     "output_type": "execute_result"
    },
    {
     "data": {
      "image/png": "[encoded data removed]",
      "text/plain": [
       "<Figure size 640x480 with 1 Axes>"
      ]
     },
     "metadata": {},
     "output_type": "display_data"
    }
   ],
   "source": [
    "label_proportions = train_df['labels'].value_counts(normalize=True)\n",
    "label_proportions.plot(kind='bar', legend=False)\n",
    "plt.xticks(rotation=0)"
   ]
  },
  {
   "cell_type": "markdown",
   "id": "2b42591b-683d-4fa2-b3f5-50293cc85772",
   "metadata": {
    "jp-MarkdownHeadingCollapsed": true
   },
   "source": [
    "## 2.6. Convert back to ds."
   ]
  },
  {
   "cell_type": "code",
   "execution_count": 50,
   "id": "364b9481-98bd-4ab5-b6c6-b74897557724",
   "metadata": {
    "collapsed": true,
    "jupyter": {
     "outputs_hidden": true
    },
    "tags": []
   },
   "outputs": [],
   "source": [
    "from datasets import Dataset\n",
    "train_ds = Dataset.from_pandas(train_df)"
   ]
  },
  {
   "cell_type": "markdown",
   "id": "0c8c53d7-a54e-4c72-b10d-cbba2e4bf56f",
   "metadata": {
    "tags": []
   },
   "source": [
    "# 3. Non-RAG.\n",
    "- No snippets or documents.\n",
    "- Let's check what pretrained non-RAG LLMs can do."
   ]
  },
  {
   "cell_type": "markdown",
   "id": "ca8c52bf-b340-40c4-ac67-964e51f3de58",
   "metadata": {
    "tags": []
   },
   "source": [
    "## 3.1. Data Preparation."
   ]
  },
  {
   "cell_type": "code",
   "execution_count": 71,
   "id": "7183228d-7c3d-426e-8a14-2cc73b4865da",
   "metadata": {
    "tags": []
   },
   "outputs": [
    {
     "data": {
      "text/plain": [
       "Dataset({\n",
       "    features: ['question', 'labels'],\n",
       "    num_rows: 1085\n",
       "})"
      ]
     },
     "execution_count": 71,
     "metadata": {},
     "output_type": "execute_result"
    }
   ],
   "source": [
    "cols_query     = ['question', 'labels']\n",
    "train_ds_query = train_ds.select_columns(cols_query)\n",
    "valid_ds_query = valid_ds.select_columns(cols_query)\n",
    "\n",
    "train_ds_query"
   ]
  },
  {
   "cell_type": "markdown",
   "id": "64db6404-5efb-4e76-9510-e4c901323897",
   "metadata": {
    "tags": []
   },
   "source": [
    "## 3.2. No Fine-Tuning.\n",
    "- **Accuracy**: 0.44.\n",
    "- Very low, because we should train a classification head, plus it is highly domain-specific, so the model was rarely seen these data during training."
   ]
  },
  {
   "cell_type": "code",
   "execution_count": 51,
   "id": "4b9ff242-6cab-4468-b88c-d5ca4b993d9b",
   "metadata": {
    "tags": []
   },
   "outputs": [
    {
     "name": "stderr",
     "output_type": "stream",
     "text": [
      "Some weights of BertForSequenceClassification were not initialized from the model checkpoint at dmis-lab/biobert-base-cased-v1.2 and are newly initialized: ['classifier.bias', 'classifier.weight']\n",
      "You should probably TRAIN this model on a down-stream task to be able to use it for predictions and inference.\n",
      "Device set to use cuda:0\n"
     ]
    },
    {
     "name": "stdout",
     "output_type": "stream",
     "text": [
      "Accuracy: 0.74\n"
     ]
    }
   ],
   "source": [
    "import evaluate\n",
    "from transformers import pipeline\n",
    "\n",
    "# Model.\n",
    "classifier      = pipeline(\"text-classification\", model=\"dmis-lab/biobert-base-cased-v1.2\")\n",
    "\n",
    "# Metrics.\n",
    "metric_accuracy = evaluate.load(\"accuracy\")\n",
    "\n",
    "# Predict, on train set.\n",
    "predictions      = classifier(train_ds_query['question'])\n",
    "y_pred           = [int(pred['label'].split('_')[-1]) for pred in predictions]     # convert to label.\n",
    "\n",
    "# Compute accuracy.\n",
    "accuracy = metric_accuracy.compute(predictions = y_pred, \n",
    "                                   references  = train_ds_query['labels'])\n",
    "\n",
    "# Print.\n",
    "print(f\"Accuracy: {accuracy['accuracy']:.2f}\")"
   ]
  },
  {
   "cell_type": "markdown",
   "id": "4e353c07-d59d-4960-a3c9-b86f068b8afb",
   "metadata": {
    "tags": [],
    "toc-hr-collapsed": true
   },
   "source": [
    "## 3.3. Query-Only."
   ]
  },
  {
   "cell_type": "markdown",
   "id": "9f8aef04-f65e-43c4-878e-0aca7b1f10e2",
   "metadata": {
    "tags": []
   },
   "source": [
    "### 3.3.1. Model and Tokenizer."
   ]
  },
  {
   "cell_type": "code",
   "execution_count": 72,
   "id": "1dd46f0b-2d73-4075-bb05-e594b6caf37a",
   "metadata": {
    "tags": []
   },
   "outputs": [
    {
     "name": "stderr",
     "output_type": "stream",
     "text": [
      "Some weights of DistilBertForSequenceClassification were not initialized from the model checkpoint at distilbert-base-uncased and are newly initialized: ['classifier.bias', 'classifier.weight', 'pre_classifier.bias', 'pre_classifier.weight']\n",
      "You should probably TRAIN this model on a down-stream task to be able to use it for predictions and inference.\n"
     ]
    },
    {
     "data": {
      "application/vnd.jupyter.widget-view+json": {
       "model_id": "10aacf4910eb4cacb8e408d3a7a056b8",
       "version_major": 2,
       "version_minor": 0
      },
      "text/plain": [
       "Map:   0%|          | 0/1085 [00:00<?, ? examples/s]"
      ]
     },
     "metadata": {},
     "output_type": "display_data"
    },
    {
     "data": {
      "application/vnd.jupyter.widget-view+json": {
       "model_id": "eed06e7de6424b219aac7b19ae718a0d",
       "version_major": 2,
       "version_minor": 0
      },
      "text/plain": [
       "Map:   0%|          | 0/272 [00:00<?, ? examples/s]"
      ]
     },
     "metadata": {},
     "output_type": "display_data"
    }
   ],
   "source": [
    "# Model and Tokenizer.\n",
    "checkpoint = 'distilbert-base-uncased'\n",
    "\n",
    "# Use PubMedBERT instead.\n",
    "#checkpoint = \"dmis-lab/biobert-base-cased-v1.2\"\n",
    "\n",
    "from transformers import AutoTokenizer, AutoModelForSequenceClassification\n",
    "\n",
    "tokenizer_query   = AutoTokenizer.from_pretrained(checkpoint)\n",
    "model_query       = AutoModelForSequenceClassification.from_pretrained(checkpoint, num_labels=2)\n",
    "\n",
    "# Tokenize.\n",
    "def tokenize_query(x):\n",
    "    return tokenizer_query(x['question'],\n",
    "                           truncation=True,\n",
    "                           max_length=512,)\n",
    "\n",
    "train_ds_query = train_ds_query.map(tokenize_query, batched=True, remove_columns=['question'])\n",
    "valid_ds_query = valid_ds_query.map(tokenize_query, batched=True, remove_columns=['question'])"
   ]
  },
  {
   "cell_type": "markdown",
   "id": "4261b649-c77a-4d51-972f-6057b3dfd53d",
   "metadata": {
    "tags": []
   },
   "source": [
    "### 3.3.2. Train."
   ]
  },
  {
   "cell_type": "code",
   "execution_count": 73,
   "id": "af48d60e-c322-431d-ae60-c26eda21b7f0",
   "metadata": {
    "tags": []
   },
   "outputs": [
    {
     "data": {
      "text/html": [
       "\n",
       "    <div>\n",
       "      \n",
       "      <progress value='136' max='136' style='width:300px; height:20px; vertical-align: middle;'></progress>\n",
       "      [136/136 00:06, Epoch 1/1]\n",
       "    </div>\n",
       "    <table border=\"1\" class=\"dataframe\">\n",
       "  <thead>\n",
       " <tr style=\"text-align: left;\">\n",
       "      <th>Epoch</th>\n",
       "      <th>Training Loss</th>\n",
       "      <th>Validation Loss</th>\n",
       "      <th>Accuracy</th>\n",
       "      <th>F1 Yes</th>\n",
       "      <th>F1 No</th>\n",
       "      <th>Macro F1</th>\n",
       "    </tr>\n",
       "  </thead>\n",
       "  <tbody>\n",
       "    <tr>\n",
       "      <td>1</td>\n",
       "      <td>No log</td>\n",
       "      <td>0.532982</td>\n",
       "      <td>0.738971</td>\n",
       "      <td>0.849894</td>\n",
       "      <td>0.000000</td>\n",
       "      <td>0.424947</td>\n",
       "    </tr>\n",
       "  </tbody>\n",
       "</table><p>"
      ],
      "text/plain": [
       "<IPython.core.display.HTML object>"
      ]
     },
     "metadata": {},
     "output_type": "display_data"
    },
    {
     "data": {
      "text/plain": [
       "TrainOutput(global_step=136, training_loss=0.5705066568711225, metrics={'train_runtime': 6.3574, 'train_samples_per_second': 170.667, 'train_steps_per_second': 21.392, 'total_flos': 7172385206136.0, 'train_loss': 0.5705066568711225, 'epoch': 1.0})"
      ]
     },
     "execution_count": 73,
     "metadata": {},
     "output_type": "execute_result"
    }
   ],
   "source": [
    "# Data collator, for dynamic padding.\n",
    "from transformers import DataCollatorWithPadding\n",
    "\n",
    "data_collator = DataCollatorWithPadding(tokenizer_query)\n",
    "\n",
    "# Training hyperparameters.\n",
    "from transformers import TrainingArguments, Trainer, EarlyStoppingCallback\n",
    "\n",
    "# Callbacks - Early stopping callback.\n",
    "early_stopping_callback = EarlyStoppingCallback(\n",
    "    early_stopping_patience  = 3,    \n",
    "    early_stopping_threshold = 1e-3\n",
    ")\n",
    "\n",
    "# Training arguments.\n",
    "training_args = TrainingArguments(\n",
    "    output_dir                  = \"./results\",\n",
    "    eval_strategy               = \"epoch\",\n",
    "    learning_rate               = 5e-5,\n",
    "    per_device_train_batch_size = 8,\n",
    "    num_train_epochs            = 1,                    \n",
    "    save_strategy               = \"epoch\",\n",
    "    logging_dir                 = \"./logs\",\n",
    "    load_best_model_at_end      = True\n",
    ")\n",
    "\n",
    "# Trainer.\n",
    "trainer = Trainer(\n",
    "    model             = model_query,\n",
    "    args              = training_args,\n",
    "    train_dataset     = train_ds_query,\n",
    "    eval_dataset      = valid_ds_query,\n",
    "    processing_class  = tokenizer_query,\n",
    "    data_collator     = data_collator,\n",
    "    callbacks         = [early_stopping_callback],\n",
    "    compute_metrics   = bioasq_libs.compute_metrics     # Custom metrics for accuracy and f1.\n",
    ")\n",
    "\n",
    "# Freeze body.\n",
    "#for param in model_query.base_model.parameters():\n",
    "#    param.requires_grad = False\n",
    "\n",
    "# Train.\n",
    "trainer.train()"
   ]
  },
  {
   "cell_type": "markdown",
   "id": "8502630e-b2e8-4319-8bda-4b52f11ff293",
   "metadata": {
    "tags": []
   },
   "source": [
    "### 3.3.3. Class-weighted Training."
   ]
  },
  {
   "cell_type": "markdown",
   "id": "ed976ba0-0e8e-403d-a1e5-473eaab46c70",
   "metadata": {},
   "source": [
    "#### 3.3.3.1. Class weights."
   ]
  },
  {
   "cell_type": "code",
   "execution_count": 67,
   "id": "2206ff8d-b5d2-41fb-953d-6ad8e7f9af34",
   "metadata": {
    "tags": []
   },
   "outputs": [
    {
     "name": "stdout",
     "output_type": "stream",
     "text": [
      "Class weights: tensor([0.0035, 0.0012], device='cuda:0')\n"
     ]
    }
   ],
   "source": [
    "from collections import Counter\n",
    "\n",
    "n_classes     = 2\n",
    "class_counts  = Counter(train_ds_query[\"labels\"])\n",
    "class_weights = {cls: 1.0 / count for cls, count in class_counts.items()}\n",
    "class_weights = torch.tensor([class_weights[i] for i in range(n_classes)], device=device)\n",
    "\n",
    "print(f\"Class weights: {class_weights}\")"
   ]
  },
  {
   "cell_type": "markdown",
   "id": "675f801b-d401-4dfd-8a5a-55a181a4f8ec",
   "metadata": {},
   "source": [
    "> #### Note) Raw Value for Class Weights.  \n",
    "> Avoid normalizing class weights to 0. Raw values typically work better with loss."
   ]
  },
  {
   "cell_type": "markdown",
   "id": "0ab4bfff-a98b-486a-a16e-204b15826589",
   "metadata": {},
   "source": [
    "#### 3.3.3.2. Train."
   ]
  },
  {
   "cell_type": "code",
   "execution_count": 68,
   "id": "1b6e1936-50ac-4336-9c89-b5ee3e93f650",
   "metadata": {
    "tags": []
   },
   "outputs": [
    {
     "name": "stderr",
     "output_type": "stream",
     "text": [
      "Some weights of BertForSequenceClassification were not initialized from the model checkpoint at dmis-lab/biobert-base-cased-v1.2 and are newly initialized: ['classifier.bias', 'classifier.weight']\n",
      "You should probably TRAIN this model on a down-stream task to be able to use it for predictions and inference.\n"
     ]
    },
    {
     "data": {
      "text/html": [
       "\n",
       "    <div>\n",
       "      \n",
       "      <progress value='136' max='136' style='width:300px; height:20px; vertical-align: middle;'></progress>\n",
       "      [136/136 00:10, Epoch 1/1]\n",
       "    </div>\n",
       "    <table border=\"1\" class=\"dataframe\">\n",
       "  <thead>\n",
       " <tr style=\"text-align: left;\">\n",
       "      <th>Epoch</th>\n",
       "      <th>Training Loss</th>\n",
       "      <th>Validation Loss</th>\n",
       "      <th>Accuracy</th>\n",
       "      <th>F1 Yes</th>\n",
       "      <th>F1 No</th>\n",
       "      <th>Macro F1</th>\n",
       "    </tr>\n",
       "  </thead>\n",
       "  <tbody>\n",
       "    <tr>\n",
       "      <td>1</td>\n",
       "      <td>No log</td>\n",
       "      <td>0.610605</td>\n",
       "      <td>0.691176</td>\n",
       "      <td>0.778947</td>\n",
       "      <td>0.487805</td>\n",
       "      <td>0.633376</td>\n",
       "    </tr>\n",
       "  </tbody>\n",
       "</table><p>"
      ],
      "text/plain": [
       "<IPython.core.display.HTML object>"
      ]
     },
     "metadata": {},
     "output_type": "display_data"
    },
    {
     "name": "stdout",
     "output_type": "stream",
     "text": [
      "# 2025.01.10.\n",
      "<Hyperparameters>\n",
      "- Model        : dmis-lab/biobert-base-cased-v1.2\n",
      "- Learning Rate: 5e-05\n",
      "- Batch Size   : 8\n",
      "- Epochs       : 1\n",
      "\n",
      "<Results>\n",
      "- Accuracy     : 0.6912\n",
      "- F1-yes       : 0.7789\n",
      "- F1-no        : 0.4878\n",
      "- Macro-F1     : 0.6334\n",
      "- Train Loss   : 0.6762\n",
      "- Validation Loss: 0.6106\n",
      "\n",
      "<Training Time>\n",
      "- Total Time   : 10.07 seconds\n",
      "- Time per Epoch: 10.07 seconds\n",
      "- Time per Step : 0.074 seconds\n",
      "\n"
     ]
    }
   ],
   "source": [
    "# Reload the model.\n",
    "model_query = AutoModelForSequenceClassification.from_pretrained(checkpoint, num_labels=2)\n",
    "\n",
    "# Data collator, for dynamic padding.\n",
    "from transformers import DataCollatorWithPadding\n",
    "\n",
    "data_collator = DataCollatorWithPadding(tokenizer_query)\n",
    "\n",
    "# TrainingArguments.\n",
    "from transformers import TrainingArguments, Trainer, EarlyStoppingCallback\n",
    "\n",
    "training_args = TrainingArguments(\n",
    "    output_dir                  = \"./results\",\n",
    "    eval_strategy               = \"epoch\",\n",
    "    learning_rate               = 5e-5,\n",
    "    per_device_train_batch_size = 8,\n",
    "    num_train_epochs            = 1,           # for test.\n",
    "    save_strategy               = \"epoch\",\n",
    "    logging_dir                 = \"./logs\",\n",
    ")\n",
    "\n",
    "# Custom trainer for class weights.\n",
    "class WeightedTrainer(Trainer):\n",
    "    def compute_loss(self, model, inputs, return_outputs=False, **kwargs):\n",
    "        global class_weights    # Do NOT calculate in here, it will calculate in a batch.\n",
    "        \n",
    "        labels        = inputs.get(\"labels\")\n",
    "        num_classes   = self.model.config.num_labels  # Total number of classes.\n",
    "        device        = labels.device\n",
    "\n",
    "        # Compute the loss.\n",
    "        outputs  = model(**inputs)\n",
    "        logits   = outputs.get(\"logits\")\n",
    "        loss_fct = nn.CrossEntropyLoss(weight=class_weights)\n",
    "        loss     = loss_fct(logits.view(-1, num_classes), labels.view(-1))\n",
    "        return (loss, outputs) if return_outputs else loss\n",
    "    \n",
    "trainer_class = WeightedTrainer(\n",
    "    model             = model_query,\n",
    "    args              = training_args,\n",
    "    train_dataset     = train_ds_query,\n",
    "    eval_dataset      = valid_ds_query,\n",
    "    processing_class  = tokenizer_query,\n",
    "    data_collator     = data_collator,\n",
    "    compute_metrics   = bioasq_libs.compute_metrics  # Custom metrics.\n",
    ")\n",
    "\n",
    "# Train.\n",
    "trainer_class.train(resume_from_checkpoint=None)\n",
    "\n",
    "# Print and log results.\n",
    "bioasq_libs.print_and_log_results(trainer_class)"
   ]
  },
  {
   "cell_type": "markdown",
   "id": "c838c59c-0ecd-4aa3-a808-b806b79c8f55",
   "metadata": {},
   "source": [
    "> #### Note) Override Method in Custom Trainer.\n",
    "> Methods like `def compute_loss` only applies on 1 batch.  \n",
    "> You should be very careful not to calculate what should be done outside.  \n",
    "> e.g. Calculating `class_weights` inside will prevent normal training, but **it could be hard to find this reason!**"
   ]
  },
  {
   "cell_type": "markdown",
   "id": "8a92f325-fa29-4435-9e9b-a5213bee8469",
   "metadata": {
    "tags": [],
    "toc-hr-collapsed": true
   },
   "source": [
    "# 4. Training Optimization.\n",
    "- Before we move on to real fine-tuning with real LLMs, we should optimize the training procedure. (~~unless you have x10 4090s~~)\n",
    "- **Optuna**: Hyperparameter tuning.\n",
    "- **QLoRA**: 8-bits quantization and PEFT using LoRA."
   ]
  },
  {
   "cell_type": "markdown",
   "id": "589fce4d-7114-4b97-b5d0-1efaba408b63",
   "metadata": {
    "tags": [],
    "toc-hr-collapsed": true
   },
   "source": [
    "## 4.1. 8-bits Quantization."
   ]
  },
  {
   "cell_type": "code",
   "execution_count": 76,
   "id": "beee8f52-780c-4f3d-bcc7-f14ce553480d",
   "metadata": {
    "tags": []
   },
   "outputs": [
    {
     "name": "stderr",
     "output_type": "stream",
     "text": [
      "Unused kwargs: ['llm_int4_threshold', 'low_cpu_mem_usage']. These kwargs are not used in <class 'transformers.utils.quantization_config.BitsAndBytesConfig'>.\n",
      "`low_cpu_mem_usage` was None, now default to True since model is quantized.\n",
      "Some weights of DistilBertForSequenceClassification were not initialized from the model checkpoint at distilbert-base-uncased and are newly initialized: ['classifier.bias', 'classifier.weight', 'pre_classifier.bias', 'pre_classifier.weight']\n",
      "You should probably TRAIN this model on a down-stream task to be able to use it for predictions and inference.\n"
     ]
    }
   ],
   "source": [
    "from transformers import BitsAndBytesConfig\n",
    "from peft import prepare_model_for_kbit_training\n",
    "\n",
    "skip_modules = [\"classifier\", \"pre_classifier\"]    # This modules are not quantized. Need to check with different pretrained LLMs.\n",
    "\n",
    "quantization_config = BitsAndBytesConfig(\n",
    "    load_in_4bit            = True,                # Quantize into 4-bits.                  \n",
    "    llm_int4_threshold      = 6.0,                 # Layers whose norm of weights <= 6.0 are not quantized. \n",
    "    bnb_4bit_compute_dtype  = torch.float16,       \n",
    "    low_cpu_mem_usage       = True,\n",
    "    llm_int8_skip_modules   = skip_modules         # Need to check with different pretrained LLMs.\n",
    ")\n",
    "\n",
    "model_query = AutoModelForSequenceClassification.from_pretrained(\n",
    "    checkpoint, \n",
    "    num_labels          = 2,\n",
    "    quantization_config = quantization_config,\n",
    ").to(device)\n",
    "\n",
    "model_query = prepare_model_for_kbit_training(model_query)     # prepare quantized model for training."
   ]
  },
  {
   "cell_type": "markdown",
   "id": "fd4bd375-311f-407c-a2c3-d328c78d6163",
   "metadata": {
    "tags": [],
    "toc-hr-collapsed": true
   },
   "source": [
    "> #### Note) `llm_int8_skip_modules   = [\"classifier\", \"pre_classifier\"]`.\n",
    "> Without this, error will occur with LoRA.  \n",
    "> RuntimeError: only Tensors of floating point dtype can require gradients.  \n",
    "> This error is related with library versions, which could be temporary.  \n",
    "> https://github.com/huggingface/peft/issues/1720"
   ]
  },
  {
   "cell_type": "markdown",
   "id": "cb8bc913-3c1f-4c24-a43c-77de4f8fd52b",
   "metadata": {
    "tags": []
   },
   "source": [
    "> #### Note) `device_map` in the `model()`.\n",
    "> Do NOT set `device_map` at inside of `model()` initialization.  \n",
    "> It will cause conflicts with Optuna, because it will not be string inside of init.  \n",
    "> Instead, use `model().to(device)`.  \n",
    "> TypeError: device() received an invalid combination of arguments - got (NoneType), but expected one of:\n",
    "> \\* (torch.device device)\n",
    ">      didn't match because some of the arguments have invalid types: (NoneType)\n",
    "> \\* (str type, int index = -1)"
   ]
  },
  {
   "cell_type": "markdown",
   "id": "372fda2c-c98a-4949-b074-cec08c0b353b",
   "metadata": {
    "tags": []
   },
   "source": [
    "> #### Note) Training of Quantized Model.\n",
    "> Quantized model is directly trainable, because training requires not-quantized calculations.  \n",
    "> But adapter-based PEFTs like LoRA makes it possible, cuz it adds additional layers in addition to existing layers!"
   ]
  },
  {
   "cell_type": "markdown",
   "id": "79e36e0c-f97a-4566-9a50-bb0dfbf4eea9",
   "metadata": {
    "tags": []
   },
   "source": [
    "## 4.2. LoRA."
   ]
  },
  {
   "cell_type": "markdown",
   "id": "6dfe9d1d-8982-4456-9383-f887f8831ea7",
   "metadata": {
    "tags": []
   },
   "source": [
    "### 4.2.1. Check model's target module."
   ]
  },
  {
   "cell_type": "code",
   "execution_count": 129,
   "id": "3cf19a19-f5ea-41ed-85f8-8e41eb3c9435",
   "metadata": {
    "collapsed": true,
    "jupyter": {
     "outputs_hidden": true
    },
    "tags": []
   },
   "outputs": [
    {
     "name": "stdout",
     "output_type": "stream",
     "text": [
      "Layer name: distilbert.transformer.layer.0.attention.q_lin\n",
      "Layer name: distilbert.transformer.layer.0.attention.k_lin\n",
      "Layer name: distilbert.transformer.layer.0.attention.v_lin\n",
      "Layer name: distilbert.transformer.layer.0.attention.out_lin\n",
      "Layer name: distilbert.transformer.layer.0.ffn.lin1\n",
      "Layer name: distilbert.transformer.layer.0.ffn.lin2\n",
      "Layer name: distilbert.transformer.layer.1.attention.q_lin\n",
      "Layer name: distilbert.transformer.layer.1.attention.k_lin\n",
      "Layer name: distilbert.transformer.layer.1.attention.v_lin\n",
      "Layer name: distilbert.transformer.layer.1.attention.out_lin\n",
      "Layer name: distilbert.transformer.layer.1.ffn.lin1\n",
      "Layer name: distilbert.transformer.layer.1.ffn.lin2\n",
      "Layer name: distilbert.transformer.layer.2.attention.q_lin\n",
      "Layer name: distilbert.transformer.layer.2.attention.k_lin\n",
      "Layer name: distilbert.transformer.layer.2.attention.v_lin\n",
      "Layer name: distilbert.transformer.layer.2.attention.out_lin\n",
      "Layer name: distilbert.transformer.layer.2.ffn.lin1\n",
      "Layer name: distilbert.transformer.layer.2.ffn.lin2\n",
      "Layer name: distilbert.transformer.layer.3.attention.q_lin\n",
      "Layer name: distilbert.transformer.layer.3.attention.k_lin\n",
      "Layer name: distilbert.transformer.layer.3.attention.v_lin\n",
      "Layer name: distilbert.transformer.layer.3.attention.out_lin\n",
      "Layer name: distilbert.transformer.layer.3.ffn.lin1\n",
      "Layer name: distilbert.transformer.layer.3.ffn.lin2\n",
      "Layer name: distilbert.transformer.layer.4.attention.q_lin\n",
      "Layer name: distilbert.transformer.layer.4.attention.k_lin\n",
      "Layer name: distilbert.transformer.layer.4.attention.v_lin\n",
      "Layer name: distilbert.transformer.layer.4.attention.out_lin\n",
      "Layer name: distilbert.transformer.layer.4.ffn.lin1\n",
      "Layer name: distilbert.transformer.layer.4.ffn.lin2\n",
      "Layer name: distilbert.transformer.layer.5.attention.q_lin\n",
      "Layer name: distilbert.transformer.layer.5.attention.k_lin\n",
      "Layer name: distilbert.transformer.layer.5.attention.v_lin\n",
      "Layer name: distilbert.transformer.layer.5.attention.out_lin\n",
      "Layer name: distilbert.transformer.layer.5.ffn.lin1\n",
      "Layer name: distilbert.transformer.layer.5.ffn.lin2\n",
      "Layer name: pre_classifier\n",
      "Layer name: classifier\n"
     ]
    }
   ],
   "source": [
    "for name, module in model.named_modules():\n",
    "    if isinstance(module, torch.nn.Linear):\n",
    "        print(f\"Layer name: {name}\")"
   ]
  },
  {
   "cell_type": "markdown",
   "id": "53215430-d209-43af-a147-21615719137f",
   "metadata": {
    "tags": []
   },
   "source": [
    "### 4.2.2. LoRA configuration."
   ]
  },
  {
   "cell_type": "code",
   "execution_count": 77,
   "id": "3efec040-faf6-422f-aa89-5a148af431fc",
   "metadata": {
    "collapsed": true,
    "jupyter": {
     "outputs_hidden": true
    },
    "tags": []
   },
   "outputs": [
    {
     "ename": "TypeError",
     "evalue": "modules_to_save cannot be applied to modules of type <class 'peft.tuners.lora.layer.Linear'>",
     "output_type": "error",
     "traceback": [
      "\u001b[1;31m---------------------------------------------------------------------------\u001b[0m",
      "\u001b[1;31mTypeError\u001b[0m                                 Traceback (most recent call last)",
      "Cell \u001b[1;32mIn[77], line 12\u001b[0m\n\u001b[0;32m      3\u001b[0m lora_config \u001b[38;5;241m=\u001b[39m LoraConfig(\n\u001b[0;32m      4\u001b[0m     r              \u001b[38;5;241m=\u001b[39m \u001b[38;5;241m8\u001b[39m,                     \u001b[38;5;66;03m# Rank of the low-rank decomposition.\u001b[39;00m\n\u001b[0;32m      5\u001b[0m     lora_alpha     \u001b[38;5;241m=\u001b[39m \u001b[38;5;241m32\u001b[39m,                    \u001b[38;5;66;03m# Scaling factor.\u001b[39;00m\n\u001b[1;32m   (...)\u001b[0m\n\u001b[0;32m      8\u001b[0m     task_type      \u001b[38;5;241m=\u001b[39m \u001b[38;5;124m\"\u001b[39m\u001b[38;5;124mSEQ_CLS\u001b[39m\u001b[38;5;124m\"\u001b[39m,             \u001b[38;5;66;03m# Task type = sequential clf.\u001b[39;00m\n\u001b[0;32m      9\u001b[0m     init_lora_weights\u001b[38;5;241m=\u001b[39m\u001b[38;5;124m\"\u001b[39m\u001b[38;5;124molora\u001b[39m\u001b[38;5;124m\"\u001b[39m)\n\u001b[0;32m     11\u001b[0m \u001b[38;5;66;03m# Prepare model with LoRA adapters.\u001b[39;00m\n\u001b[1;32m---> 12\u001b[0m model_query \u001b[38;5;241m=\u001b[39m \u001b[43mget_peft_model\u001b[49m\u001b[43m(\u001b[49m\u001b[43mmodel_query\u001b[49m\u001b[43m,\u001b[49m\u001b[43m \u001b[49m\u001b[43mlora_config\u001b[49m\u001b[43m)\u001b[49m\n",
      "File \u001b[1;32m~\\anaconda3\\envs\\nlp_prac\\lib\\site-packages\\peft\\mapping.py:222\u001b[0m, in \u001b[0;36mget_peft_model\u001b[1;34m(model, peft_config, adapter_name, mixed, autocast_adapter_dtype, revision, low_cpu_mem_usage)\u001b[0m\n\u001b[0;32m    220\u001b[0m \u001b[38;5;28;01mif\u001b[39;00m peft_config\u001b[38;5;241m.\u001b[39mis_prompt_learning:\n\u001b[0;32m    221\u001b[0m     peft_config \u001b[38;5;241m=\u001b[39m _prepare_prompt_learning_config(peft_config, model_config)\n\u001b[1;32m--> 222\u001b[0m \u001b[38;5;28;01mreturn\u001b[39;00m \u001b[43mMODEL_TYPE_TO_PEFT_MODEL_MAPPING\u001b[49m\u001b[43m[\u001b[49m\u001b[43mpeft_config\u001b[49m\u001b[38;5;241;43m.\u001b[39;49m\u001b[43mtask_type\u001b[49m\u001b[43m]\u001b[49m\u001b[43m(\u001b[49m\n\u001b[0;32m    223\u001b[0m \u001b[43m    \u001b[49m\u001b[43mmodel\u001b[49m\u001b[43m,\u001b[49m\n\u001b[0;32m    224\u001b[0m \u001b[43m    \u001b[49m\u001b[43mpeft_config\u001b[49m\u001b[43m,\u001b[49m\n\u001b[0;32m    225\u001b[0m \u001b[43m    \u001b[49m\u001b[43madapter_name\u001b[49m\u001b[38;5;241;43m=\u001b[39;49m\u001b[43madapter_name\u001b[49m\u001b[43m,\u001b[49m\n\u001b[0;32m    226\u001b[0m \u001b[43m    \u001b[49m\u001b[43mautocast_adapter_dtype\u001b[49m\u001b[38;5;241;43m=\u001b[39;49m\u001b[43mautocast_adapter_dtype\u001b[49m\u001b[43m,\u001b[49m\n\u001b[0;32m    227\u001b[0m \u001b[43m    \u001b[49m\u001b[43mlow_cpu_mem_usage\u001b[49m\u001b[38;5;241;43m=\u001b[39;49m\u001b[43mlow_cpu_mem_usage\u001b[49m\u001b[43m,\u001b[49m\n\u001b[0;32m    228\u001b[0m \u001b[43m\u001b[49m\u001b[43m)\u001b[49m\n",
      "File \u001b[1;32m~\\anaconda3\\envs\\nlp_prac\\lib\\site-packages\\peft\\peft_model.py:1469\u001b[0m, in \u001b[0;36mPeftModelForSequenceClassification.__init__\u001b[1;34m(self, model, peft_config, adapter_name, **kwargs)\u001b[0m\n\u001b[0;32m   1466\u001b[0m         \u001b[38;5;28;01mbreak\u001b[39;00m\n\u001b[0;32m   1468\u001b[0m \u001b[38;5;66;03m# to make sure classifier layer is trainable; this may add a new ModulesToSaveWrapper\u001b[39;00m\n\u001b[1;32m-> 1469\u001b[0m \u001b[43m_set_trainable\u001b[49m\u001b[43m(\u001b[49m\u001b[38;5;28;43mself\u001b[39;49m\u001b[43m,\u001b[49m\u001b[43m \u001b[49m\u001b[43madapter_name\u001b[49m\u001b[43m)\u001b[49m\n",
      "File \u001b[1;32m~\\anaconda3\\envs\\nlp_prac\\lib\\site-packages\\peft\\utils\\other.py:428\u001b[0m, in \u001b[0;36m_set_trainable\u001b[1;34m(model, adapter_name)\u001b[0m\n\u001b[0;32m    426\u001b[0m     target\u001b[38;5;241m.\u001b[39mset_adapter(target\u001b[38;5;241m.\u001b[39mactive_adapter)\n\u001b[0;32m    427\u001b[0m \u001b[38;5;28;01melse\u001b[39;00m:\n\u001b[1;32m--> 428\u001b[0m     new_module \u001b[38;5;241m=\u001b[39m \u001b[43mModulesToSaveWrapper\u001b[49m\u001b[43m(\u001b[49m\u001b[43mtarget\u001b[49m\u001b[43m,\u001b[49m\u001b[43m \u001b[49m\u001b[43madapter_name\u001b[49m\u001b[43m)\u001b[49m\n\u001b[0;32m    429\u001b[0m     new_module\u001b[38;5;241m.\u001b[39mset_adapter(adapter_name)\n\u001b[0;32m    430\u001b[0m     \u001b[38;5;28msetattr\u001b[39m(parent, target_name, new_module)\n",
      "File \u001b[1;32m~\\anaconda3\\envs\\nlp_prac\\lib\\site-packages\\peft\\utils\\other.py:213\u001b[0m, in \u001b[0;36mModulesToSaveWrapper.__init__\u001b[1;34m(self, module_to_save, adapter_name)\u001b[0m\n\u001b[0;32m    211\u001b[0m \u001b[38;5;28mself\u001b[39m\u001b[38;5;241m.\u001b[39m_disable_adapters \u001b[38;5;241m=\u001b[39m \u001b[38;5;28;01mFalse\u001b[39;00m\n\u001b[0;32m    212\u001b[0m \u001b[38;5;28mself\u001b[39m\u001b[38;5;241m.\u001b[39mupdate(adapter_name)\n\u001b[1;32m--> 213\u001b[0m \u001b[38;5;28;43mself\u001b[39;49m\u001b[38;5;241;43m.\u001b[39;49m\u001b[43mcheck_module\u001b[49m\u001b[43m(\u001b[49m\u001b[43m)\u001b[49m\n",
      "File \u001b[1;32m~\\anaconda3\\envs\\nlp_prac\\lib\\site-packages\\peft\\utils\\other.py:231\u001b[0m, in \u001b[0;36mModulesToSaveWrapper.check_module\u001b[1;34m(self)\u001b[0m\n\u001b[0;32m    228\u001b[0m \u001b[38;5;28;01mif\u001b[39;00m \u001b[38;5;28misinstance\u001b[39m(\u001b[38;5;28mself\u001b[39m\u001b[38;5;241m.\u001b[39moriginal_module, BaseTunerLayer):\n\u001b[0;32m    229\u001b[0m     \u001b[38;5;66;03m# e.g. applying modules_to_save to a lora layer makes no sense\u001b[39;00m\n\u001b[0;32m    230\u001b[0m     cls_name \u001b[38;5;241m=\u001b[39m \u001b[38;5;28mself\u001b[39m\u001b[38;5;241m.\u001b[39moriginal_module\u001b[38;5;241m.\u001b[39m\u001b[38;5;18m__class__\u001b[39m\n\u001b[1;32m--> 231\u001b[0m     \u001b[38;5;28;01mraise\u001b[39;00m \u001b[38;5;167;01mTypeError\u001b[39;00m(\u001b[38;5;124mf\u001b[39m\u001b[38;5;124m\"\u001b[39m\u001b[38;5;124mmodules_to_save cannot be applied to modules of type \u001b[39m\u001b[38;5;132;01m{\u001b[39;00mcls_name\u001b[38;5;132;01m}\u001b[39;00m\u001b[38;5;124m\"\u001b[39m)\n",
      "\u001b[1;31mTypeError\u001b[0m: modules_to_save cannot be applied to modules of type <class 'peft.tuners.lora.layer.Linear'>"
     ]
    }
   ],
   "source": [
    "from peft import LoraConfig, get_peft_model\n",
    "\n",
    "lora_config = LoraConfig(\n",
    "    r              = 8,                     # Rank of the low-rank decomposition.\n",
    "    lora_alpha     = 32,                    # Scaling factor.\n",
    "    lora_dropout   = 0.1,                   # Dropout.\n",
    "    target_modules = \"all-linear\",          # Model-agnostic.\n",
    "    task_type      = \"SEQ_CLS\",             # Task type = sequential clf.\n",
    "    init_lora_weights=\"olora\")\n",
    "\n",
    "# Prepare model with LoRA adapters.\n",
    "model_query = get_peft_model(model_query, lora_config)    \n",
    "\n",
    "# It occurs TypeError, but it works in Optuna's objective ftn.\n",
    "# To avoid this, use LoRA first then quantization."
   ]
  },
  {
   "cell_type": "code",
   "execution_count": 75,
   "id": "adbc8db4-b94a-4f88-8e34-994816086889",
   "metadata": {
    "tags": []
   },
   "outputs": [
    {
     "ename": "AttributeError",
     "evalue": "'DistilBertForSequenceClassification' object has no attribute 'print_trainable_parameters'",
     "output_type": "error",
     "traceback": [
      "\u001b[1;31m---------------------------------------------------------------------------\u001b[0m",
      "\u001b[1;31mAttributeError\u001b[0m                            Traceback (most recent call last)",
      "Cell \u001b[1;32mIn[75], line 1\u001b[0m\n\u001b[1;32m----> 1\u001b[0m \u001b[43mmodel_query\u001b[49m\u001b[38;5;241;43m.\u001b[39;49m\u001b[43mprint_trainable_parameters\u001b[49m()\n",
      "File \u001b[1;32m~\\anaconda3\\envs\\nlp_prac\\lib\\site-packages\\torch\\nn\\modules\\module.py:1931\u001b[0m, in \u001b[0;36mModule.__getattr__\u001b[1;34m(self, name)\u001b[0m\n\u001b[0;32m   1929\u001b[0m     \u001b[38;5;28;01mif\u001b[39;00m name \u001b[38;5;129;01min\u001b[39;00m modules:\n\u001b[0;32m   1930\u001b[0m         \u001b[38;5;28;01mreturn\u001b[39;00m modules[name]\n\u001b[1;32m-> 1931\u001b[0m \u001b[38;5;28;01mraise\u001b[39;00m \u001b[38;5;167;01mAttributeError\u001b[39;00m(\n\u001b[0;32m   1932\u001b[0m     \u001b[38;5;124mf\u001b[39m\u001b[38;5;124m\"\u001b[39m\u001b[38;5;124m'\u001b[39m\u001b[38;5;132;01m{\u001b[39;00m\u001b[38;5;28mtype\u001b[39m(\u001b[38;5;28mself\u001b[39m)\u001b[38;5;241m.\u001b[39m\u001b[38;5;18m__name__\u001b[39m\u001b[38;5;132;01m}\u001b[39;00m\u001b[38;5;124m'\u001b[39m\u001b[38;5;124m object has no attribute \u001b[39m\u001b[38;5;124m'\u001b[39m\u001b[38;5;132;01m{\u001b[39;00mname\u001b[38;5;132;01m}\u001b[39;00m\u001b[38;5;124m'\u001b[39m\u001b[38;5;124m\"\u001b[39m\n\u001b[0;32m   1933\u001b[0m )\n",
      "\u001b[1;31mAttributeError\u001b[0m: 'DistilBertForSequenceClassification' object has no attribute 'print_trainable_parameters'"
     ]
    }
   ],
   "source": [
    "model_query.print_trainable_parameters()"
   ]
  },
  {
   "cell_type": "markdown",
   "id": "d6ddb65b-e0da-4b01-bdab-d206cbb0c162",
   "metadata": {
    "tags": []
   },
   "source": [
    "## 4.3. Train."
   ]
  },
  {
   "cell_type": "code",
   "execution_count": 78,
   "id": "ddd16017-dde6-469c-af90-cff9064cb1c3",
   "metadata": {
    "collapsed": true,
    "jupyter": {
     "outputs_hidden": true
    },
    "tags": []
   },
   "outputs": [
    {
     "ename": "ValueError",
     "evalue": "You cannot perform fine-tuning on purely quantized models. Please attach trainable adapters on top of the quantized model to correctly perform fine-tuning. Please see: https://huggingface.co/docs/transformers/peft for more details",
     "output_type": "error",
     "traceback": [
      "\u001b[1;31m---------------------------------------------------------------------------\u001b[0m",
      "\u001b[1;31mValueError\u001b[0m                                Traceback (most recent call last)",
      "Cell \u001b[1;32mIn[78], line 14\u001b[0m\n\u001b[0;32m      2\u001b[0m training_args \u001b[38;5;241m=\u001b[39m TrainingArguments(\n\u001b[0;32m      3\u001b[0m     output_dir              \u001b[38;5;241m=\u001b[39m \u001b[38;5;124m\"\u001b[39m\u001b[38;5;124m./results\u001b[39m\u001b[38;5;124m\"\u001b[39m,\n\u001b[0;32m      4\u001b[0m     eval_strategy           \u001b[38;5;241m=\u001b[39m \u001b[38;5;124m\"\u001b[39m\u001b[38;5;124mepoch\u001b[39m\u001b[38;5;124m\"\u001b[39m,\n\u001b[1;32m   (...)\u001b[0m\n\u001b[0;32m     10\u001b[0m     optim                   \u001b[38;5;241m=\u001b[39m \u001b[38;5;124m\"\u001b[39m\u001b[38;5;124madamw_bnb_8bit\u001b[39m\u001b[38;5;124m\"\u001b[39m,             \u001b[38;5;66;03m# 8-bits Quantization of Optimizer.\u001b[39;00m\n\u001b[0;32m     11\u001b[0m )\n\u001b[0;32m     13\u001b[0m \u001b[38;5;66;03m# Trainer.\u001b[39;00m\n\u001b[1;32m---> 14\u001b[0m trainer_class \u001b[38;5;241m=\u001b[39m \u001b[43mWeightedTrainer\u001b[49m\u001b[43m(\u001b[49m\n\u001b[0;32m     15\u001b[0m \u001b[43m    \u001b[49m\u001b[43mmodel\u001b[49m\u001b[43m             \u001b[49m\u001b[38;5;241;43m=\u001b[39;49m\u001b[43m \u001b[49m\u001b[43mmodel_query\u001b[49m\u001b[43m,\u001b[49m\n\u001b[0;32m     16\u001b[0m \u001b[43m    \u001b[49m\u001b[43margs\u001b[49m\u001b[43m              \u001b[49m\u001b[38;5;241;43m=\u001b[39;49m\u001b[43m \u001b[49m\u001b[43mtraining_args\u001b[49m\u001b[43m,\u001b[49m\n\u001b[0;32m     17\u001b[0m \u001b[43m    \u001b[49m\u001b[43mtrain_dataset\u001b[49m\u001b[43m     \u001b[49m\u001b[38;5;241;43m=\u001b[39;49m\u001b[43m \u001b[49m\u001b[43mtrain_ds_query\u001b[49m\u001b[43m,\u001b[49m\n\u001b[0;32m     18\u001b[0m \u001b[43m    \u001b[49m\u001b[43meval_dataset\u001b[49m\u001b[43m      \u001b[49m\u001b[38;5;241;43m=\u001b[39;49m\u001b[43m \u001b[49m\u001b[43mvalid_ds_query\u001b[49m\u001b[43m,\u001b[49m\n\u001b[0;32m     19\u001b[0m \u001b[43m    \u001b[49m\u001b[43mprocessing_class\u001b[49m\u001b[43m  \u001b[49m\u001b[38;5;241;43m=\u001b[39;49m\u001b[43m \u001b[49m\u001b[43mtokenizer_query\u001b[49m\u001b[43m,\u001b[49m\n\u001b[0;32m     20\u001b[0m \u001b[43m    \u001b[49m\u001b[43mcompute_metrics\u001b[49m\u001b[43m   \u001b[49m\u001b[38;5;241;43m=\u001b[39;49m\u001b[43m \u001b[49m\u001b[43mbioasq_libs\u001b[49m\u001b[38;5;241;43m.\u001b[39;49m\u001b[43mcompute_metrics\u001b[49m\u001b[43m  \u001b[49m\u001b[38;5;66;43;03m# Custom metrics.\u001b[39;49;00m\n\u001b[0;32m     21\u001b[0m \u001b[43m)\u001b[49m\n\u001b[0;32m     23\u001b[0m \u001b[38;5;66;03m# Train.\u001b[39;00m\n\u001b[0;32m     24\u001b[0m trainer_class\u001b[38;5;241m.\u001b[39mtrain()\n",
      "File \u001b[1;32m~\\anaconda3\\envs\\nlp_prac\\lib\\site-packages\\transformers\\utils\\deprecation.py:165\u001b[0m, in \u001b[0;36mdeprecate_kwarg.<locals>.wrapper.<locals>.wrapped_func\u001b[1;34m(*args, **kwargs)\u001b[0m\n\u001b[0;32m    161\u001b[0m \u001b[38;5;28;01melif\u001b[39;00m minimum_action \u001b[38;5;129;01min\u001b[39;00m (Action\u001b[38;5;241m.\u001b[39mNOTIFY, Action\u001b[38;5;241m.\u001b[39mNOTIFY_ALWAYS):\n\u001b[0;32m    162\u001b[0m     \u001b[38;5;66;03m# DeprecationWarning is ignored by default, so we use FutureWarning instead\u001b[39;00m\n\u001b[0;32m    163\u001b[0m     warnings\u001b[38;5;241m.\u001b[39mwarn(message, \u001b[38;5;167;01mFutureWarning\u001b[39;00m, stacklevel\u001b[38;5;241m=\u001b[39m\u001b[38;5;241m2\u001b[39m)\n\u001b[1;32m--> 165\u001b[0m \u001b[38;5;28;01mreturn\u001b[39;00m func(\u001b[38;5;241m*\u001b[39margs, \u001b[38;5;241m*\u001b[39m\u001b[38;5;241m*\u001b[39mkwargs)\n",
      "File \u001b[1;32m~\\anaconda3\\envs\\nlp_prac\\lib\\site-packages\\transformers\\trainer.py:553\u001b[0m, in \u001b[0;36mTrainer.__init__\u001b[1;34m(self, model, args, data_collator, train_dataset, eval_dataset, processing_class, model_init, compute_loss_func, compute_metrics, callbacks, optimizers, optimizer_cls_and_kwargs, preprocess_logits_for_metrics)\u001b[0m\n\u001b[0;32m    551\u001b[0m \u001b[38;5;66;03m# At this stage the model is already loaded\u001b[39;00m\n\u001b[0;32m    552\u001b[0m \u001b[38;5;28;01mif\u001b[39;00m _is_quantized_and_base_model \u001b[38;5;129;01mand\u001b[39;00m \u001b[38;5;129;01mnot\u001b[39;00m _is_peft_model(model) \u001b[38;5;129;01mand\u001b[39;00m \u001b[38;5;129;01mnot\u001b[39;00m _is_model_quantized_and_qat_trainable:\n\u001b[1;32m--> 553\u001b[0m     \u001b[38;5;28;01mraise\u001b[39;00m \u001b[38;5;167;01mValueError\u001b[39;00m(\n\u001b[0;32m    554\u001b[0m         \u001b[38;5;124m\"\u001b[39m\u001b[38;5;124mYou cannot perform fine-tuning on purely quantized models. Please attach trainable adapters on top of\u001b[39m\u001b[38;5;124m\"\u001b[39m\n\u001b[0;32m    555\u001b[0m         \u001b[38;5;124m\"\u001b[39m\u001b[38;5;124m the quantized model to correctly perform fine-tuning. Please see: https://huggingface.co/docs/transformers/peft\u001b[39m\u001b[38;5;124m\"\u001b[39m\n\u001b[0;32m    556\u001b[0m         \u001b[38;5;124m\"\u001b[39m\u001b[38;5;124m for more details\u001b[39m\u001b[38;5;124m\"\u001b[39m\n\u001b[0;32m    557\u001b[0m     )\n\u001b[0;32m    558\u001b[0m \u001b[38;5;28;01melif\u001b[39;00m _is_quantized_and_base_model \u001b[38;5;129;01mand\u001b[39;00m \u001b[38;5;129;01mnot\u001b[39;00m _quantization_method_supports_training:\n\u001b[0;32m    559\u001b[0m     \u001b[38;5;28;01mraise\u001b[39;00m \u001b[38;5;167;01mValueError\u001b[39;00m(\n\u001b[0;32m    560\u001b[0m         \u001b[38;5;124mf\u001b[39m\u001b[38;5;124m\"\u001b[39m\u001b[38;5;124mThe model you are trying to fine-tune is quantized with \u001b[39m\u001b[38;5;132;01m{\u001b[39;00mmodel\u001b[38;5;241m.\u001b[39mhf_quantizer\u001b[38;5;241m.\u001b[39mquantization_config\u001b[38;5;241m.\u001b[39mquant_method\u001b[38;5;132;01m}\u001b[39;00m\u001b[38;5;124m\"\u001b[39m\n\u001b[0;32m    561\u001b[0m         \u001b[38;5;124m\"\u001b[39m\u001b[38;5;124m but that quantization method do not support training. Please open an issue on GitHub: https://github.com/huggingface/transformers\u001b[39m\u001b[38;5;124m\"\u001b[39m\n\u001b[0;32m    562\u001b[0m         \u001b[38;5;124mf\u001b[39m\u001b[38;5;124m\"\u001b[39m\u001b[38;5;124m to request the support for training support for \u001b[39m\u001b[38;5;132;01m{\u001b[39;00mmodel\u001b[38;5;241m.\u001b[39mhf_quantizer\u001b[38;5;241m.\u001b[39mquantization_config\u001b[38;5;241m.\u001b[39mquant_method\u001b[38;5;132;01m}\u001b[39;00m\u001b[38;5;124m\"\u001b[39m\n\u001b[0;32m    563\u001b[0m     )\n",
      "\u001b[1;31mValueError\u001b[0m: You cannot perform fine-tuning on purely quantized models. Please attach trainable adapters on top of the quantized model to correctly perform fine-tuning. Please see: https://huggingface.co/docs/transformers/peft for more details"
     ]
    }
   ],
   "source": [
    "# Training args for 8-bits quantization, using bitsandbytes.  \n",
    "training_args = TrainingArguments(\n",
    "    output_dir              = \"./results\",\n",
    "    eval_strategy           = \"epoch\",\n",
    "    num_train_epochs        = 1,\n",
    "    save_strategy           = \"epoch\",\n",
    "    logging_dir             = \"./logs\",\n",
    "    per_device_train_batch_size = 8,\n",
    "    learning_rate           = 5e-5,                         # Use tuned learning rate.\n",
    "    optim                   = \"adamw_bnb_8bit\",             # 8-bits Quantization of Optimizer.\n",
    ")\n",
    "\n",
    "# Trainer.\n",
    "trainer_class = WeightedTrainer(\n",
    "    model             = model_query,\n",
    "    args              = training_args,\n",
    "    train_dataset     = train_ds_query,\n",
    "    eval_dataset      = valid_ds_query,\n",
    "    processing_class  = tokenizer_query,\n",
    "    compute_metrics   = bioasq_libs.compute_metrics  # Custom metrics.\n",
    ")\n",
    "\n",
    "# Train.\n",
    "trainer_class.train()\n",
    "\n",
    "# Print results.\n",
    "bioasq_libs.print_and_log_results(trainer_class)"
   ]
  },
  {
   "cell_type": "markdown",
   "id": "86510785-08c0-4721-99f8-348d3303233c",
   "metadata": {
    "tags": []
   },
   "source": [
    "## 4.4. Hyperparameter Tuning with Optuna.\n",
    "- Just put everything so far into `def objective`!"
   ]
  },
  {
   "cell_type": "code",
   "execution_count": 81,
   "id": "90ff6598-7fb6-4d15-a419-ce78941aa5d7",
   "metadata": {
    "tags": []
   },
   "outputs": [
    {
     "name": "stderr",
     "output_type": "stream",
     "text": [
      "[I 2025-01-10 15:43:51,350] A new study created in memory with name: no-name-e077c374-2616-4246-b5f6-6b79fddcbb9e\n",
      "Unused kwargs: ['llm_int4_threshold', 'low_cpu_mem_usage']. These kwargs are not used in <class 'transformers.utils.quantization_config.BitsAndBytesConfig'>.\n",
      "`low_cpu_mem_usage` was None, now default to True since model is quantized.\n",
      "Some weights of DistilBertForSequenceClassification were not initialized from the model checkpoint at distilbert-base-uncased and are newly initialized: ['classifier.bias', 'classifier.weight', 'pre_classifier.bias', 'pre_classifier.weight']\n",
      "You should probably TRAIN this model on a down-stream task to be able to use it for predictions and inference.\n"
     ]
    },
    {
     "name": "stdout",
     "output_type": "stream",
     "text": [
      "trainable params: 739,586 || all params: 67,694,596 || trainable%: 1.0925\n"
     ]
    },
    {
     "data": {
      "text/html": [
       "\n",
       "    <div>\n",
       "      \n",
       "      <progress value='136' max='136' style='width:300px; height:20px; vertical-align: middle;'></progress>\n",
       "      [136/136 00:07, Epoch 1/1]\n",
       "    </div>\n",
       "    <table border=\"1\" class=\"dataframe\">\n",
       "  <thead>\n",
       " <tr style=\"text-align: left;\">\n",
       "      <th>Epoch</th>\n",
       "      <th>Training Loss</th>\n",
       "      <th>Validation Loss</th>\n",
       "      <th>Accuracy</th>\n",
       "      <th>F1 Yes</th>\n",
       "      <th>F1 No</th>\n",
       "      <th>Macro F1</th>\n",
       "    </tr>\n",
       "  </thead>\n",
       "  <tbody>\n",
       "    <tr>\n",
       "      <td>1</td>\n",
       "      <td>No log</td>\n",
       "      <td>0.669558</td>\n",
       "      <td>0.716912</td>\n",
       "      <td>0.811736</td>\n",
       "      <td>0.429630</td>\n",
       "      <td>0.620683</td>\n",
       "    </tr>\n",
       "  </tbody>\n",
       "</table><p>"
      ],
      "text/plain": [
       "<IPython.core.display.HTML object>"
      ]
     },
     "metadata": {},
     "output_type": "display_data"
    },
    {
     "data": {
      "text/html": [
       "\n",
       "    <div>\n",
       "      \n",
       "      <progress value='34' max='34' style='width:300px; height:20px; vertical-align: middle;'></progress>\n",
       "      [34/34 00:00]\n",
       "    </div>\n",
       "    "
      ],
      "text/plain": [
       "<IPython.core.display.HTML object>"
      ]
     },
     "metadata": {},
     "output_type": "display_data"
    },
    {
     "name": "stderr",
     "output_type": "stream",
     "text": [
      "[I 2025-01-10 15:44:00,755] Trial 0 finished with value: 0.6206827854749615 and parameters: {'learning_rate': 3.8469897881566054e-05}. Best is trial 0 with value: 0.6206827854749615.\n"
     ]
    },
    {
     "name": "stdout",
     "output_type": "stream",
     "text": [
      "# 2025.01.10.\n",
      "<Hyperparameters>\n",
      "- Model        : distilbert-base-uncased\n",
      "- Learning Rate: 3.8469897881566054e-05\n",
      "- Batch Size   : 8\n",
      "- Epochs       : 1\n",
      "\n",
      "<Results>\n",
      "- Accuracy     : 0.7169\n",
      "- F1-yes       : 0.8117\n",
      "- F1-no        : 0.4296\n",
      "- Macro-F1     : 0.6207\n",
      "- Train Loss   : 0.6846\n",
      "- Validation Loss: 0.6696\n",
      "\n",
      "<Training Time>\n",
      "- Total Time   : 7.59 seconds\n",
      "- Time per Epoch: 7.59 seconds\n",
      "- Time per Step : 0.0558 seconds\n",
      "\n",
      "<Hyperparameters>\n",
      "- Model: distilbert-base-uncased\n",
      "- learning_rate   : 3.847e-05\n",
      "\n",
      "<Results>\n",
      "- eval_loss       : 0.6696\n",
      "- eval_accuracy   : 0.7169\n",
      "- eval_f1_yes     : 0.8117\n",
      "- eval_f1_no      : 0.4296\n",
      "- eval_macro_f1   : 0.6207\n",
      "- eval_samples_per_second : 571.6\n",
      "- eval_steps_per_second : 71.45\n",
      "- epoch           : 1.0\n",
      "- Training time  : 6.357\n"
     ]
    }
   ],
   "source": [
    "# Define a training loop for Optuna.\n",
    "import optuna\n",
    "from peft import LoraConfig, get_peft_model, prepare_model_for_kbit_training\n",
    "from transformers import BitsAndBytesConfig\n",
    "\n",
    "# Objective ftn.\n",
    "def objective(trial, model):\n",
    "    # Hyperparameters to tune.\n",
    "    hyperparams = {\n",
    "        'learning_rate': trial.suggest_float('learning_rate', 3e-5, 5e-5, log=True)\n",
    "    }\n",
    "    \n",
    "    # Quantization.\n",
    "    quantization_config = BitsAndBytesConfig(\n",
    "        load_in_4bit            = True, \n",
    "        llm_int4_threshold      = 6.0,\n",
    "        bnb_4bit_compute_dtype  = torch.float16,\n",
    "        low_cpu_mem_usage       = True,\n",
    "        llm_int8_skip_modules   = [\"classifier\", \"pre_classifier\"]\n",
    "    )\n",
    "    \n",
    "    device      = torch.device('cuda' if torch.cuda.is_available() else 'cpu')\n",
    "    model_query = AutoModelForSequenceClassification.from_pretrained(\n",
    "        checkpoint, \n",
    "        num_labels          = 2,\n",
    "        quantization_config = quantization_config,\n",
    "    ).to(device)\n",
    "    \n",
    "    model_query = prepare_model_for_kbit_training(model_query)\n",
    "\n",
    "    # Apply LoRA.\n",
    "    lora_config = LoraConfig(\n",
    "    r              = 8,                     # Rank of the low-rank decomposition.\n",
    "    lora_alpha     = 32,                    # Scaling factor.\n",
    "    lora_dropout   = 0.1,                   # Dropout.\n",
    "    target_modules = [\"q_lin\", \"v_lin\"],    # Specify the target modules.\n",
    "#    target_modules = \"all-linear\",\n",
    "    task_type      = \"SEQ_CLS\",              # Task type = sequential clf.\n",
    "    init_lora_weights=\"olora\")\n",
    "    \n",
    "    model_query = get_peft_model(model_query, lora_config)\n",
    "    \n",
    "#    model_query.print_trainable_parameters()\n",
    "    \n",
    "    # Training args for 8-bits quantization, using bitsandbytes.  \n",
    "    training_args = TrainingArguments(\n",
    "        output_dir              = \"./results\",\n",
    "        eval_strategy           = \"epoch\",\n",
    "        num_train_epochs        = 1,\n",
    "        save_strategy           = \"epoch\",\n",
    "        logging_dir             = \"./logs\",\n",
    "        per_device_train_batch_size = 8,\n",
    "        learning_rate           = hyperparams['learning_rate'],  # Use tuned learning rate.\n",
    "        optim                   = \"adamw_bnb_8bit\",             # 8-bits Quantization of Optimizer.\n",
    "    )\n",
    "    \n",
    "    # Trainer.\n",
    "    class WeightedTrainer(Trainer):\n",
    "        def compute_loss(self, model, inputs, return_outputs=False, **kwargs):\n",
    "            labels        = inputs.get(\"labels\")\n",
    "            num_classes   = self.model.config.num_labels  # Total number of classes.\n",
    "            device        = labels.device\n",
    "\n",
    "            # Calculate class weights directly based on label frequency in the current batch.\n",
    "            class_counts  = torch.bincount(labels, minlength=num_classes).float()\n",
    "            class_weights = torch.zeros(num_classes, device=device)\n",
    "\n",
    "            # Avoid division by zero for missing classes.\n",
    "            class_weights[class_counts > 0] = 1.0 / class_counts[class_counts > 0]\n",
    "            class_weights /= class_weights.sum()  # Normalize weights, to sum to 1.\n",
    "\n",
    "            # Compute the loss.\n",
    "            outputs  = model(**inputs)\n",
    "            logits   = outputs.get(\"logits\")\n",
    "            loss_fct = nn.CrossEntropyLoss(weight=class_weights)\n",
    "            loss     = loss_fct(logits.view(-1, num_classes), labels.view(-1))\n",
    "            return (loss, outputs) if return_outputs else loss\n",
    "    \n",
    "    trainer_class = WeightedTrainer(\n",
    "        model             = model_query,\n",
    "        args              = training_args,\n",
    "        train_dataset     = train_ds_query,\n",
    "        eval_dataset      = valid_ds_query,\n",
    "        processing_class  = tokenizer_query,\n",
    "        compute_metrics   = bioasq_libs.compute_metrics  # Custom metrics.\n",
    "    )\n",
    "    \n",
    "    # Print how many parameters we can ignore thx to LoRA :)\n",
    "    model_query.print_trainable_parameters()\n",
    "\n",
    "    # Train.\n",
    "    trainer_class.train()\n",
    "    \n",
    "    # Evaluate.\n",
    "    eval_results = trainer_class.evaluate()\n",
    "    \n",
    "    # Results.\n",
    "    history          = trainer.state.log_history\n",
    "    total_train_time = sum([log.get(\"train_runtime\", 0) for log in history])\n",
    "    \n",
    "    trial.set_user_attr(key=\"model_name\", value=trainer.model.name_or_path)\n",
    "    trial.set_user_attr(key=\"best_params\", value=hyperparams)\n",
    "    trial.set_user_attr(key=\"results\", value=eval_results)\n",
    "    trial.set_user_attr(key=\"training_time\", value=total_train_time)\n",
    "    \n",
    "    # Print and log trainer.\n",
    "    bioasq_libs.print_and_log_results(trainer_class)\n",
    "    \n",
    "    return eval_results[\"eval_macro_f1\"]\n",
    "\n",
    "# Create Optuna study and optimize.\n",
    "study = optuna.create_study(direction='maximize')\n",
    "study.optimize(lambda trial: objective(trial, model_query), n_trials=1)\n",
    "\n",
    "# Best trial.\n",
    "bioasq_libs.print_trial(study.best_trial)"
   ]
  },
  {
   "cell_type": "markdown",
   "id": "f4fe2e64-b9b0-466f-b6bc-3f6f1419a5b5",
   "metadata": {
    "tags": [],
    "toc-hr-collapsed": true
   },
   "source": [
    "# 5. Document Retrieval."
   ]
  },
  {
   "cell_type": "markdown",
   "id": "bcbf7878-7876-4343-aa9c-ec6e76490b4c",
   "metadata": {
    "tags": []
   },
   "source": [
    "## 5.1. Data Preparation."
   ]
  },
  {
   "cell_type": "code",
   "execution_count": 156,
   "id": "c349b066-4048-4664-9894-cf5a1dfb56c6",
   "metadata": {
    "tags": []
   },
   "outputs": [],
   "source": [
    "cols_rag     = ['question', 'labels', 'snippets', 'documents']\n",
    "train_ds_rag = train_ds.select_columns(cols_rag)\n",
    "valid_ds_rag = valid_ds.select_columns(cols_rag)"
   ]
  },
  {
   "cell_type": "markdown",
   "id": "de4bdddb-1348-4449-ad48-f870b444f41e",
   "metadata": {
    "tags": []
   },
   "source": [
    "## 5.2. Prompt."
   ]
  },
  {
   "cell_type": "code",
   "execution_count": null,
   "id": "d935c277-5151-401a-b2b7-700a711b4eda",
   "metadata": {
    "tags": []
   },
   "outputs": [],
   "source": [
    "prompt_exact = \"\"\"\\\n",
    "Question: {question}\n",
    "Snippets:\n",
    "{snippets}\n",
    "Retrieved Chunks:\n",
    "{retrieved_chunks}\n",
    "Answer:\n",
    "\"\"\""
   ]
  },
  {
   "cell_type": "markdown",
   "id": "aac90341-82c8-402a-a96b-945248c4d427",
   "metadata": {},
   "source": [
    "## 5.3. Retrieval from docs: docs -> DB -> retrieved docs."
   ]
  },
  {
   "cell_type": "markdown",
   "id": "d2a6a9ab-c0ec-4ede-88b2-141fb36f6c0a",
   "metadata": {},
   "source": [
    "### 5.3.1. from each doc."
   ]
  },
  {
   "cell_type": "code",
   "execution_count": null,
   "id": "07eccea4-7026-4033-a282-7b486bec7bb8",
   "metadata": {
    "collapsed": true,
    "jupyter": {
     "outputs_hidden": true
    },
    "tags": []
   },
   "outputs": [],
   "source": [
    "from langchain.text_splitter import CharacterTextSplitter\n",
    "from langchain_huggingface import HuggingFaceEmbeddings\n",
    "from langchain.vectorstores import FAISS\n",
    "\n",
    "def retrieve_from_each_doc(query, documents, chunk_size, chunk_overlap):\n",
    "    \n",
    "    # Text splitter.\n",
    "    text_splitter = CharacterTextSplitter(separator     = \". \", \n",
    "                                          chunk_size    = chunk_size, \n",
    "                                          chunk_overlap = chunk_overlap)\n",
    "    \n",
    "    # Embedding model.\n",
    "    model_kwargs    = {'device': device}\n",
    "    model_name      = \"sentence-transformers/all-MiniLM-L6-v2\"\n",
    "    embedding_model = HuggingFaceEmbeddings(model_name   = model_name,\n",
    "                                            model_kwargs = model_kwargs)\n",
    "    \n",
    "    # For each document, split, embed, and retrieve the most relevant chunk.\n",
    "    retrievals = []\n",
    "    for doc in documents:\n",
    "        chunks = text_splitter.split_text(doc)                    # Split the document into chunks.\n",
    "        \n",
    "        vector_store = FAISS.from_texts(chunks, embedding_model)  # FAISS vector store.\n",
    "        \n",
    "        # Similarity search.\n",
    "        result = vector_store.similarity_search(query, k=1)       # Similarity search to retrieve the top result for this document.\n",
    "        retrievals.append(result[0].page_content)                 # Store the most relevant chunk.\n",
    "        \n",
    "    return retrievals"
   ]
  },
  {
   "cell_type": "markdown",
   "id": "1214b00e-47f9-48dc-bf9e-7fb4917e63bc",
   "metadata": {
    "tags": []
   },
   "source": [
    "### 5.3.2. from all docs."
   ]
  },
  {
   "cell_type": "code",
   "execution_count": null,
   "id": "ce4b352a-9961-4f01-8ecd-e386ecd60350",
   "metadata": {
    "collapsed": true,
    "jupyter": {
     "outputs_hidden": true
    },
    "tags": []
   },
   "outputs": [],
   "source": [
    "from langchain.text_splitter import CharacterTextSplitter\n",
    "from langchain_huggingface import HuggingFaceEmbeddings\n",
    "from langchain.vectorstores import FAISS\n",
    "\n",
    "def retrieve_from_docs(query, documents, top_k_retrieval, chunk_size, chunk_overlap):\n",
    "    \n",
    "    # Text splitter.\n",
    "    text_splitter = CharacterTextSplitter(separator      = \". \", \n",
    "                                          chunk_size     = chunk_size, \n",
    "                                          chunk_overlap  = chunk_overlap)\n",
    "    \n",
    "    # Embedding model.\n",
    "    model_kwargs    = {'device': device}\n",
    "    model_name      = \"sentence-transformers/all-MiniLM-L6-v2\"\n",
    "    embedding_model = HuggingFaceEmbeddings(model_name    = model_name,\n",
    "                                            model_kwargs  = model_kwargs)\n",
    "    \n",
    "    # For each document, split, embed, and retrieve the most relevant chunk.\n",
    "    retrievals = []\n",
    "    chunks     = []\n",
    "    for doc in documents:\n",
    "        chunks.extend(text_splitter.split_text(doc))                     # Split the document into chunks\n",
    "        \n",
    "    vector_store = FAISS.from_texts(chunks, embedding_model)             # FAISS vector store.\n",
    "\n",
    "    result = vector_store.similarity_search(query, k=top_k_retrieval)    # Similarity search to retrieve top-k relevant documents.\n",
    "    retrievals.extend([res.page_content for res in result])              # Store relevant chunks.\n",
    "    \n",
    "    return retrievals"
   ]
  },
  {
   "cell_type": "markdown",
   "id": "1cc0c0a8-34fc-4cca-acaf-30ec1aa2dfcb",
   "metadata": {
    "tags": []
   },
   "source": [
    "## 5.4. Retrieval from URL: URL -> docs."
   ]
  },
  {
   "cell_type": "markdown",
   "id": "b54a13d6-576d-408a-9e0c-41afa31fb182",
   "metadata": {
    "tags": []
   },
   "source": [
    "### 5.4.1. Test Hyperparameters."
   ]
  },
  {
   "cell_type": "code",
   "execution_count": null,
   "id": "66bd6a65-45fd-48be-aca8-f011dae42f32",
   "metadata": {
    "collapsed": true,
    "jupyter": {
     "outputs_hidden": true
    },
    "tags": []
   },
   "outputs": [],
   "source": [
    "# Test hyperparameters.\n",
    "chunk_size      = 400\n",
    "chunk_overlap   = 20\n",
    "num_samples     = 256\n",
    "batch_sizes     = [16]\n",
    "num_workerss    = [32]\n",
    "\n",
    "# Create a smaller subset for testing\n",
    "small_train_ds_rag = train_ds_rag.select(range(num_samples))  # Select the first 256 examples"
   ]
  },
  {
   "cell_type": "markdown",
   "id": "3d374f73-ed93-4a9c-93d2-11f0cf95ab8e",
   "metadata": {
    "tags": []
   },
   "source": [
    "### 5.4.2. Single sample. \n",
    "- Too slow!\n",
    "- Manual search for tags will be replaced with BeautifulSoap later."
   ]
  },
  {
   "cell_type": "code",
   "execution_count": null,
   "id": "8386b9ce-78b3-4d55-8b6a-726ff98a8874",
   "metadata": {
    "tags": []
   },
   "outputs": [],
   "source": [
    "from langchain.document_loaders import WebBaseLoader\n",
    "\n",
    "def preprocessing_rag(sample):\n",
    "    results = []\n",
    "    doc_urls  = sample['documents'].split('\\n')    # URL of each document.\n",
    "    documents = []\n",
    "\n",
    "    for url in doc_urls:\n",
    "        loader           = WebBaseLoader(url)\n",
    "        document         = loader.load()[0]\n",
    "        abstract_pattern_begin = 'AbstractPubMedPMID\\n\\n\\n        Abstract\\n        \\n      \\n\\n\\n      \\n      '\n",
    "        abstract_idx_begin     = document.page_content.find(abstract_pattern_begin) + len(abstract_pattern_begin)\n",
    "        abstract_idx_end       = document.page_content.find('\\n', abstract_idx_begin)\n",
    "\n",
    "        abstract         = document.page_content[abstract_idx_begin:abstract_idx_end]\n",
    "        documents.append(abstract)\n",
    "\n",
    "    retrieved_chunks = retrieve_from_each_doc(query     = sample[\"question\"],\n",
    "                                              documents = documents)\n",
    "\n",
    "    # Join retrieved chunks into a single string.\n",
    "    retrieved_chunks = \"\\n\".join(retrieved_chunks)\n",
    "\n",
    "    # Use the prompt template to create the input text.\n",
    "    input_text = prompt.format(\n",
    "        question          = sample[\"question\"],\n",
    "        snippets          = sample[\"snippets\"],\n",
    "        retrieved_chunks  = retrieved_chunks\n",
    "    )\n",
    "\n",
    "    # Use the encoded label directly.\n",
    "    labels = sample[\"labels\"]\n",
    "    \n",
    "    return {'input_text': input_text, \n",
    "            'labels': labels}"
   ]
  },
  {
   "cell_type": "markdown",
   "id": "c8c2cf9d-cd73-4f34-b09c-f64d251b3462",
   "metadata": {
    "tags": []
   },
   "source": [
    "### 5.4.3. Single Batch.\n",
    "- Takes almost 26 hrs."
   ]
  },
  {
   "cell_type": "code",
   "execution_count": null,
   "id": "145e0fba-4974-4877-9c7c-e3088cbfc860",
   "metadata": {
    "tags": []
   },
   "outputs": [],
   "source": [
    "from datetime import datetime\n",
    "import requests\n",
    "from langchain.document_loaders import WebBaseLoader\n",
    "\n",
    "call_count = 0  # Initialize a global counter.\n",
    "\n",
    "def preprocessing_rag(batch):\n",
    "    global call_count\n",
    "    call_count += 1 \n",
    "    \n",
    "    # Current time.\n",
    "    current_time = datetime.now().strftime('%Y-%m-%d %H:%M:%S')  # Get the current time.\n",
    "    print(f'{call_count}th Batch started at: {current_time}.')\n",
    "    \n",
    "    # Process each sample in the batch.\n",
    "    inputs = []\n",
    "    labels = []\n",
    "    \n",
    "    total_urls_in_batch = 0\n",
    "    for idx in range(len(batch[\"question\"])):\n",
    "        question  = batch['question'][idx]\n",
    "        snippets  = batch['snippets'][idx]\n",
    "        documents = batch['documents'][idx]\n",
    "        label     = batch['labels'][idx]\n",
    "        \n",
    "        # Split documents into URLs.\n",
    "        doc_urls = documents.split(\"\\n\")\n",
    "        doc_contents = []\n",
    "        \n",
    "        total_urls_in_batch += len(doc_urls)\n",
    "\n",
    "        # Process each document URL.\n",
    "        for url in doc_urls:\n",
    "            try:\n",
    "                loader   = WebBaseLoader(url)\n",
    "                document = loader.load()[0]\n",
    "                \n",
    "                abstract_pattern_begin = 'AbstractPubMedPMID\\n\\n\\n        Abstract\\n        \\n      \\n\\n\\n      \\n      '\n",
    "                abstract_idx_begin = document.page_content.find(abstract_pattern_begin)\n",
    "                \n",
    "                if abstract_idx_begin != -1:\n",
    "                    abstract_idx_begin += len(abstract_pattern_begin)\n",
    "                    abstract_idx_end = document.page_content.find('\\n', abstract_idx_begin)\n",
    "                    abstract = document.page_content[abstract_idx_begin:abstract_idx_end]\n",
    "                else:\n",
    "                    abstract = \"Abstract not found\"\n",
    "                \n",
    "                doc_contents.append(abstract)\n",
    "                \n",
    "            except requests.exceptions.Timeout:\n",
    "                print(f\"Timeout occurred for URL {url}.\")\n",
    "            except Exception as e:\n",
    "                print(f\"Failed to load URL {url}: {e}\")\n",
    "                continue\n",
    "        \n",
    "        # Retrieve chunks.\n",
    "        retrieved_chunks = retrieve_from_each_doc(query=question, documents=doc_contents)\n",
    "        retrieved_chunks = \"\\n\".join(retrieved_chunks)\n",
    "\n",
    "        # Format input using prompt.\n",
    "        input_text = prompt.format(\n",
    "            question=question,\n",
    "            snippets=snippets,\n",
    "            retrieved_chunks=retrieved_chunks,\n",
    "        )\n",
    "        \n",
    "        # Add processed input and label to the batch output.\n",
    "        inputs.append(input_text)\n",
    "        labels.append(label)\n",
    "        \n",
    "        print(f'question done: {question}')\n",
    "    \n",
    "    # Finish time.\n",
    "    print(f'total_urls_in_batch = {total_urls_in_batch}')\n",
    "    \n",
    "    # Return a dictionary of lists for the batch.\n",
    "    return {\"input\": inputs, \"label\": labels}\n"
   ]
  },
  {
   "cell_type": "code",
   "execution_count": null,
   "id": "f4c13d8d-15fd-4180-a667-939677695fb1",
   "metadata": {
    "collapsed": true,
    "jupyter": {
     "outputs_hidden": true
    },
    "tags": []
   },
   "outputs": [],
   "source": [
    "call_count    = 0 \n",
    "\n",
    "for batch_size in batch_sizes:\n",
    "    for num_workers in num_workerss:\n",
    "        train_ds_rag_prep_small = small_train_ds_rag.map(\n",
    "            preprocessing_rag,\n",
    "            desc        = f\"Preprocessing (batch_size={batch_size}, num_workers={num_workers})\",\n",
    "            batched     = True,\n",
    "            batch_size  = batch_size  \n",
    "        )"
   ]
  },
  {
   "cell_type": "markdown",
   "id": "5a5e4ae4-398e-437f-aedb-d0c663cb98df",
   "metadata": {
    "tags": []
   },
   "source": [
    "### 5.4.4. Multithread using `ThreadPoolExecutor`.\n",
    "- Drastically decreases running time, like few hours!"
   ]
  },
  {
   "cell_type": "code",
   "execution_count": null,
   "id": "7bf93b83-e358-4183-b53e-2b09e97fd14b",
   "metadata": {
    "tags": []
   },
   "outputs": [],
   "source": [
    "from concurrent.futures import ThreadPoolExecutor, as_completed\n",
    "from langchain.document_loaders import WebBaseLoader\n",
    "import requests\n",
    "from datasets import Dataset\n",
    "from datetime import datetime\n",
    "import time\n",
    "\n",
    "def fetch_url(url):\n",
    "    \"\"\"Fetch content from a URL with timeout handling.\"\"\"\n",
    "    try:\n",
    "        loader   = WebBaseLoader(url)\n",
    "        document = loader.load()[0]\n",
    "        \n",
    "        abstract_pattern_begin = 'AbstractPubMedPMID\\n\\n\\n        Abstract\\n        \\n      \\n\\n\\n      \\n      '\n",
    "        abstract_idx_begin = document.page_content.find(abstract_pattern_begin)\n",
    "        if abstract_idx_begin != -1:\n",
    "            abstract_idx_begin += len(abstract_pattern_begin)\n",
    "            abstract_idx_end = document.page_content.find('\\n', abstract_idx_begin)\n",
    "            \n",
    "            return document.page_content[abstract_idx_begin:abstract_idx_end]\n",
    "        else:\n",
    "            return \"Abstract not found\"\n",
    "        \n",
    "    except requests.exceptions.Timeout:\n",
    "        return \"Timeout occurred\"\n",
    "    \n",
    "    except Exception as e:\n",
    "        return f\"Failed to load URL: {str(e)}\"\n",
    "\n",
    "def process_batch_parallel(batch):\n",
    "    \"\"\"Call fetch_url with multithreaded processes!\"\"\"\n",
    "    global call_count\n",
    "    call_count += 1\n",
    "    \n",
    "    current_time = datetime.now().strftime('%Y-%m-%d %H:%M:%S')\n",
    "    print(f'{call_count}th Batch started at: {current_time}.')\n",
    "    \n",
    "    inputs = []\n",
    "    labels = []\n",
    "\n",
    "    for idx in range(len(batch[\"question\"])):\n",
    "        question = batch['question'][idx]\n",
    "        snippets = batch['snippets'][idx]\n",
    "        documents = batch['documents'][idx]\n",
    "        label = batch['labels'][idx]\n",
    "\n",
    "        doc_urls = documents.split(\"\\n\")\n",
    "        doc_contents = []\n",
    "\n",
    "        # Parallel fetching of URLs.\n",
    "        global num_workers\n",
    "        with ThreadPoolExecutor(max_workers=num_workers) as executor:\n",
    "            future_to_url = {executor.submit(fetch_url, url): url for url in doc_urls}\n",
    "            for future in as_completed(future_to_url):\n",
    "                doc_contents.append(future.result())\n",
    "        \n",
    "        retrieved_chunks = retrieve_from_each_doc(query=question, documents=doc_contents)\n",
    "        retrieved_chunks = \"\\n\".join(retrieved_chunks)\n",
    "\n",
    "        input_text = prompt.format(\n",
    "            question=question,\n",
    "            snippets=snippets,\n",
    "            retrieved_chunks=retrieved_chunks,\n",
    "        )\n",
    "        \n",
    "        inputs.append(input_text)\n",
    "        labels.append(label)\n",
    "    \n",
    "    # Save intermediate dataset, cuz it could take several hours.\n",
    "    batch_dataset = Dataset.from_dict({\"input\": inputs, \"label\": labels})\n",
    "    save_path = \"rag/train_ds_rag_prep\"\n",
    "    os.makedirs(save_path, exist_ok=True)\n",
    "    batch_dataset.save_to_disk(f\"{save_path}/batch_{call_count}\")\n",
    "    \n",
    "    return {\"input\": inputs, \"label\": labels}"
   ]
  },
  {
   "cell_type": "code",
   "execution_count": null,
   "id": "c39ae42b-3abe-4177-b553-2c26812b3e42",
   "metadata": {
    "tags": []
   },
   "outputs": [],
   "source": [
    "call_count    = 0  \n",
    "\n",
    "for batch_size in batch_sizes:\n",
    "    for num_workers in num_workerss:\n",
    "        train_ds_rag_prep_small = small_train_ds_rag.map(\n",
    "            process_batch_parallel,\n",
    "            desc=f\"Preprocessing (batch_size={batch_size}, num_workers={num_workers})\",\n",
    "            batched=True,\n",
    "            batch_size=batch_size  # Use the current batch_size\n",
    "        )"
   ]
  },
  {
   "cell_type": "markdown",
   "id": "ff30b4c8-0253-42b2-81c9-3aa5319fa088",
   "metadata": {},
   "source": [
    "> #### Note) Many Requests at once.\n",
    "> Request may fail with too many requests given period, especially multithread implementation!  \n",
    "> Failed to load URL http://www.ncbi.nlm.nih.gov/pubmed/26623375: HTTPSConnectionPool(host='www.ncbi.nlm.nih.gov', port=443): Max retries exceeded with url: /pubmed/26623375 (Caused by NewConnectionError('<urllib3.connection.HTTPSConnection object at 0x00000210C236C3D0>: Failed to establish a new connection: [WinError 10061] 대상 컴퓨터에서 연결을 거부했으므로 연결하지 못했습니다'))"
   ]
  },
  {
   "cell_type": "markdown",
   "id": "d16b2590-113d-4451-98a2-65ffbc2bb0da",
   "metadata": {
    "tags": []
   },
   "source": [
    "### 5.4.5. `asyncio`.\n",
    "- Asyncronized http and io.\n",
    "- Done within 60 ~ 80 mins! \n",
    "- `BeautifulSoup` to parse html efficiently."
   ]
  },
  {
   "cell_type": "code",
   "execution_count": null,
   "id": "14e71a18-48a2-46aa-abc9-eac15e3bd4cf",
   "metadata": {
    "collapsed": true,
    "jupyter": {
     "outputs_hidden": true
    },
    "tags": []
   },
   "outputs": [],
   "source": [
    "import os\n",
    "import aiohttp\n",
    "import asyncio\n",
    "from bs4 import BeautifulSoup\n",
    "from datasets import Dataset\n",
    "from datetime import datetime\n",
    "import time\n",
    "\n",
    "async def fetch_url_async(session, url):\n",
    "    \"\"\"Fetch content from a URL asynchronously.\"\"\"\n",
    "    try:\n",
    "        async with session.get(url, timeout=10) as response:\n",
    "            html = await response.text()\n",
    "            soup = BeautifulSoup(html, 'html.parser')\n",
    "            \n",
    "            abstract_div = soup.find('div', class_='abstract-content selected')\n",
    "            \n",
    "            if abstract_div:\n",
    "                abstract_list = abstract_div.find_all('p')\n",
    "                \n",
    "                # if abstract is found, return with title.\n",
    "                if abstract_list:   \n",
    "                    abstract = \" \".join(p.get_text(strip=True) for p in abstract_list)\n",
    "                    return abstract\n",
    "                else:\n",
    "                    return f\"abstract not found.\"\n",
    "                \n",
    "            else:\n",
    "                return f\"abstract_div not found.\"\n",
    "            \n",
    "    except asyncio.TimeoutError:\n",
    "        return f\"Timeout occurred: {url}\"\n",
    "    \n",
    "    except Exception as e:\n",
    "        return f\"Failed to load URL: {str(e)}\"\n",
    "\n",
    "async def fetch_all_urls_async(doc_urls):\n",
    "    \"\"\"Fetch all URLs concurrently using aiohttp.\"\"\"\n",
    "    async with aiohttp.ClientSession() as session:\n",
    "        tasks = [fetch_url_async(session, url) for url in doc_urls]\n",
    "        \n",
    "        return await asyncio.gather(*tasks)\n",
    "\n",
    "async def process_batch_parallel_async(batch, call_count, top_k_retrieval, chunk_size, chunk_overlap):\n",
    "    \"\"\"Process a batch asynchronously.\"\"\"\n",
    "    start_time = time.time()\n",
    "    current_time = datetime.now().strftime('%Y-%m-%d %H:%M:%S')\n",
    "\n",
    "    inputs = []\n",
    "    labels = []\n",
    "\n",
    "    for idx in range(len(batch[\"question\"])):\n",
    "        question = batch['question'][idx]\n",
    "        snippets = batch['snippets'][idx]\n",
    "        documents = batch['documents'][idx]\n",
    "        label = batch['labels'][idx]\n",
    "\n",
    "        doc_urls = documents.split(\"\\n\")\n",
    "        doc_contents = await fetch_all_urls_async(doc_urls)  # Fully async fetch.\n",
    "\n",
    "        # Process the retrieved content.\n",
    "        retrieved_chunks = retrieve_from_docs(query            = question, \n",
    "                                              documents        = doc_contents,\n",
    "                                              top_k_retrieval  = top_k_retrieval,\n",
    "                                              chunk_size       = chunk_size,\n",
    "                                              chunk_overlap    = chunk_overlap)\n",
    "        \n",
    "        # Normalize Snippets to search the matches with retrieved_chunks.\n",
    "        import string\n",
    "        \n",
    "        def normalize(text):\n",
    "            return text.strip().lower().rstrip(string.punctuation)\n",
    "        \n",
    "        snippets_set = set(normalize(sentence) \n",
    "                           for snippet in snippets.split('\\n')\n",
    "                           for sentence in snippet.split('. '))\n",
    "        \n",
    "        # Delete chunks that are already in snippets.\n",
    "        retrieved_chunks_unique = [chunk for chunk in retrieved_chunks\n",
    "                                   if normalize(chunk) not in snippets_set]\n",
    "    \n",
    "        retrieved_chunks_unique = \"\\n\".join(retrieved_chunks_unique)\n",
    "\n",
    "        input_text = prompt_exact.format(\n",
    "            question          = question,\n",
    "            snippets          = snippets,\n",
    "            retrieved_chunks  = retrieved_chunks_unique,\n",
    "        )\n",
    "\n",
    "        inputs.append(input_text)\n",
    "        labels.append(label)\n",
    "\n",
    "    # Don't need to save, it's very fast now :)\n",
    "    '''\n",
    "    # Save intermediate dataset, for each batch.\n",
    "    batch_dataset = Dataset.from_dict({\"input\": inputs, \"label\": labels})\n",
    "    save_path = \"rag/train_ds_rag_prep\"\n",
    "    os.makedirs(save_path, exist_ok=True)\n",
    "    batch_dataset.save_to_disk(f\"{save_path}/batch_{call_count}\")\n",
    "    '''\n",
    "    \n",
    "    elapsed_time = time.time() - start_time\n",
    "    print(f'{call_count}th Batch completed in {elapsed_time:.2f} seconds. ({(elapsed_time / len(batch[\"question\"])):.2f}s/ examples)')\n",
    "\n",
    "    return {\"input\": inputs, \"labels\": labels}\n"
   ]
  },
  {
   "cell_type": "markdown",
   "id": "9abf610d-0c55-4c40-a1b5-6d5240d75d8f",
   "metadata": {
    "tags": []
   },
   "source": [
    "### 5.4.6. Increased `batch_size` and `num_workers`.\n",
    "- Not very useful."
   ]
  },
  {
   "cell_type": "code",
   "execution_count": null,
   "id": "bf50ca52-c19d-4f4c-9d21-1baed3e20384",
   "metadata": {
    "collapsed": true,
    "jupyter": {
     "outputs_hidden": true
    },
    "tags": []
   },
   "outputs": [],
   "source": [
    "# Hyperparameters.\n",
    "chunk_size      = 400\n",
    "chunk_overlap   = 20\n",
    "batch_size      = 32\n",
    "num_workers     = 128\n",
    "\n",
    "async def process_all_batches(dataset, batch_size):\n",
    "    global call_count\n",
    "    call_count = 0  # Initialize a global counter.\n",
    "    \n",
    "    all_inputs = []\n",
    "    all_labels = []\n",
    "    \n",
    "    for i in range(0, len(dataset), batch_size):\n",
    "        batch = dataset[i:i + batch_size]  # Extract a batch\n",
    "        call_count += 1\n",
    "        result = await process_batch_parallel(batch, call_count)  # Process each batch asynchronously\n",
    "\n",
    "        all_inputs.extend(result[\"input\"])\n",
    "        all_labels.extend(result[\"label\"])\n",
    "        \n",
    "    # Combine all processed batches into a single dataset\n",
    "    return Dataset.from_dict({\"input\": all_inputs, \"label\": all_labels})\n",
    "        \n",
    "# Run the process and set train_ds_rag_prep\n",
    "print(f\"Processing with batch_size={batch_size}, num_workers={num_workers}.\")\n",
    "print(f\"- Num of samples = {len(small_train_ds_rag)}\")\n",
    "print(f\"- Num of batches = {int(len(small_train_ds_rag) / batch_size)}\")\n",
    "\n",
    "small_train_ds_rag_prep = await process_all_batches(small_train_ds_rag, batch_size=batch_size)\n",
    "\n",
    "# Note that additional combinations also didn't show improve."
   ]
  },
  {
   "cell_type": "markdown",
   "id": "3e08f7ce-9765-4052-bf62-1ea0e903d5d2",
   "metadata": {
    "tags": []
   },
   "source": [
    "### 5.4.7. Final."
   ]
  },
  {
   "cell_type": "code",
   "execution_count": 51,
   "id": "ebd8150f-5061-4017-9d94-c3dba44fb561",
   "metadata": {
    "collapsed": true,
    "jupyter": {
     "outputs_hidden": true
    },
    "tags": []
   },
   "outputs": [],
   "source": [
    "import os\n",
    "import aiohttp\n",
    "import asyncio\n",
    "from bs4 import BeautifulSoup\n",
    "from datasets import Dataset\n",
    "from datetime import datetime\n",
    "import time\n",
    "\n",
    "from langchain.text_splitter import CharacterTextSplitter\n",
    "from langchain_huggingface import HuggingFaceEmbeddings\n",
    "from langchain.vectorstores import FAISS\n",
    "\n",
    "prompt_exact = \"\"\"\\\n",
    "Question: {question}\n",
    "Snippets:\n",
    "{snippets}\n",
    "Retrieved Chunks:\n",
    "{retrieved_chunks}\n",
    "Answer:\n",
    "\"\"\"\n",
    "\n",
    "def retrieve_from_docs(query, documents, top_k_retrieval, chunk_size, chunk_overlap):\n",
    "    \n",
    "    # Text splitter.\n",
    "    text_splitter = CharacterTextSplitter(separator      = \". \", \n",
    "                                          chunk_size     = chunk_size, \n",
    "                                          chunk_overlap  = chunk_overlap)\n",
    "    \n",
    "    # Embedding model.\n",
    "    model_kwargs    = {'device': device}\n",
    "    model_name      = \"sentence-transformers/all-MiniLM-L6-v2\"\n",
    "    embedding_model = HuggingFaceEmbeddings(model_name    = model_name,\n",
    "                                            model_kwargs  = model_kwargs)\n",
    "    \n",
    "    # For each document, split, embed, and retrieve the most relevant chunk.\n",
    "    retrievals = []\n",
    "    chunks     = []\n",
    "    for doc in documents:\n",
    "        chunks.extend(text_splitter.split_text(doc))                     # Split the document into chunks\n",
    "        \n",
    "    vector_store = FAISS.from_texts(chunks, embedding_model)             # FAISS vector store.\n",
    "\n",
    "    result = vector_store.similarity_search(query, k=top_k_retrieval)    # Similarity search to retrieve top-k relevant documents.\n",
    "    retrievals.extend([res.page_content for res in result])              # Store relevant chunks.\n",
    "    \n",
    "    return retrievals\n",
    "\n",
    "async def fetch_url_async(session, url):\n",
    "    \"\"\"Fetch content from a URL asynchronously.\"\"\"\n",
    "    try:\n",
    "        async with session.get(url, timeout=10) as response:\n",
    "            html = await response.text()\n",
    "            soup = BeautifulSoup(html, 'html.parser')\n",
    "            \n",
    "            abstract_div = soup.find('div', class_='abstract-content selected')\n",
    "            if abstract_div:\n",
    "                abstract_list = abstract_div.find_all('p')\n",
    "                \n",
    "                # if abstract is found, return with title.\n",
    "                if abstract_list:   \n",
    "                    abstract = \" \".join(p.get_text(strip=True) for p in abstract_list)\n",
    "                    return abstract\n",
    "                else:\n",
    "                    return f\"abstract not found.\"\n",
    "                \n",
    "            else:\n",
    "                return f\"abstract_div not found.\"\n",
    "            \n",
    "    except asyncio.TimeoutError:\n",
    "        return f\"Timeout occurred: {url}\"\n",
    "    \n",
    "    except Exception as e:\n",
    "        return f\"Failed to load URL: {str(e)}\"\n",
    "\n",
    "async def fetch_all_urls_async(doc_urls):\n",
    "    \"\"\"Fetch all URLs concurrently using aiohttp.\"\"\"\n",
    "    async with aiohttp.ClientSession() as session:\n",
    "        tasks = [fetch_url_async(session, url) for url in doc_urls]\n",
    "        \n",
    "        return await asyncio.gather(*tasks)\n",
    "\n",
    "async def process_batch_parallel_async(batch, call_count, top_k_retrieval, chunk_size, chunk_overlap):\n",
    "    \"\"\"Process a batch asynchronously.\"\"\"\n",
    "    start_time   = time.time()\n",
    "    current_time = datetime.now().strftime('%Y-%m-%d %H:%M:%S')\n",
    "\n",
    "    inputs = []\n",
    "    labels = []\n",
    "\n",
    "    for idx in range(len(batch[\"question\"])):\n",
    "        question = batch['question'][idx]\n",
    "        snippets = batch['snippets'][idx]\n",
    "        documents = batch['documents'][idx]\n",
    "        label = batch['labels'][idx]\n",
    "        \n",
    "        print(f'question: {question}')\n",
    "\n",
    "        doc_urls = documents.split(\"\\n\")\n",
    "        doc_contents = await fetch_all_urls_async(doc_urls)  # Fully async fetch.\n",
    "\n",
    "        # Process the retrieved content.\n",
    "        retrieved_chunks = retrieve_from_docs(query            = question, \n",
    "                                              documents        = doc_contents,\n",
    "                                              top_k_retrieval  = top_k_retrieval,\n",
    "                                              chunk_size       = chunk_size,\n",
    "                                              chunk_overlap    = chunk_overlap)\n",
    "        \n",
    "        # Normalize Snippets to search the matches with retrieved_chunks.\n",
    "        import string\n",
    "        def normalize(text):\n",
    "            return text.strip().lower().rstrip(string.punctuation)\n",
    "        \n",
    "        snippets_set = set(normalize(sentence) \n",
    "                           for snippet in snippets.split('\\n')\n",
    "                           for sentence in snippet.split('. '))\n",
    "        \n",
    "        # Delete chunks that are already in snippets.\n",
    "        retrieved_chunks_unique = [chunk for chunk in retrieved_chunks\n",
    "                                   if normalize(chunk) not in snippets_set]\n",
    "    \n",
    "        retrieved_chunks_unique = \"\\n\".join(retrieved_chunks_unique)\n",
    "\n",
    "        # Construct input_text from prompt.\n",
    "        input_text = prompt_exact.format(\n",
    "            question          = question,\n",
    "            snippets          = snippets,\n",
    "            retrieved_chunks  = retrieved_chunks_unique,\n",
    "        )\n",
    "\n",
    "        inputs.append(input_text)\n",
    "        labels.append(label)\n",
    "\n",
    "    # Don't need to save, it's very fast now :)\n",
    "    '''\n",
    "    # Save intermediate dataset, for each batch.\n",
    "    batch_dataset = Dataset.from_dict({\"input\": inputs, \"label\": labels})\n",
    "    save_path = \"rag/train_ds_rag_prep\"\n",
    "    os.makedirs(save_path, exist_ok=True)\n",
    "    batch_dataset.save_to_disk(f\"{save_path}/batch_{call_count}\")\n",
    "    '''\n",
    "    \n",
    "    elapsed_time = time.time() - start_time\n",
    "    print(f'{call_count}th Batch completed in {elapsed_time:.2f} seconds. ({(elapsed_time / len(batch[\"question\"])):.2f}s/ examples)')\n",
    "\n",
    "    return {\"input\": inputs, \"labels\": labels}\n"
   ]
  },
  {
   "cell_type": "markdown",
   "id": "6faa82f4-8047-43df-b62b-45ad8c0e37d2",
   "metadata": {
    "tags": []
   },
   "source": [
    "### 5.4.8. Retrieve and Save.\n",
    "- Note) It could take several hours depending on your Internet speed, because of WebBaseLoader (4~5 secs/question for me)."
   ]
  },
  {
   "cell_type": "code",
   "execution_count": 52,
   "id": "18d1cb3a-778e-4d8f-b87b-2e54dd0a60a7",
   "metadata": {
    "tags": []
   },
   "outputs": [
    {
     "name": "stdout",
     "output_type": "stream",
     "text": [
      "Processing Starts! (2025-01-09 03:42:07)\n",
      "- Batch size         = 16\n",
      "- Num of workers     = 64\n",
      "- Num of samples     = 1085\n",
      "- Num of batches     = 67\n",
      "- Chunk size         = 200\n",
      "- Chunk overlap      = 20\n",
      "1th Batch completed in 86.52 seconds. (5.41s/ examples)\n",
      "2th Batch completed in 82.01 seconds. (5.13s/ examples)\n",
      "3th Batch completed in 86.36 seconds. (5.40s/ examples)\n",
      "4th Batch completed in 100.74 seconds. (6.30s/ examples)\n",
      "5th Batch completed in 91.16 seconds. (5.70s/ examples)\n",
      "6th Batch completed in 76.01 seconds. (4.75s/ examples)\n",
      "7th Batch completed in 30.20 seconds. (5.03s/ examples)\n",
      "Processing Finished! (2025-01-09_03-51-20)\n"
     ]
    },
    {
     "data": {
      "application/vnd.jupyter.widget-view+json": {
       "model_id": "db51a92171b9497cb9af90f09b3d4808",
       "version_major": 2,
       "version_minor": 0
      },
      "text/plain": [
       "Saving the dataset (0/1 shards):   0%|          | 0/102 [00:00<?, ? examples/s]"
      ]
     },
     "metadata": {},
     "output_type": "display_data"
    }
   ],
   "source": [
    "from datetime import datetime\n",
    "\n",
    "# Suppress chunk size warning during split.\n",
    "import logging\n",
    "logging.getLogger(\"langchain_text_splitters.base\").setLevel(logging.ERROR)\n",
    "\n",
    "# Hyperparameters.\n",
    "chunk_size      = 200\n",
    "chunk_overlap   = 20\n",
    "batch_size      = 16\n",
    "num_workers     = 64\n",
    "top_k_retrieval = 5\n",
    "\n",
    "is_test         = False   # If True, do test with small set.\n",
    "n_samples_test  = 5\n",
    "\n",
    "ds_to_retrieve  = test_ds\n",
    "\n",
    "async def process_all_batches_async(dataset, batch_size, top_k_retrieval, chunk_size, chunk_overlap):\n",
    "    call_count = 0\n",
    "    \n",
    "    all_inputs = []\n",
    "    all_labels = []\n",
    "    \n",
    "    for i in range(0, len(dataset), batch_size):\n",
    "        batch = dataset[i:i + batch_size]  \n",
    "        call_count += 1\n",
    "        \n",
    "        # Use `asyncio` from test 5.\n",
    "        result = await process_batch_parallel_async(batch, \n",
    "                                                    call_count, \n",
    "                                                    top_k_retrieval, \n",
    "                                                    chunk_size, \n",
    "                                                    chunk_overlap)  \n",
    "\n",
    "        all_inputs.extend(result[\"input\"])\n",
    "        all_labels.extend(result[\"labels\"])\n",
    "        \n",
    "    # Combine all processed batches into a single dataset.\n",
    "    return Dataset.from_dict({\"input\": all_inputs, \"labels\": all_labels})\n",
    "        \n",
    "# Run the process and set train_ds_rag_prep.\n",
    "start_time = datetime.now().strftime('%Y-%m-%d %H:%M:%S')\n",
    "print(f\"Processing Starts! ({start_time})\")\n",
    "print(f\"{'- Batch size':<20} = {batch_size}\")\n",
    "print(f\"{'- Num of workers':<20} = {num_workers}\")\n",
    "print(f\"{'- Num of samples':<20} = {len(train_ds_rag)}\")\n",
    "print(f\"{'- Num of batches':<20} = {int(len(train_ds_rag) / batch_size)}\")\n",
    "print(f\"{'- Chunk size':<20} = {chunk_size}\")\n",
    "print(f\"{'- Chunk overlap':<20} = {chunk_overlap}\")\n",
    "\n",
    "async def retrieve_and_save(ds, ds_type, is_test, n_samples_test):\n",
    "    # for test.\n",
    "    if is_test:\n",
    "        ds     = ds.select(range(n_samples_test))\n",
    "\n",
    "        ds = await process_all_batches_async(ds,\n",
    "                                             batch_size=batch_size,\n",
    "                                             top_k_retrieval=top_k_retrieval,\n",
    "                                             chunk_size=chunk_size,\n",
    "                                             chunk_overlap=chunk_overlap)\n",
    "\n",
    "    # for full process.\n",
    "    else:\n",
    "        ds = await process_all_batches_async(ds,\n",
    "                                             batch_size=batch_size,\n",
    "                                             top_k_retrieval=top_k_retrieval,\n",
    "                                             chunk_size=chunk_size,\n",
    "                                             chunk_overlap=chunk_overlap)\n",
    "        \n",
    "        end_time = datetime.now().strftime('%Y-%m-%d_%H-%M-%S')\n",
    "        print(f\"Processing Finished! ({end_time})\")\n",
    "\n",
    "        # Save the final dataset\n",
    "        ds.save_to_disk(\"datasets/rag/\" + end_time + ds_type)\n",
    "\n",
    "# retrieve.\n",
    "await retrieve_and_save(ds_to_retrieve, \"/test\", is_test=False, n_samples_test=n_samples_test)"
   ]
  },
  {
   "cell_type": "markdown",
   "id": "131b45d6-64c0-46f6-9c08-ddfd21929750",
   "metadata": {
    "tags": []
   },
   "source": [
    "### 5.4.9. Save and Load."
   ]
  },
  {
   "cell_type": "code",
   "execution_count": 88,
   "id": "b71297bf-8706-4f1c-87cc-78d073a15ba2",
   "metadata": {
    "tags": []
   },
   "outputs": [
    {
     "data": {
      "text/plain": [
       "'Question: Is the Wnt protein modified by notum?\\nSnippets:\\nNotum deacylates Wnt proteins to suppress signalling activity.\\nKinetic and mass spectrometric analyses of human proteins show that Notum is a carboxylesterase that removes an essential palmitoleate moiety from Wnt proteins and thus constitutes the first known extracellular protein deacylase.\\nthe Wnt inhibitor notum\\nthe WNT-inhibitor notum.\\nRetrieved Chunks:\\nStructural analyses reveal glycosaminoglycan binding sites on Notum, which probably help Notum to co-localize with Wnt proteins\\nNotum has been thought to act as a phospholipase, shedding glypicans and associated Wnt proteins from the cell surface\\nWe further show that Notum, a negative regulator of Wg signaling, downregulates Wg signaling mainly by modifying Dally\\nNotum 1a does not interact with Glypican 4, an essential component of the Wnt/planar cell polarity (PCP) pathway\\nAnswer:\\n'"
      ]
     },
     "execution_count": 88,
     "metadata": {},
     "output_type": "execute_result"
    }
   ],
   "source": [
    "# Save.\n",
    "ds.save_to_disk(\"datasets/rag/\" + end_time + ds_type)\n",
    "\n",
    "# Load.\n",
    "from datasets import load_from_disk\n",
    "\n",
    "# Edit path to your dataset.\n",
    "load_datetime          = \"final\"\n",
    "train_ds_rag_prep_load = load_from_disk(\"datasets/rag/\" + load_datetime + \"/train\")\n",
    "valid_ds_rag_prep_load = load_from_disk(\"datasets/rag/\" + load_datetime + \"/valid\")\n",
    "\n",
    "train_ds_rag_prep_load['input'][0]"
   ]
  },
  {
   "cell_type": "markdown",
   "id": "59470f5a-e137-4475-8c2a-8abdaa1e1195",
   "metadata": {
    "tags": []
   },
   "source": [
    "# 6. RAG."
   ]
  },
  {
   "cell_type": "markdown",
   "id": "a1b3d82f-8a47-4510-b6dc-3661d5172fe7",
   "metadata": {
    "tags": [],
    "toc-hr-collapsed": true
   },
   "source": [
    "## 6.1. Training Loop with Optuna."
   ]
  },
  {
   "cell_type": "code",
   "execution_count": 82,
   "id": "73c7b253-0192-4201-a5f0-b7c52403f07b",
   "metadata": {
    "tags": []
   },
   "outputs": [],
   "source": [
    "# Imports.\n",
    "import optuna\n",
    "from peft import LoraConfig, get_peft_model, prepare_model_for_kbit_training\n",
    "from transformers import BitsAndBytesConfig\n",
    "from transformers import AutoModelForSequenceClassification\n",
    "from transformers import TrainingArguments, Trainer\n",
    "from transformers import AutoTokenizer\n",
    "from datasets import load_from_disk, Dataset\n",
    "from datetime import datetime\n",
    "from transformers import TrainerCallback, EarlyStoppingCallback\n",
    "\n",
    "# Save time for ensemble.\n",
    "save_time = datetime.now().strftime(\"%Y-%m-%d-%H-%M-%S\")\n",
    "\n",
    "# objective for Optuna.\n",
    "def objective(trial, is_test, is_ensemble):\n",
    "    global save_time\n",
    "    \n",
    "    # Data.\n",
    "    load_datetime = \"final\"\n",
    "    train_ds      = load_from_disk(\"datasets/rag/\" + load_datetime + \"/train\")\n",
    "    valid_ds      = load_from_disk(\"datasets/rag/\" + load_datetime + \"/valid\")\n",
    "    test_ds       = load_from_disk(\"datasets/rag/\" + load_datetime + \"/test\")\n",
    "    \n",
    "    # Split for data augmentation.\n",
    "    train_ds_rag = bioasq_libs.split_by_snippets_docs(ds=train_ds, only_no=True).shuffle()\n",
    "    valid_ds_rag = bioasq_libs.split_by_snippets_docs(ds=valid_ds, only_no=True).shuffle()\n",
    "    \n",
    "    # Hyperparameters to tune.\n",
    "    hyperparams = {\n",
    "        'n_epochs': 30,\n",
    "        'batch_size': trial.suggest_categorical('batch_size', [8, 16]),\n",
    "        'max_length': 512,\n",
    "        'weight_decay': trial.suggest_float('weight_decay', 2e-2, 3e-2),\n",
    "#        'stride': trial.suggest_categorical('stride', [128, 256]),\n",
    "        'warmup_ratio': trial.suggest_float('warmup_ratio', 0.08, 0.12),     # warmup_steps = total_steps * warmup_ratio.\n",
    "        'learning_rate': trial.suggest_float('learning_rate', 5e-5, 5e-4),\n",
    "        'lora_dropout': trial.suggest_float('lora_dropout', 0.1, 0.2),\n",
    "        'class_weights_penalty': trial.suggest_float('class_weights_penalty', 1.2, 2.0),     # multiply class weights of less frequent class, i.e. 'no'.\n",
    "        'early_stopping_patience': 3,\n",
    "        'early_stopping_threshold': 1e-3,\n",
    "        'max_grad_norm': 1.0,\n",
    "#        'gradient_accumulation_steps': trial.suggest_categorical('gradient_accumulation_steps', [0, 1]),\n",
    "#        'lr_scheduler_type': trial.suggest_categorical(\n",
    "#            'lr_scheduler_type', ['linear', 'cosine', 'cosine_with_restarts']\n",
    "#        )\n",
    "    }\n",
    "    \n",
    "    # Class weights.\n",
    "    from collections import Counter\n",
    "    labels        = train_ds_rag[\"labels\"]\n",
    "    n_classes     = 2\n",
    "    class_counts  = Counter(labels)\n",
    "    class_weights = {cls: 1.0 / count for cls, count in class_counts.items()}\n",
    "    class_weights = torch.tensor([class_weights[i] for i in range(n_classes)], device=device)\n",
    "    class_weights[0] = class_weights[0] * hyperparams['class_weights_penalty']\n",
    "    print(f\"Class counts: {class_counts}\")\n",
    "    \n",
    "    # LLMs to test.\n",
    "    checkpoint = trial.suggest_categorical(\n",
    "        \"checkpoint\",\n",
    "        [\n",
    "            \"bert-base-uncased\",\n",
    "#            \"distilbert-base-uncased\",\n",
    "            \"microsoft/BiomedNLP-PubMedBERT-base-uncased-abstract\",\n",
    "            \"dmis-lab/biobert-base-cased-v1.2\",\n",
    "            \"kamalkraj/bioelectra-base-discriminator-pubmed\",\n",
    "        ]\n",
    "    )\n",
    "    \n",
    "    # Start time.\n",
    "    cur_time = datetime.now().strftime(\"%Y-%m-%d %H:%M:%S\")\n",
    "    print(f\"--- Model: {checkpoint}. ---\")\n",
    "    print(f\"--- Time: {cur_time}. ---\")\n",
    "    \n",
    "    # Settings for test.\n",
    "    if is_test:\n",
    "        train_ds_rag = train_ds_rag.select(range(20))\n",
    "        valid_ds_rag = valid_ds_rag.select(range(20))\n",
    "        hyperparams['n_epochs'] = 1\n",
    "#        checkpoint = \"distilbert-base-uncased\"\n",
    "    \n",
    "    # Tokenization.\n",
    "    tokenizer_rag = AutoTokenizer.from_pretrained(checkpoint)\n",
    "\n",
    "    def tokenize_rag(sample):\n",
    "        return tokenizer_rag(sample['input'], \n",
    "                             truncation      = True, \n",
    "                             padding         = 'max_length',\n",
    "                             max_length      = hyperparams['max_length'],\n",
    "#                             stride          = hyperparams['stride'],\n",
    "#                             return_overflowing_tokens = True,\n",
    "                             return_tensors  ='pt'\n",
    "                            )\n",
    "    \n",
    "    train_ds_rag = train_ds_rag.map(tokenize_rag, remove_columns=['input'])\n",
    "    valid_ds_rag = valid_ds_rag.map(tokenize_rag, remove_columns=['input'])\n",
    "    \n",
    "    \n",
    "    # Custom collate function to handle the shape after stride.\n",
    "    def collate_fn(batch):\n",
    "        input_ids       = []\n",
    "        attention_masks = []\n",
    "        labels          = []\n",
    "\n",
    "        for example in batch:\n",
    "            input_ids.extend(example['input_ids'])                          # Extend all chunks.\n",
    "            attention_masks.extend(example['attention_mask'])               # Extend attention masks.\n",
    "            labels.extend([example['labels']])  # Extend labels.\n",
    "#            labels.extend([example['labels']] * len(example['input_ids']))  # Duplicate labels, for stride.\n",
    "\n",
    "        return {\n",
    "            'input_ids'      : torch.tensor(input_ids),\n",
    "            'attention_mask' : torch.tensor(attention_masks),\n",
    "            'labels'         : torch.tensor(labels),\n",
    "        }\n",
    "    \n",
    "    # Quantization.\n",
    "    quantization_config = BitsAndBytesConfig(\n",
    "        load_in_4bit            = True, \n",
    "        llm_int4_threshold      = 6.0,\n",
    "        bnb_4bit_compute_dtype  = torch.float16,\n",
    "        low_cpu_mem_usage       = True,\n",
    "        llm_int8_skip_modules   = [\"classifier\", \"pre_classifier\"]\n",
    "    )\n",
    "    \n",
    "   # Model.\n",
    "    model = AutoModelForSequenceClassification.from_pretrained(\n",
    "        checkpoint, \n",
    "        num_labels          = 2,\n",
    "        quantization_config = quantization_config,\n",
    "    ).to(device)\n",
    "    \n",
    "    model       = prepare_model_for_kbit_training(model)\n",
    "\n",
    "    # Target modules for LoRA. Note that \"all-linears\" can occur err or unexpected result.\n",
    "    if checkpoint == \"distilbert-base-uncased\":\n",
    "        target_modules = [\"q_lin\", \"k_lin\"]\n",
    "    else:\n",
    "#         target_modules = 'all-linear'\n",
    "        target_modules = ['query', 'key']\n",
    "\n",
    "\n",
    "    # Apply LoRA.\n",
    "    lora_config = LoraConfig(\n",
    "        r              = 8,                           # Rank of the low-rank decomposition.\n",
    "        lora_alpha     = 32,                          # Scaling factor.\n",
    "        lora_dropout   = hyperparams['lora_dropout'], # Dropout.\n",
    "        target_modules = target_modules,              # Target modules.\n",
    "        task_type      = \"SEQ_CLS\",                   # Task type = sequential clf.\n",
    "        init_lora_weights=\"olora\")\n",
    "    \n",
    "    model = get_peft_model(model, lora_config)\n",
    "    \n",
    "    # Callbacks - Early stopping callback.\n",
    "    early_stopping_callback = EarlyStoppingCallback(\n",
    "        early_stopping_patience  = hyperparams['early_stopping_patience'],    \n",
    "        early_stopping_threshold = hyperparams['early_stopping_threshold'] \n",
    "    )\n",
    "    \n",
    "    \n",
    "    # Training args.\n",
    "    warmup_steps = (len(train_ds_rag) / hyperparams['batch_size']) * hyperparams['n_epochs'] * hyperparams['warmup_ratio']\n",
    "    warmup_steps = int(warmup_steps)\n",
    "    training_args_rag = TrainingArguments(\n",
    "        bf16                    = True,                          # Mandatory! Training time could significantly shorten. But check your GPU.\n",
    "        logging_steps           = 100,                           # Without this, training_loss might not be properly printed on progress.\n",
    "        output_dir              = \"./results\",\n",
    "        eval_strategy           = \"epoch\",\n",
    "        num_train_epochs        = hyperparams['n_epochs'],\n",
    "        save_strategy           = \"epoch\",\n",
    "        logging_dir             = \"./logs\",\n",
    "        weight_decay            = hyperparams['weight_decay'],\n",
    "#        gradient_accumulation_steps = hyperparams['gradient_accumulation_steps'],\n",
    "        load_best_model_at_end  = True,\n",
    "        warmup_steps            = warmup_steps,\n",
    "        max_grad_norm           = hyperparams['max_grad_norm'],\n",
    "        metric_for_best_model   = 'macro_f1',\n",
    "        learning_rate           = hyperparams['learning_rate'],  # Use tuned learning rate.\n",
    "#        lr_scheduler_type       = hyperparams['lr_scheduler_type'],\n",
    "        optim                   = \"adamw_bnb_8bit\",              # 8-bits Quantization for optimizer.\n",
    "        per_device_train_batch_size = hyperparams['batch_size'],\n",
    "    )\n",
    "    \n",
    "    # Trainer for class weights.\n",
    "    class WeightedTrainer(Trainer):\n",
    "        def __init__(self, *args, class_weights, **kwargs):\n",
    "            super().__init__(*args, **kwargs)\n",
    "            self.class_weights = class_weights  # Store class_weights as an instance attribute\n",
    "\n",
    "        def compute_loss(self, model, inputs, return_outputs=False, **kwargs):\n",
    "            labels        = inputs.get(\"labels\")\n",
    "            num_classes   = self.model.config.num_labels  # Total number of classes.\n",
    "            device        = labels.device\n",
    "            class_weights = self.class_weights.to(device) # Do NOT calculate in here, it will calculate in a batch.\n",
    "\n",
    "            # Compute the loss.\n",
    "            outputs  = model(**inputs)\n",
    "            logits   = outputs.get(\"logits\")\n",
    "            loss_fct = nn.CrossEntropyLoss(weight=class_weights)\n",
    "            loss     = loss_fct(logits.view(-1, num_classes), labels.view(-1))\n",
    "            return (loss, outputs) if return_outputs else loss\n",
    "    \n",
    "    \n",
    "    trainer_rag = WeightedTrainer(\n",
    "        model             = model,\n",
    "        args              = training_args_rag,\n",
    "        train_dataset     = train_ds_rag,\n",
    "        eval_dataset      = valid_ds_rag,\n",
    "        processing_class  = tokenizer_rag,\n",
    "        callbacks         = [early_stopping_callback], \n",
    "        data_collator     = collate_fn,                   # Custom collate function for stride.\n",
    "        class_weights     = class_weights,\n",
    "        compute_metrics   = bioasq_libs.compute_metrics,  # Custom metrics.\n",
    "    )\n",
    "    \n",
    "\n",
    "    # Train.\n",
    "    trainer_rag.train()\n",
    "    \n",
    "    # Evaluate.\n",
    "    eval_results = trainer_rag.evaluate()\n",
    "    \n",
    "    # Results.\n",
    "    history          = trainer_rag.state.log_history\n",
    "    total_train_time = sum([log.get(\"train_runtime\", 0) for log in history])\n",
    "    \n",
    "    trial.set_user_attr(key=\"model_name\", value=trainer_rag.model.name_or_path)\n",
    "    trial.set_user_attr(key=\"best_params\", value=hyperparams)\n",
    "    trial.set_user_attr(key=\"results\", value=eval_results)\n",
    "    trial.set_user_attr(key=\"training_time\", value=total_train_time)\n",
    "    \n",
    "    \"\"\"\n",
    "    # Save logits and predictions for ensemble.\n",
    "    if is_ensemble == True:\n",
    "        test_ds_list = [\n",
    "            test_ds.select(range(0, 25)),\n",
    "            test_ds.select(range(25, 51)),\n",
    "            test_ds.select(range(51, 75)),\n",
    "            test_ds.select(range(75, 102))\n",
    "        ]\n",
    "\n",
    "        valid_logits  = bioasq_libs.get_logits_for_ensemble(valid_ds, model, tokenizer_rag, hyperparams['batch_size'])\n",
    "        valid_logits  = np.array(valid_logits)\n",
    "        valid_preds   = valid_logits.argmax(axis=-1)\n",
    "\n",
    "        save_dir_valid = f\"predictions/{save_time}/valid\"\n",
    "        os.makedirs(save_dir_valid, exist_ok=True)  # Create the directory if it doesn't exist\n",
    "\n",
    "        save_path_logits_valid = f\"{save_dir_valid}/trial_{trial.number}_logits.npy\"\n",
    "        save_path_preds_valid  = f\"{save_dir_valid}/trial_{trial.number}_predictions.npy\"\n",
    "\n",
    "    #    print(f\"Save valid logits to {save_path_logits_valid}.\")\n",
    "        np.save(save_path_logits_valid, valid_logits)\n",
    "        np.save(save_path_preds_valid, valid_preds)\n",
    "\n",
    "        for i in range(len(test_ds_list)):\n",
    "            test_logits = bioasq_libs.get_logits_for_ensemble(test_ds_list[i], model, tokenizer_rag, hyperparams['batch_size'])\n",
    "            test_logits = np.array(test_logits)\n",
    "            test_preds  = test_logits.argmax(axis=-1)\n",
    "\n",
    "            save_dir = f\"predictions/{save_time}/test-{i}\"\n",
    "            os.makedirs(save_dir, exist_ok=True)  \n",
    "\n",
    "            save_path_logits = f\"{save_dir}/trial_{trial.number}_logits.npy\"\n",
    "            save_path_preds = f\"{save_dir}/trial_{trial.number}_predictions.npy\"\n",
    "\n",
    "    #        print(f\"Save logits to {save_path_logits}.\")\n",
    "            np.save(save_path_logits, test_logits)\n",
    "\n",
    "    #        print(f\"Saved preds to {save_path_preds}.\")\n",
    "            np.save(save_path_preds, test_preds)\n",
    "    \"\"\"\n",
    "\n",
    "    return eval_results[\"eval_macro_f1\"]"
   ]
  },
  {
   "cell_type": "markdown",
   "id": "556e2b79-94dc-43d4-8298-6c246a599e61",
   "metadata": {},
   "source": [
    "> #### 💁‍♂️ Data Augmentation and Shuffle.\n",
    "> You must shuffe after this kind of data augmentation.  \n",
    "> Because **'q-s'** and **'q-d'** have high correlations."
   ]
  },
  {
   "cell_type": "markdown",
   "id": "e119279a-1b13-4b18-aefa-47cc29bc9bad",
   "metadata": {},
   "source": [
    "## 6.2. Fine-Tuning."
   ]
  },
  {
   "cell_type": "code",
   "execution_count": 83,
   "id": "779e535a-a96b-4e68-9093-3365c64c5c07",
   "metadata": {
    "collapsed": true,
    "jupyter": {
     "outputs_hidden": true
    },
    "tags": []
   },
   "outputs": [
    {
     "name": "stderr",
     "output_type": "stream",
     "text": [
      "[I 2025-01-10 17:11:04,485] A new study created in memory with name: no-name-f08d325b-e89e-4ebd-96dc-bc3929f65494\n"
     ]
    },
    {
     "name": "stdout",
     "output_type": "stream",
     "text": [
      "Class counts: Counter({1: 802, 0: 566})\n",
      "--- Model: microsoft/BiomedNLP-PubMedBERT-base-uncased-abstract. ---\n",
      "--- Time: 2025-01-10 17:11:04. ---\n"
     ]
    },
    {
     "data": {
      "application/vnd.jupyter.widget-view+json": {
       "model_id": "6913a3a3b8f545ff8cc369adfc7fa32b",
       "version_major": 2,
       "version_minor": 0
      },
      "text/plain": [
       "Map:   0%|          | 0/20 [00:00<?, ? examples/s]"
      ]
     },
     "metadata": {},
     "output_type": "display_data"
    },
    {
     "data": {
      "application/vnd.jupyter.widget-view+json": {
       "model_id": "f156d6a0f8ab44f090fda59df73a6ece",
       "version_major": 2,
       "version_minor": 0
      },
      "text/plain": [
       "Map:   0%|          | 0/20 [00:00<?, ? examples/s]"
      ]
     },
     "metadata": {},
     "output_type": "display_data"
    },
    {
     "name": "stderr",
     "output_type": "stream",
     "text": [
      "Unused kwargs: ['llm_int4_threshold', 'low_cpu_mem_usage']. These kwargs are not used in <class 'transformers.utils.quantization_config.BitsAndBytesConfig'>.\n",
      "`low_cpu_mem_usage` was None, now default to True since model is quantized.\n",
      "Some weights of BertForSequenceClassification were not initialized from the model checkpoint at microsoft/BiomedNLP-PubMedBERT-base-uncased-abstract and are newly initialized: ['classifier.bias', 'classifier.weight']\n",
      "You should probably TRAIN this model on a down-stream task to be able to use it for predictions and inference.\n"
     ]
    },
    {
     "data": {
      "text/html": [
       "\n",
       "    <div>\n",
       "      \n",
       "      <progress value='3' max='2' style='width:300px; height:20px; vertical-align: middle;'></progress>\n",
       "      [2/2 00:00, Epoch 1/1]\n",
       "    </div>\n",
       "    <table border=\"1\" class=\"dataframe\">\n",
       "  <thead>\n",
       " <tr style=\"text-align: left;\">\n",
       "      <th>Epoch</th>\n",
       "      <th>Training Loss</th>\n",
       "      <th>Validation Loss</th>\n",
       "    </tr>\n",
       "  </thead>\n",
       "  <tbody>\n",
       "  </tbody>\n",
       "</table><p>"
      ],
      "text/plain": [
       "<IPython.core.display.HTML object>"
      ]
     },
     "metadata": {},
     "output_type": "display_data"
    },
    {
     "name": "stderr",
     "output_type": "stream",
     "text": [
      "[W 2025-01-10 17:11:09,019] Trial 0 failed with parameters: {'batch_size': 16, 'weight_decay': 0.029276546477511586, 'warmup_ratio': 0.09630006568919128, 'learning_rate': 0.00017438434907585668, 'lora_dropout': 0.13741893964140459, 'class_weights_penalty': 1.980941695447486, 'checkpoint': 'microsoft/BiomedNLP-PubMedBERT-base-uncased-abstract'} because of the following error: KeyboardInterrupt().\n",
      "Traceback (most recent call last):\n",
      "  File \"C:\\Users\\yana\\anaconda3\\envs\\nlp_prac\\lib\\site-packages\\optuna\\study\\_optimize.py\", line 197, in _run_trial\n",
      "    value_or_values = func(trial)\n",
      "  File \"C:\\Users\\yana\\AppData\\Local\\Temp\\ipykernel_17496\\3016614617.py\", line 11, in <lambda>\n",
      "    study.optimize(lambda trial: objective(trial, is_test, is_ensemble),\n",
      "  File \"C:\\Users\\yana\\AppData\\Local\\Temp\\ipykernel_17496\\434858610.py\", line 219, in objective\n",
      "    trainer_rag.train()\n",
      "  File \"C:\\Users\\yana\\anaconda3\\envs\\nlp_prac\\lib\\site-packages\\transformers\\trainer.py\", line 2171, in train\n",
      "    return inner_training_loop(\n",
      "  File \"C:\\Users\\yana\\anaconda3\\envs\\nlp_prac\\lib\\site-packages\\transformers\\trainer.py\", line 2598, in _inner_training_loop\n",
      "    self._maybe_log_save_evaluate(\n",
      "  File \"C:\\Users\\yana\\anaconda3\\envs\\nlp_prac\\lib\\site-packages\\transformers\\trainer.py\", line 3078, in _maybe_log_save_evaluate\n",
      "    self._save_checkpoint(model, trial)\n",
      "  File \"C:\\Users\\yana\\anaconda3\\envs\\nlp_prac\\lib\\site-packages\\transformers\\trainer.py\", line 3210, in _save_checkpoint\n",
      "    self.save_model(output_dir, _internal_call=True)\n",
      "  File \"C:\\Users\\yana\\anaconda3\\envs\\nlp_prac\\lib\\site-packages\\transformers\\trainer.py\", line 3829, in save_model\n",
      "    self._save(output_dir)\n",
      "  File \"C:\\Users\\yana\\anaconda3\\envs\\nlp_prac\\lib\\site-packages\\transformers\\trainer.py\", line 3933, in _save\n",
      "    self.model.save_pretrained(\n",
      "  File \"C:\\Users\\yana\\anaconda3\\envs\\nlp_prac\\lib\\site-packages\\peft\\peft_model.py\", line 326, in save_pretrained\n",
      "    output_state_dict = get_peft_model_state_dict(\n",
      "  File \"C:\\Users\\yana\\anaconda3\\envs\\nlp_prac\\lib\\site-packages\\peft\\utils\\save_and_load.py\", line 258, in get_peft_model_state_dict\n",
      "    and (vocab_size != model.config.__class__.from_pretrained(model_id).vocab_size)\n",
      "  File \"C:\\Users\\yana\\anaconda3\\envs\\nlp_prac\\lib\\site-packages\\transformers\\configuration_utils.py\", line 551, in from_pretrained\n",
      "    config_dict, kwargs = cls.get_config_dict(pretrained_model_name_or_path, **kwargs)\n",
      "  File \"C:\\Users\\yana\\anaconda3\\envs\\nlp_prac\\lib\\site-packages\\transformers\\configuration_utils.py\", line 591, in get_config_dict\n",
      "    config_dict, kwargs = cls._get_config_dict(pretrained_model_name_or_path, **kwargs)\n",
      "  File \"C:\\Users\\yana\\anaconda3\\envs\\nlp_prac\\lib\\site-packages\\transformers\\configuration_utils.py\", line 650, in _get_config_dict\n",
      "    resolved_config_file = cached_file(\n",
      "  File \"C:\\Users\\yana\\anaconda3\\envs\\nlp_prac\\lib\\site-packages\\transformers\\utils\\hub.py\", line 403, in cached_file\n",
      "    resolved_file = hf_hub_download(\n",
      "  File \"C:\\Users\\yana\\anaconda3\\envs\\nlp_prac\\lib\\site-packages\\huggingface_hub\\utils\\_validators.py\", line 114, in _inner_fn\n",
      "    return fn(*args, **kwargs)\n",
      "  File \"C:\\Users\\yana\\anaconda3\\envs\\nlp_prac\\lib\\site-packages\\huggingface_hub\\file_download.py\", line 860, in hf_hub_download\n",
      "    return _hf_hub_download_to_cache_dir(\n",
      "  File \"C:\\Users\\yana\\anaconda3\\envs\\nlp_prac\\lib\\site-packages\\huggingface_hub\\file_download.py\", line 923, in _hf_hub_download_to_cache_dir\n",
      "    (url_to_download, etag, commit_hash, expected_size, head_call_error) = _get_metadata_or_catch_error(\n",
      "  File \"C:\\Users\\yana\\anaconda3\\envs\\nlp_prac\\lib\\site-packages\\huggingface_hub\\file_download.py\", line 1374, in _get_metadata_or_catch_error\n",
      "    metadata = get_hf_file_metadata(\n",
      "  File \"C:\\Users\\yana\\anaconda3\\envs\\nlp_prac\\lib\\site-packages\\huggingface_hub\\utils\\_validators.py\", line 114, in _inner_fn\n",
      "    return fn(*args, **kwargs)\n",
      "  File \"C:\\Users\\yana\\anaconda3\\envs\\nlp_prac\\lib\\site-packages\\huggingface_hub\\file_download.py\", line 1294, in get_hf_file_metadata\n",
      "    r = _request_wrapper(\n",
      "  File \"C:\\Users\\yana\\anaconda3\\envs\\nlp_prac\\lib\\site-packages\\huggingface_hub\\file_download.py\", line 278, in _request_wrapper\n",
      "    response = _request_wrapper(\n",
      "  File \"C:\\Users\\yana\\anaconda3\\envs\\nlp_prac\\lib\\site-packages\\huggingface_hub\\file_download.py\", line 301, in _request_wrapper\n",
      "    response = get_session().request(method=method, url=url, **params)\n",
      "  File \"C:\\Users\\yana\\anaconda3\\envs\\nlp_prac\\lib\\site-packages\\requests\\sessions.py\", line 589, in request\n",
      "    resp = self.send(prep, **send_kwargs)\n",
      "  File \"C:\\Users\\yana\\anaconda3\\envs\\nlp_prac\\lib\\site-packages\\requests\\sessions.py\", line 703, in send\n",
      "    r = adapter.send(request, **kwargs)\n",
      "  File \"C:\\Users\\yana\\anaconda3\\envs\\nlp_prac\\lib\\site-packages\\huggingface_hub\\utils\\_http.py\", line 93, in send\n",
      "    return super().send(request, *args, **kwargs)\n",
      "  File \"C:\\Users\\yana\\anaconda3\\envs\\nlp_prac\\lib\\site-packages\\requests\\adapters.py\", line 667, in send\n",
      "    resp = conn.urlopen(\n",
      "  File \"C:\\Users\\yana\\anaconda3\\envs\\nlp_prac\\lib\\site-packages\\urllib3\\connectionpool.py\", line 789, in urlopen\n",
      "    response = self._make_request(\n",
      "  File \"C:\\Users\\yana\\anaconda3\\envs\\nlp_prac\\lib\\site-packages\\urllib3\\connectionpool.py\", line 536, in _make_request\n",
      "    response = conn.getresponse()\n",
      "  File \"C:\\Users\\yana\\anaconda3\\envs\\nlp_prac\\lib\\site-packages\\urllib3\\connection.py\", line 507, in getresponse\n",
      "    httplib_response = super().getresponse()\n",
      "  File \"C:\\Users\\yana\\anaconda3\\envs\\nlp_prac\\lib\\http\\client.py\", line 1377, in getresponse\n",
      "    response.begin()\n",
      "  File \"C:\\Users\\yana\\anaconda3\\envs\\nlp_prac\\lib\\http\\client.py\", line 320, in begin\n",
      "    version, status, reason = self._read_status()\n",
      "  File \"C:\\Users\\yana\\anaconda3\\envs\\nlp_prac\\lib\\http\\client.py\", line 281, in _read_status\n",
      "    line = str(self.fp.readline(_MAXLINE + 1), \"iso-8859-1\")\n",
      "  File \"C:\\Users\\yana\\anaconda3\\envs\\nlp_prac\\lib\\socket.py\", line 704, in readinto\n",
      "    return self._sock.recv_into(b)\n",
      "  File \"C:\\Users\\yana\\anaconda3\\envs\\nlp_prac\\lib\\ssl.py\", line 1275, in recv_into\n",
      "    return self.read(nbytes, buffer)\n",
      "  File \"C:\\Users\\yana\\anaconda3\\envs\\nlp_prac\\lib\\ssl.py\", line 1133, in read\n",
      "    return self._sslobj.read(len, buffer)\n",
      "KeyboardInterrupt\n",
      "[W 2025-01-10 17:11:09,028] Trial 0 failed with value None.\n"
     ]
    },
    {
     "ename": "KeyboardInterrupt",
     "evalue": "",
     "output_type": "error",
     "traceback": [
      "\u001b[1;31m---------------------------------------------------------------------------\u001b[0m",
      "\u001b[1;31mKeyboardInterrupt\u001b[0m                         Traceback (most recent call last)",
      "Cell \u001b[1;32mIn[83], line 11\u001b[0m\n\u001b[0;32m      9\u001b[0m \u001b[38;5;66;03m# Create Optuna study and optimize.\u001b[39;00m\n\u001b[0;32m     10\u001b[0m study \u001b[38;5;241m=\u001b[39m optuna\u001b[38;5;241m.\u001b[39mcreate_study(direction\u001b[38;5;241m=\u001b[39m\u001b[38;5;124m'\u001b[39m\u001b[38;5;124mmaximize\u001b[39m\u001b[38;5;124m'\u001b[39m)\n\u001b[1;32m---> 11\u001b[0m \u001b[43mstudy\u001b[49m\u001b[38;5;241;43m.\u001b[39;49m\u001b[43moptimize\u001b[49m\u001b[43m(\u001b[49m\u001b[38;5;28;43;01mlambda\u001b[39;49;00m\u001b[43m \u001b[49m\u001b[43mtrial\u001b[49m\u001b[43m:\u001b[49m\u001b[43m \u001b[49m\u001b[43mobjective\u001b[49m\u001b[43m(\u001b[49m\u001b[43mtrial\u001b[49m\u001b[43m,\u001b[49m\u001b[43m \u001b[49m\u001b[43mis_test\u001b[49m\u001b[43m,\u001b[49m\u001b[43m \u001b[49m\u001b[43mis_ensemble\u001b[49m\u001b[43m)\u001b[49m\u001b[43m,\u001b[49m\u001b[43m \u001b[49m\n\u001b[0;32m     12\u001b[0m \u001b[43m               \u001b[49m\u001b[43mn_trials\u001b[49m\u001b[38;5;241;43m=\u001b[39;49m\u001b[43mn_trials\u001b[49m\u001b[43m)\u001b[49m\n",
      "File \u001b[1;32m~\\anaconda3\\envs\\nlp_prac\\lib\\site-packages\\optuna\\study\\study.py:475\u001b[0m, in \u001b[0;36mStudy.optimize\u001b[1;34m(self, func, n_trials, timeout, n_jobs, catch, callbacks, gc_after_trial, show_progress_bar)\u001b[0m\n\u001b[0;32m    373\u001b[0m \u001b[38;5;28;01mdef\u001b[39;00m \u001b[38;5;21moptimize\u001b[39m(\n\u001b[0;32m    374\u001b[0m     \u001b[38;5;28mself\u001b[39m,\n\u001b[0;32m    375\u001b[0m     func: ObjectiveFuncType,\n\u001b[1;32m   (...)\u001b[0m\n\u001b[0;32m    382\u001b[0m     show_progress_bar: \u001b[38;5;28mbool\u001b[39m \u001b[38;5;241m=\u001b[39m \u001b[38;5;28;01mFalse\u001b[39;00m,\n\u001b[0;32m    383\u001b[0m ) \u001b[38;5;241m-\u001b[39m\u001b[38;5;241m>\u001b[39m \u001b[38;5;28;01mNone\u001b[39;00m:\n\u001b[0;32m    384\u001b[0m \u001b[38;5;250m    \u001b[39m\u001b[38;5;124;03m\"\"\"Optimize an objective function.\u001b[39;00m\n\u001b[0;32m    385\u001b[0m \n\u001b[0;32m    386\u001b[0m \u001b[38;5;124;03m    Optimization is done by choosing a suitable set of hyperparameter values from a given\u001b[39;00m\n\u001b[1;32m   (...)\u001b[0m\n\u001b[0;32m    473\u001b[0m \u001b[38;5;124;03m            If nested invocation of this method occurs.\u001b[39;00m\n\u001b[0;32m    474\u001b[0m \u001b[38;5;124;03m    \"\"\"\u001b[39;00m\n\u001b[1;32m--> 475\u001b[0m     \u001b[43m_optimize\u001b[49m\u001b[43m(\u001b[49m\n\u001b[0;32m    476\u001b[0m \u001b[43m        \u001b[49m\u001b[43mstudy\u001b[49m\u001b[38;5;241;43m=\u001b[39;49m\u001b[38;5;28;43mself\u001b[39;49m\u001b[43m,\u001b[49m\n\u001b[0;32m    477\u001b[0m \u001b[43m        \u001b[49m\u001b[43mfunc\u001b[49m\u001b[38;5;241;43m=\u001b[39;49m\u001b[43mfunc\u001b[49m\u001b[43m,\u001b[49m\n\u001b[0;32m    478\u001b[0m \u001b[43m        \u001b[49m\u001b[43mn_trials\u001b[49m\u001b[38;5;241;43m=\u001b[39;49m\u001b[43mn_trials\u001b[49m\u001b[43m,\u001b[49m\n\u001b[0;32m    479\u001b[0m \u001b[43m        \u001b[49m\u001b[43mtimeout\u001b[49m\u001b[38;5;241;43m=\u001b[39;49m\u001b[43mtimeout\u001b[49m\u001b[43m,\u001b[49m\n\u001b[0;32m    480\u001b[0m \u001b[43m        \u001b[49m\u001b[43mn_jobs\u001b[49m\u001b[38;5;241;43m=\u001b[39;49m\u001b[43mn_jobs\u001b[49m\u001b[43m,\u001b[49m\n\u001b[0;32m    481\u001b[0m \u001b[43m        \u001b[49m\u001b[43mcatch\u001b[49m\u001b[38;5;241;43m=\u001b[39;49m\u001b[38;5;28;43mtuple\u001b[39;49m\u001b[43m(\u001b[49m\u001b[43mcatch\u001b[49m\u001b[43m)\u001b[49m\u001b[43m \u001b[49m\u001b[38;5;28;43;01mif\u001b[39;49;00m\u001b[43m \u001b[49m\u001b[38;5;28;43misinstance\u001b[39;49m\u001b[43m(\u001b[49m\u001b[43mcatch\u001b[49m\u001b[43m,\u001b[49m\u001b[43m \u001b[49m\u001b[43mIterable\u001b[49m\u001b[43m)\u001b[49m\u001b[43m \u001b[49m\u001b[38;5;28;43;01melse\u001b[39;49;00m\u001b[43m \u001b[49m\u001b[43m(\u001b[49m\u001b[43mcatch\u001b[49m\u001b[43m,\u001b[49m\u001b[43m)\u001b[49m\u001b[43m,\u001b[49m\n\u001b[0;32m    482\u001b[0m \u001b[43m        \u001b[49m\u001b[43mcallbacks\u001b[49m\u001b[38;5;241;43m=\u001b[39;49m\u001b[43mcallbacks\u001b[49m\u001b[43m,\u001b[49m\n\u001b[0;32m    483\u001b[0m \u001b[43m        \u001b[49m\u001b[43mgc_after_trial\u001b[49m\u001b[38;5;241;43m=\u001b[39;49m\u001b[43mgc_after_trial\u001b[49m\u001b[43m,\u001b[49m\n\u001b[0;32m    484\u001b[0m \u001b[43m        \u001b[49m\u001b[43mshow_progress_bar\u001b[49m\u001b[38;5;241;43m=\u001b[39;49m\u001b[43mshow_progress_bar\u001b[49m\u001b[43m,\u001b[49m\n\u001b[0;32m    485\u001b[0m \u001b[43m    \u001b[49m\u001b[43m)\u001b[49m\n",
      "File \u001b[1;32m~\\anaconda3\\envs\\nlp_prac\\lib\\site-packages\\optuna\\study\\_optimize.py:63\u001b[0m, in \u001b[0;36m_optimize\u001b[1;34m(study, func, n_trials, timeout, n_jobs, catch, callbacks, gc_after_trial, show_progress_bar)\u001b[0m\n\u001b[0;32m     61\u001b[0m \u001b[38;5;28;01mtry\u001b[39;00m:\n\u001b[0;32m     62\u001b[0m     \u001b[38;5;28;01mif\u001b[39;00m n_jobs \u001b[38;5;241m==\u001b[39m \u001b[38;5;241m1\u001b[39m:\n\u001b[1;32m---> 63\u001b[0m         \u001b[43m_optimize_sequential\u001b[49m\u001b[43m(\u001b[49m\n\u001b[0;32m     64\u001b[0m \u001b[43m            \u001b[49m\u001b[43mstudy\u001b[49m\u001b[43m,\u001b[49m\n\u001b[0;32m     65\u001b[0m \u001b[43m            \u001b[49m\u001b[43mfunc\u001b[49m\u001b[43m,\u001b[49m\n\u001b[0;32m     66\u001b[0m \u001b[43m            \u001b[49m\u001b[43mn_trials\u001b[49m\u001b[43m,\u001b[49m\n\u001b[0;32m     67\u001b[0m \u001b[43m            \u001b[49m\u001b[43mtimeout\u001b[49m\u001b[43m,\u001b[49m\n\u001b[0;32m     68\u001b[0m \u001b[43m            \u001b[49m\u001b[43mcatch\u001b[49m\u001b[43m,\u001b[49m\n\u001b[0;32m     69\u001b[0m \u001b[43m            \u001b[49m\u001b[43mcallbacks\u001b[49m\u001b[43m,\u001b[49m\n\u001b[0;32m     70\u001b[0m \u001b[43m            \u001b[49m\u001b[43mgc_after_trial\u001b[49m\u001b[43m,\u001b[49m\n\u001b[0;32m     71\u001b[0m \u001b[43m            \u001b[49m\u001b[43mreseed_sampler_rng\u001b[49m\u001b[38;5;241;43m=\u001b[39;49m\u001b[38;5;28;43;01mFalse\u001b[39;49;00m\u001b[43m,\u001b[49m\n\u001b[0;32m     72\u001b[0m \u001b[43m            \u001b[49m\u001b[43mtime_start\u001b[49m\u001b[38;5;241;43m=\u001b[39;49m\u001b[38;5;28;43;01mNone\u001b[39;49;00m\u001b[43m,\u001b[49m\n\u001b[0;32m     73\u001b[0m \u001b[43m            \u001b[49m\u001b[43mprogress_bar\u001b[49m\u001b[38;5;241;43m=\u001b[39;49m\u001b[43mprogress_bar\u001b[49m\u001b[43m,\u001b[49m\n\u001b[0;32m     74\u001b[0m \u001b[43m        \u001b[49m\u001b[43m)\u001b[49m\n\u001b[0;32m     75\u001b[0m     \u001b[38;5;28;01melse\u001b[39;00m:\n\u001b[0;32m     76\u001b[0m         \u001b[38;5;28;01mif\u001b[39;00m n_jobs \u001b[38;5;241m==\u001b[39m \u001b[38;5;241m-\u001b[39m\u001b[38;5;241m1\u001b[39m:\n",
      "File \u001b[1;32m~\\anaconda3\\envs\\nlp_prac\\lib\\site-packages\\optuna\\study\\_optimize.py:160\u001b[0m, in \u001b[0;36m_optimize_sequential\u001b[1;34m(study, func, n_trials, timeout, catch, callbacks, gc_after_trial, reseed_sampler_rng, time_start, progress_bar)\u001b[0m\n\u001b[0;32m    157\u001b[0m         \u001b[38;5;28;01mbreak\u001b[39;00m\n\u001b[0;32m    159\u001b[0m \u001b[38;5;28;01mtry\u001b[39;00m:\n\u001b[1;32m--> 160\u001b[0m     frozen_trial \u001b[38;5;241m=\u001b[39m \u001b[43m_run_trial\u001b[49m\u001b[43m(\u001b[49m\u001b[43mstudy\u001b[49m\u001b[43m,\u001b[49m\u001b[43m \u001b[49m\u001b[43mfunc\u001b[49m\u001b[43m,\u001b[49m\u001b[43m \u001b[49m\u001b[43mcatch\u001b[49m\u001b[43m)\u001b[49m\n\u001b[0;32m    161\u001b[0m \u001b[38;5;28;01mfinally\u001b[39;00m:\n\u001b[0;32m    162\u001b[0m     \u001b[38;5;66;03m# The following line mitigates memory problems that can be occurred in some\u001b[39;00m\n\u001b[0;32m    163\u001b[0m     \u001b[38;5;66;03m# environments (e.g., services that use computing containers such as GitHub Actions).\u001b[39;00m\n\u001b[0;32m    164\u001b[0m     \u001b[38;5;66;03m# Please refer to the following PR for further details:\u001b[39;00m\n\u001b[0;32m    165\u001b[0m     \u001b[38;5;66;03m# https://github.com/optuna/optuna/pull/325.\u001b[39;00m\n\u001b[0;32m    166\u001b[0m     \u001b[38;5;28;01mif\u001b[39;00m gc_after_trial:\n",
      "File \u001b[1;32m~\\anaconda3\\envs\\nlp_prac\\lib\\site-packages\\optuna\\study\\_optimize.py:248\u001b[0m, in \u001b[0;36m_run_trial\u001b[1;34m(study, func, catch)\u001b[0m\n\u001b[0;32m    241\u001b[0m         \u001b[38;5;28;01massert\u001b[39;00m \u001b[38;5;28;01mFalse\u001b[39;00m, \u001b[38;5;124m\"\u001b[39m\u001b[38;5;124mShould not reach.\u001b[39m\u001b[38;5;124m\"\u001b[39m\n\u001b[0;32m    243\u001b[0m \u001b[38;5;28;01mif\u001b[39;00m (\n\u001b[0;32m    244\u001b[0m     frozen_trial\u001b[38;5;241m.\u001b[39mstate \u001b[38;5;241m==\u001b[39m TrialState\u001b[38;5;241m.\u001b[39mFAIL\n\u001b[0;32m    245\u001b[0m     \u001b[38;5;129;01mand\u001b[39;00m func_err \u001b[38;5;129;01mis\u001b[39;00m \u001b[38;5;129;01mnot\u001b[39;00m \u001b[38;5;28;01mNone\u001b[39;00m\n\u001b[0;32m    246\u001b[0m     \u001b[38;5;129;01mand\u001b[39;00m \u001b[38;5;129;01mnot\u001b[39;00m \u001b[38;5;28misinstance\u001b[39m(func_err, catch)\n\u001b[0;32m    247\u001b[0m ):\n\u001b[1;32m--> 248\u001b[0m     \u001b[38;5;28;01mraise\u001b[39;00m func_err\n\u001b[0;32m    249\u001b[0m \u001b[38;5;28;01mreturn\u001b[39;00m frozen_trial\n",
      "File \u001b[1;32m~\\anaconda3\\envs\\nlp_prac\\lib\\site-packages\\optuna\\study\\_optimize.py:197\u001b[0m, in \u001b[0;36m_run_trial\u001b[1;34m(study, func, catch)\u001b[0m\n\u001b[0;32m    195\u001b[0m \u001b[38;5;28;01mwith\u001b[39;00m get_heartbeat_thread(trial\u001b[38;5;241m.\u001b[39m_trial_id, study\u001b[38;5;241m.\u001b[39m_storage):\n\u001b[0;32m    196\u001b[0m     \u001b[38;5;28;01mtry\u001b[39;00m:\n\u001b[1;32m--> 197\u001b[0m         value_or_values \u001b[38;5;241m=\u001b[39m \u001b[43mfunc\u001b[49m\u001b[43m(\u001b[49m\u001b[43mtrial\u001b[49m\u001b[43m)\u001b[49m\n\u001b[0;32m    198\u001b[0m     \u001b[38;5;28;01mexcept\u001b[39;00m exceptions\u001b[38;5;241m.\u001b[39mTrialPruned \u001b[38;5;28;01mas\u001b[39;00m e:\n\u001b[0;32m    199\u001b[0m         \u001b[38;5;66;03m# TODO(mamu): Handle multi-objective cases.\u001b[39;00m\n\u001b[0;32m    200\u001b[0m         state \u001b[38;5;241m=\u001b[39m TrialState\u001b[38;5;241m.\u001b[39mPRUNED\n",
      "Cell \u001b[1;32mIn[83], line 11\u001b[0m, in \u001b[0;36m<lambda>\u001b[1;34m(trial)\u001b[0m\n\u001b[0;32m      9\u001b[0m \u001b[38;5;66;03m# Create Optuna study and optimize.\u001b[39;00m\n\u001b[0;32m     10\u001b[0m study \u001b[38;5;241m=\u001b[39m optuna\u001b[38;5;241m.\u001b[39mcreate_study(direction\u001b[38;5;241m=\u001b[39m\u001b[38;5;124m'\u001b[39m\u001b[38;5;124mmaximize\u001b[39m\u001b[38;5;124m'\u001b[39m)\n\u001b[1;32m---> 11\u001b[0m study\u001b[38;5;241m.\u001b[39moptimize(\u001b[38;5;28;01mlambda\u001b[39;00m trial: \u001b[43mobjective\u001b[49m\u001b[43m(\u001b[49m\u001b[43mtrial\u001b[49m\u001b[43m,\u001b[49m\u001b[43m \u001b[49m\u001b[43mis_test\u001b[49m\u001b[43m,\u001b[49m\u001b[43m \u001b[49m\u001b[43mis_ensemble\u001b[49m\u001b[43m)\u001b[49m, \n\u001b[0;32m     12\u001b[0m                n_trials\u001b[38;5;241m=\u001b[39mn_trials)\n",
      "Cell \u001b[1;32mIn[82], line 219\u001b[0m, in \u001b[0;36mobjective\u001b[1;34m(trial, is_test, is_ensemble)\u001b[0m\n\u001b[0;32m    205\u001b[0m trainer_rag \u001b[38;5;241m=\u001b[39m WeightedTrainer(\n\u001b[0;32m    206\u001b[0m     model             \u001b[38;5;241m=\u001b[39m model,\n\u001b[0;32m    207\u001b[0m     args              \u001b[38;5;241m=\u001b[39m training_args_rag,\n\u001b[1;32m   (...)\u001b[0m\n\u001b[0;32m    214\u001b[0m     compute_metrics   \u001b[38;5;241m=\u001b[39m bioasq_libs\u001b[38;5;241m.\u001b[39mcompute_metrics,  \u001b[38;5;66;03m# Custom metrics.\u001b[39;00m\n\u001b[0;32m    215\u001b[0m )\n\u001b[0;32m    218\u001b[0m \u001b[38;5;66;03m# Train.\u001b[39;00m\n\u001b[1;32m--> 219\u001b[0m \u001b[43mtrainer_rag\u001b[49m\u001b[38;5;241;43m.\u001b[39;49m\u001b[43mtrain\u001b[49m\u001b[43m(\u001b[49m\u001b[43m)\u001b[49m\n\u001b[0;32m    221\u001b[0m \u001b[38;5;66;03m# Evaluate.\u001b[39;00m\n\u001b[0;32m    222\u001b[0m eval_results \u001b[38;5;241m=\u001b[39m trainer_rag\u001b[38;5;241m.\u001b[39mevaluate()\n",
      "File \u001b[1;32m~\\anaconda3\\envs\\nlp_prac\\lib\\site-packages\\transformers\\trainer.py:2171\u001b[0m, in \u001b[0;36mTrainer.train\u001b[1;34m(self, resume_from_checkpoint, trial, ignore_keys_for_eval, **kwargs)\u001b[0m\n\u001b[0;32m   2169\u001b[0m         hf_hub_utils\u001b[38;5;241m.\u001b[39menable_progress_bars()\n\u001b[0;32m   2170\u001b[0m \u001b[38;5;28;01melse\u001b[39;00m:\n\u001b[1;32m-> 2171\u001b[0m     \u001b[38;5;28;01mreturn\u001b[39;00m \u001b[43minner_training_loop\u001b[49m\u001b[43m(\u001b[49m\n\u001b[0;32m   2172\u001b[0m \u001b[43m        \u001b[49m\u001b[43margs\u001b[49m\u001b[38;5;241;43m=\u001b[39;49m\u001b[43margs\u001b[49m\u001b[43m,\u001b[49m\n\u001b[0;32m   2173\u001b[0m \u001b[43m        \u001b[49m\u001b[43mresume_from_checkpoint\u001b[49m\u001b[38;5;241;43m=\u001b[39;49m\u001b[43mresume_from_checkpoint\u001b[49m\u001b[43m,\u001b[49m\n\u001b[0;32m   2174\u001b[0m \u001b[43m        \u001b[49m\u001b[43mtrial\u001b[49m\u001b[38;5;241;43m=\u001b[39;49m\u001b[43mtrial\u001b[49m\u001b[43m,\u001b[49m\n\u001b[0;32m   2175\u001b[0m \u001b[43m        \u001b[49m\u001b[43mignore_keys_for_eval\u001b[49m\u001b[38;5;241;43m=\u001b[39;49m\u001b[43mignore_keys_for_eval\u001b[49m\u001b[43m,\u001b[49m\n\u001b[0;32m   2176\u001b[0m \u001b[43m    \u001b[49m\u001b[43m)\u001b[49m\n",
      "File \u001b[1;32m~\\anaconda3\\envs\\nlp_prac\\lib\\site-packages\\transformers\\trainer.py:2598\u001b[0m, in \u001b[0;36mTrainer._inner_training_loop\u001b[1;34m(self, batch_size, args, resume_from_checkpoint, trial, ignore_keys_for_eval)\u001b[0m\n\u001b[0;32m   2596\u001b[0m     \u001b[38;5;28mself\u001b[39m\u001b[38;5;241m.\u001b[39mstate\u001b[38;5;241m.\u001b[39mepoch \u001b[38;5;241m=\u001b[39m epoch \u001b[38;5;241m+\u001b[39m (step \u001b[38;5;241m+\u001b[39m \u001b[38;5;241m1\u001b[39m \u001b[38;5;241m+\u001b[39m steps_skipped) \u001b[38;5;241m/\u001b[39m steps_in_epoch\n\u001b[0;32m   2597\u001b[0m     \u001b[38;5;28mself\u001b[39m\u001b[38;5;241m.\u001b[39mcontrol \u001b[38;5;241m=\u001b[39m \u001b[38;5;28mself\u001b[39m\u001b[38;5;241m.\u001b[39mcallback_handler\u001b[38;5;241m.\u001b[39mon_step_end(args, \u001b[38;5;28mself\u001b[39m\u001b[38;5;241m.\u001b[39mstate, \u001b[38;5;28mself\u001b[39m\u001b[38;5;241m.\u001b[39mcontrol)\n\u001b[1;32m-> 2598\u001b[0m     \u001b[38;5;28;43mself\u001b[39;49m\u001b[38;5;241;43m.\u001b[39;49m\u001b[43m_maybe_log_save_evaluate\u001b[49m\u001b[43m(\u001b[49m\n\u001b[0;32m   2599\u001b[0m \u001b[43m        \u001b[49m\u001b[43mtr_loss\u001b[49m\u001b[43m,\u001b[49m\u001b[43m \u001b[49m\u001b[43mgrad_norm\u001b[49m\u001b[43m,\u001b[49m\u001b[43m \u001b[49m\u001b[43mmodel\u001b[49m\u001b[43m,\u001b[49m\u001b[43m \u001b[49m\u001b[43mtrial\u001b[49m\u001b[43m,\u001b[49m\u001b[43m \u001b[49m\u001b[43mepoch\u001b[49m\u001b[43m,\u001b[49m\u001b[43m \u001b[49m\u001b[43mignore_keys_for_eval\u001b[49m\u001b[43m,\u001b[49m\u001b[43m \u001b[49m\u001b[43mstart_time\u001b[49m\n\u001b[0;32m   2600\u001b[0m \u001b[43m    \u001b[49m\u001b[43m)\u001b[49m\n\u001b[0;32m   2601\u001b[0m \u001b[38;5;28;01melse\u001b[39;00m:\n\u001b[0;32m   2602\u001b[0m     \u001b[38;5;28mself\u001b[39m\u001b[38;5;241m.\u001b[39mcontrol \u001b[38;5;241m=\u001b[39m \u001b[38;5;28mself\u001b[39m\u001b[38;5;241m.\u001b[39mcallback_handler\u001b[38;5;241m.\u001b[39mon_substep_end(args, \u001b[38;5;28mself\u001b[39m\u001b[38;5;241m.\u001b[39mstate, \u001b[38;5;28mself\u001b[39m\u001b[38;5;241m.\u001b[39mcontrol)\n",
      "File \u001b[1;32m~\\anaconda3\\envs\\nlp_prac\\lib\\site-packages\\transformers\\trainer.py:3078\u001b[0m, in \u001b[0;36mTrainer._maybe_log_save_evaluate\u001b[1;34m(self, tr_loss, grad_norm, model, trial, epoch, ignore_keys_for_eval, start_time)\u001b[0m\n\u001b[0;32m   3075\u001b[0m         \u001b[38;5;28mself\u001b[39m\u001b[38;5;241m.\u001b[39mcontrol\u001b[38;5;241m.\u001b[39mshould_save \u001b[38;5;241m=\u001b[39m is_new_best_metric\n\u001b[0;32m   3077\u001b[0m \u001b[38;5;28;01mif\u001b[39;00m \u001b[38;5;28mself\u001b[39m\u001b[38;5;241m.\u001b[39mcontrol\u001b[38;5;241m.\u001b[39mshould_save:\n\u001b[1;32m-> 3078\u001b[0m     \u001b[38;5;28;43mself\u001b[39;49m\u001b[38;5;241;43m.\u001b[39;49m\u001b[43m_save_checkpoint\u001b[49m\u001b[43m(\u001b[49m\u001b[43mmodel\u001b[49m\u001b[43m,\u001b[49m\u001b[43m \u001b[49m\u001b[43mtrial\u001b[49m\u001b[43m)\u001b[49m\n\u001b[0;32m   3079\u001b[0m     \u001b[38;5;28mself\u001b[39m\u001b[38;5;241m.\u001b[39mcontrol \u001b[38;5;241m=\u001b[39m \u001b[38;5;28mself\u001b[39m\u001b[38;5;241m.\u001b[39mcallback_handler\u001b[38;5;241m.\u001b[39mon_save(\u001b[38;5;28mself\u001b[39m\u001b[38;5;241m.\u001b[39margs, \u001b[38;5;28mself\u001b[39m\u001b[38;5;241m.\u001b[39mstate, \u001b[38;5;28mself\u001b[39m\u001b[38;5;241m.\u001b[39mcontrol)\n",
      "File \u001b[1;32m~\\anaconda3\\envs\\nlp_prac\\lib\\site-packages\\transformers\\trainer.py:3210\u001b[0m, in \u001b[0;36mTrainer._save_checkpoint\u001b[1;34m(self, model, trial)\u001b[0m\n\u001b[0;32m   3208\u001b[0m run_dir \u001b[38;5;241m=\u001b[39m \u001b[38;5;28mself\u001b[39m\u001b[38;5;241m.\u001b[39m_get_output_dir(trial\u001b[38;5;241m=\u001b[39mtrial)\n\u001b[0;32m   3209\u001b[0m output_dir \u001b[38;5;241m=\u001b[39m os\u001b[38;5;241m.\u001b[39mpath\u001b[38;5;241m.\u001b[39mjoin(run_dir, checkpoint_folder)\n\u001b[1;32m-> 3210\u001b[0m \u001b[38;5;28;43mself\u001b[39;49m\u001b[38;5;241;43m.\u001b[39;49m\u001b[43msave_model\u001b[49m\u001b[43m(\u001b[49m\u001b[43moutput_dir\u001b[49m\u001b[43m,\u001b[49m\u001b[43m \u001b[49m\u001b[43m_internal_call\u001b[49m\u001b[38;5;241;43m=\u001b[39;49m\u001b[38;5;28;43;01mTrue\u001b[39;49;00m\u001b[43m)\u001b[49m\n\u001b[0;32m   3212\u001b[0m \u001b[38;5;28;01mif\u001b[39;00m \u001b[38;5;129;01mnot\u001b[39;00m \u001b[38;5;28mself\u001b[39m\u001b[38;5;241m.\u001b[39margs\u001b[38;5;241m.\u001b[39msave_only_model:\n\u001b[0;32m   3213\u001b[0m     \u001b[38;5;66;03m# Save optimizer and scheduler\u001b[39;00m\n\u001b[0;32m   3214\u001b[0m     \u001b[38;5;28mself\u001b[39m\u001b[38;5;241m.\u001b[39m_save_optimizer_and_scheduler(output_dir)\n",
      "File \u001b[1;32m~\\anaconda3\\envs\\nlp_prac\\lib\\site-packages\\transformers\\trainer.py:3829\u001b[0m, in \u001b[0;36mTrainer.save_model\u001b[1;34m(self, output_dir, _internal_call)\u001b[0m\n\u001b[0;32m   3826\u001b[0m         \u001b[38;5;28mself\u001b[39m\u001b[38;5;241m.\u001b[39mmodel_wrapped\u001b[38;5;241m.\u001b[39msave_checkpoint(output_dir)\n\u001b[0;32m   3828\u001b[0m \u001b[38;5;28;01melif\u001b[39;00m \u001b[38;5;28mself\u001b[39m\u001b[38;5;241m.\u001b[39margs\u001b[38;5;241m.\u001b[39mshould_save:\n\u001b[1;32m-> 3829\u001b[0m     \u001b[38;5;28;43mself\u001b[39;49m\u001b[38;5;241;43m.\u001b[39;49m\u001b[43m_save\u001b[49m\u001b[43m(\u001b[49m\u001b[43moutput_dir\u001b[49m\u001b[43m)\u001b[49m\n\u001b[0;32m   3831\u001b[0m \u001b[38;5;66;03m# Push to the Hub when `save_model` is called by the user.\u001b[39;00m\n\u001b[0;32m   3832\u001b[0m \u001b[38;5;28;01mif\u001b[39;00m \u001b[38;5;28mself\u001b[39m\u001b[38;5;241m.\u001b[39margs\u001b[38;5;241m.\u001b[39mpush_to_hub \u001b[38;5;129;01mand\u001b[39;00m \u001b[38;5;129;01mnot\u001b[39;00m _internal_call:\n",
      "File \u001b[1;32m~\\anaconda3\\envs\\nlp_prac\\lib\\site-packages\\transformers\\trainer.py:3933\u001b[0m, in \u001b[0;36mTrainer._save\u001b[1;34m(self, output_dir, state_dict)\u001b[0m\n\u001b[0;32m   3931\u001b[0m             torch\u001b[38;5;241m.\u001b[39msave(state_dict, os\u001b[38;5;241m.\u001b[39mpath\u001b[38;5;241m.\u001b[39mjoin(output_dir, WEIGHTS_NAME))\n\u001b[0;32m   3932\u001b[0m \u001b[38;5;28;01melse\u001b[39;00m:\n\u001b[1;32m-> 3933\u001b[0m     \u001b[38;5;28;43mself\u001b[39;49m\u001b[38;5;241;43m.\u001b[39;49m\u001b[43mmodel\u001b[49m\u001b[38;5;241;43m.\u001b[39;49m\u001b[43msave_pretrained\u001b[49m\u001b[43m(\u001b[49m\n\u001b[0;32m   3934\u001b[0m \u001b[43m        \u001b[49m\u001b[43moutput_dir\u001b[49m\u001b[43m,\u001b[49m\u001b[43m \u001b[49m\u001b[43mstate_dict\u001b[49m\u001b[38;5;241;43m=\u001b[39;49m\u001b[43mstate_dict\u001b[49m\u001b[43m,\u001b[49m\u001b[43m \u001b[49m\u001b[43msafe_serialization\u001b[49m\u001b[38;5;241;43m=\u001b[39;49m\u001b[38;5;28;43mself\u001b[39;49m\u001b[38;5;241;43m.\u001b[39;49m\u001b[43margs\u001b[49m\u001b[38;5;241;43m.\u001b[39;49m\u001b[43msave_safetensors\u001b[49m\n\u001b[0;32m   3935\u001b[0m \u001b[43m    \u001b[49m\u001b[43m)\u001b[49m\n\u001b[0;32m   3937\u001b[0m \u001b[38;5;28;01mif\u001b[39;00m \u001b[38;5;28mself\u001b[39m\u001b[38;5;241m.\u001b[39mprocessing_class \u001b[38;5;129;01mis\u001b[39;00m \u001b[38;5;129;01mnot\u001b[39;00m \u001b[38;5;28;01mNone\u001b[39;00m:\n\u001b[0;32m   3938\u001b[0m     \u001b[38;5;28mself\u001b[39m\u001b[38;5;241m.\u001b[39mprocessing_class\u001b[38;5;241m.\u001b[39msave_pretrained(output_dir)\n",
      "File \u001b[1;32m~\\anaconda3\\envs\\nlp_prac\\lib\\site-packages\\peft\\peft_model.py:326\u001b[0m, in \u001b[0;36mPeftModel.save_pretrained\u001b[1;34m(self, save_directory, safe_serialization, selected_adapters, save_embedding_layers, is_main_process, path_initial_model_for_weight_conversion, **kwargs)\u001b[0m\n\u001b[0;32m    324\u001b[0m peft_config \u001b[38;5;241m=\u001b[39m \u001b[38;5;28mself\u001b[39m\u001b[38;5;241m.\u001b[39mpeft_config[adapter_name]\n\u001b[0;32m    325\u001b[0m \u001b[38;5;66;03m# save only the trainable weights\u001b[39;00m\n\u001b[1;32m--> 326\u001b[0m output_state_dict \u001b[38;5;241m=\u001b[39m \u001b[43mget_peft_model_state_dict\u001b[49m\u001b[43m(\u001b[49m\n\u001b[0;32m    327\u001b[0m \u001b[43m    \u001b[49m\u001b[38;5;28;43mself\u001b[39;49m\u001b[43m,\u001b[49m\n\u001b[0;32m    328\u001b[0m \u001b[43m    \u001b[49m\u001b[43mstate_dict\u001b[49m\u001b[38;5;241;43m=\u001b[39;49m\u001b[43mkwargs\u001b[49m\u001b[38;5;241;43m.\u001b[39;49m\u001b[43mget\u001b[49m\u001b[43m(\u001b[49m\u001b[38;5;124;43m\"\u001b[39;49m\u001b[38;5;124;43mstate_dict\u001b[39;49m\u001b[38;5;124;43m\"\u001b[39;49m\u001b[43m,\u001b[49m\u001b[43m \u001b[49m\u001b[38;5;28;43;01mNone\u001b[39;49;00m\u001b[43m)\u001b[49m\u001b[43m,\u001b[49m\n\u001b[0;32m    329\u001b[0m \u001b[43m    \u001b[49m\u001b[43madapter_name\u001b[49m\u001b[38;5;241;43m=\u001b[39;49m\u001b[43madapter_name\u001b[49m\u001b[43m,\u001b[49m\n\u001b[0;32m    330\u001b[0m \u001b[43m    \u001b[49m\u001b[43msave_embedding_layers\u001b[49m\u001b[38;5;241;43m=\u001b[39;49m\u001b[43msave_embedding_layers\u001b[49m\u001b[43m,\u001b[49m\n\u001b[0;32m    331\u001b[0m \u001b[43m\u001b[49m\u001b[43m)\u001b[49m\n\u001b[0;32m    332\u001b[0m output_dir \u001b[38;5;241m=\u001b[39m os\u001b[38;5;241m.\u001b[39mpath\u001b[38;5;241m.\u001b[39mjoin(save_directory, adapter_name) \u001b[38;5;28;01mif\u001b[39;00m adapter_name \u001b[38;5;241m!=\u001b[39m \u001b[38;5;124m\"\u001b[39m\u001b[38;5;124mdefault\u001b[39m\u001b[38;5;124m\"\u001b[39m \u001b[38;5;28;01melse\u001b[39;00m save_directory\n\u001b[0;32m    333\u001b[0m os\u001b[38;5;241m.\u001b[39mmakedirs(output_dir, exist_ok\u001b[38;5;241m=\u001b[39m\u001b[38;5;28;01mTrue\u001b[39;00m)\n",
      "File \u001b[1;32m~\\anaconda3\\envs\\nlp_prac\\lib\\site-packages\\peft\\utils\\save_and_load.py:258\u001b[0m, in \u001b[0;36mget_peft_model_state_dict\u001b[1;34m(model, state_dict, adapter_name, unwrap_compiled, save_embedding_layers)\u001b[0m\n\u001b[0;32m    251\u001b[0m         has_base_config \u001b[38;5;241m=\u001b[39m exists\n\u001b[0;32m    253\u001b[0m \u001b[38;5;66;03m# check if the vocab size of the base model is different from the vocab size of the finetuned model\u001b[39;00m\n\u001b[0;32m    254\u001b[0m \u001b[38;5;28;01mif\u001b[39;00m (\n\u001b[0;32m    255\u001b[0m     vocab_size\n\u001b[0;32m    256\u001b[0m     \u001b[38;5;129;01mand\u001b[39;00m model_id\n\u001b[0;32m    257\u001b[0m     \u001b[38;5;129;01mand\u001b[39;00m has_base_config\n\u001b[1;32m--> 258\u001b[0m     \u001b[38;5;129;01mand\u001b[39;00m (vocab_size \u001b[38;5;241m!=\u001b[39m \u001b[43mmodel\u001b[49m\u001b[38;5;241;43m.\u001b[39;49m\u001b[43mconfig\u001b[49m\u001b[38;5;241;43m.\u001b[39;49m\u001b[38;5;18;43m__class__\u001b[39;49m\u001b[38;5;241;43m.\u001b[39;49m\u001b[43mfrom_pretrained\u001b[49m\u001b[43m(\u001b[49m\u001b[43mmodel_id\u001b[49m\u001b[43m)\u001b[49m\u001b[38;5;241m.\u001b[39mvocab_size)\n\u001b[0;32m    259\u001b[0m ):\n\u001b[0;32m    260\u001b[0m     warnings\u001b[38;5;241m.\u001b[39mwarn(\n\u001b[0;32m    261\u001b[0m         \u001b[38;5;124m\"\u001b[39m\u001b[38;5;124mSetting `save_embedding_layers` to `True` as the embedding layer has been resized during finetuning.\u001b[39m\u001b[38;5;124m\"\u001b[39m\n\u001b[0;32m    262\u001b[0m     )\n\u001b[0;32m    263\u001b[0m     save_embedding_layers \u001b[38;5;241m=\u001b[39m \u001b[38;5;28;01mTrue\u001b[39;00m\n",
      "File \u001b[1;32m~\\anaconda3\\envs\\nlp_prac\\lib\\site-packages\\transformers\\configuration_utils.py:551\u001b[0m, in \u001b[0;36mPretrainedConfig.from_pretrained\u001b[1;34m(cls, pretrained_model_name_or_path, cache_dir, force_download, local_files_only, token, revision, **kwargs)\u001b[0m\n\u001b[0;32m    547\u001b[0m kwargs[\u001b[38;5;124m\"\u001b[39m\u001b[38;5;124mrevision\u001b[39m\u001b[38;5;124m\"\u001b[39m] \u001b[38;5;241m=\u001b[39m revision\n\u001b[0;32m    549\u001b[0m \u001b[38;5;28mcls\u001b[39m\u001b[38;5;241m.\u001b[39m_set_token_in_kwargs(kwargs, token)\n\u001b[1;32m--> 551\u001b[0m config_dict, kwargs \u001b[38;5;241m=\u001b[39m \u001b[38;5;28mcls\u001b[39m\u001b[38;5;241m.\u001b[39mget_config_dict(pretrained_model_name_or_path, \u001b[38;5;241m*\u001b[39m\u001b[38;5;241m*\u001b[39mkwargs)\n\u001b[0;32m    552\u001b[0m \u001b[38;5;28;01mif\u001b[39;00m \u001b[38;5;28mcls\u001b[39m\u001b[38;5;241m.\u001b[39mbase_config_key \u001b[38;5;129;01mand\u001b[39;00m \u001b[38;5;28mcls\u001b[39m\u001b[38;5;241m.\u001b[39mbase_config_key \u001b[38;5;129;01min\u001b[39;00m config_dict:\n\u001b[0;32m    553\u001b[0m     config_dict \u001b[38;5;241m=\u001b[39m config_dict[\u001b[38;5;28mcls\u001b[39m\u001b[38;5;241m.\u001b[39mbase_config_key]\n",
      "File \u001b[1;32m~\\anaconda3\\envs\\nlp_prac\\lib\\site-packages\\transformers\\configuration_utils.py:591\u001b[0m, in \u001b[0;36mPretrainedConfig.get_config_dict\u001b[1;34m(cls, pretrained_model_name_or_path, **kwargs)\u001b[0m\n\u001b[0;32m    589\u001b[0m original_kwargs \u001b[38;5;241m=\u001b[39m copy\u001b[38;5;241m.\u001b[39mdeepcopy(kwargs)\n\u001b[0;32m    590\u001b[0m \u001b[38;5;66;03m# Get config dict associated with the base config file\u001b[39;00m\n\u001b[1;32m--> 591\u001b[0m config_dict, kwargs \u001b[38;5;241m=\u001b[39m \u001b[38;5;28mcls\u001b[39m\u001b[38;5;241m.\u001b[39m_get_config_dict(pretrained_model_name_or_path, \u001b[38;5;241m*\u001b[39m\u001b[38;5;241m*\u001b[39mkwargs)\n\u001b[0;32m    592\u001b[0m \u001b[38;5;28;01mif\u001b[39;00m config_dict \u001b[38;5;129;01mis\u001b[39;00m \u001b[38;5;28;01mNone\u001b[39;00m:\n\u001b[0;32m    593\u001b[0m     \u001b[38;5;28;01mreturn\u001b[39;00m {}, kwargs\n",
      "File \u001b[1;32m~\\anaconda3\\envs\\nlp_prac\\lib\\site-packages\\transformers\\configuration_utils.py:650\u001b[0m, in \u001b[0;36mPretrainedConfig._get_config_dict\u001b[1;34m(cls, pretrained_model_name_or_path, **kwargs)\u001b[0m\n\u001b[0;32m    646\u001b[0m configuration_file \u001b[38;5;241m=\u001b[39m kwargs\u001b[38;5;241m.\u001b[39mpop(\u001b[38;5;124m\"\u001b[39m\u001b[38;5;124m_configuration_file\u001b[39m\u001b[38;5;124m\"\u001b[39m, CONFIG_NAME) \u001b[38;5;28;01mif\u001b[39;00m gguf_file \u001b[38;5;129;01mis\u001b[39;00m \u001b[38;5;28;01mNone\u001b[39;00m \u001b[38;5;28;01melse\u001b[39;00m gguf_file\n\u001b[0;32m    648\u001b[0m \u001b[38;5;28;01mtry\u001b[39;00m:\n\u001b[0;32m    649\u001b[0m     \u001b[38;5;66;03m# Load from local folder or from cache or download from model Hub and cache\u001b[39;00m\n\u001b[1;32m--> 650\u001b[0m     resolved_config_file \u001b[38;5;241m=\u001b[39m \u001b[43mcached_file\u001b[49m\u001b[43m(\u001b[49m\n\u001b[0;32m    651\u001b[0m \u001b[43m        \u001b[49m\u001b[43mpretrained_model_name_or_path\u001b[49m\u001b[43m,\u001b[49m\n\u001b[0;32m    652\u001b[0m \u001b[43m        \u001b[49m\u001b[43mconfiguration_file\u001b[49m\u001b[43m,\u001b[49m\n\u001b[0;32m    653\u001b[0m \u001b[43m        \u001b[49m\u001b[43mcache_dir\u001b[49m\u001b[38;5;241;43m=\u001b[39;49m\u001b[43mcache_dir\u001b[49m\u001b[43m,\u001b[49m\n\u001b[0;32m    654\u001b[0m \u001b[43m        \u001b[49m\u001b[43mforce_download\u001b[49m\u001b[38;5;241;43m=\u001b[39;49m\u001b[43mforce_download\u001b[49m\u001b[43m,\u001b[49m\n\u001b[0;32m    655\u001b[0m \u001b[43m        \u001b[49m\u001b[43mproxies\u001b[49m\u001b[38;5;241;43m=\u001b[39;49m\u001b[43mproxies\u001b[49m\u001b[43m,\u001b[49m\n\u001b[0;32m    656\u001b[0m \u001b[43m        \u001b[49m\u001b[43mresume_download\u001b[49m\u001b[38;5;241;43m=\u001b[39;49m\u001b[43mresume_download\u001b[49m\u001b[43m,\u001b[49m\n\u001b[0;32m    657\u001b[0m \u001b[43m        \u001b[49m\u001b[43mlocal_files_only\u001b[49m\u001b[38;5;241;43m=\u001b[39;49m\u001b[43mlocal_files_only\u001b[49m\u001b[43m,\u001b[49m\n\u001b[0;32m    658\u001b[0m \u001b[43m        \u001b[49m\u001b[43mtoken\u001b[49m\u001b[38;5;241;43m=\u001b[39;49m\u001b[43mtoken\u001b[49m\u001b[43m,\u001b[49m\n\u001b[0;32m    659\u001b[0m \u001b[43m        \u001b[49m\u001b[43muser_agent\u001b[49m\u001b[38;5;241;43m=\u001b[39;49m\u001b[43muser_agent\u001b[49m\u001b[43m,\u001b[49m\n\u001b[0;32m    660\u001b[0m \u001b[43m        \u001b[49m\u001b[43mrevision\u001b[49m\u001b[38;5;241;43m=\u001b[39;49m\u001b[43mrevision\u001b[49m\u001b[43m,\u001b[49m\n\u001b[0;32m    661\u001b[0m \u001b[43m        \u001b[49m\u001b[43msubfolder\u001b[49m\u001b[38;5;241;43m=\u001b[39;49m\u001b[43msubfolder\u001b[49m\u001b[43m,\u001b[49m\n\u001b[0;32m    662\u001b[0m \u001b[43m        \u001b[49m\u001b[43m_commit_hash\u001b[49m\u001b[38;5;241;43m=\u001b[39;49m\u001b[43mcommit_hash\u001b[49m\u001b[43m,\u001b[49m\n\u001b[0;32m    663\u001b[0m \u001b[43m    \u001b[49m\u001b[43m)\u001b[49m\n\u001b[0;32m    664\u001b[0m     \u001b[38;5;28;01mif\u001b[39;00m resolved_config_file \u001b[38;5;129;01mis\u001b[39;00m \u001b[38;5;28;01mNone\u001b[39;00m:\n\u001b[0;32m    665\u001b[0m         \u001b[38;5;28;01mreturn\u001b[39;00m \u001b[38;5;28;01mNone\u001b[39;00m, kwargs\n",
      "File \u001b[1;32m~\\anaconda3\\envs\\nlp_prac\\lib\\site-packages\\transformers\\utils\\hub.py:403\u001b[0m, in \u001b[0;36mcached_file\u001b[1;34m(path_or_repo_id, filename, cache_dir, force_download, resume_download, proxies, token, revision, local_files_only, subfolder, repo_type, user_agent, _raise_exceptions_for_gated_repo, _raise_exceptions_for_missing_entries, _raise_exceptions_for_connection_errors, _commit_hash, **deprecated_kwargs)\u001b[0m\n\u001b[0;32m    400\u001b[0m user_agent \u001b[38;5;241m=\u001b[39m http_user_agent(user_agent)\n\u001b[0;32m    401\u001b[0m \u001b[38;5;28;01mtry\u001b[39;00m:\n\u001b[0;32m    402\u001b[0m     \u001b[38;5;66;03m# Load from URL or cache if already cached\u001b[39;00m\n\u001b[1;32m--> 403\u001b[0m     resolved_file \u001b[38;5;241m=\u001b[39m \u001b[43mhf_hub_download\u001b[49m\u001b[43m(\u001b[49m\n\u001b[0;32m    404\u001b[0m \u001b[43m        \u001b[49m\u001b[43mpath_or_repo_id\u001b[49m\u001b[43m,\u001b[49m\n\u001b[0;32m    405\u001b[0m \u001b[43m        \u001b[49m\u001b[43mfilename\u001b[49m\u001b[43m,\u001b[49m\n\u001b[0;32m    406\u001b[0m \u001b[43m        \u001b[49m\u001b[43msubfolder\u001b[49m\u001b[38;5;241;43m=\u001b[39;49m\u001b[38;5;28;43;01mNone\u001b[39;49;00m\u001b[43m \u001b[49m\u001b[38;5;28;43;01mif\u001b[39;49;00m\u001b[43m \u001b[49m\u001b[38;5;28;43mlen\u001b[39;49m\u001b[43m(\u001b[49m\u001b[43msubfolder\u001b[49m\u001b[43m)\u001b[49m\u001b[43m \u001b[49m\u001b[38;5;241;43m==\u001b[39;49m\u001b[43m \u001b[49m\u001b[38;5;241;43m0\u001b[39;49m\u001b[43m \u001b[49m\u001b[38;5;28;43;01melse\u001b[39;49;00m\u001b[43m \u001b[49m\u001b[43msubfolder\u001b[49m\u001b[43m,\u001b[49m\n\u001b[0;32m    407\u001b[0m \u001b[43m        \u001b[49m\u001b[43mrepo_type\u001b[49m\u001b[38;5;241;43m=\u001b[39;49m\u001b[43mrepo_type\u001b[49m\u001b[43m,\u001b[49m\n\u001b[0;32m    408\u001b[0m \u001b[43m        \u001b[49m\u001b[43mrevision\u001b[49m\u001b[38;5;241;43m=\u001b[39;49m\u001b[43mrevision\u001b[49m\u001b[43m,\u001b[49m\n\u001b[0;32m    409\u001b[0m \u001b[43m        \u001b[49m\u001b[43mcache_dir\u001b[49m\u001b[38;5;241;43m=\u001b[39;49m\u001b[43mcache_dir\u001b[49m\u001b[43m,\u001b[49m\n\u001b[0;32m    410\u001b[0m \u001b[43m        \u001b[49m\u001b[43muser_agent\u001b[49m\u001b[38;5;241;43m=\u001b[39;49m\u001b[43muser_agent\u001b[49m\u001b[43m,\u001b[49m\n\u001b[0;32m    411\u001b[0m \u001b[43m        \u001b[49m\u001b[43mforce_download\u001b[49m\u001b[38;5;241;43m=\u001b[39;49m\u001b[43mforce_download\u001b[49m\u001b[43m,\u001b[49m\n\u001b[0;32m    412\u001b[0m \u001b[43m        \u001b[49m\u001b[43mproxies\u001b[49m\u001b[38;5;241;43m=\u001b[39;49m\u001b[43mproxies\u001b[49m\u001b[43m,\u001b[49m\n\u001b[0;32m    413\u001b[0m \u001b[43m        \u001b[49m\u001b[43mresume_download\u001b[49m\u001b[38;5;241;43m=\u001b[39;49m\u001b[43mresume_download\u001b[49m\u001b[43m,\u001b[49m\n\u001b[0;32m    414\u001b[0m \u001b[43m        \u001b[49m\u001b[43mtoken\u001b[49m\u001b[38;5;241;43m=\u001b[39;49m\u001b[43mtoken\u001b[49m\u001b[43m,\u001b[49m\n\u001b[0;32m    415\u001b[0m \u001b[43m        \u001b[49m\u001b[43mlocal_files_only\u001b[49m\u001b[38;5;241;43m=\u001b[39;49m\u001b[43mlocal_files_only\u001b[49m\u001b[43m,\u001b[49m\n\u001b[0;32m    416\u001b[0m \u001b[43m    \u001b[49m\u001b[43m)\u001b[49m\n\u001b[0;32m    417\u001b[0m \u001b[38;5;28;01mexcept\u001b[39;00m GatedRepoError \u001b[38;5;28;01mas\u001b[39;00m e:\n\u001b[0;32m    418\u001b[0m     resolved_file \u001b[38;5;241m=\u001b[39m _get_cache_file_to_return(path_or_repo_id, full_filename, cache_dir, revision)\n",
      "File \u001b[1;32m~\\anaconda3\\envs\\nlp_prac\\lib\\site-packages\\huggingface_hub\\utils\\_validators.py:114\u001b[0m, in \u001b[0;36mvalidate_hf_hub_args.<locals>._inner_fn\u001b[1;34m(*args, **kwargs)\u001b[0m\n\u001b[0;32m    111\u001b[0m \u001b[38;5;28;01mif\u001b[39;00m check_use_auth_token:\n\u001b[0;32m    112\u001b[0m     kwargs \u001b[38;5;241m=\u001b[39m smoothly_deprecate_use_auth_token(fn_name\u001b[38;5;241m=\u001b[39mfn\u001b[38;5;241m.\u001b[39m\u001b[38;5;18m__name__\u001b[39m, has_token\u001b[38;5;241m=\u001b[39mhas_token, kwargs\u001b[38;5;241m=\u001b[39mkwargs)\n\u001b[1;32m--> 114\u001b[0m \u001b[38;5;28;01mreturn\u001b[39;00m fn(\u001b[38;5;241m*\u001b[39margs, \u001b[38;5;241m*\u001b[39m\u001b[38;5;241m*\u001b[39mkwargs)\n",
      "File \u001b[1;32m~\\anaconda3\\envs\\nlp_prac\\lib\\site-packages\\huggingface_hub\\file_download.py:860\u001b[0m, in \u001b[0;36mhf_hub_download\u001b[1;34m(repo_id, filename, subfolder, repo_type, revision, library_name, library_version, cache_dir, local_dir, user_agent, force_download, proxies, etag_timeout, token, local_files_only, headers, endpoint, resume_download, force_filename, local_dir_use_symlinks)\u001b[0m\n\u001b[0;32m    840\u001b[0m     \u001b[38;5;28;01mreturn\u001b[39;00m _hf_hub_download_to_local_dir(\n\u001b[0;32m    841\u001b[0m         \u001b[38;5;66;03m# Destination\u001b[39;00m\n\u001b[0;32m    842\u001b[0m         local_dir\u001b[38;5;241m=\u001b[39mlocal_dir,\n\u001b[1;32m   (...)\u001b[0m\n\u001b[0;32m    857\u001b[0m         local_files_only\u001b[38;5;241m=\u001b[39mlocal_files_only,\n\u001b[0;32m    858\u001b[0m     )\n\u001b[0;32m    859\u001b[0m \u001b[38;5;28;01melse\u001b[39;00m:\n\u001b[1;32m--> 860\u001b[0m     \u001b[38;5;28;01mreturn\u001b[39;00m \u001b[43m_hf_hub_download_to_cache_dir\u001b[49m\u001b[43m(\u001b[49m\n\u001b[0;32m    861\u001b[0m \u001b[43m        \u001b[49m\u001b[38;5;66;43;03m# Destination\u001b[39;49;00m\n\u001b[0;32m    862\u001b[0m \u001b[43m        \u001b[49m\u001b[43mcache_dir\u001b[49m\u001b[38;5;241;43m=\u001b[39;49m\u001b[43mcache_dir\u001b[49m\u001b[43m,\u001b[49m\n\u001b[0;32m    863\u001b[0m \u001b[43m        \u001b[49m\u001b[38;5;66;43;03m# File info\u001b[39;49;00m\n\u001b[0;32m    864\u001b[0m \u001b[43m        \u001b[49m\u001b[43mrepo_id\u001b[49m\u001b[38;5;241;43m=\u001b[39;49m\u001b[43mrepo_id\u001b[49m\u001b[43m,\u001b[49m\n\u001b[0;32m    865\u001b[0m \u001b[43m        \u001b[49m\u001b[43mfilename\u001b[49m\u001b[38;5;241;43m=\u001b[39;49m\u001b[43mfilename\u001b[49m\u001b[43m,\u001b[49m\n\u001b[0;32m    866\u001b[0m \u001b[43m        \u001b[49m\u001b[43mrepo_type\u001b[49m\u001b[38;5;241;43m=\u001b[39;49m\u001b[43mrepo_type\u001b[49m\u001b[43m,\u001b[49m\n\u001b[0;32m    867\u001b[0m \u001b[43m        \u001b[49m\u001b[43mrevision\u001b[49m\u001b[38;5;241;43m=\u001b[39;49m\u001b[43mrevision\u001b[49m\u001b[43m,\u001b[49m\n\u001b[0;32m    868\u001b[0m \u001b[43m        \u001b[49m\u001b[38;5;66;43;03m# HTTP info\u001b[39;49;00m\n\u001b[0;32m    869\u001b[0m \u001b[43m        \u001b[49m\u001b[43mendpoint\u001b[49m\u001b[38;5;241;43m=\u001b[39;49m\u001b[43mendpoint\u001b[49m\u001b[43m,\u001b[49m\n\u001b[0;32m    870\u001b[0m \u001b[43m        \u001b[49m\u001b[43metag_timeout\u001b[49m\u001b[38;5;241;43m=\u001b[39;49m\u001b[43metag_timeout\u001b[49m\u001b[43m,\u001b[49m\n\u001b[0;32m    871\u001b[0m \u001b[43m        \u001b[49m\u001b[43mheaders\u001b[49m\u001b[38;5;241;43m=\u001b[39;49m\u001b[43mhf_headers\u001b[49m\u001b[43m,\u001b[49m\n\u001b[0;32m    872\u001b[0m \u001b[43m        \u001b[49m\u001b[43mproxies\u001b[49m\u001b[38;5;241;43m=\u001b[39;49m\u001b[43mproxies\u001b[49m\u001b[43m,\u001b[49m\n\u001b[0;32m    873\u001b[0m \u001b[43m        \u001b[49m\u001b[43mtoken\u001b[49m\u001b[38;5;241;43m=\u001b[39;49m\u001b[43mtoken\u001b[49m\u001b[43m,\u001b[49m\n\u001b[0;32m    874\u001b[0m \u001b[43m        \u001b[49m\u001b[38;5;66;43;03m# Additional options\u001b[39;49;00m\n\u001b[0;32m    875\u001b[0m \u001b[43m        \u001b[49m\u001b[43mlocal_files_only\u001b[49m\u001b[38;5;241;43m=\u001b[39;49m\u001b[43mlocal_files_only\u001b[49m\u001b[43m,\u001b[49m\n\u001b[0;32m    876\u001b[0m \u001b[43m        \u001b[49m\u001b[43mforce_download\u001b[49m\u001b[38;5;241;43m=\u001b[39;49m\u001b[43mforce_download\u001b[49m\u001b[43m,\u001b[49m\n\u001b[0;32m    877\u001b[0m \u001b[43m    \u001b[49m\u001b[43m)\u001b[49m\n",
      "File \u001b[1;32m~\\anaconda3\\envs\\nlp_prac\\lib\\site-packages\\huggingface_hub\\file_download.py:923\u001b[0m, in \u001b[0;36m_hf_hub_download_to_cache_dir\u001b[1;34m(cache_dir, repo_id, filename, repo_type, revision, endpoint, etag_timeout, headers, proxies, token, local_files_only, force_download)\u001b[0m\n\u001b[0;32m    919\u001b[0m         \u001b[38;5;28;01mreturn\u001b[39;00m pointer_path\n\u001b[0;32m    921\u001b[0m \u001b[38;5;66;03m# Try to get metadata (etag, commit_hash, url, size) from the server.\u001b[39;00m\n\u001b[0;32m    922\u001b[0m \u001b[38;5;66;03m# If we can't, a HEAD request error is returned.\u001b[39;00m\n\u001b[1;32m--> 923\u001b[0m (url_to_download, etag, commit_hash, expected_size, head_call_error) \u001b[38;5;241m=\u001b[39m \u001b[43m_get_metadata_or_catch_error\u001b[49m\u001b[43m(\u001b[49m\n\u001b[0;32m    924\u001b[0m \u001b[43m    \u001b[49m\u001b[43mrepo_id\u001b[49m\u001b[38;5;241;43m=\u001b[39;49m\u001b[43mrepo_id\u001b[49m\u001b[43m,\u001b[49m\n\u001b[0;32m    925\u001b[0m \u001b[43m    \u001b[49m\u001b[43mfilename\u001b[49m\u001b[38;5;241;43m=\u001b[39;49m\u001b[43mfilename\u001b[49m\u001b[43m,\u001b[49m\n\u001b[0;32m    926\u001b[0m \u001b[43m    \u001b[49m\u001b[43mrepo_type\u001b[49m\u001b[38;5;241;43m=\u001b[39;49m\u001b[43mrepo_type\u001b[49m\u001b[43m,\u001b[49m\n\u001b[0;32m    927\u001b[0m \u001b[43m    \u001b[49m\u001b[43mrevision\u001b[49m\u001b[38;5;241;43m=\u001b[39;49m\u001b[43mrevision\u001b[49m\u001b[43m,\u001b[49m\n\u001b[0;32m    928\u001b[0m \u001b[43m    \u001b[49m\u001b[43mendpoint\u001b[49m\u001b[38;5;241;43m=\u001b[39;49m\u001b[43mendpoint\u001b[49m\u001b[43m,\u001b[49m\n\u001b[0;32m    929\u001b[0m \u001b[43m    \u001b[49m\u001b[43mproxies\u001b[49m\u001b[38;5;241;43m=\u001b[39;49m\u001b[43mproxies\u001b[49m\u001b[43m,\u001b[49m\n\u001b[0;32m    930\u001b[0m \u001b[43m    \u001b[49m\u001b[43metag_timeout\u001b[49m\u001b[38;5;241;43m=\u001b[39;49m\u001b[43metag_timeout\u001b[49m\u001b[43m,\u001b[49m\n\u001b[0;32m    931\u001b[0m \u001b[43m    \u001b[49m\u001b[43mheaders\u001b[49m\u001b[38;5;241;43m=\u001b[39;49m\u001b[43mheaders\u001b[49m\u001b[43m,\u001b[49m\n\u001b[0;32m    932\u001b[0m \u001b[43m    \u001b[49m\u001b[43mtoken\u001b[49m\u001b[38;5;241;43m=\u001b[39;49m\u001b[43mtoken\u001b[49m\u001b[43m,\u001b[49m\n\u001b[0;32m    933\u001b[0m \u001b[43m    \u001b[49m\u001b[43mlocal_files_only\u001b[49m\u001b[38;5;241;43m=\u001b[39;49m\u001b[43mlocal_files_only\u001b[49m\u001b[43m,\u001b[49m\n\u001b[0;32m    934\u001b[0m \u001b[43m    \u001b[49m\u001b[43mstorage_folder\u001b[49m\u001b[38;5;241;43m=\u001b[39;49m\u001b[43mstorage_folder\u001b[49m\u001b[43m,\u001b[49m\n\u001b[0;32m    935\u001b[0m \u001b[43m    \u001b[49m\u001b[43mrelative_filename\u001b[49m\u001b[38;5;241;43m=\u001b[39;49m\u001b[43mrelative_filename\u001b[49m\u001b[43m,\u001b[49m\n\u001b[0;32m    936\u001b[0m \u001b[43m\u001b[49m\u001b[43m)\u001b[49m\n\u001b[0;32m    938\u001b[0m \u001b[38;5;66;03m# etag can be None for several reasons:\u001b[39;00m\n\u001b[0;32m    939\u001b[0m \u001b[38;5;66;03m# 1. we passed local_files_only.\u001b[39;00m\n\u001b[0;32m    940\u001b[0m \u001b[38;5;66;03m# 2. we don't have a connection\u001b[39;00m\n\u001b[1;32m   (...)\u001b[0m\n\u001b[0;32m    946\u001b[0m \u001b[38;5;66;03m# If the specified revision is a commit hash, look inside \"snapshots\".\u001b[39;00m\n\u001b[0;32m    947\u001b[0m \u001b[38;5;66;03m# If the specified revision is a branch or tag, look inside \"refs\".\u001b[39;00m\n\u001b[0;32m    948\u001b[0m \u001b[38;5;28;01mif\u001b[39;00m head_call_error \u001b[38;5;129;01mis\u001b[39;00m \u001b[38;5;129;01mnot\u001b[39;00m \u001b[38;5;28;01mNone\u001b[39;00m:\n\u001b[0;32m    949\u001b[0m     \u001b[38;5;66;03m# Couldn't make a HEAD call => let's try to find a local file\u001b[39;00m\n",
      "File \u001b[1;32m~\\anaconda3\\envs\\nlp_prac\\lib\\site-packages\\huggingface_hub\\file_download.py:1374\u001b[0m, in \u001b[0;36m_get_metadata_or_catch_error\u001b[1;34m(repo_id, filename, repo_type, revision, endpoint, proxies, etag_timeout, headers, token, local_files_only, relative_filename, storage_folder)\u001b[0m\n\u001b[0;32m   1372\u001b[0m \u001b[38;5;28;01mtry\u001b[39;00m:\n\u001b[0;32m   1373\u001b[0m     \u001b[38;5;28;01mtry\u001b[39;00m:\n\u001b[1;32m-> 1374\u001b[0m         metadata \u001b[38;5;241m=\u001b[39m \u001b[43mget_hf_file_metadata\u001b[49m\u001b[43m(\u001b[49m\n\u001b[0;32m   1375\u001b[0m \u001b[43m            \u001b[49m\u001b[43murl\u001b[49m\u001b[38;5;241;43m=\u001b[39;49m\u001b[43murl\u001b[49m\u001b[43m,\u001b[49m\u001b[43m \u001b[49m\u001b[43mproxies\u001b[49m\u001b[38;5;241;43m=\u001b[39;49m\u001b[43mproxies\u001b[49m\u001b[43m,\u001b[49m\u001b[43m \u001b[49m\u001b[43mtimeout\u001b[49m\u001b[38;5;241;43m=\u001b[39;49m\u001b[43metag_timeout\u001b[49m\u001b[43m,\u001b[49m\u001b[43m \u001b[49m\u001b[43mheaders\u001b[49m\u001b[38;5;241;43m=\u001b[39;49m\u001b[43mheaders\u001b[49m\u001b[43m,\u001b[49m\u001b[43m \u001b[49m\u001b[43mtoken\u001b[49m\u001b[38;5;241;43m=\u001b[39;49m\u001b[43mtoken\u001b[49m\n\u001b[0;32m   1376\u001b[0m \u001b[43m        \u001b[49m\u001b[43m)\u001b[49m\n\u001b[0;32m   1377\u001b[0m     \u001b[38;5;28;01mexcept\u001b[39;00m EntryNotFoundError \u001b[38;5;28;01mas\u001b[39;00m http_error:\n\u001b[0;32m   1378\u001b[0m         \u001b[38;5;28;01mif\u001b[39;00m storage_folder \u001b[38;5;129;01mis\u001b[39;00m \u001b[38;5;129;01mnot\u001b[39;00m \u001b[38;5;28;01mNone\u001b[39;00m \u001b[38;5;129;01mand\u001b[39;00m relative_filename \u001b[38;5;129;01mis\u001b[39;00m \u001b[38;5;129;01mnot\u001b[39;00m \u001b[38;5;28;01mNone\u001b[39;00m:\n\u001b[0;32m   1379\u001b[0m             \u001b[38;5;66;03m# Cache the non-existence of the file\u001b[39;00m\n",
      "File \u001b[1;32m~\\anaconda3\\envs\\nlp_prac\\lib\\site-packages\\huggingface_hub\\utils\\_validators.py:114\u001b[0m, in \u001b[0;36mvalidate_hf_hub_args.<locals>._inner_fn\u001b[1;34m(*args, **kwargs)\u001b[0m\n\u001b[0;32m    111\u001b[0m \u001b[38;5;28;01mif\u001b[39;00m check_use_auth_token:\n\u001b[0;32m    112\u001b[0m     kwargs \u001b[38;5;241m=\u001b[39m smoothly_deprecate_use_auth_token(fn_name\u001b[38;5;241m=\u001b[39mfn\u001b[38;5;241m.\u001b[39m\u001b[38;5;18m__name__\u001b[39m, has_token\u001b[38;5;241m=\u001b[39mhas_token, kwargs\u001b[38;5;241m=\u001b[39mkwargs)\n\u001b[1;32m--> 114\u001b[0m \u001b[38;5;28;01mreturn\u001b[39;00m fn(\u001b[38;5;241m*\u001b[39margs, \u001b[38;5;241m*\u001b[39m\u001b[38;5;241m*\u001b[39mkwargs)\n",
      "File \u001b[1;32m~\\anaconda3\\envs\\nlp_prac\\lib\\site-packages\\huggingface_hub\\file_download.py:1294\u001b[0m, in \u001b[0;36mget_hf_file_metadata\u001b[1;34m(url, token, proxies, timeout, library_name, library_version, user_agent, headers)\u001b[0m\n\u001b[0;32m   1291\u001b[0m hf_headers[\u001b[38;5;124m\"\u001b[39m\u001b[38;5;124mAccept-Encoding\u001b[39m\u001b[38;5;124m\"\u001b[39m] \u001b[38;5;241m=\u001b[39m \u001b[38;5;124m\"\u001b[39m\u001b[38;5;124midentity\u001b[39m\u001b[38;5;124m\"\u001b[39m  \u001b[38;5;66;03m# prevent any compression => we want to know the real size of the file\u001b[39;00m\n\u001b[0;32m   1293\u001b[0m \u001b[38;5;66;03m# Retrieve metadata\u001b[39;00m\n\u001b[1;32m-> 1294\u001b[0m r \u001b[38;5;241m=\u001b[39m \u001b[43m_request_wrapper\u001b[49m\u001b[43m(\u001b[49m\n\u001b[0;32m   1295\u001b[0m \u001b[43m    \u001b[49m\u001b[43mmethod\u001b[49m\u001b[38;5;241;43m=\u001b[39;49m\u001b[38;5;124;43m\"\u001b[39;49m\u001b[38;5;124;43mHEAD\u001b[39;49m\u001b[38;5;124;43m\"\u001b[39;49m\u001b[43m,\u001b[49m\n\u001b[0;32m   1296\u001b[0m \u001b[43m    \u001b[49m\u001b[43murl\u001b[49m\u001b[38;5;241;43m=\u001b[39;49m\u001b[43murl\u001b[49m\u001b[43m,\u001b[49m\n\u001b[0;32m   1297\u001b[0m \u001b[43m    \u001b[49m\u001b[43mheaders\u001b[49m\u001b[38;5;241;43m=\u001b[39;49m\u001b[43mhf_headers\u001b[49m\u001b[43m,\u001b[49m\n\u001b[0;32m   1298\u001b[0m \u001b[43m    \u001b[49m\u001b[43mallow_redirects\u001b[49m\u001b[38;5;241;43m=\u001b[39;49m\u001b[38;5;28;43;01mFalse\u001b[39;49;00m\u001b[43m,\u001b[49m\n\u001b[0;32m   1299\u001b[0m \u001b[43m    \u001b[49m\u001b[43mfollow_relative_redirects\u001b[49m\u001b[38;5;241;43m=\u001b[39;49m\u001b[38;5;28;43;01mTrue\u001b[39;49;00m\u001b[43m,\u001b[49m\n\u001b[0;32m   1300\u001b[0m \u001b[43m    \u001b[49m\u001b[43mproxies\u001b[49m\u001b[38;5;241;43m=\u001b[39;49m\u001b[43mproxies\u001b[49m\u001b[43m,\u001b[49m\n\u001b[0;32m   1301\u001b[0m \u001b[43m    \u001b[49m\u001b[43mtimeout\u001b[49m\u001b[38;5;241;43m=\u001b[39;49m\u001b[43mtimeout\u001b[49m\u001b[43m,\u001b[49m\n\u001b[0;32m   1302\u001b[0m \u001b[43m\u001b[49m\u001b[43m)\u001b[49m\n\u001b[0;32m   1303\u001b[0m hf_raise_for_status(r)\n\u001b[0;32m   1305\u001b[0m \u001b[38;5;66;03m# Return\u001b[39;00m\n",
      "File \u001b[1;32m~\\anaconda3\\envs\\nlp_prac\\lib\\site-packages\\huggingface_hub\\file_download.py:278\u001b[0m, in \u001b[0;36m_request_wrapper\u001b[1;34m(method, url, follow_relative_redirects, **params)\u001b[0m\n\u001b[0;32m    276\u001b[0m \u001b[38;5;66;03m# Recursively follow relative redirects\u001b[39;00m\n\u001b[0;32m    277\u001b[0m \u001b[38;5;28;01mif\u001b[39;00m follow_relative_redirects:\n\u001b[1;32m--> 278\u001b[0m     response \u001b[38;5;241m=\u001b[39m _request_wrapper(\n\u001b[0;32m    279\u001b[0m         method\u001b[38;5;241m=\u001b[39mmethod,\n\u001b[0;32m    280\u001b[0m         url\u001b[38;5;241m=\u001b[39murl,\n\u001b[0;32m    281\u001b[0m         follow_relative_redirects\u001b[38;5;241m=\u001b[39m\u001b[38;5;28;01mFalse\u001b[39;00m,\n\u001b[0;32m    282\u001b[0m         \u001b[38;5;241m*\u001b[39m\u001b[38;5;241m*\u001b[39mparams,\n\u001b[0;32m    283\u001b[0m     )\n\u001b[0;32m    285\u001b[0m     \u001b[38;5;66;03m# If redirection, we redirect only relative paths.\u001b[39;00m\n\u001b[0;32m    286\u001b[0m     \u001b[38;5;66;03m# This is useful in case of a renamed repository.\u001b[39;00m\n\u001b[0;32m    287\u001b[0m     \u001b[38;5;28;01mif\u001b[39;00m \u001b[38;5;241m300\u001b[39m \u001b[38;5;241m<\u001b[39m\u001b[38;5;241m=\u001b[39m response\u001b[38;5;241m.\u001b[39mstatus_code \u001b[38;5;241m<\u001b[39m\u001b[38;5;241m=\u001b[39m \u001b[38;5;241m399\u001b[39m:\n",
      "File \u001b[1;32m~\\anaconda3\\envs\\nlp_prac\\lib\\site-packages\\huggingface_hub\\file_download.py:301\u001b[0m, in \u001b[0;36m_request_wrapper\u001b[1;34m(method, url, follow_relative_redirects, **params)\u001b[0m\n\u001b[0;32m    298\u001b[0m     \u001b[38;5;28;01mreturn\u001b[39;00m response\n\u001b[0;32m    300\u001b[0m \u001b[38;5;66;03m# Perform request and return if status_code is not in the retry list.\u001b[39;00m\n\u001b[1;32m--> 301\u001b[0m response \u001b[38;5;241m=\u001b[39m get_session()\u001b[38;5;241m.\u001b[39mrequest(method\u001b[38;5;241m=\u001b[39mmethod, url\u001b[38;5;241m=\u001b[39murl, \u001b[38;5;241m*\u001b[39m\u001b[38;5;241m*\u001b[39mparams)\n\u001b[0;32m    302\u001b[0m hf_raise_for_status(response)\n\u001b[0;32m    303\u001b[0m \u001b[38;5;28;01mreturn\u001b[39;00m response\n",
      "File \u001b[1;32m~\\anaconda3\\envs\\nlp_prac\\lib\\site-packages\\requests\\sessions.py:589\u001b[0m, in \u001b[0;36mSession.request\u001b[1;34m(self, method, url, params, data, headers, cookies, files, auth, timeout, allow_redirects, proxies, hooks, stream, verify, cert, json)\u001b[0m\n\u001b[0;32m    584\u001b[0m send_kwargs \u001b[38;5;241m=\u001b[39m {\n\u001b[0;32m    585\u001b[0m     \u001b[38;5;124m\"\u001b[39m\u001b[38;5;124mtimeout\u001b[39m\u001b[38;5;124m\"\u001b[39m: timeout,\n\u001b[0;32m    586\u001b[0m     \u001b[38;5;124m\"\u001b[39m\u001b[38;5;124mallow_redirects\u001b[39m\u001b[38;5;124m\"\u001b[39m: allow_redirects,\n\u001b[0;32m    587\u001b[0m }\n\u001b[0;32m    588\u001b[0m send_kwargs\u001b[38;5;241m.\u001b[39mupdate(settings)\n\u001b[1;32m--> 589\u001b[0m resp \u001b[38;5;241m=\u001b[39m \u001b[38;5;28mself\u001b[39m\u001b[38;5;241m.\u001b[39msend(prep, \u001b[38;5;241m*\u001b[39m\u001b[38;5;241m*\u001b[39msend_kwargs)\n\u001b[0;32m    591\u001b[0m \u001b[38;5;28;01mreturn\u001b[39;00m resp\n",
      "File \u001b[1;32m~\\anaconda3\\envs\\nlp_prac\\lib\\site-packages\\requests\\sessions.py:703\u001b[0m, in \u001b[0;36mSession.send\u001b[1;34m(self, request, **kwargs)\u001b[0m\n\u001b[0;32m    700\u001b[0m start \u001b[38;5;241m=\u001b[39m preferred_clock()\n\u001b[0;32m    702\u001b[0m \u001b[38;5;66;03m# Send the request\u001b[39;00m\n\u001b[1;32m--> 703\u001b[0m r \u001b[38;5;241m=\u001b[39m adapter\u001b[38;5;241m.\u001b[39msend(request, \u001b[38;5;241m*\u001b[39m\u001b[38;5;241m*\u001b[39mkwargs)\n\u001b[0;32m    705\u001b[0m \u001b[38;5;66;03m# Total elapsed time of the request (approximately)\u001b[39;00m\n\u001b[0;32m    706\u001b[0m elapsed \u001b[38;5;241m=\u001b[39m preferred_clock() \u001b[38;5;241m-\u001b[39m start\n",
      "File \u001b[1;32m~\\anaconda3\\envs\\nlp_prac\\lib\\site-packages\\huggingface_hub\\utils\\_http.py:93\u001b[0m, in \u001b[0;36mUniqueRequestIdAdapter.send\u001b[1;34m(self, request, *args, **kwargs)\u001b[0m\n\u001b[0;32m     91\u001b[0m \u001b[38;5;250m\u001b[39m\u001b[38;5;124;03m\"\"\"Catch any RequestException to append request id to the error message for debugging.\"\"\"\u001b[39;00m\n\u001b[0;32m     92\u001b[0m \u001b[38;5;28;01mtry\u001b[39;00m:\n\u001b[1;32m---> 93\u001b[0m     \u001b[38;5;28;01mreturn\u001b[39;00m \u001b[38;5;28msuper\u001b[39m()\u001b[38;5;241m.\u001b[39msend(request, \u001b[38;5;241m*\u001b[39margs, \u001b[38;5;241m*\u001b[39m\u001b[38;5;241m*\u001b[39mkwargs)\n\u001b[0;32m     94\u001b[0m \u001b[38;5;28;01mexcept\u001b[39;00m requests\u001b[38;5;241m.\u001b[39mRequestException \u001b[38;5;28;01mas\u001b[39;00m e:\n\u001b[0;32m     95\u001b[0m     request_id \u001b[38;5;241m=\u001b[39m request\u001b[38;5;241m.\u001b[39mheaders\u001b[38;5;241m.\u001b[39mget(X_AMZN_TRACE_ID)\n",
      "File \u001b[1;32m~\\anaconda3\\envs\\nlp_prac\\lib\\site-packages\\requests\\adapters.py:667\u001b[0m, in \u001b[0;36mHTTPAdapter.send\u001b[1;34m(self, request, stream, timeout, verify, cert, proxies)\u001b[0m\n\u001b[0;32m    664\u001b[0m     timeout \u001b[38;5;241m=\u001b[39m TimeoutSauce(connect\u001b[38;5;241m=\u001b[39mtimeout, read\u001b[38;5;241m=\u001b[39mtimeout)\n\u001b[0;32m    666\u001b[0m \u001b[38;5;28;01mtry\u001b[39;00m:\n\u001b[1;32m--> 667\u001b[0m     resp \u001b[38;5;241m=\u001b[39m \u001b[43mconn\u001b[49m\u001b[38;5;241;43m.\u001b[39;49m\u001b[43murlopen\u001b[49m\u001b[43m(\u001b[49m\n\u001b[0;32m    668\u001b[0m \u001b[43m        \u001b[49m\u001b[43mmethod\u001b[49m\u001b[38;5;241;43m=\u001b[39;49m\u001b[43mrequest\u001b[49m\u001b[38;5;241;43m.\u001b[39;49m\u001b[43mmethod\u001b[49m\u001b[43m,\u001b[49m\n\u001b[0;32m    669\u001b[0m \u001b[43m        \u001b[49m\u001b[43murl\u001b[49m\u001b[38;5;241;43m=\u001b[39;49m\u001b[43murl\u001b[49m\u001b[43m,\u001b[49m\n\u001b[0;32m    670\u001b[0m \u001b[43m        \u001b[49m\u001b[43mbody\u001b[49m\u001b[38;5;241;43m=\u001b[39;49m\u001b[43mrequest\u001b[49m\u001b[38;5;241;43m.\u001b[39;49m\u001b[43mbody\u001b[49m\u001b[43m,\u001b[49m\n\u001b[0;32m    671\u001b[0m \u001b[43m        \u001b[49m\u001b[43mheaders\u001b[49m\u001b[38;5;241;43m=\u001b[39;49m\u001b[43mrequest\u001b[49m\u001b[38;5;241;43m.\u001b[39;49m\u001b[43mheaders\u001b[49m\u001b[43m,\u001b[49m\n\u001b[0;32m    672\u001b[0m \u001b[43m        \u001b[49m\u001b[43mredirect\u001b[49m\u001b[38;5;241;43m=\u001b[39;49m\u001b[38;5;28;43;01mFalse\u001b[39;49;00m\u001b[43m,\u001b[49m\n\u001b[0;32m    673\u001b[0m \u001b[43m        \u001b[49m\u001b[43massert_same_host\u001b[49m\u001b[38;5;241;43m=\u001b[39;49m\u001b[38;5;28;43;01mFalse\u001b[39;49;00m\u001b[43m,\u001b[49m\n\u001b[0;32m    674\u001b[0m \u001b[43m        \u001b[49m\u001b[43mpreload_content\u001b[49m\u001b[38;5;241;43m=\u001b[39;49m\u001b[38;5;28;43;01mFalse\u001b[39;49;00m\u001b[43m,\u001b[49m\n\u001b[0;32m    675\u001b[0m \u001b[43m        \u001b[49m\u001b[43mdecode_content\u001b[49m\u001b[38;5;241;43m=\u001b[39;49m\u001b[38;5;28;43;01mFalse\u001b[39;49;00m\u001b[43m,\u001b[49m\n\u001b[0;32m    676\u001b[0m \u001b[43m        \u001b[49m\u001b[43mretries\u001b[49m\u001b[38;5;241;43m=\u001b[39;49m\u001b[38;5;28;43mself\u001b[39;49m\u001b[38;5;241;43m.\u001b[39;49m\u001b[43mmax_retries\u001b[49m\u001b[43m,\u001b[49m\n\u001b[0;32m    677\u001b[0m \u001b[43m        \u001b[49m\u001b[43mtimeout\u001b[49m\u001b[38;5;241;43m=\u001b[39;49m\u001b[43mtimeout\u001b[49m\u001b[43m,\u001b[49m\n\u001b[0;32m    678\u001b[0m \u001b[43m        \u001b[49m\u001b[43mchunked\u001b[49m\u001b[38;5;241;43m=\u001b[39;49m\u001b[43mchunked\u001b[49m\u001b[43m,\u001b[49m\n\u001b[0;32m    679\u001b[0m \u001b[43m    \u001b[49m\u001b[43m)\u001b[49m\n\u001b[0;32m    681\u001b[0m \u001b[38;5;28;01mexcept\u001b[39;00m (ProtocolError, \u001b[38;5;167;01mOSError\u001b[39;00m) \u001b[38;5;28;01mas\u001b[39;00m err:\n\u001b[0;32m    682\u001b[0m     \u001b[38;5;28;01mraise\u001b[39;00m \u001b[38;5;167;01mConnectionError\u001b[39;00m(err, request\u001b[38;5;241m=\u001b[39mrequest)\n",
      "File \u001b[1;32m~\\anaconda3\\envs\\nlp_prac\\lib\\site-packages\\urllib3\\connectionpool.py:789\u001b[0m, in \u001b[0;36mHTTPConnectionPool.urlopen\u001b[1;34m(self, method, url, body, headers, retries, redirect, assert_same_host, timeout, pool_timeout, release_conn, chunked, body_pos, preload_content, decode_content, **response_kw)\u001b[0m\n\u001b[0;32m    786\u001b[0m response_conn \u001b[38;5;241m=\u001b[39m conn \u001b[38;5;28;01mif\u001b[39;00m \u001b[38;5;129;01mnot\u001b[39;00m release_conn \u001b[38;5;28;01melse\u001b[39;00m \u001b[38;5;28;01mNone\u001b[39;00m\n\u001b[0;32m    788\u001b[0m \u001b[38;5;66;03m# Make the request on the HTTPConnection object\u001b[39;00m\n\u001b[1;32m--> 789\u001b[0m response \u001b[38;5;241m=\u001b[39m \u001b[38;5;28mself\u001b[39m\u001b[38;5;241m.\u001b[39m_make_request(\n\u001b[0;32m    790\u001b[0m     conn,\n\u001b[0;32m    791\u001b[0m     method,\n\u001b[0;32m    792\u001b[0m     url,\n\u001b[0;32m    793\u001b[0m     timeout\u001b[38;5;241m=\u001b[39mtimeout_obj,\n\u001b[0;32m    794\u001b[0m     body\u001b[38;5;241m=\u001b[39mbody,\n\u001b[0;32m    795\u001b[0m     headers\u001b[38;5;241m=\u001b[39mheaders,\n\u001b[0;32m    796\u001b[0m     chunked\u001b[38;5;241m=\u001b[39mchunked,\n\u001b[0;32m    797\u001b[0m     retries\u001b[38;5;241m=\u001b[39mretries,\n\u001b[0;32m    798\u001b[0m     response_conn\u001b[38;5;241m=\u001b[39mresponse_conn,\n\u001b[0;32m    799\u001b[0m     preload_content\u001b[38;5;241m=\u001b[39mpreload_content,\n\u001b[0;32m    800\u001b[0m     decode_content\u001b[38;5;241m=\u001b[39mdecode_content,\n\u001b[0;32m    801\u001b[0m     \u001b[38;5;241m*\u001b[39m\u001b[38;5;241m*\u001b[39mresponse_kw,\n\u001b[0;32m    802\u001b[0m )\n\u001b[0;32m    804\u001b[0m \u001b[38;5;66;03m# Everything went great!\u001b[39;00m\n\u001b[0;32m    805\u001b[0m clean_exit \u001b[38;5;241m=\u001b[39m \u001b[38;5;28;01mTrue\u001b[39;00m\n",
      "File \u001b[1;32m~\\anaconda3\\envs\\nlp_prac\\lib\\site-packages\\urllib3\\connectionpool.py:536\u001b[0m, in \u001b[0;36mHTTPConnectionPool._make_request\u001b[1;34m(self, conn, method, url, body, headers, retries, timeout, chunked, response_conn, preload_content, decode_content, enforce_content_length)\u001b[0m\n\u001b[0;32m    534\u001b[0m \u001b[38;5;66;03m# Receive the response from the server\u001b[39;00m\n\u001b[0;32m    535\u001b[0m \u001b[38;5;28;01mtry\u001b[39;00m:\n\u001b[1;32m--> 536\u001b[0m     response \u001b[38;5;241m=\u001b[39m \u001b[43mconn\u001b[49m\u001b[38;5;241;43m.\u001b[39;49m\u001b[43mgetresponse\u001b[49m\u001b[43m(\u001b[49m\u001b[43m)\u001b[49m\n\u001b[0;32m    537\u001b[0m \u001b[38;5;28;01mexcept\u001b[39;00m (BaseSSLError, \u001b[38;5;167;01mOSError\u001b[39;00m) \u001b[38;5;28;01mas\u001b[39;00m e:\n\u001b[0;32m    538\u001b[0m     \u001b[38;5;28mself\u001b[39m\u001b[38;5;241m.\u001b[39m_raise_timeout(err\u001b[38;5;241m=\u001b[39me, url\u001b[38;5;241m=\u001b[39murl, timeout_value\u001b[38;5;241m=\u001b[39mread_timeout)\n",
      "File \u001b[1;32m~\\anaconda3\\envs\\nlp_prac\\lib\\site-packages\\urllib3\\connection.py:507\u001b[0m, in \u001b[0;36mHTTPConnection.getresponse\u001b[1;34m(self)\u001b[0m\n\u001b[0;32m    504\u001b[0m \u001b[38;5;28;01mfrom\u001b[39;00m \u001b[38;5;21;01m.\u001b[39;00m\u001b[38;5;21;01mresponse\u001b[39;00m \u001b[38;5;28;01mimport\u001b[39;00m HTTPResponse\n\u001b[0;32m    506\u001b[0m \u001b[38;5;66;03m# Get the response from http.client.HTTPConnection\u001b[39;00m\n\u001b[1;32m--> 507\u001b[0m httplib_response \u001b[38;5;241m=\u001b[39m \u001b[38;5;28;43msuper\u001b[39;49m\u001b[43m(\u001b[49m\u001b[43m)\u001b[49m\u001b[38;5;241;43m.\u001b[39;49m\u001b[43mgetresponse\u001b[49m\u001b[43m(\u001b[49m\u001b[43m)\u001b[49m\n\u001b[0;32m    509\u001b[0m \u001b[38;5;28;01mtry\u001b[39;00m:\n\u001b[0;32m    510\u001b[0m     assert_header_parsing(httplib_response\u001b[38;5;241m.\u001b[39mmsg)\n",
      "File \u001b[1;32m~\\anaconda3\\envs\\nlp_prac\\lib\\http\\client.py:1377\u001b[0m, in \u001b[0;36mHTTPConnection.getresponse\u001b[1;34m(self)\u001b[0m\n\u001b[0;32m   1375\u001b[0m \u001b[38;5;28;01mtry\u001b[39;00m:\n\u001b[0;32m   1376\u001b[0m     \u001b[38;5;28;01mtry\u001b[39;00m:\n\u001b[1;32m-> 1377\u001b[0m         \u001b[43mresponse\u001b[49m\u001b[38;5;241;43m.\u001b[39;49m\u001b[43mbegin\u001b[49m\u001b[43m(\u001b[49m\u001b[43m)\u001b[49m\n\u001b[0;32m   1378\u001b[0m     \u001b[38;5;28;01mexcept\u001b[39;00m \u001b[38;5;167;01mConnectionError\u001b[39;00m:\n\u001b[0;32m   1379\u001b[0m         \u001b[38;5;28mself\u001b[39m\u001b[38;5;241m.\u001b[39mclose()\n",
      "File \u001b[1;32m~\\anaconda3\\envs\\nlp_prac\\lib\\http\\client.py:320\u001b[0m, in \u001b[0;36mHTTPResponse.begin\u001b[1;34m(self)\u001b[0m\n\u001b[0;32m    318\u001b[0m \u001b[38;5;66;03m# read until we get a non-100 response\u001b[39;00m\n\u001b[0;32m    319\u001b[0m \u001b[38;5;28;01mwhile\u001b[39;00m \u001b[38;5;28;01mTrue\u001b[39;00m:\n\u001b[1;32m--> 320\u001b[0m     version, status, reason \u001b[38;5;241m=\u001b[39m \u001b[38;5;28;43mself\u001b[39;49m\u001b[38;5;241;43m.\u001b[39;49m\u001b[43m_read_status\u001b[49m\u001b[43m(\u001b[49m\u001b[43m)\u001b[49m\n\u001b[0;32m    321\u001b[0m     \u001b[38;5;28;01mif\u001b[39;00m status \u001b[38;5;241m!=\u001b[39m CONTINUE:\n\u001b[0;32m    322\u001b[0m         \u001b[38;5;28;01mbreak\u001b[39;00m\n",
      "File \u001b[1;32m~\\anaconda3\\envs\\nlp_prac\\lib\\http\\client.py:281\u001b[0m, in \u001b[0;36mHTTPResponse._read_status\u001b[1;34m(self)\u001b[0m\n\u001b[0;32m    280\u001b[0m \u001b[38;5;28;01mdef\u001b[39;00m \u001b[38;5;21m_read_status\u001b[39m(\u001b[38;5;28mself\u001b[39m):\n\u001b[1;32m--> 281\u001b[0m     line \u001b[38;5;241m=\u001b[39m \u001b[38;5;28mstr\u001b[39m(\u001b[38;5;28;43mself\u001b[39;49m\u001b[38;5;241;43m.\u001b[39;49m\u001b[43mfp\u001b[49m\u001b[38;5;241;43m.\u001b[39;49m\u001b[43mreadline\u001b[49m\u001b[43m(\u001b[49m\u001b[43m_MAXLINE\u001b[49m\u001b[43m \u001b[49m\u001b[38;5;241;43m+\u001b[39;49m\u001b[43m \u001b[49m\u001b[38;5;241;43m1\u001b[39;49m\u001b[43m)\u001b[49m, \u001b[38;5;124m\"\u001b[39m\u001b[38;5;124miso-8859-1\u001b[39m\u001b[38;5;124m\"\u001b[39m)\n\u001b[0;32m    282\u001b[0m     \u001b[38;5;28;01mif\u001b[39;00m \u001b[38;5;28mlen\u001b[39m(line) \u001b[38;5;241m>\u001b[39m _MAXLINE:\n\u001b[0;32m    283\u001b[0m         \u001b[38;5;28;01mraise\u001b[39;00m LineTooLong(\u001b[38;5;124m\"\u001b[39m\u001b[38;5;124mstatus line\u001b[39m\u001b[38;5;124m\"\u001b[39m)\n",
      "File \u001b[1;32m~\\anaconda3\\envs\\nlp_prac\\lib\\socket.py:704\u001b[0m, in \u001b[0;36mSocketIO.readinto\u001b[1;34m(self, b)\u001b[0m\n\u001b[0;32m    702\u001b[0m \u001b[38;5;28;01mwhile\u001b[39;00m \u001b[38;5;28;01mTrue\u001b[39;00m:\n\u001b[0;32m    703\u001b[0m     \u001b[38;5;28;01mtry\u001b[39;00m:\n\u001b[1;32m--> 704\u001b[0m         \u001b[38;5;28;01mreturn\u001b[39;00m \u001b[38;5;28;43mself\u001b[39;49m\u001b[38;5;241;43m.\u001b[39;49m\u001b[43m_sock\u001b[49m\u001b[38;5;241;43m.\u001b[39;49m\u001b[43mrecv_into\u001b[49m\u001b[43m(\u001b[49m\u001b[43mb\u001b[49m\u001b[43m)\u001b[49m\n\u001b[0;32m    705\u001b[0m     \u001b[38;5;28;01mexcept\u001b[39;00m timeout:\n\u001b[0;32m    706\u001b[0m         \u001b[38;5;28mself\u001b[39m\u001b[38;5;241m.\u001b[39m_timeout_occurred \u001b[38;5;241m=\u001b[39m \u001b[38;5;28;01mTrue\u001b[39;00m\n",
      "File \u001b[1;32m~\\anaconda3\\envs\\nlp_prac\\lib\\ssl.py:1275\u001b[0m, in \u001b[0;36mSSLSocket.recv_into\u001b[1;34m(self, buffer, nbytes, flags)\u001b[0m\n\u001b[0;32m   1271\u001b[0m     \u001b[38;5;28;01mif\u001b[39;00m flags \u001b[38;5;241m!=\u001b[39m \u001b[38;5;241m0\u001b[39m:\n\u001b[0;32m   1272\u001b[0m         \u001b[38;5;28;01mraise\u001b[39;00m \u001b[38;5;167;01mValueError\u001b[39;00m(\n\u001b[0;32m   1273\u001b[0m           \u001b[38;5;124m\"\u001b[39m\u001b[38;5;124mnon-zero flags not allowed in calls to recv_into() on \u001b[39m\u001b[38;5;132;01m%s\u001b[39;00m\u001b[38;5;124m\"\u001b[39m \u001b[38;5;241m%\u001b[39m\n\u001b[0;32m   1274\u001b[0m           \u001b[38;5;28mself\u001b[39m\u001b[38;5;241m.\u001b[39m\u001b[38;5;18m__class__\u001b[39m)\n\u001b[1;32m-> 1275\u001b[0m     \u001b[38;5;28;01mreturn\u001b[39;00m \u001b[38;5;28;43mself\u001b[39;49m\u001b[38;5;241;43m.\u001b[39;49m\u001b[43mread\u001b[49m\u001b[43m(\u001b[49m\u001b[43mnbytes\u001b[49m\u001b[43m,\u001b[49m\u001b[43m \u001b[49m\u001b[43mbuffer\u001b[49m\u001b[43m)\u001b[49m\n\u001b[0;32m   1276\u001b[0m \u001b[38;5;28;01melse\u001b[39;00m:\n\u001b[0;32m   1277\u001b[0m     \u001b[38;5;28;01mreturn\u001b[39;00m \u001b[38;5;28msuper\u001b[39m()\u001b[38;5;241m.\u001b[39mrecv_into(buffer, nbytes, flags)\n",
      "File \u001b[1;32m~\\anaconda3\\envs\\nlp_prac\\lib\\ssl.py:1133\u001b[0m, in \u001b[0;36mSSLSocket.read\u001b[1;34m(self, len, buffer)\u001b[0m\n\u001b[0;32m   1131\u001b[0m \u001b[38;5;28;01mtry\u001b[39;00m:\n\u001b[0;32m   1132\u001b[0m     \u001b[38;5;28;01mif\u001b[39;00m buffer \u001b[38;5;129;01mis\u001b[39;00m \u001b[38;5;129;01mnot\u001b[39;00m \u001b[38;5;28;01mNone\u001b[39;00m:\n\u001b[1;32m-> 1133\u001b[0m         \u001b[38;5;28;01mreturn\u001b[39;00m \u001b[38;5;28;43mself\u001b[39;49m\u001b[38;5;241;43m.\u001b[39;49m\u001b[43m_sslobj\u001b[49m\u001b[38;5;241;43m.\u001b[39;49m\u001b[43mread\u001b[49m\u001b[43m(\u001b[49m\u001b[38;5;28;43mlen\u001b[39;49m\u001b[43m,\u001b[49m\u001b[43m \u001b[49m\u001b[43mbuffer\u001b[49m\u001b[43m)\u001b[49m\n\u001b[0;32m   1134\u001b[0m     \u001b[38;5;28;01melse\u001b[39;00m:\n\u001b[0;32m   1135\u001b[0m         \u001b[38;5;28;01mreturn\u001b[39;00m \u001b[38;5;28mself\u001b[39m\u001b[38;5;241m.\u001b[39m_sslobj\u001b[38;5;241m.\u001b[39mread(\u001b[38;5;28mlen\u001b[39m)\n",
      "\u001b[1;31mKeyboardInterrupt\u001b[0m: "
     ]
    }
   ],
   "source": [
    "# If True, test with a small dataset.\n",
    "is_test     = True\n",
    "is_ensemble = False\n",
    "n_trials    = 1\n",
    "\n",
    "# Data.\n",
    "data_load_time = \"final\"\n",
    "\n",
    "# Create Optuna study and optimize.\n",
    "study = optuna.create_study(direction='maximize')\n",
    "study.optimize(lambda trial: objective(trial, is_test, is_ensemble), \n",
    "               n_trials=n_trials)\n",
    "\n",
    "# Best trial.\n",
    "# print('**Print best trial.**')\n",
    "# bioasq_libs.print_trial(study.best_trial)"
   ]
  },
  {
   "cell_type": "code",
   "execution_count": 99,
   "id": "bb4555ae-d730-44fd-90ee-2d3b3077dea9",
   "metadata": {
    "tags": []
   },
   "outputs": [
    {
     "data": {
      "image/png": "[encoded data removed]",
      "text/plain": [
       "<Figure size 1000x400 with 1 Axes>"
      ]
     },
     "metadata": {},
     "output_type": "display_data"
    },
    {
     "data": {
      "image/png": "[encoded data removed]",
      "text/plain": [
       "<Figure size 1000x400 with 1 Axes>"
      ]
     },
     "metadata": {},
     "output_type": "display_data"
    }
   ],
   "source": [
    "import matplotlib.pyplot as plt\n",
    "\n",
    "# Example data (replace these with your actual metrics)\n",
    "epochs = list(range(2, 12))  # Epochs 1 through 11\n",
    "train_loss = [0.5946, 0.4566, 0.3889, 0.2742, 0.2264, 0.1799, 0.1799, 0.1876, 0.1405, 0.1760]\n",
    "val_loss = [0.3859, 0.3995, 0.3119, 0.1963, 0.1809, 0.2262, 0.1605, 0.2327, 0.1989, 0.2109]\n",
    "accuracy = [0.8338, 0.8600, 0.8771, 0.8921, 0.9462, 0.9419, 0.9503, 0.9503, 0.9464, 0.9475]\n",
    "macro_f1 = [0.8257, 0.8509, 0.8600, 0.8837, 0.9384, 0.9384, 0.9541, 0.9547, 0.9415, 0.9447]\n",
    "\n",
    "# Plot Training and Validation Loss\n",
    "plt.figure(figsize=(10, 4))\n",
    "plt.plot(epochs, train_loss, label='Training Loss', marker='o')\n",
    "plt.plot(epochs, val_loss, label='Validation Loss', marker='o')\n",
    "\n",
    "plt.title('Loss per Epoch')\n",
    "plt.xlabel('Epoch')\n",
    "plt.ylabel('Loss')\n",
    "plt.legend()\n",
    "plt.grid()\n",
    "plt.show()\n",
    "\n",
    "# Plot Accuracy and Macro F1\n",
    "plt.figure(figsize=(10, 4))\n",
    "plt.plot(epochs, accuracy, label='Accuracy', marker='o')\n",
    "plt.plot(epochs, macro_f1, label='Macro F1', marker='o')\n",
    "plt.title('Accuracy and Macro F1 per Epoch')\n",
    "plt.xlabel('Epoch')\n",
    "plt.ylabel('Score')\n",
    "plt.legend()\n",
    "plt.grid()\n",
    "plt.show()\n"
   ]
  },
  {
   "cell_type": "code",
   "execution_count": 23,
   "id": "3e5f5c76-46a6-4a58-ba56-368ceb6e78e2",
   "metadata": {
    "tags": []
   },
   "outputs": [
    {
     "data": {
      "application/vnd.plotly.v1+json": {
       "config": {
        "plotlyServerURL": "https://plot.ly"
       },
       "data": [
        {
         "cliponaxis": false,
         "hovertemplate": [
          "weight_decay (FloatDistribution): 0.051843835119575105<extra></extra>",
          "batch_size (CategoricalDistribution): 0.08065706550180529<extra></extra>",
          "learning_rate (FloatDistribution): 0.14251338996805835<extra></extra>",
          "warmup_ratio (FloatDistribution): 0.148865267249763<extra></extra>",
          "class_weights_penalty (FloatDistribution): 0.1597678213119235<extra></extra>",
          "lora_dropout (FloatDistribution): 0.1913315446747934<extra></extra>",
          "checkpoint (CategoricalDistribution): 0.22502107617408137<extra></extra>"
         ],
         "name": "Objective Value",
         "orientation": "h",
         "text": [
          "0.05",
          "0.08",
          "0.14",
          "0.15",
          "0.16",
          "0.19",
          "0.23"
         ],
         "textposition": "outside",
         "type": "bar",
         "x": [
          0.051843835119575105,
          0.08065706550180529,
          0.14251338996805835,
          0.148865267249763,
          0.1597678213119235,
          0.1913315446747934,
          0.22502107617408137
         ],
         "y": [
          "weight_decay",
          "batch_size",
          "learning_rate",
          "warmup_ratio",
          "class_weights_penalty",
          "lora_dropout",
          "checkpoint"
         ]
        }
       ],
       "layout": {
        "autosize": true,
        "template": {
         "data": {
          "bar": [
           {
            "error_x": {
             "color": "#2a3f5f"
            },
            "error_y": {
             "color": "#2a3f5f"
            },
            "marker": {
             "line": {
              "color": "#E5ECF6",
              "width": 0.5
             },
             "pattern": {
              "fillmode": "overlay",
              "size": 10,
              "solidity": 0.2
             }
            },
            "type": "bar"
           }
          ],
          "barpolar": [
           {
            "marker": {
             "line": {
              "color": "#E5ECF6",
              "width": 0.5
             },
             "pattern": {
              "fillmode": "overlay",
              "size": 10,
              "solidity": 0.2
             }
            },
            "type": "barpolar"
           }
          ],
          "carpet": [
           {
            "aaxis": {
             "endlinecolor": "#2a3f5f",
             "gridcolor": "white",
             "linecolor": "white",
             "minorgridcolor": "white",
             "startlinecolor": "#2a3f5f"
            },
            "baxis": {
             "endlinecolor": "#2a3f5f",
             "gridcolor": "white",
             "linecolor": "white",
             "minorgridcolor": "white",
             "startlinecolor": "#2a3f5f"
            },
            "type": "carpet"
           }
          ],
          "choropleth": [
           {
            "colorbar": {
             "outlinewidth": 0,
             "ticks": ""
            },
            "type": "choropleth"
           }
          ],
          "contour": [
           {
            "colorbar": {
             "outlinewidth": 0,
             "ticks": ""
            },
            "colorscale": [
             [
              0,
              "#0d0887"
             ],
             [
              0.1111111111111111,
              "#46039f"
             ],
             [
              0.2222222222222222,
              "#7201a8"
             ],
             [
              0.3333333333333333,
              "#9c179e"
             ],
             [
              0.4444444444444444,
              "#bd3786"
             ],
             [
              0.5555555555555556,
              "#d8576b"
             ],
             [
              0.6666666666666666,
              "#ed7953"
             ],
             [
              0.7777777777777778,
              "#fb9f3a"
             ],
             [
              0.8888888888888888,
              "#fdca26"
             ],
             [
              1,
              "#f0f921"
             ]
            ],
            "type": "contour"
           }
          ],
          "contourcarpet": [
           {
            "colorbar": {
             "outlinewidth": 0,
             "ticks": ""
            },
            "type": "contourcarpet"
           }
          ],
          "heatmap": [
           {
            "colorbar": {
             "outlinewidth": 0,
             "ticks": ""
            },
            "colorscale": [
             [
              0,
              "#0d0887"
             ],
             [
              0.1111111111111111,
              "#46039f"
             ],
             [
              0.2222222222222222,
              "#7201a8"
             ],
             [
              0.3333333333333333,
              "#9c179e"
             ],
             [
              0.4444444444444444,
              "#bd3786"
             ],
             [
              0.5555555555555556,
              "#d8576b"
             ],
             [
              0.6666666666666666,
              "#ed7953"
             ],
             [
              0.7777777777777778,
              "#fb9f3a"
             ],
             [
              0.8888888888888888,
              "#fdca26"
             ],
             [
              1,
              "#f0f921"
             ]
            ],
            "type": "heatmap"
           }
          ],
          "heatmapgl": [
           {
            "colorbar": {
             "outlinewidth": 0,
             "ticks": ""
            },
            "colorscale": [
             [
              0,
              "#0d0887"
             ],
             [
              0.1111111111111111,
              "#46039f"
             ],
             [
              0.2222222222222222,
              "#7201a8"
             ],
             [
              0.3333333333333333,
              "#9c179e"
             ],
             [
              0.4444444444444444,
              "#bd3786"
             ],
             [
              0.5555555555555556,
              "#d8576b"
             ],
             [
              0.6666666666666666,
              "#ed7953"
             ],
             [
              0.7777777777777778,
              "#fb9f3a"
             ],
             [
              0.8888888888888888,
              "#fdca26"
             ],
             [
              1,
              "#f0f921"
             ]
            ],
            "type": "heatmapgl"
           }
          ],
          "histogram": [
           {
            "marker": {
             "pattern": {
              "fillmode": "overlay",
              "size": 10,
              "solidity": 0.2
             }
            },
            "type": "histogram"
           }
          ],
          "histogram2d": [
           {
            "colorbar": {
             "outlinewidth": 0,
             "ticks": ""
            },
            "colorscale": [
             [
              0,
              "#0d0887"
             ],
             [
              0.1111111111111111,
              "#46039f"
             ],
             [
              0.2222222222222222,
              "#7201a8"
             ],
             [
              0.3333333333333333,
              "#9c179e"
             ],
             [
              0.4444444444444444,
              "#bd3786"
             ],
             [
              0.5555555555555556,
              "#d8576b"
             ],
             [
              0.6666666666666666,
              "#ed7953"
             ],
             [
              0.7777777777777778,
              "#fb9f3a"
             ],
             [
              0.8888888888888888,
              "#fdca26"
             ],
             [
              1,
              "#f0f921"
             ]
            ],
            "type": "histogram2d"
           }
          ],
          "histogram2dcontour": [
           {
            "colorbar": {
             "outlinewidth": 0,
             "ticks": ""
            },
            "colorscale": [
             [
              0,
              "#0d0887"
             ],
             [
              0.1111111111111111,
              "#46039f"
             ],
             [
              0.2222222222222222,
              "#7201a8"
             ],
             [
              0.3333333333333333,
              "#9c179e"
             ],
             [
              0.4444444444444444,
              "#bd3786"
             ],
             [
              0.5555555555555556,
              "#d8576b"
             ],
             [
              0.6666666666666666,
              "#ed7953"
             ],
             [
              0.7777777777777778,
              "#fb9f3a"
             ],
             [
              0.8888888888888888,
              "#fdca26"
             ],
             [
              1,
              "#f0f921"
             ]
            ],
            "type": "histogram2dcontour"
           }
          ],
          "mesh3d": [
           {
            "colorbar": {
             "outlinewidth": 0,
             "ticks": ""
            },
            "type": "mesh3d"
           }
          ],
          "parcoords": [
           {
            "line": {
             "colorbar": {
              "outlinewidth": 0,
              "ticks": ""
             }
            },
            "type": "parcoords"
           }
          ],
          "pie": [
           {
            "automargin": true,
            "type": "pie"
           }
          ],
          "scatter": [
           {
            "fillpattern": {
             "fillmode": "overlay",
             "size": 10,
             "solidity": 0.2
            },
            "type": "scatter"
           }
          ],
          "scatter3d": [
           {
            "line": {
             "colorbar": {
              "outlinewidth": 0,
              "ticks": ""
             }
            },
            "marker": {
             "colorbar": {
              "outlinewidth": 0,
              "ticks": ""
             }
            },
            "type": "scatter3d"
           }
          ],
          "scattercarpet": [
           {
            "marker": {
             "colorbar": {
              "outlinewidth": 0,
              "ticks": ""
             }
            },
            "type": "scattercarpet"
           }
          ],
          "scattergeo": [
           {
            "marker": {
             "colorbar": {
              "outlinewidth": 0,
              "ticks": ""
             }
            },
            "type": "scattergeo"
           }
          ],
          "scattergl": [
           {
            "marker": {
             "colorbar": {
              "outlinewidth": 0,
              "ticks": ""
             }
            },
            "type": "scattergl"
           }
          ],
          "scattermapbox": [
           {
            "marker": {
             "colorbar": {
              "outlinewidth": 0,
              "ticks": ""
             }
            },
            "type": "scattermapbox"
           }
          ],
          "scatterpolar": [
           {
            "marker": {
             "colorbar": {
              "outlinewidth": 0,
              "ticks": ""
             }
            },
            "type": "scatterpolar"
           }
          ],
          "scatterpolargl": [
           {
            "marker": {
             "colorbar": {
              "outlinewidth": 0,
              "ticks": ""
             }
            },
            "type": "scatterpolargl"
           }
          ],
          "scatterternary": [
           {
            "marker": {
             "colorbar": {
              "outlinewidth": 0,
              "ticks": ""
             }
            },
            "type": "scatterternary"
           }
          ],
          "surface": [
           {
            "colorbar": {
             "outlinewidth": 0,
             "ticks": ""
            },
            "colorscale": [
             [
              0,
              "#0d0887"
             ],
             [
              0.1111111111111111,
              "#46039f"
             ],
             [
              0.2222222222222222,
              "#7201a8"
             ],
             [
              0.3333333333333333,
              "#9c179e"
             ],
             [
              0.4444444444444444,
              "#bd3786"
             ],
             [
              0.5555555555555556,
              "#d8576b"
             ],
             [
              0.6666666666666666,
              "#ed7953"
             ],
             [
              0.7777777777777778,
              "#fb9f3a"
             ],
             [
              0.8888888888888888,
              "#fdca26"
             ],
             [
              1,
              "#f0f921"
             ]
            ],
            "type": "surface"
           }
          ],
          "table": [
           {
            "cells": {
             "fill": {
              "color": "#EBF0F8"
             },
             "line": {
              "color": "white"
             }
            },
            "header": {
             "fill": {
              "color": "#C8D4E3"
             },
             "line": {
              "color": "white"
             }
            },
            "type": "table"
           }
          ]
         },
         "layout": {
          "annotationdefaults": {
           "arrowcolor": "#2a3f5f",
           "arrowhead": 0,
           "arrowwidth": 1
          },
          "autotypenumbers": "strict",
          "coloraxis": {
           "colorbar": {
            "outlinewidth": 0,
            "ticks": ""
           }
          },
          "colorscale": {
           "diverging": [
            [
             0,
             "#8e0152"
            ],
            [
             0.1,
             "#c51b7d"
            ],
            [
             0.2,
             "#de77ae"
            ],
            [
             0.3,
             "#f1b6da"
            ],
            [
             0.4,
             "#fde0ef"
            ],
            [
             0.5,
             "#f7f7f7"
            ],
            [
             0.6,
             "#e6f5d0"
            ],
            [
             0.7,
             "#b8e186"
            ],
            [
             0.8,
             "#7fbc41"
            ],
            [
             0.9,
             "#4d9221"
            ],
            [
             1,
             "#276419"
            ]
           ],
           "sequential": [
            [
             0,
             "#0d0887"
            ],
            [
             0.1111111111111111,
             "#46039f"
            ],
            [
             0.2222222222222222,
             "#7201a8"
            ],
            [
             0.3333333333333333,
             "#9c179e"
            ],
            [
             0.4444444444444444,
             "#bd3786"
            ],
            [
             0.5555555555555556,
             "#d8576b"
            ],
            [
             0.6666666666666666,
             "#ed7953"
            ],
            [
             0.7777777777777778,
             "#fb9f3a"
            ],
            [
             0.8888888888888888,
             "#fdca26"
            ],
            [
             1,
             "#f0f921"
            ]
           ],
           "sequentialminus": [
            [
             0,
             "#0d0887"
            ],
            [
             0.1111111111111111,
             "#46039f"
            ],
            [
             0.2222222222222222,
             "#7201a8"
            ],
            [
             0.3333333333333333,
             "#9c179e"
            ],
            [
             0.4444444444444444,
             "#bd3786"
            ],
            [
             0.5555555555555556,
             "#d8576b"
            ],
            [
             0.6666666666666666,
             "#ed7953"
            ],
            [
             0.7777777777777778,
             "#fb9f3a"
            ],
            [
             0.8888888888888888,
             "#fdca26"
            ],
            [
             1,
             "#f0f921"
            ]
           ]
          },
          "colorway": [
           "#636efa",
           "#EF553B",
           "#00cc96",
           "#ab63fa",
           "#FFA15A",
           "#19d3f3",
           "#FF6692",
           "#B6E880",
           "#FF97FF",
           "#FECB52"
          ],
          "font": {
           "color": "#2a3f5f"
          },
          "geo": {
           "bgcolor": "white",
           "lakecolor": "white",
           "landcolor": "#E5ECF6",
           "showlakes": true,
           "showland": true,
           "subunitcolor": "white"
          },
          "hoverlabel": {
           "align": "left"
          },
          "hovermode": "closest",
          "mapbox": {
           "style": "light"
          },
          "paper_bgcolor": "white",
          "plot_bgcolor": "#E5ECF6",
          "polar": {
           "angularaxis": {
            "gridcolor": "white",
            "linecolor": "white",
            "ticks": ""
           },
           "bgcolor": "#E5ECF6",
           "radialaxis": {
            "gridcolor": "white",
            "linecolor": "white",
            "ticks": ""
           }
          },
          "scene": {
           "xaxis": {
            "backgroundcolor": "#E5ECF6",
            "gridcolor": "white",
            "gridwidth": 2,
            "linecolor": "white",
            "showbackground": true,
            "ticks": "",
            "zerolinecolor": "white"
           },
           "yaxis": {
            "backgroundcolor": "#E5ECF6",
            "gridcolor": "white",
            "gridwidth": 2,
            "linecolor": "white",
            "showbackground": true,
            "ticks": "",
            "zerolinecolor": "white"
           },
           "zaxis": {
            "backgroundcolor": "#E5ECF6",
            "gridcolor": "white",
            "gridwidth": 2,
            "linecolor": "white",
            "showbackground": true,
            "ticks": "",
            "zerolinecolor": "white"
           }
          },
          "shapedefaults": {
           "line": {
            "color": "#2a3f5f"
           }
          },
          "ternary": {
           "aaxis": {
            "gridcolor": "white",
            "linecolor": "white",
            "ticks": ""
           },
           "baxis": {
            "gridcolor": "white",
            "linecolor": "white",
            "ticks": ""
           },
           "bgcolor": "#E5ECF6",
           "caxis": {
            "gridcolor": "white",
            "linecolor": "white",
            "ticks": ""
           }
          },
          "title": {
           "x": 0.05
          },
          "xaxis": {
           "automargin": true,
           "gridcolor": "white",
           "linecolor": "white",
           "ticks": "",
           "title": {
            "standoff": 15
           },
           "zerolinecolor": "white",
           "zerolinewidth": 2
          },
          "yaxis": {
           "automargin": true,
           "gridcolor": "white",
           "linecolor": "white",
           "ticks": "",
           "title": {
            "standoff": 15
           },
           "zerolinecolor": "white",
           "zerolinewidth": 2
          }
         }
        },
        "title": {
         "text": "Hyperparameter Importances"
        },
        "xaxis": {
         "autorange": true,
         "range": [
          0,
          0.23686429070955933
         ],
         "title": {
          "text": "Hyperparameter Importance"
         },
         "type": "linear"
        },
        "yaxis": {
         "autorange": true,
         "range": [
          -0.5,
          6.5
         ],
         "title": {
          "text": "Hyperparameter"
         },
         "type": "category"
        }
       }
      },
      "image/png": "[encoded data removed]",
      "text/html": [
       "<div>                            <div id=\"d4d45760-30a0-42c6-b933-037666ba758b\" class=\"plotly-graph-div\" style=\"height:525px; width:100%;\"></div>            <script type=\"text/javascript\">                require([\"plotly\"], function(Plotly) {                    window.PLOTLYENV=window.PLOTLYENV || {};                                    if (document.getElementById(\"d4d45760-30a0-42c6-b933-037666ba758b\")) {                    Plotly.newPlot(                        \"d4d45760-30a0-42c6-b933-037666ba758b\",                        [{\"cliponaxis\":false,\"hovertemplate\":[\"weight_decay (FloatDistribution): 0.051843835119575105\\u003cextra\\u003e\\u003c\\u002fextra\\u003e\",\"batch_size (CategoricalDistribution): 0.08065706550180529\\u003cextra\\u003e\\u003c\\u002fextra\\u003e\",\"learning_rate (FloatDistribution): 0.14251338996805835\\u003cextra\\u003e\\u003c\\u002fextra\\u003e\",\"warmup_ratio (FloatDistribution): 0.148865267249763\\u003cextra\\u003e\\u003c\\u002fextra\\u003e\",\"class_weights_penalty (FloatDistribution): 0.1597678213119235\\u003cextra\\u003e\\u003c\\u002fextra\\u003e\",\"lora_dropout (FloatDistribution): 0.1913315446747934\\u003cextra\\u003e\\u003c\\u002fextra\\u003e\",\"checkpoint (CategoricalDistribution): 0.22502107617408137\\u003cextra\\u003e\\u003c\\u002fextra\\u003e\"],\"name\":\"Objective Value\",\"orientation\":\"h\",\"text\":[\"0.05\",\"0.08\",\"0.14\",\"0.15\",\"0.16\",\"0.19\",\"0.23\"],\"textposition\":\"outside\",\"x\":[0.051843835119575105,0.08065706550180529,0.14251338996805835,0.148865267249763,0.1597678213119235,0.1913315446747934,0.22502107617408137],\"y\":[\"weight_decay\",\"batch_size\",\"learning_rate\",\"warmup_ratio\",\"class_weights_penalty\",\"lora_dropout\",\"checkpoint\"],\"type\":\"bar\"}],                        {\"title\":{\"text\":\"Hyperparameter Importances\"},\"xaxis\":{\"title\":{\"text\":\"Hyperparameter Importance\"}},\"yaxis\":{\"title\":{\"text\":\"Hyperparameter\"}},\"template\":{\"data\":{\"histogram2dcontour\":[{\"type\":\"histogram2dcontour\",\"colorbar\":{\"outlinewidth\":0,\"ticks\":\"\"},\"colorscale\":[[0.0,\"#0d0887\"],[0.1111111111111111,\"#46039f\"],[0.2222222222222222,\"#7201a8\"],[0.3333333333333333,\"#9c179e\"],[0.4444444444444444,\"#bd3786\"],[0.5555555555555556,\"#d8576b\"],[0.6666666666666666,\"#ed7953\"],[0.7777777777777778,\"#fb9f3a\"],[0.8888888888888888,\"#fdca26\"],[1.0,\"#f0f921\"]]}],\"choropleth\":[{\"type\":\"choropleth\",\"colorbar\":{\"outlinewidth\":0,\"ticks\":\"\"}}],\"histogram2d\":[{\"type\":\"histogram2d\",\"colorbar\":{\"outlinewidth\":0,\"ticks\":\"\"},\"colorscale\":[[0.0,\"#0d0887\"],[0.1111111111111111,\"#46039f\"],[0.2222222222222222,\"#7201a8\"],[0.3333333333333333,\"#9c179e\"],[0.4444444444444444,\"#bd3786\"],[0.5555555555555556,\"#d8576b\"],[0.6666666666666666,\"#ed7953\"],[0.7777777777777778,\"#fb9f3a\"],[0.8888888888888888,\"#fdca26\"],[1.0,\"#f0f921\"]]}],\"heatmap\":[{\"type\":\"heatmap\",\"colorbar\":{\"outlinewidth\":0,\"ticks\":\"\"},\"colorscale\":[[0.0,\"#0d0887\"],[0.1111111111111111,\"#46039f\"],[0.2222222222222222,\"#7201a8\"],[0.3333333333333333,\"#9c179e\"],[0.4444444444444444,\"#bd3786\"],[0.5555555555555556,\"#d8576b\"],[0.6666666666666666,\"#ed7953\"],[0.7777777777777778,\"#fb9f3a\"],[0.8888888888888888,\"#fdca26\"],[1.0,\"#f0f921\"]]}],\"heatmapgl\":[{\"type\":\"heatmapgl\",\"colorbar\":{\"outlinewidth\":0,\"ticks\":\"\"},\"colorscale\":[[0.0,\"#0d0887\"],[0.1111111111111111,\"#46039f\"],[0.2222222222222222,\"#7201a8\"],[0.3333333333333333,\"#9c179e\"],[0.4444444444444444,\"#bd3786\"],[0.5555555555555556,\"#d8576b\"],[0.6666666666666666,\"#ed7953\"],[0.7777777777777778,\"#fb9f3a\"],[0.8888888888888888,\"#fdca26\"],[1.0,\"#f0f921\"]]}],\"contourcarpet\":[{\"type\":\"contourcarpet\",\"colorbar\":{\"outlinewidth\":0,\"ticks\":\"\"}}],\"contour\":[{\"type\":\"contour\",\"colorbar\":{\"outlinewidth\":0,\"ticks\":\"\"},\"colorscale\":[[0.0,\"#0d0887\"],[0.1111111111111111,\"#46039f\"],[0.2222222222222222,\"#7201a8\"],[0.3333333333333333,\"#9c179e\"],[0.4444444444444444,\"#bd3786\"],[0.5555555555555556,\"#d8576b\"],[0.6666666666666666,\"#ed7953\"],[0.7777777777777778,\"#fb9f3a\"],[0.8888888888888888,\"#fdca26\"],[1.0,\"#f0f921\"]]}],\"surface\":[{\"type\":\"surface\",\"colorbar\":{\"outlinewidth\":0,\"ticks\":\"\"},\"colorscale\":[[0.0,\"#0d0887\"],[0.1111111111111111,\"#46039f\"],[0.2222222222222222,\"#7201a8\"],[0.3333333333333333,\"#9c179e\"],[0.4444444444444444,\"#bd3786\"],[0.5555555555555556,\"#d8576b\"],[0.6666666666666666,\"#ed7953\"],[0.7777777777777778,\"#fb9f3a\"],[0.8888888888888888,\"#fdca26\"],[1.0,\"#f0f921\"]]}],\"mesh3d\":[{\"type\":\"mesh3d\",\"colorbar\":{\"outlinewidth\":0,\"ticks\":\"\"}}],\"scatter\":[{\"fillpattern\":{\"fillmode\":\"overlay\",\"size\":10,\"solidity\":0.2},\"type\":\"scatter\"}],\"parcoords\":[{\"type\":\"parcoords\",\"line\":{\"colorbar\":{\"outlinewidth\":0,\"ticks\":\"\"}}}],\"scatterpolargl\":[{\"type\":\"scatterpolargl\",\"marker\":{\"colorbar\":{\"outlinewidth\":0,\"ticks\":\"\"}}}],\"bar\":[{\"error_x\":{\"color\":\"#2a3f5f\"},\"error_y\":{\"color\":\"#2a3f5f\"},\"marker\":{\"line\":{\"color\":\"#E5ECF6\",\"width\":0.5},\"pattern\":{\"fillmode\":\"overlay\",\"size\":10,\"solidity\":0.2}},\"type\":\"bar\"}],\"scattergeo\":[{\"type\":\"scattergeo\",\"marker\":{\"colorbar\":{\"outlinewidth\":0,\"ticks\":\"\"}}}],\"scatterpolar\":[{\"type\":\"scatterpolar\",\"marker\":{\"colorbar\":{\"outlinewidth\":0,\"ticks\":\"\"}}}],\"histogram\":[{\"marker\":{\"pattern\":{\"fillmode\":\"overlay\",\"size\":10,\"solidity\":0.2}},\"type\":\"histogram\"}],\"scattergl\":[{\"type\":\"scattergl\",\"marker\":{\"colorbar\":{\"outlinewidth\":0,\"ticks\":\"\"}}}],\"scatter3d\":[{\"type\":\"scatter3d\",\"line\":{\"colorbar\":{\"outlinewidth\":0,\"ticks\":\"\"}},\"marker\":{\"colorbar\":{\"outlinewidth\":0,\"ticks\":\"\"}}}],\"scattermapbox\":[{\"type\":\"scattermapbox\",\"marker\":{\"colorbar\":{\"outlinewidth\":0,\"ticks\":\"\"}}}],\"scatterternary\":[{\"type\":\"scatterternary\",\"marker\":{\"colorbar\":{\"outlinewidth\":0,\"ticks\":\"\"}}}],\"scattercarpet\":[{\"type\":\"scattercarpet\",\"marker\":{\"colorbar\":{\"outlinewidth\":0,\"ticks\":\"\"}}}],\"carpet\":[{\"aaxis\":{\"endlinecolor\":\"#2a3f5f\",\"gridcolor\":\"white\",\"linecolor\":\"white\",\"minorgridcolor\":\"white\",\"startlinecolor\":\"#2a3f5f\"},\"baxis\":{\"endlinecolor\":\"#2a3f5f\",\"gridcolor\":\"white\",\"linecolor\":\"white\",\"minorgridcolor\":\"white\",\"startlinecolor\":\"#2a3f5f\"},\"type\":\"carpet\"}],\"table\":[{\"cells\":{\"fill\":{\"color\":\"#EBF0F8\"},\"line\":{\"color\":\"white\"}},\"header\":{\"fill\":{\"color\":\"#C8D4E3\"},\"line\":{\"color\":\"white\"}},\"type\":\"table\"}],\"barpolar\":[{\"marker\":{\"line\":{\"color\":\"#E5ECF6\",\"width\":0.5},\"pattern\":{\"fillmode\":\"overlay\",\"size\":10,\"solidity\":0.2}},\"type\":\"barpolar\"}],\"pie\":[{\"automargin\":true,\"type\":\"pie\"}]},\"layout\":{\"autotypenumbers\":\"strict\",\"colorway\":[\"#636efa\",\"#EF553B\",\"#00cc96\",\"#ab63fa\",\"#FFA15A\",\"#19d3f3\",\"#FF6692\",\"#B6E880\",\"#FF97FF\",\"#FECB52\"],\"font\":{\"color\":\"#2a3f5f\"},\"hovermode\":\"closest\",\"hoverlabel\":{\"align\":\"left\"},\"paper_bgcolor\":\"white\",\"plot_bgcolor\":\"#E5ECF6\",\"polar\":{\"bgcolor\":\"#E5ECF6\",\"angularaxis\":{\"gridcolor\":\"white\",\"linecolor\":\"white\",\"ticks\":\"\"},\"radialaxis\":{\"gridcolor\":\"white\",\"linecolor\":\"white\",\"ticks\":\"\"}},\"ternary\":{\"bgcolor\":\"#E5ECF6\",\"aaxis\":{\"gridcolor\":\"white\",\"linecolor\":\"white\",\"ticks\":\"\"},\"baxis\":{\"gridcolor\":\"white\",\"linecolor\":\"white\",\"ticks\":\"\"},\"caxis\":{\"gridcolor\":\"white\",\"linecolor\":\"white\",\"ticks\":\"\"}},\"coloraxis\":{\"colorbar\":{\"outlinewidth\":0,\"ticks\":\"\"}},\"colorscale\":{\"sequential\":[[0.0,\"#0d0887\"],[0.1111111111111111,\"#46039f\"],[0.2222222222222222,\"#7201a8\"],[0.3333333333333333,\"#9c179e\"],[0.4444444444444444,\"#bd3786\"],[0.5555555555555556,\"#d8576b\"],[0.6666666666666666,\"#ed7953\"],[0.7777777777777778,\"#fb9f3a\"],[0.8888888888888888,\"#fdca26\"],[1.0,\"#f0f921\"]],\"sequentialminus\":[[0.0,\"#0d0887\"],[0.1111111111111111,\"#46039f\"],[0.2222222222222222,\"#7201a8\"],[0.3333333333333333,\"#9c179e\"],[0.4444444444444444,\"#bd3786\"],[0.5555555555555556,\"#d8576b\"],[0.6666666666666666,\"#ed7953\"],[0.7777777777777778,\"#fb9f3a\"],[0.8888888888888888,\"#fdca26\"],[1.0,\"#f0f921\"]],\"diverging\":[[0,\"#8e0152\"],[0.1,\"#c51b7d\"],[0.2,\"#de77ae\"],[0.3,\"#f1b6da\"],[0.4,\"#fde0ef\"],[0.5,\"#f7f7f7\"],[0.6,\"#e6f5d0\"],[0.7,\"#b8e186\"],[0.8,\"#7fbc41\"],[0.9,\"#4d9221\"],[1,\"#276419\"]]},\"xaxis\":{\"gridcolor\":\"white\",\"linecolor\":\"white\",\"ticks\":\"\",\"title\":{\"standoff\":15},\"zerolinecolor\":\"white\",\"automargin\":true,\"zerolinewidth\":2},\"yaxis\":{\"gridcolor\":\"white\",\"linecolor\":\"white\",\"ticks\":\"\",\"title\":{\"standoff\":15},\"zerolinecolor\":\"white\",\"automargin\":true,\"zerolinewidth\":2},\"scene\":{\"xaxis\":{\"backgroundcolor\":\"#E5ECF6\",\"gridcolor\":\"white\",\"linecolor\":\"white\",\"showbackground\":true,\"ticks\":\"\",\"zerolinecolor\":\"white\",\"gridwidth\":2},\"yaxis\":{\"backgroundcolor\":\"#E5ECF6\",\"gridcolor\":\"white\",\"linecolor\":\"white\",\"showbackground\":true,\"ticks\":\"\",\"zerolinecolor\":\"white\",\"gridwidth\":2},\"zaxis\":{\"backgroundcolor\":\"#E5ECF6\",\"gridcolor\":\"white\",\"linecolor\":\"white\",\"showbackground\":true,\"ticks\":\"\",\"zerolinecolor\":\"white\",\"gridwidth\":2}},\"shapedefaults\":{\"line\":{\"color\":\"#2a3f5f\"}},\"annotationdefaults\":{\"arrowcolor\":\"#2a3f5f\",\"arrowhead\":0,\"arrowwidth\":1},\"geo\":{\"bgcolor\":\"white\",\"landcolor\":\"#E5ECF6\",\"subunitcolor\":\"white\",\"showland\":true,\"showlakes\":true,\"lakecolor\":\"white\"},\"title\":{\"x\":0.05},\"mapbox\":{\"style\":\"light\"}}}},                        {\"responsive\": true}                    ).then(function(){\n",
       "                            \n",
       "var gd = document.getElementById('d4d45760-30a0-42c6-b933-037666ba758b');\n",
       "var x = new MutationObserver(function (mutations, observer) {{\n",
       "        var display = window.getComputedStyle(gd).display;\n",
       "        if (!display || display === 'none') {{\n",
       "            console.log([gd, 'removed!']);\n",
       "            Plotly.purge(gd);\n",
       "            observer.disconnect();\n",
       "        }}\n",
       "}});\n",
       "\n",
       "// Listen for the removal of the full notebook cells\n",
       "var notebookContainer = gd.closest('#notebook-container');\n",
       "if (notebookContainer) {{\n",
       "    x.observe(notebookContainer, {childList: true});\n",
       "}}\n",
       "\n",
       "// Listen for the clearing of the current output cell\n",
       "var outputEl = gd.closest('.output');\n",
       "if (outputEl) {{\n",
       "    x.observe(outputEl, {childList: true});\n",
       "}}\n",
       "\n",
       "                        })                };                });            </script>        </div>"
      ]
     },
     "metadata": {},
     "output_type": "display_data"
    }
   ],
   "source": [
    "from optuna.visualization import plot_param_importances\n",
    "\n",
    "fig = plot_param_importances(study)\n",
    "fig.show()"
   ]
  },
  {
   "cell_type": "markdown",
   "id": "d94a2bb6-54af-4acd-8b46-17713e92e8c4",
   "metadata": {},
   "source": [
    "## 6.3. Ensemble."
   ]
  },
  {
   "cell_type": "markdown",
   "id": "6fbce3b4-e74d-4623-b88c-2ff5481285f8",
   "metadata": {},
   "source": [
    "### Ensemble - as a method that takes ds."
   ]
  },
  {
   "cell_type": "code",
   "execution_count": 7,
   "id": "041afd4c-9966-49dd-8954-e5834ddfb706",
   "metadata": {
    "tags": []
   },
   "outputs": [],
   "source": [
    "from datasets import load_from_disk\n",
    "import numpy as np\n",
    "import nbimporter\n",
    "import bioasq_libs\n",
    "\n",
    "def test_ensemble(test_ds, top_k, trials, save_time, is_valid=False, test_split_idx=-1):\n",
    "    top_trials = sorted(trials, key=lambda t: t.value, reverse=True)[:top_k]\n",
    "\n",
    "    # Load logits for top trials\n",
    "    logits_list = []\n",
    "    preds_list = []\n",
    "    \n",
    "    for trial in top_trials:\n",
    "        # if valid dataset:\n",
    "        if is_valid:\n",
    "            logits = np.load(f\"predictions/\" + save_time + f\"/valid/trial_{trial.number}_logits.npy\")\n",
    "            preds = np.load(f\"predictions/\" + save_time + f\"/valid/trial_{trial.number}_predictions.npy\")\n",
    "        \n",
    "        # else if test dataset:\n",
    "        else:\n",
    "            logits = np.load(f\"predictions/\" + save_time + f\"/test-{test_split_idx}/trial_{trial.number}_logits.npy\")\n",
    "            preds = np.load(f\"predictions/\" + save_time + f\"/test-{test_split_idx}/trial_{trial.number}_predictions.npy\")\n",
    "            \n",
    "        logits_list.append(logits)\n",
    "        preds_list.append(preds)\n",
    "\n",
    "\n",
    "    # Soft voting.\n",
    "    # Perform ensemble (mean of logits)\n",
    "    ensemble_logits = np.mean(logits_list, axis=0)\n",
    "\n",
    "    # Convert logits to predictions (soft voting)\n",
    "    preds_soft = np.argmax(ensemble_logits, axis=1)\n",
    "\n",
    "    # Convert preds_soft_onehot to one-hot encoding.\n",
    "    preds_soft_onehot = np.zeros((len(preds_soft), 2))\n",
    "    preds_soft_onehot[np.arange(len(preds_soft)), preds_soft] = 1\n",
    "\n",
    "\n",
    "    # Hard voting.\n",
    "    preds_hard = np.stack(preds_list, axis=0)\n",
    "    preds_hard = np.apply_along_axis(lambda x: np.bincount(x).argmax(), axis=0, arr=preds_hard)\n",
    "\n",
    "    # Convert final_predictions_hard to one-hot encoding.\n",
    "    preds_hard_onehot = np.zeros((len(preds_hard), 2))\n",
    "    preds_hard_onehot[np.arange(len(preds_hard)), preds_hard] = 1\n",
    "\n",
    "    # Compute metrics.\n",
    "    test_results_soft = bioasq_libs.compute_metrics((preds_soft_onehot, test_ds['labels']))\n",
    "    test_results_hard = bioasq_libs.compute_metrics((preds_hard_onehot, test_ds['labels']))\n",
    "\n",
    "    # Print.\n",
    "    model_names = [trial.params[\"checkpoint\"] for trial in top_trials]\n",
    "\n",
    "    \"\"\"print(\"\\n- Model:\")\n",
    "    for model_name in model_names:\n",
    "        print(model_name)\n",
    "\n",
    "    print(\"\\n- Soft Voting:\")\n",
    "    for k, v in test_results_soft.items():\n",
    "        print(f\"{k:15} : {v:.4}\")\n",
    "\n",
    "    print(\"\\n- Hard Voting:\")\n",
    "    for k, v in test_results_hard.items():\n",
    "        print(f\"{k:15} : {v:.4}\")\"\"\"\n",
    "        \n",
    "    return (test_results_soft, test_results_hard)"
   ]
  }
 ],
 "metadata": {
  "kernelspec": {
   "display_name": "Python 3 (ipykernel)",
   "language": "python",
   "name": "python3"
  },
  "language_info": {
   "codemirror_mode": {
    "name": "ipython",
    "version": 3
   },
   "file_extension": ".py",
   "mimetype": "text/x-python",
   "name": "python",
   "nbconvert_exporter": "python",
   "pygments_lexer": "ipython3",
   "version": "3.9.18"
  }
 },
 "nbformat": 4,
 "nbformat_minor": 5
}
