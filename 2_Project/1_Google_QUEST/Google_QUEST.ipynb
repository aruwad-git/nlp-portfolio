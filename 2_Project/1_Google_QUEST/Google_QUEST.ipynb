{
 "cells": [
  {
   "cell_type": "markdown",
   "id": "edf9ee1d-2027-43f5-96e4-d91233d0a20c",
   "metadata": {},
   "source": [
    "# 0. Setup."
   ]
  },
  {
   "cell_type": "code",
   "execution_count": 2,
   "id": "b3da4ba2-a841-4fe9-986c-9605ec3d9cc7",
   "metadata": {},
   "outputs": [],
   "source": [
    "# Imports.\n",
    "import torch\n",
    "import numpy as np\n",
    "import pandas as pd\n",
    "import matplotlib.pyplot as plt\n",
    "\n",
    "# Random Seed.\n",
    "from transformers import set_seed\n",
    "import tensorflow as tf\n",
    "\n",
    "set_seed(42)              # For HF.\n",
    "tf.random.set_seed(42)    # For tf, np, and python."
   ]
  },
  {
   "cell_type": "code",
   "execution_count": 2,
   "id": "68286540-618c-4f3e-9b57-5cb50a610cfa",
   "metadata": {},
   "outputs": [
    {
     "data": {
      "text/html": [
       "<style>\n",
       "    table {\n",
       "        float: left;\n",
       "        margin-right: 20px; /* Optional: Adds space between table and other content */\n",
       "    }\n",
       "</style>\n"
      ],
      "text/plain": [
       "<IPython.core.display.HTML object>"
      ]
     },
     "metadata": {},
     "output_type": "display_data"
    }
   ],
   "source": [
    "%%html\n",
    "<style>\n",
    "    table {\n",
    "        float: left;\n",
    "        margin-right: 20px; /* Optional: Adds space between table and other content */\n",
    "    }\n",
    "</style>"
   ]
  },
  {
   "cell_type": "markdown",
   "id": "9fb1a0db-7c14-4dfd-9986-b6c9ddf7efe8",
   "metadata": {},
   "source": [
    "# 2. Preprocessing.\n",
    "- Choose nonlinguistic features : **Category** and **Host**.\n",
    "- Preprocess : One-hot encoding."
   ]
  },
  {
   "cell_type": "markdown",
   "id": "26731822-8af4-4b42-a928-f1c3031480d4",
   "metadata": {},
   "source": [
    "## 2.1. Load."
   ]
  },
  {
   "cell_type": "code",
   "execution_count": 35,
   "id": "da3672c5-8fc9-4909-91c2-d945f73da998",
   "metadata": {},
   "outputs": [
    {
     "name": "stdout",
     "output_type": "stream",
     "text": [
      "Any null values? False\n"
     ]
    }
   ],
   "source": [
    "# Load.\n",
    "from sklearn.model_selection import train_test_split\n",
    "data                = pd.read_csv('./dataset/train.csv')\n",
    "train_set, test_set = train_test_split(data, test_size=0.2)\n",
    "\n",
    "label_col_idx = train_set.columns.get_loc('question_asker_intent_understanding')  # Label Columns start from it.\n",
    "x_train       = train_set.iloc[:, :label_col_idx]\n",
    "y_train       = train_set.iloc[:, label_col_idx:]\n",
    "x_test        = test_set.iloc[:, :label_col_idx]\n",
    "y_test        = test_set.iloc[:, label_col_idx:]\n",
    "\n",
    "# Null Check.\n",
    "is_null = data.isnull().values.any()\n",
    "print(f'Any null values? {is_null}')\n",
    "\n",
    "# Copy train_set for EDA. (Only if train_set < 2 GB)\n",
    "train_set_size = train_set.memory_usage(deep=True).sum() / (1024 ** 3)  # In GB.\n",
    "\n",
    "if train_set_size < 2:               \n",
    "    train_cp   = train_set.copy()\n",
    "    x_train_cp = x_train.copy() \n",
    "    y_train_cp = y_train.copy()\n",
    "else:\n",
    "    print(\"Train set copy failed! It's more than 2 GB!\")"
   ]
  },
  {
   "cell_type": "markdown",
   "id": "9d1576b2-c0bc-42ee-9b76-4308efc9a1e7",
   "metadata": {},
   "source": [
    "> #### Note) Load Data with 🤗.  \n",
    "> In practice, use `datasets.load_dataset()`, then `df = ds.to_pandas()`.  \n",
    "> `df` loads directly to RAM, but 'ds' uses memory-mapping with disk.  \n",
    "> And conversion only temporary changes the interface, not actual conversation.  \n",
    "> Simply put, **it's a way more efficient.**"
   ]
  },
  {
   "cell_type": "code",
   "execution_count": 30,
   "id": "b52e3896-1756-43fa-91be-41461319766c",
   "metadata": {
    "collapsed": true,
    "jupyter": {
     "outputs_hidden": true
    }
   },
   "outputs": [
    {
     "data": {
      "text/plain": [
       "<Axes: >"
      ]
     },
     "execution_count": 30,
     "metadata": {},
     "output_type": "execute_result"
    },
    {
     "data": {
      "image/png": "[encoded data removed]",
      "text/plain": [
       "<Figure size 640x480 with 1 Axes>"
      ]
     },
     "metadata": {},
     "output_type": "display_data"
    }
   ],
   "source": [
    "# Calculate value counts\n",
    "name_counts = x_train_cp['question_user_name'].value_counts()\n",
    "\n",
    "# Filter names with count >= 5\n",
    "filtered_names = name_counts[name_counts >= 5].index\n",
    "\n",
    "# Replace names with 'Others' if their count is < 5\n",
    "x_train_cp['question_user_name'] = x_train_cp['question_user_name'].apply(\n",
    "    lambda x: x if x in filtered_names else 'Others'\n",
    ")\n",
    "\n",
    "# Plot histogram\n",
    "x_train_cp['question_user_name'].hist()\n"
   ]
  },
  {
   "cell_type": "markdown",
   "id": "b711ba50-2e5b-4842-bf6d-46e8eb9986d0",
   "metadata": {},
   "source": [
    "## 2.2. Feature Engineering."
   ]
  },
  {
   "cell_type": "code",
   "execution_count": 10,
   "id": "dc4d4dec-9415-4001-8fbe-c8231a77330f",
   "metadata": {},
   "outputs": [
    {
     "data": {
      "text/plain": [
       "qa_id                                                              2085\n",
       "question_title                 Ensuring successful merges in Subversion\n",
       "question_body         Subversion Re-education actually convinced me,...\n",
       "question_user_name                                                 vemv\n",
       "question_user_page    https://programmers.stackexchange.com/users/24071\n",
       "answer                Branching always begins with fear that merging...\n",
       "answer_user_name                                            Dipan Mehta\n",
       "answer_user_page      https://programmers.stackexchange.com/users/39294\n",
       "url                   http://programmers.stackexchange.com/questions...\n",
       "category                                                     TECHNOLOGY\n",
       "host                                      programmers.stackexchange.com\n",
       "Name: 1320, dtype: object"
      ]
     },
     "execution_count": 10,
     "metadata": {},
     "output_type": "execute_result"
    }
   ],
   "source": [
    "# Show features.\n",
    "x_train_cp.iloc[0]"
   ]
  },
  {
   "cell_type": "markdown",
   "id": "56f175f0-e24b-4470-b317-5542bf790c94",
   "metadata": {},
   "source": [
    "### 2.2.1. Delete Redundant features.\n",
    "- `qa_id` : Just ID of the sample.\n",
    "- `question_user_name` : Not useful since it is not equal with rater.\n",
    "- `question_user_page` : Same reason.\n",
    "- `answer_user_name`   : For real competition, we could try to extract some info from the user page, but not for practice.\n",
    "- `answer_user_page`   : Same reason.\n",
    "- `url` : Same reason."
   ]
  },
  {
   "cell_type": "code",
   "execution_count": 47,
   "id": "e142faae-baa3-4ce4-a476-eb0099f1a911",
   "metadata": {},
   "outputs": [
    {
     "data": {
      "text/plain": [
       "<Axes: >"
      ]
     },
     "execution_count": 47,
     "metadata": {},
     "output_type": "execute_result"
    },
    {
     "data": {
      "image/png": "[encoded data removed]",
      "text/plain": [
       "<Figure size 640x480 with 1 Axes>"
      ]
     },
     "metadata": {},
     "output_type": "display_data"
    }
   ],
   "source": [
    "# Should I consider 'question_user_name' for asker-specific pattern?\n",
    "uname = 'question_user_name'\n",
    "x_train_cp[uname].value_counts().hist(bins=8)\n",
    "\n",
    "# Wait, asker is not same with rater! "
   ]
  },
  {
   "cell_type": "code",
   "execution_count": 11,
   "id": "3b2d908b-19b1-45ea-b383-3aa44b3f0392",
   "metadata": {
    "scrolled": true
   },
   "outputs": [
    {
     "data": {
      "text/plain": [
       "Index(['question_title', 'question_body', 'answer', 'category', 'host'], dtype='object')"
      ]
     },
     "execution_count": 11,
     "metadata": {},
     "output_type": "execute_result"
    }
   ],
   "source": [
    "# Delete redundant features.\n",
    "redundant_features = ['qa_id', 'question_user_name', 'question_user_page',\n",
    "                      'answer_user_name', 'answer_user_page', 'url']\n",
    "x_train_cp = x_train_cp.drop(columns=redundant_features)  \n",
    "x_train_cp.columns"
   ]
  },
  {
   "cell_type": "markdown",
   "id": "18a241ec-f93f-49ae-a152-17cb3a384897",
   "metadata": {},
   "source": [
    "### 2.2.2. Encode Categorical Columns.\n",
    "- `question_title`, `question_body`, `answer` : Should remain as string.\n",
    "- `category` : Only 5, let's encode.\n",
    "- `host` : There are clearly dominant sources. Let's try top $n$ and else."
   ]
  },
  {
   "cell_type": "code",
   "execution_count": 12,
   "id": "db5532aa-c9d2-40ce-a0e4-380599518f06",
   "metadata": {
    "scrolled": true
   },
   "outputs": [
    {
     "name": "stdout",
     "output_type": "stream",
     "text": [
      "Length: 5\n",
      "category\n",
      "TECHNOLOGY       1960\n",
      "STACKOVERFLOW    1022\n",
      "CULTURE           769\n",
      "SCIENCE           560\n",
      "LIFE_ARTS         552\n",
      "Name: count, dtype: int64\n",
      "\n",
      "Length: 63\n",
      "host\n",
      "stackoverflow.com                1022\n",
      "english.stackexchange.com         185\n",
      "superuser.com                     176\n",
      "electronics.stackexchange.com     173\n",
      "serverfault.com                   165\n",
      "Name: count, dtype: int64\n",
      "\n"
     ]
    },
    {
     "data": {
      "text/plain": [
       "Index(['question_title', 'question_body', 'answer', 'category_CULTURE',\n",
       "       'category_LIFE_ARTS', 'category_SCIENCE', 'category_STACKOVERFLOW',\n",
       "       'category_TECHNOLOGY', 'host_Others', 'host_askubuntu.com',\n",
       "       'host_electronics.stackexchange.com', 'host_english.stackexchange.com',\n",
       "       'host_math.stackexchange.com', 'host_physics.stackexchange.com',\n",
       "       'host_rpg.stackexchange.com', 'host_serverfault.com',\n",
       "       'host_stackoverflow.com', 'host_superuser.com',\n",
       "       'host_tex.stackexchange.com'],\n",
       "      dtype='object')"
      ]
     },
     "execution_count": 12,
     "metadata": {},
     "output_type": "execute_result"
    }
   ],
   "source": [
    "# Check the number of each class.\n",
    "cols_cat = ['category', 'host']\n",
    "for col in cols_cat:\n",
    "    print(f'Length: {len(x_train_cp[col].value_counts())}')\n",
    "    print(x_train_cp[col].value_counts()[:5], end='\\n\\n')\n",
    "\n",
    "# Encode `category` and `host`.\n",
    "# Find Top N hosts.\n",
    "n_hosts   = 10\n",
    "top_hosts = x_train_cp['host'].value_counts().nlargest(n_hosts).index\n",
    "\n",
    "# Convert others into 'Others'.\n",
    "x_train_cp['host'] = x_train_cp['host'].apply(lambda x: x if x in top_hosts else 'Others')\n",
    "\n",
    "# One-hot Encoding.\n",
    "from sklearn.preprocessing import OneHotEncoder\n",
    "\n",
    "cols_to_enc = ['category', 'host']\n",
    "one_enc     = OneHotEncoder(handle_unknown='ignore')          # Zero vector for unknown category.\n",
    "x_enc       = one_enc.fit_transform(x_train_cp[cols_to_enc])\n",
    "\n",
    "# Convert back to DataFrame.\n",
    "enc_columns = one_enc.get_feature_names_out(cols_to_enc)\n",
    "x_enc_df    = pd.DataFrame(x_enc.toarray(), columns=enc_columns, index=x_train_cp.index)\n",
    "\n",
    "x_train_cp   = x_train_cp.drop(columns=cols_to_enc)           # Drop original 'category' and 'host' columns.\n",
    "x_train_cp   = pd.concat([x_train_cp, x_enc_df], axis=1)      # Concatenate the encoded columns back to x_train_2.\n",
    "\n",
    "# Result.\n",
    "x_train_cp.columns"
   ]
  },
  {
   "cell_type": "markdown",
   "id": "2589e4d5-5574-46f5-8ee7-44499354fae0",
   "metadata": {},
   "source": [
    "### 2.2.3. Merge txt columns."
   ]
  },
  {
   "cell_type": "code",
   "execution_count": 13,
   "id": "b744b6d9-4778-4260-beb7-8bd13cde9e50",
   "metadata": {},
   "outputs": [],
   "source": [
    "# Merge sentences into one column.\n",
    "cols_txt = ['question_title', 'question_body', 'answer']\n",
    "x_train_cp['txt_merged'] = x_train_cp[cols_txt].apply(lambda row: ' '.join(row), axis=1)\n",
    "x_train_cp = x_train_cp.drop(columns=cols_txt)"
   ]
  },
  {
   "cell_type": "markdown",
   "id": "c5d8a654-c6b8-4b09-bf74-0e888f50d96e",
   "metadata": {},
   "source": [
    "## 2.3. Preprocessing Pipeline."
   ]
  },
  {
   "cell_type": "code",
   "execution_count": 50,
   "id": "55f7f6f4-3d08-4b1f-8a99-d2e886f7990a",
   "metadata": {},
   "outputs": [],
   "source": [
    "from sklearn.preprocessing import OneHotEncoder\n",
    "\n",
    "def preprocess(x_train, n_hosts=10):\n",
    "    # 2.2.1. Drop redundant features.\n",
    "    redundant_features   = ['qa_id', 'question_user_name', 'question_user_page', \n",
    "                            'answer_user_page', 'answer_user_name', 'url']\n",
    "    x_train = x_train.drop(columns=redundant_features)\n",
    "\n",
    "    # 2.2.2. Encode categorical features.\n",
    "    # Converts other categories into 'Others'.\n",
    "    top_hosts = x_train['host'].value_counts().nlargest(n_hosts).index\n",
    "    x_train['host'] = x_train['host'].apply(lambda x: x if x in top_hosts else 'Others')\n",
    "\n",
    "    # Encode `category` and `host`.\n",
    "    categorical_features = ['category', 'host']\n",
    "    one_enc     = OneHotEncoder(handle_unknown='ignore')    # Zero vector for unknown category.\n",
    "    x_enc       = one_enc.fit_transform(x_train[categorical_features])\n",
    "\n",
    "    # Convert back to DataFrame.\n",
    "    enc_columns = one_enc.get_feature_names_out(categorical_features)\n",
    "    x_enc_df    = pd.DataFrame(x_enc.toarray(), columns=enc_columns, index=x_train.index)\n",
    "    x_train     = x_train.drop(columns=categorical_features)   # Drop original 'category' and 'host' columns.\n",
    "    x_train     = pd.concat([x_train, x_enc_df], axis=1)       # Concatenate the encoded columns back.\n",
    "\n",
    "    # 2.2.3. Merge txt columns.\n",
    "    cols_txt = ['question_title', 'question_body', 'answer']\n",
    "    x_train['txt_merged'] = x_train[cols_txt].apply(lambda row: ' '.join(row), axis=1)\n",
    "    x_train  = x_train.drop(columns=cols_txt)    # Drop original txt cols.\n",
    "    \n",
    "    # Return.\n",
    "    return x_train"
   ]
  },
  {
   "cell_type": "code",
   "execution_count": 51,
   "id": "8265f40f-e37a-4a0d-9435-372a2d94b4c6",
   "metadata": {},
   "outputs": [
    {
     "data": {
      "text/plain": [
       "category_CULTURE                                                                    0.0\n",
       "category_LIFE_ARTS                                                                  0.0\n",
       "category_SCIENCE                                                                    0.0\n",
       "category_STACKOVERFLOW                                                              0.0\n",
       "category_TECHNOLOGY                                                                 1.0\n",
       "host_Others                                                                         1.0\n",
       "host_askubuntu.com                                                                  0.0\n",
       "host_electronics.stackexchange.com                                                  0.0\n",
       "host_english.stackexchange.com                                                      0.0\n",
       "host_math.stackexchange.com                                                         0.0\n",
       "host_physics.stackexchange.com                                                      0.0\n",
       "host_rpg.stackexchange.com                                                          0.0\n",
       "host_serverfault.com                                                                0.0\n",
       "host_stackoverflow.com                                                              0.0\n",
       "host_superuser.com                                                                  0.0\n",
       "host_tex.stackexchange.com                                                          0.0\n",
       "txt_merged                            Ensuring successful merges in Subversion Subve...\n",
       "Name: 1320, dtype: object"
      ]
     },
     "execution_count": 51,
     "metadata": {},
     "output_type": "execute_result"
    }
   ],
   "source": [
    "# Data are preprocessed!\n",
    "x_train_prep = preprocess(x_train, n_hosts=10)\n",
    "x_test_prep  = preprocess(x_test, n_hosts=10)\n",
    "x_train_prep.iloc[0]"
   ]
  },
  {
   "cell_type": "markdown",
   "id": "23ac8e55-0336-400e-b772-beb9e418ae29",
   "metadata": {},
   "source": [
    "# 3. Tokenization."
   ]
  },
  {
   "cell_type": "markdown",
   "id": "cdb5d425-6c94-48c9-89ab-42106b35dc40",
   "metadata": {},
   "source": [
    "## 3.1. Choose Pretrained Transformer."
   ]
  },
  {
   "cell_type": "code",
   "execution_count": 52,
   "id": "c9f6b3b0-7b00-412d-8eea-a39300f7f394",
   "metadata": {},
   "outputs": [],
   "source": [
    "checkpoints = {'distilbert' : 'distilbert-base-uncased',\n",
    "               'bert' : 'bert-base-uncased',\n",
    "               'roberta' : 'roberta-base'}"
   ]
  },
  {
   "cell_type": "markdown",
   "id": "7dcbfc31-7329-4bbf-8fe2-8ea8700e20bd",
   "metadata": {},
   "source": [
    "## 3.2. Maximum Number of Tokens."
   ]
  },
  {
   "cell_type": "code",
   "execution_count": 53,
   "id": "1ccecd17-5521-4460-9fd0-87bc0c6a0ea3",
   "metadata": {},
   "outputs": [
    {
     "name": "stderr",
     "output_type": "stream",
     "text": [
      "Token indices sequence length is longer than the specified maximum sequence length for this model (777 > 512). Running this sequence through the model will result in indexing errors\n"
     ]
    }
   ],
   "source": [
    "# Init data.\n",
    "x_train_tokenized = x_train_prep.copy()\n",
    "x_test_tokenized  = x_test_prep.copy()\n",
    "\n",
    "# Create tokenizer.\n",
    "from transformers import AutoTokenizer\n",
    "checkpoint = checkpoints['distilbert']\n",
    "tokenizer  = AutoTokenizer.from_pretrained(checkpoint)\n",
    "\n",
    "# First, tokenize without padding and truncation.\n",
    "tokenized = tokenizer(\n",
    "    list(x_train_tokenized['txt_merged']), \n",
    "    padding=False,\n",
    "    truncation=False,  \n",
    "    return_tensors=\"np\"  \n",
    ")\n",
    "\n",
    "# Histogram - Token Length.\n",
    "x_train_tokenized['input_ids']    = list(tokenized['input_ids'])\n",
    "x_train_tokenized['token_length'] = x_train_tokenized['input_ids'].apply(len)\n",
    "x_train_tokenized['token_length'].hist(bins=200).set_xlim(0, 2000)               # 512 = Maximum num of tokens for many LLMs."
   ]
  },
  {
   "cell_type": "code",
   "execution_count": 55,
   "id": "0504a619-729b-4a06-b22f-fba5bf8055c5",
   "metadata": {},
   "outputs": [
    {
     "data": {
      "text/plain": [
       "(0.0, 2000.0)"
      ]
     },
     "execution_count": 55,
     "metadata": {},
     "output_type": "execute_result"
    },
    {
     "data": {
      "image/png": "[encoded data removed]",
      "text/plain": [
       "<Figure size 640x480 with 1 Axes>"
      ]
     },
     "metadata": {},
     "output_type": "display_data"
    }
   ],
   "source": [
    "x_train_tokenized['token_length'].hist(bins=200).set_xlim(0, 2000)"
   ]
  },
  {
   "cell_type": "code",
   "execution_count": 20,
   "id": "c0814bd9-37d0-4d2d-a91e-879a7599844b",
   "metadata": {},
   "outputs": [
    {
     "name": "stdout",
     "output_type": "stream",
     "text": [
      "max_length=128 covers 7.38% of samples!\n",
      "max_length=256 covers 35.10% of samples!\n",
      "max_length=512 covers 73.06% of samples!\n"
     ]
    }
   ],
   "source": [
    "# How many tokens are covered, i.e. not truncated, with the given length?\n",
    "n_train       = len(x_train_tokenized['token_length'])\n",
    "token_lengths = [128, 256, 512]\n",
    "\n",
    "for token_length in token_lengths:\n",
    "    rank         = (x_train_tokenized['token_length'] <= token_length).sum()\n",
    "    quantile     = (rank / n_train) * 100\n",
    "    print(f\"max_length={token_length} covers {quantile:.2f}% of samples!\")\n",
    "\n",
    "# Final value for max_length.\n",
    "max_length = 512"
   ]
  },
  {
   "cell_type": "markdown",
   "id": "10cf477b-30e6-4cfc-84a0-0aa6ed507864",
   "metadata": {},
   "source": [
    "## 3.3. Tokenize."
   ]
  },
  {
   "cell_type": "code",
   "execution_count": 21,
   "id": "92fef5a0-5c81-4220-ad7c-d775bbed879b",
   "metadata": {},
   "outputs": [],
   "source": [
    "# Simple method for tokenization.\n",
    "def tokenize(df):  \n",
    "    # Define Tokenizer.                   \n",
    "    tokenized = tokenizer(\n",
    "        list(df['txt_merged']),\n",
    "        padding          = True,\n",
    "        truncation       = True,\n",
    "        max_length       = max_length,\n",
    "#       stride           = 0,                 # Can be kept if you want overlapping tokens.\n",
    "        return_tensors   = \"np\"  \n",
    "    )\n",
    "\n",
    "    # Tokenize.\n",
    "    df['input_ids']      = list(tokenized['input_ids'])\n",
    "    df['attention_mask'] = list(tokenized['attention_mask'])\n",
    "    \n",
    "    df = df.drop(columns=['txt_merged'])      # Drop original text column.\n",
    "    \n",
    "    return df\n",
    "\n",
    "# Tokenize.\n",
    "x_train_tokenized = tokenize(x_train_prep)\n",
    "x_test_tokenized  = tokenize(x_test_prep)"
   ]
  },
  {
   "cell_type": "markdown",
   "id": "b82b7022-10f4-43b7-85e2-9e58778d6889",
   "metadata": {},
   "source": [
    "> #### Note) `stride` for truncated tokens.  \n",
    "> As you can see, 73.39% of tokens will be truncated even with `max_length=512`.  \n",
    "> `max_length=512` is the most popular size for pretrained LLMs, so it's probably not enough just considering other LLMs.  \n",
    "> Consider `stride` instead. It's omitted in this project because of resource."
   ]
  },
  {
   "cell_type": "markdown",
   "id": "48d24901-8fbb-4ad6-85f8-d6fcc45709e7",
   "metadata": {},
   "source": [
    "# 4. Model.\n",
    "- **Transformer** : takes input_ids and attention_mask => outputs representation.\n",
    "- **Head** : takes representation from transformer AND other features (category and host) => outputs values of 30 labels."
   ]
  },
  {
   "cell_type": "code",
   "execution_count": 22,
   "id": "28693416-8432-4495-86fc-14e09fc62675",
   "metadata": {},
   "outputs": [],
   "source": [
    "# Define Custom Model.\n",
    "import torch\n",
    "import torch.nn as nn\n",
    "from transformers import AutoModel\n",
    "\n",
    "class CustomModel(nn.Module):\n",
    "    def __init__(self, checkpoint, num_labels, additional_feature_dim):\n",
    "        super(CustomModel, self).__init__()\n",
    "        \n",
    "        # Load pretrained transformer.\n",
    "        self.transformer = AutoModel.from_pretrained(checkpoint)\n",
    "\n",
    "        # Expose the transformer's config.\n",
    "        self.config = self.transformer.config\n",
    "        \n",
    "        # Combine transformer outputs with additional features\n",
    "        transformer_hidden_size = self.transformer.config.hidden_size\n",
    "        self.fc1 = nn.Linear(transformer_hidden_size + additional_feature_dim, num_labels)\n",
    "        \n",
    "#       self.fc2 = nn.Linear(256, num_labels)   # For complex Head.\n",
    "#       self.dropout = nn.Dropout(0.1)          # For dropout.\n",
    "        \n",
    "    def forward(self, input_ids, attention_mask, additional_features):\n",
    "        # Transformer output.\n",
    "        transformer_output = self.transformer(\n",
    "            input_ids      = input_ids,\n",
    "            attention_mask = attention_mask\n",
    "        )\n",
    "        \n",
    "        # Use [CLS] token for concatenation.\n",
    "        cls_output     = transformer_output.last_hidden_state[:, 0, :]\n",
    "        combined_input = torch.cat([cls_output, additional_features], dim=1)\n",
    "        \n",
    "        # Pass through fully connected layers\n",
    "#       x = self.dropout(torch.relu(self.fc1(combined_input)))\n",
    "        output = self.fc1(combined_input)\n",
    "        \n",
    "        return output\n",
    "        "
   ]
  },
  {
   "cell_type": "code",
   "execution_count": 23,
   "id": "9ab22460-aaa5-4d2e-bac3-53ed7afaf350",
   "metadata": {},
   "outputs": [],
   "source": [
    "# Define HF Wrapper for Custom Model.\n",
    "class HuggingFaceModelWrapper(nn.Module):\n",
    "    def __init__(self, base_model):\n",
    "        super().__init__()\n",
    "        self.base_model = base_model         # Custom model.\n",
    "        self.config     = base_model.config  # Expose the base model's config.\n",
    "\n",
    "    def forward(self, input_ids, attention_mask, additional_features, labels=None):\n",
    "        # Forward pass through the base model.\n",
    "        output = self.base_model(input_ids           = input_ids, \n",
    "                                 attention_mask      = attention_mask, \n",
    "                                 additional_features = additional_features)\n",
    "        \n",
    "        # If labels are provided, calculate loss.\n",
    "        logits = output\n",
    "        loss   = None\n",
    "        if labels is not None:\n",
    "            loss_fn = nn.BCEWithLogitsLoss()\n",
    "            loss    = loss_fn(logits, labels)\n",
    "        \n",
    "        return {\"loss\": loss, \"logits\": logits}\n",
    "\n",
    "    def prepare_inputs_for_generation(self, *args, **kwargs):\n",
    "        # Delegate to the base model.\n",
    "        return self.base_model.prepare_inputs_for_generation(*args, **kwargs)"
   ]
  },
  {
   "cell_type": "markdown",
   "id": "da79ed46-dd2c-480c-b717-35b9ae16c663",
   "metadata": {},
   "source": [
    "# 5. Fine-Tuning."
   ]
  },
  {
   "cell_type": "markdown",
   "id": "34b9310d-8589-4180-8a64-fca860410971",
   "metadata": {},
   "source": [
    "## 5.1. Evaluation Metrics : Spearman's Rank Correlation Analysis."
   ]
  },
  {
   "cell_type": "code",
   "execution_count": 24,
   "id": "606a8c02-68c4-40fc-835b-f072b4718ec8",
   "metadata": {},
   "outputs": [],
   "source": [
    "from scipy.stats import spearmanr\n",
    "\n",
    "def compute_metrics(eval_pred):\n",
    "    logits, labels = eval_pred\n",
    "    predictions    = np.argmax(logits, axis=1) if logits.ndim == 3 else logits\n",
    "\n",
    "    # Calculate Spearman's correlation for each label.\n",
    "    spearman_corrs = []\n",
    "    for i in range(labels.shape[1]):\n",
    "        corr, _ = spearmanr(predictions[:, i], labels[:, i])\n",
    "        spearman_corrs.append(corr)\n",
    "\n",
    "    # Return the mean of Spearman's correlation.\n",
    "    mean_spearman = np.nanmean(spearman_corrs)  # Handle NaNs if any.\n",
    "    return {\"spearman\": mean_spearman}"
   ]
  },
  {
   "cell_type": "markdown",
   "id": "673204ee-bab3-4e59-b804-ab1dfb5216a8",
   "metadata": {},
   "source": [
    "## 5.2. Convert Dataset, `df` -> `ds`."
   ]
  },
  {
   "cell_type": "code",
   "execution_count": 243,
   "id": "a982d8eb-f466-494a-8b61-8515ec4b81c0",
   "metadata": {
    "scrolled": true
   },
   "outputs": [],
   "source": [
    "from datasets import Dataset\n",
    "\n",
    "def preprocess_data(df, labels):\n",
    "    return {\n",
    "        \"input_ids\"             : list(df['input_ids']),\n",
    "        \"attention_mask\"        : list(df['attention_mask']),\n",
    "        \"additional_features\"   : df.iloc[:, :-2].values.tolist(),  \n",
    "        \"labels\"                : labels.to_numpy().tolist()        \n",
    "    }\n",
    "\n",
    "# Convert train and test datasets\n",
    "train_dataset = Dataset.from_dict(preprocess_data(x_train_tokenized, y_train))\n",
    "test_dataset  = Dataset.from_dict(preprocess_data(x_test_tokenized, y_test))"
   ]
  },
  {
   "cell_type": "markdown",
   "id": "86ca04f6-9647-4579-a97c-7821bc40566d",
   "metadata": {},
   "source": [
    "## 5.3. Train."
   ]
  },
  {
   "cell_type": "code",
   "execution_count": 28,
   "id": "7c05f874-acee-4085-a006-9e2a886fb50d",
   "metadata": {
    "scrolled": true
   },
   "outputs": [],
   "source": [
    "# Initialize the model.\n",
    "checkpoint = checkpoints['bert']     # Other candidates : 'distilbert', 'roberta'.\n",
    "\n",
    "num_labels              = 30\n",
    "additional_features_dim = len(x_train_tokenized.columns) - 2    # Except 'input_ids' and 'attention_mask'.\n",
    "\n",
    "model = HuggingFaceModelWrapper(\n",
    "    base_model=CustomModel(checkpoint, num_labels, additional_features_dim))\n",
    "\n",
    "# Define Callbacks.\n",
    "from transformers import EarlyStoppingCallback\n",
    "early_stopping_callback = EarlyStoppingCallback(\n",
    "    early_stopping_patience  = 3,     # Stop after this consecutive non-improving eval steps\n",
    "    early_stopping_threshold = 1e-5   # Minimum improvement threshold\n",
    ")\n",
    "\n",
    "# Define TrainingArguments.\n",
    "from transformers import AutoModel, TrainingArguments, Trainer\n",
    "\n",
    "# Hyperparameters.\n",
    "batch_size    = 8\n",
    "gra_steps     = 1\n",
    "eval_steps    = 100\n",
    "warmup_steps  = 0\n",
    "logging_steps = 100\n",
    "\n",
    "training_args = TrainingArguments(\n",
    "    output_dir=\"./results\",                   # Directory for saving model checkpoints\n",
    "    overwrite_output_dir=True,                # Training from scratch, not from last training\n",
    "    optim=\"adamw_bnb_8bit\",                   # 8-bits Quantization of Optimizer.\n",
    "    eval_strategy=\"steps\",                    # Evaluate every few steps\n",
    "    eval_steps=eval_steps,                    # Evaluation interval\n",
    "    logging_dir=\"./logs\",                     # Directory for TensorBoard logs\n",
    "    logging_steps=logging_steps,              # Logging interval\n",
    "    per_device_train_batch_size=batch_size,   # Batch size for training\n",
    "    per_device_eval_batch_size=batch_size,    # Batch size for evaluation\n",
    "    gradient_accumulation_steps=gra_steps,    # Steps for gradient accumulation\n",
    "    lr_scheduler_type=\"linear\",               # Learning scheduling: \"linear\"\n",
    "    warmup_steps=warmup_steps,                # Warmup steps: 150. \n",
    "    weight_decay=2e-2,                        # Weight decay\n",
    "    save_strategy=\"steps\",                    # Save model checkpoints periodically\n",
    "    save_steps=500,                           # Save every 500 steps\n",
    "    save_total_limit=3,                       # Keep the last 3 checkpoints\n",
    "    fp16=True,                                # Enable mixed precision (if supported)\n",
    "    load_best_model_at_end=True,              # Load the best model after training\n",
    "    metric_for_best_model=\"eval_spearman\",    # Use Spearman for metric for this competition.\n",
    "    greater_is_better=True,                   # Greater is better for Spearman.\n",
    "    seed=42\n",
    ")"
   ]
  },
  {
   "cell_type": "code",
   "execution_count": 259,
   "id": "bb6e5c7a-d7ac-4a3f-9319-f7d6b86f6953",
   "metadata": {
    "scrolled": true
   },
   "outputs": [
    {
     "data": {
      "text/html": [
       "\n",
       "    <div>\n",
       "      \n",
       "      <progress value='1700' max='6080' style='width:300px; height:20px; vertical-align: middle;'></progress>\n",
       "      [1700/6080 05:59 < 15:26, 4.73 it/s, Epoch 2/10]\n",
       "    </div>\n",
       "    <table border=\"1\" class=\"dataframe\">\n",
       "  <thead>\n",
       " <tr style=\"text-align: left;\">\n",
       "      <th>Step</th>\n",
       "      <th>Training Loss</th>\n",
       "      <th>Validation Loss</th>\n",
       "      <th>Spearman</th>\n",
       "    </tr>\n",
       "  </thead>\n",
       "  <tbody>\n",
       "    <tr>\n",
       "      <td>100</td>\n",
       "      <td>0.442400</td>\n",
       "      <td>0.426054</td>\n",
       "      <td>0.078708</td>\n",
       "    </tr>\n",
       "    <tr>\n",
       "      <td>200</td>\n",
       "      <td>0.428000</td>\n",
       "      <td>0.420127</td>\n",
       "      <td>0.135391</td>\n",
       "    </tr>\n",
       "    <tr>\n",
       "      <td>300</td>\n",
       "      <td>0.414400</td>\n",
       "      <td>0.423812</td>\n",
       "      <td>0.147738</td>\n",
       "    </tr>\n",
       "    <tr>\n",
       "      <td>400</td>\n",
       "      <td>0.417900</td>\n",
       "      <td>0.413562</td>\n",
       "      <td>0.192561</td>\n",
       "    </tr>\n",
       "    <tr>\n",
       "      <td>500</td>\n",
       "      <td>0.414500</td>\n",
       "      <td>0.408477</td>\n",
       "      <td>0.210495</td>\n",
       "    </tr>\n",
       "    <tr>\n",
       "      <td>600</td>\n",
       "      <td>0.406800</td>\n",
       "      <td>0.413362</td>\n",
       "      <td>0.208077</td>\n",
       "    </tr>\n",
       "    <tr>\n",
       "      <td>700</td>\n",
       "      <td>0.406300</td>\n",
       "      <td>0.406422</td>\n",
       "      <td>0.214082</td>\n",
       "    </tr>\n",
       "    <tr>\n",
       "      <td>800</td>\n",
       "      <td>0.408200</td>\n",
       "      <td>0.412028</td>\n",
       "      <td>0.217802</td>\n",
       "    </tr>\n",
       "    <tr>\n",
       "      <td>900</td>\n",
       "      <td>0.401000</td>\n",
       "      <td>0.405539</td>\n",
       "      <td>0.221833</td>\n",
       "    </tr>\n",
       "    <tr>\n",
       "      <td>1000</td>\n",
       "      <td>0.402600</td>\n",
       "      <td>0.403151</td>\n",
       "      <td>0.228792</td>\n",
       "    </tr>\n",
       "    <tr>\n",
       "      <td>1100</td>\n",
       "      <td>0.401000</td>\n",
       "      <td>0.402885</td>\n",
       "      <td>0.234114</td>\n",
       "    </tr>\n",
       "    <tr>\n",
       "      <td>1200</td>\n",
       "      <td>0.405800</td>\n",
       "      <td>0.402333</td>\n",
       "      <td>0.234791</td>\n",
       "    </tr>\n",
       "    <tr>\n",
       "      <td>1300</td>\n",
       "      <td>0.399900</td>\n",
       "      <td>0.403345</td>\n",
       "      <td>0.230079</td>\n",
       "    </tr>\n",
       "    <tr>\n",
       "      <td>1400</td>\n",
       "      <td>0.400200</td>\n",
       "      <td>0.401032</td>\n",
       "      <td>0.246033</td>\n",
       "    </tr>\n",
       "    <tr>\n",
       "      <td>1500</td>\n",
       "      <td>0.399300</td>\n",
       "      <td>0.401888</td>\n",
       "      <td>0.237551</td>\n",
       "    </tr>\n",
       "    <tr>\n",
       "      <td>1600</td>\n",
       "      <td>0.394700</td>\n",
       "      <td>0.402245</td>\n",
       "      <td>0.237874</td>\n",
       "    </tr>\n",
       "    <tr>\n",
       "      <td>1700</td>\n",
       "      <td>0.397500</td>\n",
       "      <td>0.402996</td>\n",
       "      <td>0.244298</td>\n",
       "    </tr>\n",
       "  </tbody>\n",
       "</table><p>"
      ],
      "text/plain": [
       "<IPython.core.display.HTML object>"
      ]
     },
     "metadata": {},
     "output_type": "display_data"
    },
    {
     "name": "stderr",
     "output_type": "stream",
     "text": [
      "Could not locate the best model at ./results\\checkpoint-1400\\pytorch_model.bin, if you are running a distributed training on multiple nodes, you should activate `--save_on_each_node`.\n"
     ]
    },
    {
     "data": {
      "text/html": [
       "\n",
       "    <div>\n",
       "      \n",
       "      <progress value='366' max='12160' style='width:300px; height:20px; vertical-align: middle;'></progress>\n",
       "      [  366/12160 00:34 < 18:35, 10.58 it/s, Epoch 0.60/20]\n",
       "    </div>\n",
       "    <table border=\"1\" class=\"dataframe\">\n",
       "  <thead>\n",
       " <tr style=\"text-align: left;\">\n",
       "      <th>Step</th>\n",
       "      <th>Training Loss</th>\n",
       "      <th>Validation Loss</th>\n",
       "      <th>Spearman</th>\n",
       "    </tr>\n",
       "  </thead>\n",
       "  <tbody>\n",
       "    <tr>\n",
       "      <td>100</td>\n",
       "      <td>0.392000</td>\n",
       "      <td>0.399462</td>\n",
       "      <td>0.247460</td>\n",
       "    </tr>\n",
       "    <tr>\n",
       "      <td>200</td>\n",
       "      <td>0.395700</td>\n",
       "      <td>0.398877</td>\n",
       "      <td>0.250791</td>\n",
       "    </tr>\n",
       "    <tr>\n",
       "      <td>300</td>\n",
       "      <td>0.386500</td>\n",
       "      <td>0.398543</td>\n",
       "      <td>0.252654</td>\n",
       "    </tr>\n",
       "  </tbody>\n",
       "</table><p>"
      ],
      "text/plain": [
       "<IPython.core.display.HTML object>"
      ]
     },
     "metadata": {},
     "output_type": "display_data"
    },
    {
     "ename": "KeyboardInterrupt",
     "evalue": "",
     "output_type": "error",
     "traceback": [
      "\u001b[1;31m---------------------------------------------------------------------------\u001b[0m",
      "\u001b[1;31mKeyboardInterrupt\u001b[0m                         Traceback (most recent call last)",
      "File \u001b[1;32m<timed exec>:31\u001b[0m\n",
      "File \u001b[1;32m~\\anaconda3\\envs\\nlp_prac\\lib\\site-packages\\transformers\\trainer.py:2164\u001b[0m, in \u001b[0;36mTrainer.train\u001b[1;34m(self, resume_from_checkpoint, trial, ignore_keys_for_eval, **kwargs)\u001b[0m\n\u001b[0;32m   2162\u001b[0m         hf_hub_utils\u001b[38;5;241m.\u001b[39menable_progress_bars()\n\u001b[0;32m   2163\u001b[0m \u001b[38;5;28;01melse\u001b[39;00m:\n\u001b[1;32m-> 2164\u001b[0m     \u001b[38;5;28;01mreturn\u001b[39;00m \u001b[43minner_training_loop\u001b[49m\u001b[43m(\u001b[49m\n\u001b[0;32m   2165\u001b[0m \u001b[43m        \u001b[49m\u001b[43margs\u001b[49m\u001b[38;5;241;43m=\u001b[39;49m\u001b[43margs\u001b[49m\u001b[43m,\u001b[49m\n\u001b[0;32m   2166\u001b[0m \u001b[43m        \u001b[49m\u001b[43mresume_from_checkpoint\u001b[49m\u001b[38;5;241;43m=\u001b[39;49m\u001b[43mresume_from_checkpoint\u001b[49m\u001b[43m,\u001b[49m\n\u001b[0;32m   2167\u001b[0m \u001b[43m        \u001b[49m\u001b[43mtrial\u001b[49m\u001b[38;5;241;43m=\u001b[39;49m\u001b[43mtrial\u001b[49m\u001b[43m,\u001b[49m\n\u001b[0;32m   2168\u001b[0m \u001b[43m        \u001b[49m\u001b[43mignore_keys_for_eval\u001b[49m\u001b[38;5;241;43m=\u001b[39;49m\u001b[43mignore_keys_for_eval\u001b[49m\u001b[43m,\u001b[49m\n\u001b[0;32m   2169\u001b[0m \u001b[43m    \u001b[49m\u001b[43m)\u001b[49m\n",
      "File \u001b[1;32m~\\anaconda3\\envs\\nlp_prac\\lib\\site-packages\\transformers\\trainer.py:2473\u001b[0m, in \u001b[0;36mTrainer._inner_training_loop\u001b[1;34m(self, batch_size, args, resume_from_checkpoint, trial, ignore_keys_for_eval)\u001b[0m\n\u001b[0;32m   2471\u001b[0m update_step \u001b[38;5;241m+\u001b[39m\u001b[38;5;241m=\u001b[39m \u001b[38;5;241m1\u001b[39m\n\u001b[0;32m   2472\u001b[0m num_batches \u001b[38;5;241m=\u001b[39m args\u001b[38;5;241m.\u001b[39mgradient_accumulation_steps \u001b[38;5;28;01mif\u001b[39;00m update_step \u001b[38;5;241m!=\u001b[39m (total_updates \u001b[38;5;241m-\u001b[39m \u001b[38;5;241m1\u001b[39m) \u001b[38;5;28;01melse\u001b[39;00m remainder\n\u001b[1;32m-> 2473\u001b[0m batch_samples, num_items_in_batch \u001b[38;5;241m=\u001b[39m \u001b[38;5;28;43mself\u001b[39;49m\u001b[38;5;241;43m.\u001b[39;49m\u001b[43mget_batch_samples\u001b[49m\u001b[43m(\u001b[49m\u001b[43mepoch_iterator\u001b[49m\u001b[43m,\u001b[49m\u001b[43m \u001b[49m\u001b[43mnum_batches\u001b[49m\u001b[43m)\u001b[49m\n\u001b[0;32m   2474\u001b[0m \u001b[38;5;28;01mfor\u001b[39;00m i, inputs \u001b[38;5;129;01min\u001b[39;00m \u001b[38;5;28menumerate\u001b[39m(batch_samples):\n\u001b[0;32m   2475\u001b[0m     step \u001b[38;5;241m+\u001b[39m\u001b[38;5;241m=\u001b[39m \u001b[38;5;241m1\u001b[39m\n",
      "File \u001b[1;32m~\\anaconda3\\envs\\nlp_prac\\lib\\site-packages\\transformers\\trainer.py:5130\u001b[0m, in \u001b[0;36mTrainer.get_batch_samples\u001b[1;34m(self, epoch_iterator, num_batches)\u001b[0m\n\u001b[0;32m   5128\u001b[0m \u001b[38;5;28;01mfor\u001b[39;00m _ \u001b[38;5;129;01min\u001b[39;00m \u001b[38;5;28mrange\u001b[39m(num_batches):\n\u001b[0;32m   5129\u001b[0m     \u001b[38;5;28;01mtry\u001b[39;00m:\n\u001b[1;32m-> 5130\u001b[0m         batch_samples \u001b[38;5;241m+\u001b[39m\u001b[38;5;241m=\u001b[39m [\u001b[38;5;28;43mnext\u001b[39;49m\u001b[43m(\u001b[49m\u001b[43mepoch_iterator\u001b[49m\u001b[43m)\u001b[49m]\n\u001b[0;32m   5131\u001b[0m     \u001b[38;5;28;01mexcept\u001b[39;00m \u001b[38;5;167;01mStopIteration\u001b[39;00m:\n\u001b[0;32m   5132\u001b[0m         \u001b[38;5;28;01mbreak\u001b[39;00m\n",
      "File \u001b[1;32m~\\anaconda3\\envs\\nlp_prac\\lib\\site-packages\\accelerate\\data_loader.py:563\u001b[0m, in \u001b[0;36mDataLoaderShard.__iter__\u001b[1;34m(self)\u001b[0m\n\u001b[0;32m    561\u001b[0m     current_batch \u001b[38;5;241m=\u001b[39m send_to_device(current_batch, \u001b[38;5;28mself\u001b[39m\u001b[38;5;241m.\u001b[39mdevice, non_blocking\u001b[38;5;241m=\u001b[39m\u001b[38;5;28mself\u001b[39m\u001b[38;5;241m.\u001b[39m_non_blocking)\n\u001b[0;32m    562\u001b[0m \u001b[38;5;28mself\u001b[39m\u001b[38;5;241m.\u001b[39m_update_state_dict()\n\u001b[1;32m--> 563\u001b[0m next_batch \u001b[38;5;241m=\u001b[39m \u001b[38;5;28;43mnext\u001b[39;49m\u001b[43m(\u001b[49m\u001b[43mdataloader_iter\u001b[49m\u001b[43m)\u001b[49m\n\u001b[0;32m    564\u001b[0m \u001b[38;5;28;01mif\u001b[39;00m batch_index \u001b[38;5;241m>\u001b[39m\u001b[38;5;241m=\u001b[39m \u001b[38;5;28mself\u001b[39m\u001b[38;5;241m.\u001b[39mskip_batches:\n\u001b[0;32m    565\u001b[0m     \u001b[38;5;28;01myield\u001b[39;00m current_batch\n",
      "File \u001b[1;32m~\\anaconda3\\envs\\nlp_prac\\lib\\site-packages\\torch\\utils\\data\\dataloader.py:701\u001b[0m, in \u001b[0;36m_BaseDataLoaderIter.__next__\u001b[1;34m(self)\u001b[0m\n\u001b[0;32m    698\u001b[0m \u001b[38;5;28;01mif\u001b[39;00m \u001b[38;5;28mself\u001b[39m\u001b[38;5;241m.\u001b[39m_sampler_iter \u001b[38;5;129;01mis\u001b[39;00m \u001b[38;5;28;01mNone\u001b[39;00m:\n\u001b[0;32m    699\u001b[0m     \u001b[38;5;66;03m# TODO(https://github.com/pytorch/pytorch/issues/76750)\u001b[39;00m\n\u001b[0;32m    700\u001b[0m     \u001b[38;5;28mself\u001b[39m\u001b[38;5;241m.\u001b[39m_reset()  \u001b[38;5;66;03m# type: ignore[call-arg]\u001b[39;00m\n\u001b[1;32m--> 701\u001b[0m data \u001b[38;5;241m=\u001b[39m \u001b[38;5;28;43mself\u001b[39;49m\u001b[38;5;241;43m.\u001b[39;49m\u001b[43m_next_data\u001b[49m\u001b[43m(\u001b[49m\u001b[43m)\u001b[49m\n\u001b[0;32m    702\u001b[0m \u001b[38;5;28mself\u001b[39m\u001b[38;5;241m.\u001b[39m_num_yielded \u001b[38;5;241m+\u001b[39m\u001b[38;5;241m=\u001b[39m \u001b[38;5;241m1\u001b[39m\n\u001b[0;32m    703\u001b[0m \u001b[38;5;28;01mif\u001b[39;00m (\n\u001b[0;32m    704\u001b[0m     \u001b[38;5;28mself\u001b[39m\u001b[38;5;241m.\u001b[39m_dataset_kind \u001b[38;5;241m==\u001b[39m _DatasetKind\u001b[38;5;241m.\u001b[39mIterable\n\u001b[0;32m    705\u001b[0m     \u001b[38;5;129;01mand\u001b[39;00m \u001b[38;5;28mself\u001b[39m\u001b[38;5;241m.\u001b[39m_IterableDataset_len_called \u001b[38;5;129;01mis\u001b[39;00m \u001b[38;5;129;01mnot\u001b[39;00m \u001b[38;5;28;01mNone\u001b[39;00m\n\u001b[0;32m    706\u001b[0m     \u001b[38;5;129;01mand\u001b[39;00m \u001b[38;5;28mself\u001b[39m\u001b[38;5;241m.\u001b[39m_num_yielded \u001b[38;5;241m>\u001b[39m \u001b[38;5;28mself\u001b[39m\u001b[38;5;241m.\u001b[39m_IterableDataset_len_called\n\u001b[0;32m    707\u001b[0m ):\n",
      "File \u001b[1;32m~\\anaconda3\\envs\\nlp_prac\\lib\\site-packages\\torch\\utils\\data\\dataloader.py:759\u001b[0m, in \u001b[0;36m_SingleProcessDataLoaderIter._next_data\u001b[1;34m(self)\u001b[0m\n\u001b[0;32m    757\u001b[0m data \u001b[38;5;241m=\u001b[39m \u001b[38;5;28mself\u001b[39m\u001b[38;5;241m.\u001b[39m_dataset_fetcher\u001b[38;5;241m.\u001b[39mfetch(index)  \u001b[38;5;66;03m# may raise StopIteration\u001b[39;00m\n\u001b[0;32m    758\u001b[0m \u001b[38;5;28;01mif\u001b[39;00m \u001b[38;5;28mself\u001b[39m\u001b[38;5;241m.\u001b[39m_pin_memory:\n\u001b[1;32m--> 759\u001b[0m     data \u001b[38;5;241m=\u001b[39m \u001b[43m_utils\u001b[49m\u001b[38;5;241;43m.\u001b[39;49m\u001b[43mpin_memory\u001b[49m\u001b[38;5;241;43m.\u001b[39;49m\u001b[43mpin_memory\u001b[49m\u001b[43m(\u001b[49m\u001b[43mdata\u001b[49m\u001b[43m,\u001b[49m\u001b[43m \u001b[49m\u001b[38;5;28;43mself\u001b[39;49m\u001b[38;5;241;43m.\u001b[39;49m\u001b[43m_pin_memory_device\u001b[49m\u001b[43m)\u001b[49m\n\u001b[0;32m    760\u001b[0m \u001b[38;5;28;01mreturn\u001b[39;00m data\n",
      "File \u001b[1;32m~\\anaconda3\\envs\\nlp_prac\\lib\\site-packages\\torch\\utils\\data\\_utils\\pin_memory.py:75\u001b[0m, in \u001b[0;36mpin_memory\u001b[1;34m(data, device)\u001b[0m\n\u001b[0;32m     69\u001b[0m \u001b[38;5;28;01mif\u001b[39;00m \u001b[38;5;28misinstance\u001b[39m(data, collections\u001b[38;5;241m.\u001b[39mabc\u001b[38;5;241m.\u001b[39mMutableMapping):\n\u001b[0;32m     70\u001b[0m     \u001b[38;5;66;03m# The sequence type may have extra properties, so we can't just\u001b[39;00m\n\u001b[0;32m     71\u001b[0m     \u001b[38;5;66;03m# use `type(data)(...)` to create the new sequence.\u001b[39;00m\n\u001b[0;32m     72\u001b[0m     \u001b[38;5;66;03m# Create a clone and update it if the sequence type is mutable.\u001b[39;00m\n\u001b[0;32m     73\u001b[0m     clone \u001b[38;5;241m=\u001b[39m copy\u001b[38;5;241m.\u001b[39mcopy(data)\n\u001b[0;32m     74\u001b[0m     clone\u001b[38;5;241m.\u001b[39mupdate(\n\u001b[1;32m---> 75\u001b[0m         {k: pin_memory(sample, device) \u001b[38;5;28;01mfor\u001b[39;00m k, sample \u001b[38;5;129;01min\u001b[39;00m data\u001b[38;5;241m.\u001b[39mitems()}\n\u001b[0;32m     76\u001b[0m     )\n\u001b[0;32m     77\u001b[0m     \u001b[38;5;28;01mreturn\u001b[39;00m clone\n\u001b[0;32m     78\u001b[0m \u001b[38;5;28;01melse\u001b[39;00m:\n",
      "File \u001b[1;32m~\\anaconda3\\envs\\nlp_prac\\lib\\site-packages\\torch\\utils\\data\\_utils\\pin_memory.py:75\u001b[0m, in \u001b[0;36m<dictcomp>\u001b[1;34m(.0)\u001b[0m\n\u001b[0;32m     69\u001b[0m \u001b[38;5;28;01mif\u001b[39;00m \u001b[38;5;28misinstance\u001b[39m(data, collections\u001b[38;5;241m.\u001b[39mabc\u001b[38;5;241m.\u001b[39mMutableMapping):\n\u001b[0;32m     70\u001b[0m     \u001b[38;5;66;03m# The sequence type may have extra properties, so we can't just\u001b[39;00m\n\u001b[0;32m     71\u001b[0m     \u001b[38;5;66;03m# use `type(data)(...)` to create the new sequence.\u001b[39;00m\n\u001b[0;32m     72\u001b[0m     \u001b[38;5;66;03m# Create a clone and update it if the sequence type is mutable.\u001b[39;00m\n\u001b[0;32m     73\u001b[0m     clone \u001b[38;5;241m=\u001b[39m copy\u001b[38;5;241m.\u001b[39mcopy(data)\n\u001b[0;32m     74\u001b[0m     clone\u001b[38;5;241m.\u001b[39mupdate(\n\u001b[1;32m---> 75\u001b[0m         {k: \u001b[43mpin_memory\u001b[49m\u001b[43m(\u001b[49m\u001b[43msample\u001b[49m\u001b[43m,\u001b[49m\u001b[43m \u001b[49m\u001b[43mdevice\u001b[49m\u001b[43m)\u001b[49m \u001b[38;5;28;01mfor\u001b[39;00m k, sample \u001b[38;5;129;01min\u001b[39;00m data\u001b[38;5;241m.\u001b[39mitems()}\n\u001b[0;32m     76\u001b[0m     )\n\u001b[0;32m     77\u001b[0m     \u001b[38;5;28;01mreturn\u001b[39;00m clone\n\u001b[0;32m     78\u001b[0m \u001b[38;5;28;01melse\u001b[39;00m:\n",
      "File \u001b[1;32m~\\anaconda3\\envs\\nlp_prac\\lib\\site-packages\\torch\\utils\\data\\_utils\\pin_memory.py:64\u001b[0m, in \u001b[0;36mpin_memory\u001b[1;34m(data, device)\u001b[0m\n\u001b[0;32m     62\u001b[0m \u001b[38;5;28;01mdef\u001b[39;00m \u001b[38;5;21mpin_memory\u001b[39m(data, device\u001b[38;5;241m=\u001b[39m\u001b[38;5;28;01mNone\u001b[39;00m):\n\u001b[0;32m     63\u001b[0m     \u001b[38;5;28;01mif\u001b[39;00m \u001b[38;5;28misinstance\u001b[39m(data, torch\u001b[38;5;241m.\u001b[39mTensor):\n\u001b[1;32m---> 64\u001b[0m         \u001b[38;5;28;01mreturn\u001b[39;00m \u001b[43mdata\u001b[49m\u001b[38;5;241;43m.\u001b[39;49m\u001b[43mpin_memory\u001b[49m\u001b[43m(\u001b[49m\u001b[43mdevice\u001b[49m\u001b[43m)\u001b[49m\n\u001b[0;32m     65\u001b[0m     \u001b[38;5;28;01melif\u001b[39;00m \u001b[38;5;28misinstance\u001b[39m(data, (\u001b[38;5;28mstr\u001b[39m, \u001b[38;5;28mbytes\u001b[39m)):\n\u001b[0;32m     66\u001b[0m         \u001b[38;5;28;01mreturn\u001b[39;00m data\n",
      "\u001b[1;31mKeyboardInterrupt\u001b[0m: "
     ]
    }
   ],
   "source": [
    "%%time\n",
    "\n",
    "# Define Trainer and train.\n",
    "\n",
    "# Full-Training.\n",
    "training_args.num_train_epochs = 10\n",
    "training_args.learning_rate    = 4e-5\n",
    "trainer_full = Trainer(\n",
    "    model            = model,                          \n",
    "    args             = training_args,              # TrainingArguments.\n",
    "    train_dataset    = train_dataset,              # Training dataset.\n",
    "    eval_dataset     = test_dataset,               # Validation dataset.\n",
    "    processing_class = tokenizer,                  # Tokenizer.\n",
    "    compute_metrics  = compute_metrics,            # Spearsman.\n",
    "    callbacks        = [early_stopping_callback]   # EarlyStopping callback.\n",
    ")\n",
    "trainer_full.train()\n",
    "\n",
    "# Freeze Body.\n",
    "for param in model.base_model.transformer.parameters():\n",
    "    param.requires_grad = False\n",
    "\n",
    "# Head-only Training.\n",
    "training_args.num_train_epochs = 20\n",
    "training_args.learning_rate    = 3e-5\n",
    "trainer_head = Trainer(\n",
    "    model=model,                          \n",
    "    args=training_args,                   # TrainingArguments\n",
    "    train_dataset=train_dataset,          # Training dataset\n",
    "    eval_dataset=test_dataset,            # Validation dataset\n",
    "    processing_class=tokenizer,           # Tokenizer\n",
    "    compute_metrics=compute_metrics,      # Evaluation metric function\n",
    "    callbacks=[early_stopping_callback]   # EarlyStopping Callback.\n",
    ")\n",
    "trainer_head.train()\n",
    "\n",
    "# Notification for finish.\n",
    "# import winsound\n",
    "# winsound.PlaySound(\"Alarm03\", winsound.SND_ALIAS)"
   ]
  },
  {
   "cell_type": "code",
   "execution_count": 260,
   "id": "4b6aa0d9-703c-4803-bf02-742dea68bbd9",
   "metadata": {
    "collapsed": true,
    "jupyter": {
     "outputs_hidden": true
    },
    "scrolled": true
   },
   "outputs": [
    {
     "name": "stdout",
     "output_type": "stream",
     "text": [
      "My Rank = 1376 / 1572\n",
      "My Score = 0.2527\n",
      "Mean = 0.3212\n",
      "Median = 0.3572\n"
     ]
    },
    {
     "ename": "KeyError",
     "evalue": "'eval_spearman'",
     "output_type": "error",
     "traceback": [
      "\u001b[1;31m---------------------------------------------------------------------------\u001b[0m",
      "\u001b[1;31mKeyError\u001b[0m                                  Traceback (most recent call last)",
      "Cell \u001b[1;32mIn[260], line 51\u001b[0m\n\u001b[0;32m     48\u001b[0m     \u001b[38;5;66;03m# Show plot\u001b[39;00m\n\u001b[0;32m     49\u001b[0m     plt\u001b[38;5;241m.\u001b[39mshow()\n\u001b[1;32m---> 51\u001b[0m \u001b[43mplot_learning_curve\u001b[49m\u001b[43m(\u001b[49m\u001b[43mtrainer_full\u001b[49m\u001b[38;5;241;43m.\u001b[39;49m\u001b[43mstate\u001b[49m\u001b[38;5;241;43m.\u001b[39;49m\u001b[43mlog_history\u001b[49m\u001b[43m)\u001b[49m\n\u001b[0;32m     52\u001b[0m plot_learning_curve(trainer_head\u001b[38;5;241m.\u001b[39mstate\u001b[38;5;241m.\u001b[39mlog_history)\n",
      "Cell \u001b[1;32mIn[260], line 13\u001b[0m, in \u001b[0;36mplot_learning_curve\u001b[1;34m(history)\u001b[0m\n\u001b[0;32m     11\u001b[0m eval_loss  \u001b[38;5;241m=\u001b[39m [log[\u001b[38;5;124m\"\u001b[39m\u001b[38;5;124meval_loss\u001b[39m\u001b[38;5;124m\"\u001b[39m] \u001b[38;5;28;01mfor\u001b[39;00m log \u001b[38;5;129;01min\u001b[39;00m history \u001b[38;5;28;01mif\u001b[39;00m \u001b[38;5;124m\"\u001b[39m\u001b[38;5;124meval_loss\u001b[39m\u001b[38;5;124m\"\u001b[39m \u001b[38;5;129;01min\u001b[39;00m log]\n\u001b[0;32m     12\u001b[0m train_loss \u001b[38;5;241m=\u001b[39m [log[\u001b[38;5;124m\"\u001b[39m\u001b[38;5;124mloss\u001b[39m\u001b[38;5;124m\"\u001b[39m] \u001b[38;5;28;01mfor\u001b[39;00m log \u001b[38;5;129;01min\u001b[39;00m history \u001b[38;5;28;01mif\u001b[39;00m \u001b[38;5;124m\"\u001b[39m\u001b[38;5;124mloss\u001b[39m\u001b[38;5;124m\"\u001b[39m \u001b[38;5;129;01min\u001b[39;00m log]\n\u001b[1;32m---> 13\u001b[0m spear_loss \u001b[38;5;241m=\u001b[39m [log[\u001b[38;5;124m\"\u001b[39m\u001b[38;5;124meval_spearman\u001b[39m\u001b[38;5;124m\"\u001b[39m] \u001b[38;5;28;01mfor\u001b[39;00m log \u001b[38;5;129;01min\u001b[39;00m history \u001b[38;5;28;01mif\u001b[39;00m \u001b[38;5;124m\"\u001b[39m\u001b[38;5;124mloss\u001b[39m\u001b[38;5;124m\"\u001b[39m \u001b[38;5;129;01min\u001b[39;00m log]\n\u001b[0;32m     15\u001b[0m plt\u001b[38;5;241m.\u001b[39mfigure(figsize\u001b[38;5;241m=\u001b[39m(\u001b[38;5;241m10\u001b[39m, \u001b[38;5;241m6\u001b[39m))\n\u001b[0;32m     17\u001b[0m \u001b[38;5;66;03m# Training Loss curve\u001b[39;00m\n",
      "Cell \u001b[1;32mIn[260], line 13\u001b[0m, in \u001b[0;36m<listcomp>\u001b[1;34m(.0)\u001b[0m\n\u001b[0;32m     11\u001b[0m eval_loss  \u001b[38;5;241m=\u001b[39m [log[\u001b[38;5;124m\"\u001b[39m\u001b[38;5;124meval_loss\u001b[39m\u001b[38;5;124m\"\u001b[39m] \u001b[38;5;28;01mfor\u001b[39;00m log \u001b[38;5;129;01min\u001b[39;00m history \u001b[38;5;28;01mif\u001b[39;00m \u001b[38;5;124m\"\u001b[39m\u001b[38;5;124meval_loss\u001b[39m\u001b[38;5;124m\"\u001b[39m \u001b[38;5;129;01min\u001b[39;00m log]\n\u001b[0;32m     12\u001b[0m train_loss \u001b[38;5;241m=\u001b[39m [log[\u001b[38;5;124m\"\u001b[39m\u001b[38;5;124mloss\u001b[39m\u001b[38;5;124m\"\u001b[39m] \u001b[38;5;28;01mfor\u001b[39;00m log \u001b[38;5;129;01min\u001b[39;00m history \u001b[38;5;28;01mif\u001b[39;00m \u001b[38;5;124m\"\u001b[39m\u001b[38;5;124mloss\u001b[39m\u001b[38;5;124m\"\u001b[39m \u001b[38;5;129;01min\u001b[39;00m log]\n\u001b[1;32m---> 13\u001b[0m spear_loss \u001b[38;5;241m=\u001b[39m [\u001b[43mlog\u001b[49m\u001b[43m[\u001b[49m\u001b[38;5;124;43m\"\u001b[39;49m\u001b[38;5;124;43meval_spearman\u001b[39;49m\u001b[38;5;124;43m\"\u001b[39;49m\u001b[43m]\u001b[49m \u001b[38;5;28;01mfor\u001b[39;00m log \u001b[38;5;129;01min\u001b[39;00m history \u001b[38;5;28;01mif\u001b[39;00m \u001b[38;5;124m\"\u001b[39m\u001b[38;5;124mloss\u001b[39m\u001b[38;5;124m\"\u001b[39m \u001b[38;5;129;01min\u001b[39;00m log]\n\u001b[0;32m     15\u001b[0m plt\u001b[38;5;241m.\u001b[39mfigure(figsize\u001b[38;5;241m=\u001b[39m(\u001b[38;5;241m10\u001b[39m, \u001b[38;5;241m6\u001b[39m))\n\u001b[0;32m     17\u001b[0m \u001b[38;5;66;03m# Training Loss curve\u001b[39;00m\n",
      "\u001b[1;31mKeyError\u001b[0m: 'eval_spearman'"
     ]
    }
   ],
   "source": [
    "# Check rank.\n",
    "history  = trainer_head.state.log_history   # Check `trainer_head` or `trainer_full`.\n",
    "my_score = max(\n",
    "    log[\"eval_spearman\"] for log in history if \"eval_spearman\" in log\n",
    ")\n",
    "check_rank(my_score)\n",
    "\n",
    "plot_learning_curve(trainer_full.state.log_history)\n",
    "plot_learning_curve(trainer_head.state.log_history)"
   ]
  },
  {
   "cell_type": "markdown",
   "id": "01b6ba30-c100-48fc-a5fe-26171e8af955",
   "metadata": {},
   "source": [
    "### Hyperparameters for best model.\n",
    "| Parameter                 | Value                   |\n",
    "|---------------------------|-------------------------|\n",
    "| Model                     | distilbert-base-uncased |\n",
    "| Max Length                | 512                     |\n",
    "| Learning Rate (Full)      | 4e-5                    |\n",
    "| Learning Rate (Head)      | 3e-5                    |\n",
    "| Weight Decay              | 2e-2                    |\n",
    "| Warmup Steps              | 0                       |\n",
    "| Batch Size                | 8                       |\n",
    "| Gradient Accumulation     | 1                       |\n",
    "| Evaluation Steps          | 100                     |\n",
    "| Early Stopping Patience   | 3                       |\n",
    "| Early Stopping Threshold  | 1e-5                    |\n",
    "| Full Fine-Tuning Epochs   | 10      |\n",
    "| Head Fine-Tuning Epochs   | 20       |\n",
    "| Spearman Correlation      | 0.3783                  |\n",
    "| CPU Time                  | 7min 11s               |\n",
    "| Wall Time                 | 5min 50s               |\n",
    "| Train Runtime             | 111.5316 seconds        |\n",
    "| Train Samples Per Second  | 872.04                 |\n",
    "| Train Steps Per Second    | 109.027                |\n"
   ]
  },
  {
   "cell_type": "markdown",
   "id": "447fb7a5-56b0-46b7-bf96-4009ae199e42",
   "metadata": {},
   "source": [
    "### BERT.\n",
    "\n",
    "| Parameter                   | Value                   |\n",
    "|-----------------------------|-------------------------|\n",
    "| Model                       | bert-base-uncased       |\n",
    "| Max Length                  | 512                     |\n",
    "| Learning Rate (Full)        | 4e-5                    |\n",
    "| Learning Rate (Head)        | 3e-5                    |\n",
    "| Weight Decay                | 2e-2                    |\n",
    "| Warmup Steps                | 0                       |\n",
    "| Batch Size                  | 8                       |\n",
    "| Gradient Accumulation Steps | 1                       |\n",
    "| Evaluation Steps            | 100                     |\n",
    "| Early Stopping Patience     | 3                       |\n",
    "| Early Stopping Threshold    | 1e-5                    |\n",
    "| Full Fine-Tuning Epochs     | 10      |\n",
    "| Head Fine-Tuning Epochs     | 20                      |\n",
    "| Spearman Correlation        | 0.3813 (127 / 1572)     |\n",
    "| CPU Time                    | 10min 32s              |\n",
    "| Wall Time                   | 9min 26s               |\n",
    "| Train Runtime               | 125.9416 seconds        |\n",
    "| Train Samples Per Second    | 772.262                |\n",
    "| Train Steps Per Second      | 96.553                 |\n",
    "| Training Loss               | 0.324978                |\n",
    "| Global Steps                | 1200                   |\n"
   ]
  },
  {
   "cell_type": "markdown",
   "id": "2e7f000a-1090-4e03-935c-628342804437",
   "metadata": {},
   "source": [
    "# 6. Summary."
   ]
  },
  {
   "cell_type": "code",
   "execution_count": null,
   "id": "e2b4ddbb-1c4d-499b-b828-1e54612d0ade",
   "metadata": {},
   "outputs": [],
   "source": [
    "# Load.\n",
    "from sklearn.model_selection import train_test_split\n",
    "data                = pd.read_csv('./dataset/train.csv')\n",
    "train_set, test_set = train_test_split(data, test_size=0.2)\n",
    "\n",
    "# Train-Test Split.\n",
    "label_col_idx = train_set.columns.get_loc('question_asker_intent_understanding')  # Label Columns start from it.\n",
    "x_train       = train_set.iloc[:, :label_col_idx]\n",
    "y_train       = train_set.iloc[:, label_col_idx:]\n",
    "x_test        = test_set.iloc[:, :label_col_idx]\n",
    "y_test        = test_set.iloc[:, label_col_idx:]\n",
    "\n",
    "# Preprocessing.\n",
    "from sklearn.preprocessing import OneHotEncoder\n",
    "\n",
    "def preprocess(x_train, n_hosts=10):\n",
    "    # 2.2.1. Drop redundant features.\n",
    "    redundant_features   = ['qa_id', 'question_user_name', 'question_user_page', \n",
    "                            'answer_user_page', 'answer_user_name', 'url']\n",
    "    x_train = x_train.drop(columns=redundant_features)\n",
    "\n",
    "    # 2.2.2. Encode categorical features.\n",
    "    # Converts other categories into 'Others'.\n",
    "    top_hosts = x_train['host'].value_counts().nlargest(n_hosts).index\n",
    "    x_train['host'] = x_train['host'].apply(lambda x: x if x in top_hosts else 'Others')\n",
    "\n",
    "    # Encode `category` and `host`.\n",
    "    categorical_features = ['category', 'host']\n",
    "    one_enc     = OneHotEncoder(handle_unknown='ignore')    # Zero vector for unknown category.\n",
    "    x_enc       = one_enc.fit_transform(x_train[categorical_features])\n",
    "\n",
    "    # Convert back to DataFrame.\n",
    "    enc_columns = one_enc.get_feature_names_out(categorical_features)\n",
    "    x_enc_df    = pd.DataFrame(x_enc.toarray(), columns=enc_columns, index=x_train.index)\n",
    "    x_train     = x_train.drop(columns=categorical_features)   # Drop original 'category' and 'host' columns.\n",
    "    x_train     = pd.concat([x_train, x_enc_df], axis=1)       # Concatenate the encoded columns back.\n",
    "\n",
    "    # 2.2.3. Merge txt columns.\n",
    "    cols_txt = ['question_title', 'question_body', 'answer']\n",
    "    x_train['txt_merged'] = x_train[cols_txt].apply(lambda row: ' '.join(row), axis=1)\n",
    "    x_train  = x_train.drop(columns=cols_txt)    # Drop original txt cols.\n",
    "    \n",
    "    # Return.\n",
    "    return x_train\n",
    "\n",
    "x_train_prep = preprocess(x_train, n_hosts=10)\n",
    "x_test_prep  = preprocess(x_test, n_hosts=10)\n",
    "\n",
    "# Tokenize.\n",
    "def tokenize(df):  \n",
    "    # Define Tokenizer.                   \n",
    "    tokenized = tokenizer(\n",
    "        list(df['txt_merged']),\n",
    "        padding          = True,\n",
    "        truncation       = True,\n",
    "        max_length       = max_length,\n",
    "#       stride           = 0,                 # Can be kept if you want overlapping tokens.\n",
    "        return_tensors   = \"np\"  \n",
    "    )\n",
    "\n",
    "    df['input_ids']      = list(tokenized['input_ids'])\n",
    "    df['attention_mask'] = list(tokenized['attention_mask'])\n",
    "    \n",
    "    df = df.drop(columns=['txt_merged'])      # Drop original text column.\n",
    "    \n",
    "    return df\n",
    "\n",
    "x_train_tokenized = tokenize(x_train_prep)\n",
    "x_test_tokenized  = tokenize(x_test_prep)\n",
    "\n",
    "# Convert datasets, `df` -> `ds`.\n",
    "from datasets import Dataset\n",
    "\n",
    "train_dataset = Dataset.from_dict(preprocess_data(x_train_tokenized, y_train))\n",
    "test_dataset  = Dataset.from_dict(preprocess_data(x_test_tokenized, y_test))"
   ]
  },
  {
   "cell_type": "code",
   "execution_count": null,
   "id": "78eb3905-d9e9-4fb2-837e-0abaf28752ad",
   "metadata": {},
   "outputs": [],
   "source": [
    "# Train.\n",
    "\n",
    "# Initialize the model.\n",
    "checkpoint = checkpoints['bert']     # Other candidates : 'distilbert', 'roberta'.\n",
    "\n",
    "num_labels              = 30\n",
    "additional_features_dim = len(x_train_tokenized.columns) - 2    # Except 'input_ids' and 'attention_mask'.\n",
    "\n",
    "model = HuggingFaceModelWrapper(\n",
    "    base_model=CustomModel(checkpoint, num_labels, additional_features_dim))\n",
    "\n",
    "# Define Callbacks.\n",
    "from transformers import EarlyStoppingCallback\n",
    "early_stopping_callback = EarlyStoppingCallback(\n",
    "    early_stopping_patience  = 3,     # Stop after this consecutive non-improving eval steps\n",
    "    early_stopping_threshold = 1e-5   # Minimum improvement threshold\n",
    ")\n",
    "\n",
    "# Define TrainingArguments.\n",
    "from transformers import AutoModel, TrainingArguments, Trainer\n",
    "\n",
    "# Hyperparameters.\n",
    "batch_size    = 8\n",
    "gra_steps     = 1\n",
    "eval_steps    = 100\n",
    "warmup_steps  = 0\n",
    "logging_steps = 100\n",
    "\n",
    "training_args = TrainingArguments(\n",
    "    output_dir=\"./results\",                   # Directory for saving model checkpoints\n",
    "    overwrite_output_dir=True,                # Training from scratch, not from last training\n",
    "    optim=\"adamw_bnb_8bit\",                   # 8-bits Quantization of Optimizer.\n",
    "    eval_strategy=\"steps\",                    # Evaluate every few steps\n",
    "    eval_steps=eval_steps,                    # Evaluation interval\n",
    "    logging_dir=\"./logs\",                     # Directory for TensorBoard logs\n",
    "    logging_steps=logging_steps,              # Logging interval\n",
    "    per_device_train_batch_size=batch_size,   # Batch size for training\n",
    "    per_device_eval_batch_size=batch_size,    # Batch size for evaluation\n",
    "    gradient_accumulation_steps=gra_steps,    # Steps for gradient accumulation\n",
    "    lr_scheduler_type=\"linear\",               # Learning scheduling: \"linear\"\n",
    "    warmup_steps=warmup_steps,                # Warmup steps: 150. \n",
    "    weight_decay=2e-2,                        # Weight decay\n",
    "    save_strategy=\"steps\",                    # Save model checkpoints periodically\n",
    "    save_steps=500,                           # Save every 500 steps\n",
    "    save_total_limit=3,                       # Keep the last 3 checkpoints\n",
    "    fp16=True,                                # Enable mixed precision (if supported)\n",
    "    load_best_model_at_end=True,              # Load the best model after training\n",
    "    metric_for_best_model=\"eval_spearman\",    # Use Spearman for metric for this competition.\n",
    "    greater_is_better=True,                   # Greater is better for Spearman.\n",
    "    seed=42\n",
    ")"
   ]
  },
  {
   "cell_type": "code",
   "execution_count": null,
   "id": "af863bb6-883e-4ffc-81c0-78cd5e5220a6",
   "metadata": {},
   "outputs": [],
   "source": [
    "%%time\n",
    "\n",
    "# Define Trainer and train.\n",
    "\n",
    "# Full-Training.\n",
    "training_args.num_train_epochs = 10\n",
    "training_args.learning_rate    = 4e-5\n",
    "trainer_full = Trainer(\n",
    "    model            = model,                          \n",
    "    args             = training_args,              # TrainingArguments.\n",
    "    train_dataset    = train_dataset,              # Training dataset.\n",
    "    eval_dataset     = test_dataset,               # Validation dataset.\n",
    "    processing_class = tokenizer,                  # Tokenizer.\n",
    "    compute_metrics  = compute_metrics,            # Spearsman.\n",
    "    callbacks        = [early_stopping_callback]   # EarlyStopping callback.\n",
    ")\n",
    "trainer_full.train()\n",
    "\n",
    "# Freeze Body.\n",
    "for param in model.base_model.transformer.parameters():\n",
    "    param.requires_grad = False\n",
    "\n",
    "# Head-only Training.\n",
    "training_args.num_train_epochs = 20\n",
    "training_args.learning_rate    = 3e-5\n",
    "trainer_head = Trainer(\n",
    "    model=model,                          \n",
    "    args=training_args,                   # TrainingArguments\n",
    "    train_dataset=train_dataset,          # Training dataset\n",
    "    eval_dataset=test_dataset,            # Validation dataset\n",
    "    processing_class=tokenizer,           # Tokenizer\n",
    "    compute_metrics=compute_metrics,      # Evaluation metric function\n",
    "    callbacks=[early_stopping_callback]   # EarlyStopping Callback.\n",
    ")\n",
    "trainer_head.train()\n",
    "\n",
    "# Notification for finish.\n",
    "# import winsound\n",
    "# winsound.PlaySound(\"Alarm03\", winsound.SND_ALIAS)"
   ]
  },
  {
   "cell_type": "code",
   "execution_count": null,
   "id": "53fac08a-9e79-444d-b536-052daaa0bc3e",
   "metadata": {},
   "outputs": [],
   "source": [
    "# Defines.\n",
    "\n",
    "# Define Custom Model.\n",
    "import torch\n",
    "import torch.nn as nn\n",
    "from transformers import AutoModel\n",
    "\n",
    "class CustomModel(nn.Module):\n",
    "    def __init__(self, checkpoint, num_labels, additional_feature_dim):\n",
    "        super(CustomModel, self).__init__()\n",
    "        \n",
    "        # Load pretrained transformer.\n",
    "        self.transformer = AutoModel.from_pretrained(checkpoint)\n",
    "\n",
    "        # Expose the transformer's config.\n",
    "        self.config = self.transformer.config\n",
    "        \n",
    "        # Combine transformer outputs with additional features\n",
    "        transformer_hidden_size = self.transformer.config.hidden_size\n",
    "        self.fc1 = nn.Linear(transformer_hidden_size + additional_feature_dim, num_labels)\n",
    "        \n",
    "#       self.fc2 = nn.Linear(256, num_labels)   # For complex Head.\n",
    "#       self.dropout = nn.Dropout(0.1)          # For dropout.\n",
    "        \n",
    "    def forward(self, input_ids, attention_mask, additional_features):\n",
    "        # Transformer output.\n",
    "        transformer_output = self.transformer(\n",
    "            input_ids      = input_ids,\n",
    "            attention_mask = attention_mask\n",
    "        )\n",
    "        \n",
    "        # Use [CLS] token for concatenation.\n",
    "        cls_output     = transformer_output.last_hidden_state[:, 0, :]\n",
    "        combined_input = torch.cat([cls_output, additional_features], dim=1)\n",
    "        \n",
    "        # Pass through fully connected layers\n",
    "#       x = self.dropout(torch.relu(self.fc1(combined_input)))\n",
    "        output = self.fc1(combined_input)\n",
    "        \n",
    "        return output\n",
    "\n",
    "# Define HF Wrapper for Custom Model.\n",
    "class HuggingFaceModelWrapper(nn.Module):\n",
    "    def __init__(self, base_model):\n",
    "        super().__init__()\n",
    "        self.base_model = base_model         # Custom model.\n",
    "        self.config     = base_model.config  # Expose the base model's config.\n",
    "\n",
    "    def forward(self, input_ids, attention_mask, additional_features, labels=None):\n",
    "        # Forward pass through the base model.\n",
    "        output = self.base_model(input_ids           = input_ids, \n",
    "                                 attention_mask      = attention_mask, \n",
    "                                 additional_features = additional_features)\n",
    "        \n",
    "        # If labels are provided, calculate loss.\n",
    "        logits = output\n",
    "        loss   = None\n",
    "        if labels is not None:\n",
    "            loss_fn = nn.BCEWithLogitsLoss()\n",
    "            loss    = loss_fn(logits, labels)\n",
    "        \n",
    "        return {\"loss\": loss, \"logits\": logits}\n",
    "\n",
    "    def prepare_inputs_for_generation(self, *args, **kwargs):\n",
    "        # Delegate to the base model.\n",
    "        return self.base_model.prepare_inputs_for_generation(*args, **kwargs)\n",
    "\n",
    "# Spearman's Corr.\n",
    "from scipy.stats import spearmanr\n",
    "\n",
    "def compute_metrics(eval_pred):\n",
    "    logits, labels = eval_pred\n",
    "    predictions    = np.argmax(logits, axis=1) if logits.ndim == 3 else logits\n",
    "\n",
    "    # Calculate Spearman's correlation for each label.\n",
    "    spearman_corrs = []\n",
    "    for i in range(labels.shape[1]):\n",
    "        corr, _ = spearmanr(predictions[:, i], labels[:, i])\n",
    "        spearman_corrs.append(corr)\n",
    "\n",
    "    # Return the mean of Spearman's correlation.\n",
    "    mean_spearman = np.nanmean(spearman_corrs)  # Handle NaNs if any.\n",
    "    return {\"spearman\": mean_spearman}\n",
    "\n",
    "# Convert datasets, `df` -> `ds`.\n",
    "def preprocess_data(df, labels):\n",
    "    return {\n",
    "        \"input_ids\"             : list(df['input_ids']),\n",
    "        \"attention_mask\"        : list(df['attention_mask']),\n",
    "        \"additional_features\"   : df.iloc[:, :-2].values.tolist(),  \n",
    "        \"labels\"                : labels.to_numpy().tolist()        \n",
    "    }\n",
    "\n",
    "# Method to Check Rank.\n",
    "def check_rank(score):\n",
    "    leaderboard = pd.read_csv('./leaderboard.csv')\n",
    "    num_team    = len(leaderboard)\n",
    "    mean        = leaderboard['Score'].mean()\n",
    "    median      = leaderboard['Score'].median()\n",
    "\n",
    "    my_rank = (leaderboard['Score'] >= my_score).sum()\n",
    "\n",
    "    print(f'My Rank = {my_rank} / {num_team}')\n",
    "    print(f'My Score = {score:.4f}')\n",
    "    print(f'Mean = {mean:.4f}')\n",
    "    print(f'Median = {median:.4f}')\n",
    "\n",
    "# Plot Learning Curve.\n",
    "def plot_learning_curve(history):\n",
    "    eval_loss  = [log[\"eval_loss\"] for log in history if \"eval_loss\" in log]\n",
    "    train_loss = [log[\"loss\"] for log in history if \"loss\" in log]\n",
    "    spear_loss = [log[\"eval_spearman\"] for log in history if \"loss\" in log]\n",
    "    \n",
    "    plt.figure(figsize=(10, 6))\n",
    "    \n",
    "    # Training Loss curve\n",
    "    plt.plot(\n",
    "        [log[\"step\"] for log in history if \"loss\" in log],\n",
    "        train_loss,\n",
    "        label=\"Training Loss\",\n",
    "        marker=\"o\",\n",
    "    )\n",
    "    \n",
    "    # Validation Loss curve\n",
    "    plt.plot(\n",
    "        [log[\"step\"] for log in history if \"eval_loss\" in log],\n",
    "        eval_loss,\n",
    "        label=\"Validation Loss\",\n",
    "        marker=\"x\",\n",
    "    )\n",
    "\n",
    "    # Spearman Loss curve\n",
    "    plt.plot(\n",
    "        [log[\"step\"] for log in history if \"eval_loss\" in log],\n",
    "        spear_loss,\n",
    "        label=\"Spearman Loss\",\n",
    "        marker=\"x\",\n",
    "    )\n",
    "    \n",
    "    # Labels and legends\n",
    "    plt.title(\"Training and Validation Loss Curve\")\n",
    "    plt.xlabel(\"Training Steps\")\n",
    "    plt.ylabel(\"Loss\")\n",
    "    plt.legend()\n",
    "    plt.grid(True)\n",
    "    \n",
    "    # Show plot\n",
    "    plt.show()"
   ]
  },
  {
   "cell_type": "code",
   "execution_count": null,
   "id": "2921230b-92b2-497c-93e3-37424722d182",
   "metadata": {},
   "outputs": [],
   "source": []
  }
 ],
 "metadata": {
  "kernelspec": {
   "display_name": "Python 3 (ipykernel)",
   "language": "python",
   "name": "python3"
  },
  "language_info": {
   "codemirror_mode": {
    "name": "ipython",
    "version": 3
   },
   "file_extension": ".py",
   "mimetype": "text/x-python",
   "name": "python",
   "nbconvert_exporter": "python",
   "pygments_lexer": "ipython3",
   "version": "3.9.18"
  }
 },
 "nbformat": 4,
 "nbformat_minor": 5
}
