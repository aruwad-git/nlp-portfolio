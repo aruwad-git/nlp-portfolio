{
 "cells": [
  {
   "cell_type": "markdown",
   "id": "e547fc0e-8a46-4b9e-b83a-65caa63281da",
   "metadata": {},
   "source": [
    "# 0. Settings."
   ]
  },
  {
   "cell_type": "code",
   "execution_count": 1,
   "id": "e4003ac0-2b8d-4ead-beb0-6d5d5048cfbc",
   "metadata": {
    "jupyter": {
     "source_hidden": true
    }
   },
   "outputs": [],
   "source": [
    "# Imports.\n",
    "import torch\n",
    "import numpy as np\n",
    "import pandas as pd\n",
    "import matplotlib.pyplot as plt\n",
    "from tqdm import tqdm\n",
    "\n",
    "# Disable unnecessary warnings.\n",
    "import logging\n",
    "logging.basicConfig(level=logging.ERROR)\n",
    "\n",
    "import os\n",
    "os.environ[\"HF_HUB_DISABLE_SYMLINKS_WARNING\"] = \"1\"\n",
    "\n",
    "# Random seed.\n",
    "from transformers import set_seed\n",
    "set_seed(42)"
   ]
  },
  {
   "cell_type": "markdown",
   "id": "0b99d7ae-8e69-42e3-8545-2b2e7813abe3",
   "metadata": {},
   "source": [
    "# 1. About."
   ]
  },
  {
   "cell_type": "markdown",
   "id": "18341f25-ad3e-4609-8d4b-a6eeb90c44e1",
   "metadata": {
    "jp-MarkdownHeadingCollapsed": true
   },
   "source": [
    "- **Description**  \n",
    "  This project is to develop a simple NLP model with IMDb, that classifies the sentiment of the movie review.  \n",
    "  This project clearly shows a typical workflow of fine-tuning of LLM for specific tasks.\n",
    "- **Duration**  \n",
    "  - Start Date: 2024.12.25.  \n",
    "  - End Date: 2024.12.27.\n",
    "- **I/O**  \n",
    "  - **Input**: a list of `str`.  \n",
    "    A raw text sequence for movie review, written in English.\n",
    "  - **Output**: `{0, 1}`.  \n",
    "    Sentiment. 0 = Negative, 1 = Positive.\n",
    "- **Type of Task**\n",
    "  - Text Classification.\n",
    "  - Sentiment Analysis.\n",
    "- **Domain**  \n",
    "  Movie, Media, Review\n",
    "- **Data**\n",
    "  - IMDb dataset.  \n",
    "- **Performance Metrics**  \n",
    "  - Accuracy.\n",
    "- **Result**  \n",
    "  - Model: DistilBERT with fine-tuning. \n",
    "  - Performance: 91.74% of accuracy.\n",
    "- **Change Log**  \n",
    "  - 2024.12.27, 1st written."
   ]
  },
  {
   "cell_type": "markdown",
   "id": "67dcf725-ed5b-4791-9d5f-52ef4acf5c3e",
   "metadata": {
    "jp-MarkdownHeadingCollapsed": true
   },
   "source": [
    "# 2. Data Preparation and EDA."
   ]
  },
  {
   "cell_type": "markdown",
   "id": "801f36b7-fcab-46dd-ba39-3cbf45683ff3",
   "metadata": {},
   "source": [
    "- [IMDb Dataset](https://huggingface.co/datasets/stanfordnlp/imdb?utm_source=chatgpt.com)."
   ]
  },
  {
   "cell_type": "markdown",
   "id": "5e0518dd-1800-443c-8949-4a112f15d448",
   "metadata": {},
   "source": [
    "## 2.1. Load."
   ]
  },
  {
   "cell_type": "code",
   "execution_count": 2,
   "id": "796b5398-bbaa-48ff-a3c4-5d58ca6c15a4",
   "metadata": {},
   "outputs": [],
   "source": [
    "from datasets import load_dataset\n",
    "ds       = load_dataset(path='imdb')\n",
    "train_ds = ds['train']\n",
    "test_ds  = ds['test']"
   ]
  },
  {
   "cell_type": "markdown",
   "id": "3a56883c-c184-427c-b26f-76ae45c41e0d",
   "metadata": {},
   "source": [
    "## 2.2. EDA."
   ]
  },
  {
   "cell_type": "code",
   "execution_count": 3,
   "id": "144d41b7-d7bc-455a-914c-e0cd9d886e91",
   "metadata": {},
   "outputs": [],
   "source": [
    "# Temporary convert to pd.DataFrame for EDA.\n",
    "train_df = train_ds.to_pandas()"
   ]
  },
  {
   "cell_type": "markdown",
   "id": "ba3a4e46-7c9c-4ec3-9074-454b97706842",
   "metadata": {},
   "source": [
    "> #### Note) Use `.to_pandas()` instead.  \n",
    "> It only changes the interface, instead of actual conversion, but the original `train_ds` is not affected."
   ]
  },
  {
   "cell_type": "markdown",
   "id": "d72d02f4-29cd-45c7-b316-22def21ff330",
   "metadata": {
    "jp-MarkdownHeadingCollapsed": true
   },
   "source": [
    "### 2.2.1. Basic Exploration."
   ]
  },
  {
   "cell_type": "code",
   "execution_count": 10,
   "id": "b4576a65-bdb1-449e-82c8-999a18d7166d",
   "metadata": {},
   "outputs": [
    {
     "name": "stdout",
     "output_type": "stream",
     "text": [
      "- num_train : 25000\n",
      "- Some samples.\n",
      "text : I rented I AM CURIOUS-YELLOW from my video store because of all the controversy that surrounded it w\n",
      "label : 0\n",
      "\n",
      "text : \"I Am Curious: Yellow\" is a risible and pretentious steaming pile. It doesn't matter what one's poli\n",
      "label : 0\n",
      "\n",
      "text : If only to avoid making this type of film in the future. This film is interesting as an experiment b\n",
      "label : 0\n",
      "\n"
     ]
    }
   ],
   "source": [
    "# Number of train samples.\n",
    "num_train   = len(train_df)                        \n",
    "print(f'- num_train : {num_train}')    \n",
    "\n",
    "# Print some samples.\n",
    "print(f'- Some samples.')\n",
    "for i in range(3):\n",
    "    sample = train_df.iloc[i]\n",
    "    print(f'text : {sample[\"text\"][:100]}')\n",
    "    print(f'label : {sample[\"label\"]}', end='\\n\\n')  "
   ]
  },
  {
   "cell_type": "markdown",
   "id": "37a9d4c8-fc8d-49c8-a7b5-1f7ba8fcc3fe",
   "metadata": {
    "jp-MarkdownHeadingCollapsed": true
   },
   "source": [
    "### 2.2.2. Null Check."
   ]
  },
  {
   "cell_type": "code",
   "execution_count": 20,
   "id": "df5f6953-3f70-499f-800d-80b151b95992",
   "metadata": {},
   "outputs": [
    {
     "name": "stdout",
     "output_type": "stream",
     "text": [
      "text     0\n",
      "label    0\n",
      "dtype: int64\n",
      "=> Clear!\n"
     ]
    }
   ],
   "source": [
    "print(train_df.isnull().sum())\n",
    "print('=> Clear!')"
   ]
  },
  {
   "cell_type": "markdown",
   "id": "c14bed0b-a7a7-4c0c-af91-4475198c7cb5",
   "metadata": {
    "jp-MarkdownHeadingCollapsed": true
   },
   "source": [
    "### 2.2.3. Class Distribution."
   ]
  },
  {
   "cell_type": "code",
   "execution_count": 14,
   "id": "6e524618-3cab-4b04-bad1-0f80a86cbe2e",
   "metadata": {},
   "outputs": [
    {
     "name": "stdout",
     "output_type": "stream",
     "text": [
      "\n",
      "- Class Distribution:\n"
     ]
    },
    {
     "data": {
      "image/png": "[encoded data removed]",
      "text/plain": [
       "<Figure size 400x300 with 1 Axes>"
      ]
     },
     "metadata": {},
     "output_type": "display_data"
    }
   ],
   "source": [
    "print(\"\\n- Class Distribution:\")\n",
    "class_counts = train_df['label'].value_counts()\n",
    "\n",
    "plt.figure(figsize=(4, 3))\n",
    "plt.bar(class_counts.index, class_counts.values / num_train, \n",
    "        alpha=0.7, tick_label=[\"Negative\", \"Positive\"])\n",
    "plt.title(\"Class Distribution\")\n",
    "plt.xlabel(\"Classes\")\n",
    "plt.ylabel(\"Samples\")\n",
    "plt.show()"
   ]
  },
  {
   "cell_type": "markdown",
   "id": "26ea002e-ac8c-4504-9523-17561d34e7c5",
   "metadata": {
    "jp-MarkdownHeadingCollapsed": true
   },
   "source": [
    "### 2.2.4. Length of Texts."
   ]
  },
  {
   "cell_type": "code",
   "execution_count": 29,
   "id": "769052ce-943e-48bc-b249-c2e5cd97a9d2",
   "metadata": {},
   "outputs": [
    {
     "name": "stdout",
     "output_type": "stream",
     "text": [
      "Average Character Length: 1325.07\n",
      "Average Word Length: 233.78\n",
      "\n"
     ]
    },
    {
     "data": {
      "image/png": "[encoded data removed]",
      "text/plain": [
       "<Figure size 800x300 with 2 Axes>"
      ]
     },
     "metadata": {},
     "output_type": "display_data"
    }
   ],
   "source": [
    "# Average length.\n",
    "train_df['char_length'] = train_df['text'].apply(len)\n",
    "train_df['word_length'] = train_df['text'].apply(lambda x: len(x.split(' ')))\n",
    "\n",
    "avg_char_length = train_df['char_length'].mean().round(2)\n",
    "avg_word_length = train_df['word_length'].mean().round(2)\n",
    "\n",
    "print(f\"Average Character Length: {avg_char_length}\")\n",
    "print(f\"Average Word Length: {avg_word_length}\", end='\\n\\n')\n",
    "\n",
    "# Draw histogram.\n",
    "plt.figure(figsize=(8, 3))\n",
    "\n",
    "# By character.\n",
    "plt.subplot(1, 2, 1)\n",
    "plt.hist(train_df['char_length'], bins=50, alpha=0.7)     \n",
    "plt.title('Text Length (by characters)')\n",
    "plt.xlabel('Characters')\n",
    "plt.ylabel('Frequency')\n",
    "plt.xlim(0, np.percentile(train_df['char_length'], 99))   # truncate 1% outlier.\n",
    "\n",
    "# By word.\n",
    "plt.subplot(1, 2, 2)\n",
    "plt.hist(train_df['word_length'], bins=50, alpha=0.7)     \n",
    "plt.title('Text Length (Words)')\n",
    "plt.xlabel('Words')\n",
    "plt.ylabel('Frequency')\n",
    "plt.xlim(0, np.percentile(train_df['word_length'], 99))\n",
    "\n",
    "plt.tight_layout()\n",
    "plt.show()"
   ]
  },
  {
   "cell_type": "markdown",
   "id": "99a65821-032a-4f27-b3d1-df092b1945ea",
   "metadata": {
    "jp-MarkdownHeadingCollapsed": true
   },
   "source": [
    "### 2.2.5. Length by Class."
   ]
  },
  {
   "cell_type": "code",
   "execution_count": 30,
   "id": "fb5825f6-49c1-45e4-8a47-ace7510642b6",
   "metadata": {},
   "outputs": [
    {
     "data": {
      "image/png": "[encoded data removed]",
      "text/plain": [
       "<Figure size 640x480 with 1 Axes>"
      ]
     },
     "metadata": {},
     "output_type": "display_data"
    }
   ],
   "source": [
    "import seaborn as sns\n",
    "sns.boxplot(x=train_df['label'], y=train_df['word_length'])\n",
    "plt.title(\"Distribution of Review Lengths by Class\")\n",
    "plt.xlabel(\"Class\")\n",
    "plt.ylabel(\"Word Count\")\n",
    "plt.show()"
   ]
  },
  {
   "cell_type": "markdown",
   "id": "0f556bca-9b3c-48b9-8e2a-6572444a8eb1",
   "metadata": {},
   "source": [
    "### 2.2.6. Frequent words for each class.\n",
    "- In this case, since the dataset is not large, we can count words to calculate top words.\n",
    "- Shared words are excluded.\n",
    "- Not all but some words clearly seem to be useful! We could try them for fine-tuning."
   ]
  },
  {
   "cell_type": "code",
   "execution_count": 40,
   "id": "a3d8eee3-c5bb-4c8a-b463-dac878f2c4c4",
   "metadata": {
    "collapsed": true,
    "jupyter": {
     "outputs_hidden": true,
     "source_hidden": true
    }
   },
   "outputs": [
    {
     "name": "stderr",
     "output_type": "stream",
     "text": [
      "[nltk_data] Downloading package stopwords to\n",
      "[nltk_data]     C:\\Users\\yana\\AppData\\Roaming\\nltk_data...\n",
      "[nltk_data]   Package stopwords is already up-to-date!\n"
     ]
    },
    {
     "name": "stdout",
     "output_type": "stream",
     "text": [
      "Top Words : Positive Reviews\n",
      "('well', 3607)\n",
      "('best', 3387)\n",
      "('love', 3326)\n",
      "('still', 2909)\n",
      "('makes', 2345)\n",
      "('life', 2340)\n",
      "('find', 2184)\n",
      "('back', 2110)\n",
      "('real', 2063)\n",
      "('quite', 2063)\n",
      "\n",
      "Top Words : Negative Reviews\n",
      "('bad', 5096)\n",
      "('plot', 2953)\n",
      "('acting', 2850)\n",
      "('better', 2527)\n",
      "('something', 2390)\n",
      "('nothing', 2355)\n",
      "('watching', 2303)\n",
      "('thing', 2223)\n",
      "('actually', 2216)\n",
      "('going', 2142)\n"
     ]
    }
   ],
   "source": [
    "from collections import Counter\n",
    "from nltk.corpus import stopwords\n",
    "import nltk\n",
    "\n",
    "# Exclude some frequent words that are rarely meaningful.\n",
    "nltk.download('stopwords')\n",
    "stop_words = set(stopwords.words('english'))\n",
    "\n",
    "# Method : list of txts -> top_ most frequent words. \n",
    "def get_top_words(texts, top_n):\n",
    "    words = [\n",
    "        word \n",
    "        for text in texts \n",
    "        for word in text.split() \n",
    "        if word.lower() not in stop_words and word.isalpha()\n",
    "    ]\n",
    "    return Counter(words).most_common(top_n)\n",
    "\n",
    "# Separate reviews by class.\n",
    "pos_reviews   = train_df[train_df['label'] == 1]['text']\n",
    "neg_reviews   = train_df[train_df['label'] == 0]['text']\n",
    "\n",
    "# Get top words for both classes.\n",
    "pos_top_words = get_top_words(pos_reviews, top_n=50)\n",
    "neg_top_words = get_top_words(neg_reviews, top_n=50)\n",
    "\n",
    "# Filter shared words.\n",
    "shared_words  = set(word for word, _ in pos_top_words) & set(word for word, _ in neg_top_words)\n",
    "pos_filtered  = [(word, count) for word, count in pos_top_words if word not in shared_words][:10]\n",
    "neg_filtered  = [(word, count) for word, count in neg_top_words if word not in shared_words][:10]\n",
    "\n",
    "# Print top words.\n",
    "print('Top Words : Positive Reviews')\n",
    "for p in pos_filtered:\n",
    "    print(p)\n",
    "    \n",
    "print('\\nTop Words : Negative Reviews')\n",
    "for n in neg_filtered:\n",
    "    print(n)"
   ]
  },
  {
   "cell_type": "markdown",
   "id": "6e6b42ca-77d5-4c58-8580-62f6308ba565",
   "metadata": {},
   "source": [
    "### 2.2.7. Convert back to `dataset`."
   ]
  },
  {
   "cell_type": "code",
   "execution_count": 41,
   "id": "0641c855-bc57-4c20-b153-32b79a7eab3c",
   "metadata": {},
   "outputs": [],
   "source": [
    "from datasets import Dataset\n",
    "train_ds = Dataset.from_pandas(train_df)"
   ]
  },
  {
   "cell_type": "markdown",
   "id": "719d0fc9-6158-41fa-8853-7215d8e69e07",
   "metadata": {},
   "source": [
    "# 3. Model - Baselines."
   ]
  },
  {
   "cell_type": "markdown",
   "id": "d2d1f86a-b106-496f-9b79-a452be18efd2",
   "metadata": {
    "jp-MarkdownHeadingCollapsed": true
   },
   "source": [
    "## 3.1. Naive Classifier."
   ]
  },
  {
   "cell_type": "markdown",
   "id": "0432af0a-2a61-4762-b0f5-d7b568790de1",
   "metadata": {},
   "source": [
    "- Always predict the most frequent class.\n",
    "- In this case, 1, for 'pos'."
   ]
  },
  {
   "cell_type": "code",
   "execution_count": 11,
   "id": "d32158c4-d537-42ae-9aa3-ca821fc03973",
   "metadata": {},
   "outputs": [],
   "source": [
    "model_clf = lambda samples : [1] * len(samples)"
   ]
  },
  {
   "cell_type": "markdown",
   "id": "167545ae-fd7e-4e4c-9a14-fe0b7f8eb239",
   "metadata": {
    "jp-MarkdownHeadingCollapsed": true
   },
   "source": [
    "## 3.2. BoW + Simple Classifiers."
   ]
  },
  {
   "cell_type": "markdown",
   "id": "23ad0d55-d0a3-4459-9e62-d01aee024de8",
   "metadata": {},
   "source": [
    "- Bag of Words : Simple tokenizer.\n",
    "  - Split : Whitespaces and punctuations.\n",
    "  - Tokenization : Counter vector, where each element is the number of words in a given sentence.\n",
    "- Simple Classifiers.\n",
    "  - Logistic Regression.\n",
    "  - SVM."
   ]
  },
  {
   "cell_type": "code",
   "execution_count": 42,
   "id": "f4afb520-ba64-494b-9e8d-a4d2e0cc4e97",
   "metadata": {},
   "outputs": [
    {
     "name": "stderr",
     "output_type": "stream",
     "text": [
      "Training Logistic Regression.: 100%|█████████████████████████████████████████████████████| 1/1 [00:11<00:00, 11.78s/it]\n"
     ]
    }
   ],
   "source": [
    "# LR.\n",
    "from sklearn.pipeline import Pipeline\n",
    "from sklearn.feature_extraction.text import CountVectorizer\n",
    "from sklearn.linear_model import LogisticRegression\n",
    "\n",
    "model_lr = Pipeline([\n",
    "    ('vectorizer', CountVectorizer()),  \n",
    "    ('classifier', LogisticRegression(max_iter=1000))  \n",
    "])\n",
    "\n",
    "for _ in tqdm(range(1), desc=\"Training Logistic Regression.\"):\n",
    "    model_lr.fit(train_ds['text'], train_ds['label'])"
   ]
  },
  {
   "cell_type": "code",
   "execution_count": 43,
   "id": "1226d7f9-11d8-43b8-a20c-70f3116cede7",
   "metadata": {},
   "outputs": [
    {
     "name": "stderr",
     "output_type": "stream",
     "text": [
      "C:\\Users\\yana\\anaconda3\\envs\\nlp_prac\\lib\\site-packages\\sklearn\\svm\\_base.py:1235: ConvergenceWarning: Liblinear failed to converge, increase the number of iterations.\n",
      "  warnings.warn(\n",
      "Training SVM.: 100%|█████████████████████████████████████████████████████████████████████| 1/1 [00:06<00:00,  6.15s/it]\n"
     ]
    }
   ],
   "source": [
    "# SVM.\n",
    "from sklearn.svm import LinearSVC\n",
    "model_svm = Pipeline([\n",
    "    ('vectorizer', CountVectorizer()),\n",
    "    ('classifier', LinearSVC())\n",
    "])\n",
    "\n",
    "for _ in tqdm(range(1), desc=\"Training SVM.\"):\n",
    "    model_svm.fit(train_ds['text'], train_ds['label'])"
   ]
  },
  {
   "cell_type": "markdown",
   "id": "a7a7f505-ab48-4b72-85c6-570373935af9",
   "metadata": {
    "jp-MarkdownHeadingCollapsed": true
   },
   "source": [
    "## 3.3. Simple RNN."
   ]
  },
  {
   "cell_type": "code",
   "execution_count": 44,
   "id": "fc255bf2-f511-4be7-9532-fcc66c636618",
   "metadata": {},
   "outputs": [
    {
     "name": "stdout",
     "output_type": "stream",
     "text": [
      "782/782 [==============================] - 38s 48ms/step - loss: 0.7008 - accuracy: 0.4988\n"
     ]
    }
   ],
   "source": [
    "from transformers import AutoTokenizer\n",
    "import tensorflow as tf\n",
    "\n",
    "tf_layers = tf.keras.layers  # alias for keras layers.\n",
    "\n",
    "# Tokenization.\n",
    "tokenizer = AutoTokenizer.from_pretrained(\"bert-base-uncased\")\n",
    "max_len   = int(np.percentile(train_df['word_length'], 75))       # 3rd quartile, 284.\n",
    "\n",
    "x_train = tokenizer(\n",
    "    train_ds['text'],\n",
    "    max_length=max_len,\n",
    "    padding='max_length',\n",
    "    truncation=True,\n",
    "    return_tensors='tf'\n",
    ")['input_ids']\n",
    "\n",
    "y_train = tf.keras.utils.to_categorical(train_ds['label'], num_classes=2)  # One-hot encoding labels.\n",
    "\n",
    "# Model.\n",
    "model_rnn = tf.keras.models.Sequential([\n",
    "    tf_layers.Embedding(input_dim=tokenizer.vocab_size, \n",
    "                        output_dim=20, \n",
    "                        input_length=max_len),  \n",
    "    tf_layers.SimpleRNN(64),  \n",
    "    tf_layers.Dense(2, activation='softmax')\n",
    "])\n",
    "\n",
    "# Compile.\n",
    "model_rnn.compile(optimizer = 'adam', \n",
    "                  loss      = 'categorical_crossentropy', \n",
    "                  metrics   = ['accuracy'])\n",
    "\n",
    "# Fit.\n",
    "history = model_rnn.fit(\n",
    "    x_train, y_train,\n",
    "    epochs=1,\n",
    "    batch_size=32,\n",
    "    verbose=1\n",
    ")"
   ]
  },
  {
   "cell_type": "markdown",
   "id": "78bf2078-28b5-49b8-a485-76c83ea00532",
   "metadata": {
    "jp-MarkdownHeadingCollapsed": true
   },
   "source": [
    "## 3.4. Performance Comparison."
   ]
  },
  {
   "cell_type": "code",
   "execution_count": 45,
   "id": "b4083af8-df21-44bf-b3d0-c905d197a936",
   "metadata": {},
   "outputs": [
    {
     "name": "stdout",
     "output_type": "stream",
     "text": [
      "782/782 [==============================] - 11s 14ms/step\n",
      "{'lr': 0.86636, 'svm': 0.84576, 'rnn': 0.5018}\n"
     ]
    }
   ],
   "source": [
    "from sklearn.metrics import accuracy_score\n",
    "accuracy = {}\n",
    "\n",
    "# LR.\n",
    "y_pred_lr       = model_lr.predict(test_ds['text'])\n",
    "accuracy['lr']  = accuracy_score(test_ds['label'], y_pred_lr)\n",
    "\n",
    "# SVM.\n",
    "y_pred_svm      = model_svm.predict(test_ds['text'])\n",
    "accuracy['svm'] = accuracy_score(test_ds['label'], y_pred_svm)\n",
    "\n",
    "# Simple RNN.\n",
    "x_test = tokenizer(test_ds['text'],\n",
    "                   max_length=max_len,\n",
    "                   padding='max_length',\n",
    "                   truncation=True,\n",
    "                   return_tensors='tf')\n",
    "y_pred_rnn = model_rnn.predict(x_test['input_ids']).argmax(axis=1)\n",
    "accuracy['rnn'] = accuracy_score(test_ds['label'], y_pred_rnn)\n",
    "\n",
    "print(accuracy)"
   ]
  },
  {
   "cell_type": "markdown",
   "id": "94bda267-b30f-4939-85b2-d97e3c5ed96a",
   "metadata": {
    "jp-MarkdownHeadingCollapsed": true
   },
   "source": [
    "## 3.5. Insights."
   ]
  },
  {
   "cell_type": "markdown",
   "id": "56938e1c-4c13-4baa-98a9-ebdb400fc184",
   "metadata": {},
   "source": [
    "- The strong performance of LR and SVM shows that many reviews are straightforward, and sentiment can often be determined by key words. However:\n",
    "  - Pretrained models add value where BoW fails, such as handling:\n",
    "    - Nuances in language: sarcasm, negation, and subtle opinions.\n",
    "    - Contextual relationships: the importance of word combinations or sequences.\n",
    "  - If pretrained models do not significantly outperform LR or SVM, it may indicate that the task is dominated by these simpler patterns."
   ]
  },
  {
   "cell_type": "markdown",
   "id": "d3f8dc2b-2c43-48da-a29f-188d938d2ac7",
   "metadata": {
    "jp-MarkdownHeadingCollapsed": true
   },
   "source": [
    "# 4. Choosing Pretrained Model."
   ]
  },
  {
   "cell_type": "markdown",
   "id": "dacdd5d4-4e00-4efd-b25e-57dc9bca9f6c",
   "metadata": {},
   "source": [
    "## 4.1. Given Conditions.\n",
    "- **Task**: Typical text classification, sentiment analysis.\n",
    "- **Dataset Size**: 25,000 labeled examples.\n",
    "- **Resources**: Single GPU with 8GB VRAM.\n",
    "- **Deployment Needs**: (Probably) Moderate inference speed.\n",
    "\n",
    "## 4.2. Candidates.\n",
    "- Encoder-only models are ideal for classification tasks.\n",
    "- Lightweight models are chosen due to limited resources and small dataset size.\n",
    "- Candidates:\n",
    "  - **DistilBERT** for simplicity and balance.\n",
    "  - **ALBERT** for better memory efficiency.\n",
    "  - **MobileBERT** for faster inference.\n",
    "\n",
    "## 4.3. Choosing the Model.\n",
    "\n",
    "### 1. Better Contextual Understanding.\n",
    "- **Factorized Embedding Parameterization**:\n",
    "  - ALBERT can represent relationships between words more effectively.\n",
    "  - This is crucial for understanding nuanced sentiment in IMDb reviews (e.g., sarcasm, complex sentence structures).\n",
    "  - DistilBERT simplifies BERT’s architecture, which reduces its ability to handle such complexity.\n",
    "\n",
    "### 2. Sentence Coherence (SOP Pretraining).\n",
    "- ALBERT’s **Sentence Order Prediction (SOP)** objective enhances its ability to grasp sentence-level relationships.\n",
    "  - IMDb reviews often depend on understanding the flow of multiple sentences.\n",
    "  - DistilBERT and MobileBERT lack SOP pretraining, making them less capable of capturing such coherence.\n",
    "\n",
    "### 3. Parameter Efficiency.\n",
    "- ALBERT’s parameter-sharing strategy enables deeper learning without increasing model size.\n",
    "  - This depth helps ALBERT extract more robust features for IMDb sentiment analysis, where contextual nuances are critical.\n",
    "\n",
    "### 4. Limitations of DistilBERT and MobileBERT.\n",
    "- **DistilBERT**:\n",
    "  - Designed for speed and efficiency but sacrifices some representational power.\n",
    "  - Works well for simple tasks but underperforms on sentiment analysis involving long, complex reviews.\n",
    "- **MobileBERT**:\n",
    "  - Optimized for mobile and edge devices, focusing on inference speed rather than peak accuracy.\n",
    "  - Struggles with capturing deep contextual meaning compared to ALBERT.\n",
    "\n",
    "## 4.4. Conclusion.\n",
    "- **DistilBERT** for speed and efficiency.\n",
    "- **ALBERT** for performance."
   ]
  },
  {
   "cell_type": "markdown",
   "id": "59c7d81f-df91-4944-a33b-1712989c3c4b",
   "metadata": {},
   "source": [
    "# 5. Fine-Tuning."
   ]
  },
  {
   "cell_type": "markdown",
   "id": "00cba2e9-2542-464f-b3b9-1aad81c70edf",
   "metadata": {},
   "source": [
    "## 5.1. Tokenization."
   ]
  },
  {
   "cell_type": "code",
   "execution_count": 46,
   "id": "9dd47fbc-f51b-4ccd-aeea-e2b9057d00ce",
   "metadata": {},
   "outputs": [
    {
     "name": "stderr",
     "output_type": "stream",
     "text": [
      "Some weights of DistilBertForSequenceClassification were not initialized from the model checkpoint at distilbert-base-uncased and are newly initialized: ['classifier.bias', 'classifier.weight', 'pre_classifier.bias', 'pre_classifier.weight']\n",
      "You should probably TRAIN this model on a down-stream task to be able to use it for predictions and inference.\n"
     ]
    }
   ],
   "source": [
    "# Prepare the data.\n",
    "from datasets import load_dataset\n",
    "ds       = load_dataset(path='imdb')\n",
    "train_ds = ds['train']\n",
    "test_ds  = ds['test']\n",
    "\n",
    "# Define maximum length for padding/truncation.\n",
    "train_df                = train_ds.to_pandas() \n",
    "train_df['word_length'] = train_df['text'].apply(lambda x: len(x.split()))\n",
    "avg_word_length         = train_df['word_length'].mean()\n",
    "max_length              = int(np.percentile(train_df[\"word_length\"], 75))   # 284.\n",
    "# max_length = 128\n",
    "\n",
    "# Load pretrained LLM.\n",
    "from transformers import AutoTokenizer\n",
    "tokenizer  = AutoTokenizer.from_pretrained(checkpoint)\n",
    "\n",
    "# Tokenize the data.\n",
    "def tokenize_data(dataset):\n",
    "    tokens = tokenizer(\n",
    "        dataset[\"text\"],\n",
    "        max_length=max_length,\n",
    "        padding=\"max_length\",\n",
    "        truncation=True,\n",
    "        return_tensors=\"pt\"  \n",
    "    )\n",
    "    labels = torch.tensor(dataset[\"label\"])  # Convert labels to PyTorch tensors.\n",
    "    return tokens[\"input_ids\"], tokens[\"attention_mask\"], labels\n",
    "\n",
    "train_input_ids, train_attention_mask, train_labels = tokenize_data(train_ds)\n",
    "test_input_ids, test_attention_mask, test_labels    = tokenize_data(test_ds)"
   ]
  },
  {
   "cell_type": "markdown",
   "id": "e250b3ad-e589-4f26-abbd-bd6ebc7f89d4",
   "metadata": {},
   "source": [
    "## 5.2. Training."
   ]
  },
  {
   "cell_type": "code",
   "execution_count": 47,
   "id": "1cd5a1c3-197b-4b77-8905-2fecc1577716",
   "metadata": {
    "jupyter": {
     "source_hidden": true
    }
   },
   "outputs": [],
   "source": [
    "from transformers import AdamW\n",
    "from torch.nn import CrossEntropyLoss\n",
    "from torch.utils.data import DataLoader, TensorDataset\n",
    "from torch.cuda.amp import GradScaler, autocast\n",
    "\n",
    "def train_model(train_dataloader, test_dataloader, model, device, full_tuning=True, epochs=1):\n",
    "    \"\"\"\n",
    "    Train the model with an option for full training or head-only training.\n",
    "    \n",
    "    Args:\n",
    "        train_dataloader: DataLoader for training data.\n",
    "        test_dataloader: DataLoader for testing data.\n",
    "        model: Pretrained transformer model.\n",
    "        device: Device (GPU/CPU) to run the training.\n",
    "        full_tuning (bool): If True, trains the full model. If False, trains only the head.\n",
    "        epochs (int): Number of epochs to train.\n",
    "    \"\"\"\n",
    "    # Freeze body if not tuning the full model.\n",
    "    if not full_tuning:\n",
    "        for param in model.base_model.parameters():\n",
    "            param.requires_grad = False\n",
    "\n",
    "    # Optimizer and loss function.\n",
    "    optimizer = AdamW(filter(lambda p: p.requires_grad, model.parameters()), lr=2e-5)\n",
    "    loss_fn   = CrossEntropyLoss()\n",
    "\n",
    "    # Enable mixed precision training.\n",
    "    scaler    = GradScaler()\n",
    "\n",
    "    # Training loop.\n",
    "    model.train()\n",
    "    for epoch in range(epochs):\n",
    "        total_loss   = 0\n",
    "        progress_bar = tqdm(train_dataloader, desc=f\"Epoch {epoch+1}/{epochs}\")\n",
    "        \n",
    "        for batch in progress_bar:\n",
    "            input_ids, attention_mask, labels = [x.to(device) for x in batch]\n",
    "\n",
    "            optimizer.zero_grad()\n",
    "            with autocast():\n",
    "                outputs = model(input_ids, attention_mask=attention_mask)\n",
    "                loss    = loss_fn(outputs.logits, labels)\n",
    "\n",
    "            scaler.scale(loss).backward()\n",
    "            scaler.step(optimizer)\n",
    "            scaler.update()\n",
    "\n",
    "            total_loss += loss.item()\n",
    "            progress_bar.set_postfix(loss=loss.item())\n",
    "        \n",
    "        print(f\"Epoch {epoch+1}: Average Loss: {total_loss/len(train_dataloader):.4f}.\")\n",
    "\n",
    "    # Evaluation loop.\n",
    "    model.eval()\n",
    "    predictions, true_labels = [], []\n",
    "\n",
    "    with torch.no_grad():\n",
    "        for batch in test_dataloader:\n",
    "            input_ids, attention_mask, labels = [x.to(device) for x in batch]\n",
    "            with autocast():\n",
    "                outputs = model(input_ids, attention_mask=attention_mask)\n",
    "            preds = torch.argmax(outputs.logits, axis=1)\n",
    "            predictions.extend(preds.cpu().numpy())\n",
    "            true_labels.extend(labels.cpu().numpy())\n",
    "\n",
    "    # Calculate accuracy and print.\n",
    "    from sklearn.metrics import accuracy_score\n",
    "    \n",
    "    accuracy = accuracy_score(true_labels, predictions)\n",
    "    print(f\"Accuracy: {accuracy:.4f}\")\n",
    "\n",
    "    #import winsound\n",
    "    #path = r\"C:\\Windows\\Media\\Alarm03.wav\"\n",
    "    #winsound.PlaySound(path, winsound.SND_FILENAME)"
   ]
  },
  {
   "cell_type": "code",
   "execution_count": 50,
   "id": "aaf526ee-b7a5-4844-9173-d3cb08a0d312",
   "metadata": {
    "collapsed": true,
    "jupyter": {
     "outputs_hidden": true
    }
   },
   "outputs": [
    {
     "name": "stderr",
     "output_type": "stream",
     "text": [
      "Some weights of AlbertForSequenceClassification were not initialized from the model checkpoint at albert-base-v2 and are newly initialized: ['classifier.bias', 'classifier.weight']\n",
      "You should probably TRAIN this model on a down-stream task to be able to use it for predictions and inference.\n"
     ]
    },
    {
     "data": {
      "text/plain": [
       "AlbertForSequenceClassification(\n",
       "  (albert): AlbertModel(\n",
       "    (embeddings): AlbertEmbeddings(\n",
       "      (word_embeddings): Embedding(30000, 128, padding_idx=0)\n",
       "      (position_embeddings): Embedding(512, 128)\n",
       "      (token_type_embeddings): Embedding(2, 128)\n",
       "      (LayerNorm): LayerNorm((128,), eps=1e-12, elementwise_affine=True)\n",
       "      (dropout): Dropout(p=0, inplace=False)\n",
       "    )\n",
       "    (encoder): AlbertTransformer(\n",
       "      (embedding_hidden_mapping_in): Linear(in_features=128, out_features=768, bias=True)\n",
       "      (albert_layer_groups): ModuleList(\n",
       "        (0): AlbertLayerGroup(\n",
       "          (albert_layers): ModuleList(\n",
       "            (0): AlbertLayer(\n",
       "              (full_layer_layer_norm): LayerNorm((768,), eps=1e-12, elementwise_affine=True)\n",
       "              (attention): AlbertSdpaAttention(\n",
       "                (query): Linear(in_features=768, out_features=768, bias=True)\n",
       "                (key): Linear(in_features=768, out_features=768, bias=True)\n",
       "                (value): Linear(in_features=768, out_features=768, bias=True)\n",
       "                (attention_dropout): Dropout(p=0, inplace=False)\n",
       "                (output_dropout): Dropout(p=0, inplace=False)\n",
       "                (dense): Linear(in_features=768, out_features=768, bias=True)\n",
       "                (LayerNorm): LayerNorm((768,), eps=1e-12, elementwise_affine=True)\n",
       "              )\n",
       "              (ffn): Linear(in_features=768, out_features=3072, bias=True)\n",
       "              (ffn_output): Linear(in_features=3072, out_features=768, bias=True)\n",
       "              (activation): NewGELUActivation()\n",
       "              (dropout): Dropout(p=0, inplace=False)\n",
       "            )\n",
       "          )\n",
       "        )\n",
       "      )\n",
       "    )\n",
       "    (pooler): Linear(in_features=768, out_features=768, bias=True)\n",
       "    (pooler_activation): Tanh()\n",
       "  )\n",
       "  (dropout): Dropout(p=0.1, inplace=False)\n",
       "  (classifier): Linear(in_features=768, out_features=2, bias=True)\n",
       ")"
      ]
     },
     "execution_count": 50,
     "metadata": {},
     "output_type": "execute_result"
    }
   ],
   "source": [
    "# Model.\n",
    "from transformers import AutoModelForSequenceClassification\n",
    "\n",
    "checkpoint = \"albert-base-v2\"  \n",
    "# checkpoint = \"distilbert-base-uncased\"\n",
    "model      = AutoModelForSequenceClassification.from_pretrained(checkpoint, num_labels=2)  # Predefined head.\n",
    "device     = torch.device(\"cuda\" if torch.cuda.is_available() else \"cpu\")\n",
    "model.to(device)"
   ]
  },
  {
   "cell_type": "code",
   "execution_count": null,
   "id": "52cb25c9-174e-4e5b-ba61-bc541d61ca50",
   "metadata": {
    "collapsed": true,
    "jupyter": {
     "outputs_hidden": true
    }
   },
   "outputs": [
    {
     "name": "stderr",
     "output_type": "stream",
     "text": [
      "C:\\Users\\yana\\anaconda3\\envs\\nlp_prac\\lib\\site-packages\\transformers\\optimization.py:591: FutureWarning: This implementation of AdamW is deprecated and will be removed in a future version. Use the PyTorch implementation torch.optim.AdamW instead, or set `no_deprecation_warning=True` to disable this warning\n",
      "  warnings.warn(\n",
      "C:\\Users\\yana\\AppData\\Local\\Temp\\ipykernel_6684\\1522156939.py:28: FutureWarning: `torch.cuda.amp.GradScaler(args...)` is deprecated. Please use `torch.amp.GradScaler('cuda', args...)` instead.\n",
      "  scaler    = GradScaler()\n",
      "C:\\Users\\yana\\AppData\\Local\\Temp\\ipykernel_6684\\1522156939.py:40: FutureWarning: `torch.cuda.amp.autocast(args...)` is deprecated. Please use `torch.amp.autocast('cuda', args...)` instead.\n",
      "  with autocast():\n",
      "Epoch 1/2:  40%|██████████████████████▌                                  | 155/391 [22:33<34:20,  8.73s/it, loss=0.687]\n"
     ]
    },
    {
     "ename": "KeyboardInterrupt",
     "evalue": "",
     "output_type": "error",
     "traceback": [
      "\u001b[1;31m---------------------------------------------------------------------------\u001b[0m",
      "\u001b[1;31mKeyboardInterrupt\u001b[0m                         Traceback (most recent call last)",
      "File \u001b[1;32m<timed eval>:1\u001b[0m\n",
      "Cell \u001b[1;32mIn[47], line 44\u001b[0m, in \u001b[0;36mtrain_model\u001b[1;34m(train_dataloader, test_dataloader, model, device, full_tuning, epochs)\u001b[0m\n\u001b[0;32m     41\u001b[0m     outputs \u001b[38;5;241m=\u001b[39m model(input_ids, attention_mask\u001b[38;5;241m=\u001b[39mattention_mask)\n\u001b[0;32m     42\u001b[0m     loss    \u001b[38;5;241m=\u001b[39m loss_fn(outputs\u001b[38;5;241m.\u001b[39mlogits, labels)\n\u001b[1;32m---> 44\u001b[0m \u001b[43mscaler\u001b[49m\u001b[38;5;241;43m.\u001b[39;49m\u001b[43mscale\u001b[49m\u001b[43m(\u001b[49m\u001b[43mloss\u001b[49m\u001b[43m)\u001b[49m\u001b[38;5;241;43m.\u001b[39;49m\u001b[43mbackward\u001b[49m\u001b[43m(\u001b[49m\u001b[43m)\u001b[49m\n\u001b[0;32m     45\u001b[0m scaler\u001b[38;5;241m.\u001b[39mstep(optimizer)\n\u001b[0;32m     46\u001b[0m scaler\u001b[38;5;241m.\u001b[39mupdate()\n",
      "File \u001b[1;32m~\\anaconda3\\envs\\nlp_prac\\lib\\site-packages\\torch\\_tensor.py:581\u001b[0m, in \u001b[0;36mTensor.backward\u001b[1;34m(self, gradient, retain_graph, create_graph, inputs)\u001b[0m\n\u001b[0;32m    571\u001b[0m \u001b[38;5;28;01mif\u001b[39;00m has_torch_function_unary(\u001b[38;5;28mself\u001b[39m):\n\u001b[0;32m    572\u001b[0m     \u001b[38;5;28;01mreturn\u001b[39;00m handle_torch_function(\n\u001b[0;32m    573\u001b[0m         Tensor\u001b[38;5;241m.\u001b[39mbackward,\n\u001b[0;32m    574\u001b[0m         (\u001b[38;5;28mself\u001b[39m,),\n\u001b[1;32m   (...)\u001b[0m\n\u001b[0;32m    579\u001b[0m         inputs\u001b[38;5;241m=\u001b[39minputs,\n\u001b[0;32m    580\u001b[0m     )\n\u001b[1;32m--> 581\u001b[0m \u001b[43mtorch\u001b[49m\u001b[38;5;241;43m.\u001b[39;49m\u001b[43mautograd\u001b[49m\u001b[38;5;241;43m.\u001b[39;49m\u001b[43mbackward\u001b[49m\u001b[43m(\u001b[49m\n\u001b[0;32m    582\u001b[0m \u001b[43m    \u001b[49m\u001b[38;5;28;43mself\u001b[39;49m\u001b[43m,\u001b[49m\u001b[43m \u001b[49m\u001b[43mgradient\u001b[49m\u001b[43m,\u001b[49m\u001b[43m \u001b[49m\u001b[43mretain_graph\u001b[49m\u001b[43m,\u001b[49m\u001b[43m \u001b[49m\u001b[43mcreate_graph\u001b[49m\u001b[43m,\u001b[49m\u001b[43m \u001b[49m\u001b[43minputs\u001b[49m\u001b[38;5;241;43m=\u001b[39;49m\u001b[43minputs\u001b[49m\n\u001b[0;32m    583\u001b[0m \u001b[43m\u001b[49m\u001b[43m)\u001b[49m\n",
      "File \u001b[1;32m~\\anaconda3\\envs\\nlp_prac\\lib\\site-packages\\torch\\autograd\\__init__.py:347\u001b[0m, in \u001b[0;36mbackward\u001b[1;34m(tensors, grad_tensors, retain_graph, create_graph, grad_variables, inputs)\u001b[0m\n\u001b[0;32m    342\u001b[0m     retain_graph \u001b[38;5;241m=\u001b[39m create_graph\n\u001b[0;32m    344\u001b[0m \u001b[38;5;66;03m# The reason we repeat the same comment below is that\u001b[39;00m\n\u001b[0;32m    345\u001b[0m \u001b[38;5;66;03m# some Python versions print out the first line of a multi-line function\u001b[39;00m\n\u001b[0;32m    346\u001b[0m \u001b[38;5;66;03m# calls in the traceback and some print out the last line\u001b[39;00m\n\u001b[1;32m--> 347\u001b[0m \u001b[43m_engine_run_backward\u001b[49m\u001b[43m(\u001b[49m\n\u001b[0;32m    348\u001b[0m \u001b[43m    \u001b[49m\u001b[43mtensors\u001b[49m\u001b[43m,\u001b[49m\n\u001b[0;32m    349\u001b[0m \u001b[43m    \u001b[49m\u001b[43mgrad_tensors_\u001b[49m\u001b[43m,\u001b[49m\n\u001b[0;32m    350\u001b[0m \u001b[43m    \u001b[49m\u001b[43mretain_graph\u001b[49m\u001b[43m,\u001b[49m\n\u001b[0;32m    351\u001b[0m \u001b[43m    \u001b[49m\u001b[43mcreate_graph\u001b[49m\u001b[43m,\u001b[49m\n\u001b[0;32m    352\u001b[0m \u001b[43m    \u001b[49m\u001b[43minputs\u001b[49m\u001b[43m,\u001b[49m\n\u001b[0;32m    353\u001b[0m \u001b[43m    \u001b[49m\u001b[43mallow_unreachable\u001b[49m\u001b[38;5;241;43m=\u001b[39;49m\u001b[38;5;28;43;01mTrue\u001b[39;49;00m\u001b[43m,\u001b[49m\n\u001b[0;32m    354\u001b[0m \u001b[43m    \u001b[49m\u001b[43maccumulate_grad\u001b[49m\u001b[38;5;241;43m=\u001b[39;49m\u001b[38;5;28;43;01mTrue\u001b[39;49;00m\u001b[43m,\u001b[49m\n\u001b[0;32m    355\u001b[0m \u001b[43m\u001b[49m\u001b[43m)\u001b[49m\n",
      "File \u001b[1;32m~\\anaconda3\\envs\\nlp_prac\\lib\\site-packages\\torch\\autograd\\graph.py:825\u001b[0m, in \u001b[0;36m_engine_run_backward\u001b[1;34m(t_outputs, *args, **kwargs)\u001b[0m\n\u001b[0;32m    823\u001b[0m     unregister_hooks \u001b[38;5;241m=\u001b[39m _register_logging_hooks_on_whole_graph(t_outputs)\n\u001b[0;32m    824\u001b[0m \u001b[38;5;28;01mtry\u001b[39;00m:\n\u001b[1;32m--> 825\u001b[0m     \u001b[38;5;28;01mreturn\u001b[39;00m Variable\u001b[38;5;241m.\u001b[39m_execution_engine\u001b[38;5;241m.\u001b[39mrun_backward(  \u001b[38;5;66;03m# Calls into the C++ engine to run the backward pass\u001b[39;00m\n\u001b[0;32m    826\u001b[0m         t_outputs, \u001b[38;5;241m*\u001b[39margs, \u001b[38;5;241m*\u001b[39m\u001b[38;5;241m*\u001b[39mkwargs\n\u001b[0;32m    827\u001b[0m     )  \u001b[38;5;66;03m# Calls into the C++ engine to run the backward pass\u001b[39;00m\n\u001b[0;32m    828\u001b[0m \u001b[38;5;28;01mfinally\u001b[39;00m:\n\u001b[0;32m    829\u001b[0m     \u001b[38;5;28;01mif\u001b[39;00m attach_logging_hooks:\n",
      "\u001b[1;31mKeyboardInterrupt\u001b[0m: "
     ]
    },
    {
     "name": "stderr",
     "output_type": "stream",
     "text": [
      "Epoch 1/20:  38%|█████████████████████▏                                  | 148/391 [09:25<14:57,  3.69s/it, loss=0.669]"
     ]
    }
   ],
   "source": [
    "# Create PyTorch datasets and dataloaders.\n",
    "batch_size       = 64\n",
    "train_dataset    = TensorDataset(train_input_ids, train_attention_mask, train_labels)  \n",
    "test_dataset     = TensorDataset(test_input_ids, test_attention_mask, test_labels)  \n",
    "\n",
    "train_dataloader = DataLoader(train_dataset, shuffle=True, batch_size=batch_size, \n",
    "                              num_workers=8, pin_memory=True)                                        # To boost training.\n",
    "test_dataloader  = DataLoader(test_dataset, shuffle=False, batch_size=batch_size)\n",
    "\n",
    "# Train.\n",
    "%time train_model(train_dataloader, test_dataloader, model, device, full_tuning=True, epochs=2)      # Full training.\n",
    "%time train_model(train_dataloader, test_dataloader, model, device, full_tuning=False, epochs=20)    # Head-only training."
   ]
  },
  {
   "cell_type": "code",
   "execution_count": null,
   "id": "2957f51d-1044-4c83-9ac6-889ca78556a1",
   "metadata": {},
   "outputs": [],
   "source": []
  }
 ],
 "metadata": {
  "kernelspec": {
   "display_name": "Python 3 (ipykernel)",
   "language": "python",
   "name": "python3"
  },
  "language_info": {
   "codemirror_mode": {
    "name": "ipython",
    "version": 3
   },
   "file_extension": ".py",
   "mimetype": "text/x-python",
   "name": "python",
   "nbconvert_exporter": "python",
   "pygments_lexer": "ipython3",
   "version": "3.9.18"
  }
 },
 "nbformat": 4,
 "nbformat_minor": 5
}
